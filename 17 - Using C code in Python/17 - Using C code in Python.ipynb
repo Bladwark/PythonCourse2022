{
  "nbformat": 4,
  "nbformat_minor": 0,
  "metadata": {
    "colab": {
      "provenance": [],
      "collapsed_sections": [],
      "authorship_tag": "ABX9TyNYRjdQAyq3x/8YLrDQV06W",
      "include_colab_link": true
    },
    "kernelspec": {
      "name": "python3",
      "display_name": "Python 3"
    },
    "language_info": {
      "name": "python"
    }
  },
  "cells": [
    {
      "cell_type": "markdown",
      "metadata": {
        "id": "view-in-github",
        "colab_type": "text"
      },
      "source": [
        "<a href=\"https://colab.research.google.com/github/fmipython/PythonCourse2022/blob/17_c_code_in_python/17%20-%20Using%20C%20code%20in%20Python/17%20-%20Using%20C%20code%20in%20Python.ipynb\" target=\"_parent\"><img src=\"https://colab.research.google.com/assets/colab-badge.svg\" alt=\"Open In Colab\"/></a>"
      ]
    },
    {
      "cell_type": "markdown",
      "source": [
        "# Използване на C код в Python\n",
        "\n",
        "План на лекцията:\n",
        "- [ ] Защо C код в Python ?\n",
        "- [ ] Как работят C библиотеките ?\n",
        "- [X] Простичка функция\n",
        "- [ ] Структури\n",
        "- [ ] Скорост\n",
        "- [ ] Примери\n",
        "- [ ] Задачи"
      ],
      "metadata": {
        "id": "Llt8geaPDHbB"
      }
    },
    {
      "cell_type": "markdown",
      "source": [
        "## Предварителна подготовка"
      ],
      "metadata": {
        "id": "zZ3ycpDRGyU-"
      }
    },
    {
      "cell_type": "code",
      "source": [
        "!git clone https://github.com/fmipython/PythonCourse2022.git\n",
        "!cd PythonCourse2022 && git checkout 17_c_code_in_python && git pull"
      ],
      "metadata": {
        "colab": {
          "base_uri": "https://localhost:8080/"
        },
        "id": "9brIUj8kG7-r",
        "outputId": "86c4d15d-97e6-4633-c7e8-32de1d2b4668"
      },
      "execution_count": null,
      "outputs": [
        {
          "output_type": "stream",
          "name": "stdout",
          "text": [
            "fatal: destination path 'PythonCourse2022' already exists and is not an empty directory.\n",
            "Already on '17_c_code_in_python'\n",
            "Your branch is up to date with 'origin/17_c_code_in_python'.\n",
            "Already up to date.\n"
          ]
        }
      ]
    },
    {
      "cell_type": "markdown",
      "source": [
        "## Защо C код в Python ?"
      ],
      "metadata": {
        "id": "bSSzFD8jEYqP"
      }
    },
    {
      "cell_type": "markdown",
      "source": [
        "## Как работят C библиотеките ?"
      ],
      "metadata": {
        "id": "Hi8Df8oVEazd"
      }
    },
    {
      "cell_type": "markdown",
      "source": [
        "## Простичка функция"
      ],
      "metadata": {
        "id": "2cA_CS2VEc34"
      }
    },
    {
      "cell_type": "markdown",
      "source": [
        "За да демонстрираме практически как можем да използваме C код в Python, ще съзадем C функция, която ще има за цел да събере две числа.\n",
        "\n",
        "За целта ще използваме вече написан C код, както и предварително подготвен `CMakeLists.txt` файл. За да изпълните успешно кода, ще ви е нужен инсталиран `CMake`, както и C компилатор. \n",
        "\n",
        "Може да разгледате C кода [тук](https://github.com/fmipython/PythonCourse2022/tree/17_c_code_in_python/17%20-%20Using%20C%20code%20in%20Python/C/example_1)."
      ],
      "metadata": {
        "id": "WpTNXbbDC1a7"
      }
    },
    {
      "cell_type": "markdown",
      "source": [
        "Единствената съществена разлика на този етап в C кода, е използването на ключовата дума `extern` в началото на декларацията на функцията. `extern` променя видимостта на функция, така че да е видима във външни библиотеки."
      ],
      "metadata": {
        "id": "kSHri-VX05Ha"
      }
    },
    {
      "cell_type": "markdown",
      "source": [
        "Компилираме нашия код до C библиотека с помощта на `cmake` и `make` командите"
      ],
      "metadata": {
        "id": "i5omdRFCvNdW"
      }
    },
    {
      "cell_type": "code",
      "source": [
        "!cd \"PythonCourse2022/17 - Using C code in Python/C/example_1\" && cmake . && make"
      ],
      "metadata": {
        "colab": {
          "base_uri": "https://localhost:8080/"
        },
        "id": "g5kWuaeS-dTu",
        "outputId": "98380656-672c-47ef-ec28-e81244f32711"
      },
      "execution_count": null,
      "outputs": [
        {
          "output_type": "stream",
          "name": "stdout",
          "text": [
            "-- Configuring done\n",
            "-- Generating done\n",
            "-- Build files have been written to: /content/PythonCourse2022/17 - Using C code in Python/C/example_1\n",
            "\u001b[35m\u001b[1mConsolidate compiler generated dependencies of target Example1\u001b[0m\n",
            "[100%] Built target Example1\n",
            "total 60\n",
            "drwxr-xr-x 3 root root  4096 Sep 26 07:39 .\n",
            "drwxr-xr-x 3 root root  4096 Sep 26 07:37 ..\n",
            "-rw-r--r-- 1 root root 12518 Sep 26 07:38 CMakeCache.txt\n",
            "drwxr-xr-x 5 root root  4096 Sep 26 07:39 CMakeFiles\n",
            "-rw-r--r-- 1 root root  1700 Sep 26 07:38 cmake_install.cmake\n",
            "-rwxr-xr-x 1 root root   124 Sep 26 07:37 CMakeLists.txt\n",
            "-rwxr-xr-x 1 root root  7432 Sep 26 07:38 libExample1.so\n",
            "-rw-r--r-- 1 root root  5459 Sep 26 07:39 Makefile\n",
            "-rwxr-xr-x 1 root root    73 Sep 26 07:37 sum.c\n",
            "-rwxr-xr-x 1 root root    98 Sep 26 07:37 sum.h\n"
          ]
        }
      ]
    },
    {
      "cell_type": "markdown",
      "source": [
        "След като вече имаме `libExample1.so` файла, можем да пристъпим към зареждането ѝ в Python"
      ],
      "metadata": {
        "id": "mXNkXv8kvgYB"
      }
    },
    {
      "cell_type": "code",
      "source": [
        "from ctypes import *\n",
        "import os\n",
        "\n",
        "lib_path = os.path.join(\"PythonCourse2022\", \"17 - Using C code in Python\", \"C\", \"example_1\", \"libExample1.so\")\n",
        "\n",
        "def setup_lib(path) -> CDLL:\n",
        "    lib = CDLL(path)\n",
        "    lib.sum.argtypes = [c_int, c_int]\n",
        "    lib.sum.restype = c_int\n",
        "    return lib\n",
        "\n",
        "if __name__ == \"__main__\":\n",
        "    lib = setup_lib(lib_path)\n",
        "\n",
        "    a = int(input(\"Enter first number: \"))\n",
        "    b = int(input(\"Enter second number: \"))\n",
        "\n",
        "    result = lib.sum(a, b)\n",
        "\n",
        "    print(\"{} + {} = {}\".format(a, b, result))\n"
      ],
      "metadata": {
        "colab": {
          "base_uri": "https://localhost:8080/"
        },
        "id": "JbV6uxkbvmWz",
        "outputId": "4577930f-fea2-4238-d393-faf70065b67c"
      },
      "execution_count": null,
      "outputs": [
        {
          "output_type": "stream",
          "name": "stdout",
          "text": [
            "Enter first number: 2\n",
            "Enter second number: 3\n",
            "2 + 3 = 5\n"
          ]
        }
      ]
    },
    {
      "cell_type": "markdown",
      "source": [
        "Нека разгледаме в детайли кода.\n",
        "\n",
        "Използваме `ctypes` библиотеката за работа с външни C библиотеки. За зареждането на библиотеката използваме `CDLL` конструктора, като му подаваме пътя към библиотеката. \n",
        "\n",
        "След това е необходимо да посочим типа на аргументите и типа на резултата. Понеже работим с `int` променливи, типа на аргументите и резултата са `c_int`. \n",
        "\n",
        "С получения обект, можем да извикваме функциите, които са отбелязани като `extern` в C кода. "
      ],
      "metadata": {
        "id": "ZwQhPcu8xDJd"
      }
    },
    {
      "cell_type": "markdown",
      "source": [
        "## Структури"
      ],
      "metadata": {
        "id": "O7-a2bbaEgTU"
      }
    },
    {
      "cell_type": "markdown",
      "source": [
        "## C++ код"
      ],
      "metadata": {
        "id": "ef8ayM1LDEhK"
      }
    },
    {
      "cell_type": "markdown",
      "source": [
        "## Скорост"
      ],
      "metadata": {
        "id": "PtV_EIOJEiED"
      }
    },
    {
      "cell_type": "markdown",
      "source": [
        "## Примери"
      ],
      "metadata": {
        "id": "ybsYmCnQE2Ai"
      }
    },
    {
      "cell_type": "markdown",
      "source": [
        "## Задачи"
      ],
      "metadata": {
        "id": "H4MziQ7wE3YF"
      }
    }
  ]
}