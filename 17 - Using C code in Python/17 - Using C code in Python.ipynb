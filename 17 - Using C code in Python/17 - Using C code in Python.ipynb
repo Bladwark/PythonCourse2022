{
  "nbformat": 4,
  "nbformat_minor": 0,
  "metadata": {
    "colab": {
      "provenance": [],
      "authorship_tag": "ABX9TyP/ql5tE5hVwATp7QLNKqIe",
      "include_colab_link": true
    },
    "kernelspec": {
      "name": "python3",
      "display_name": "Python 3"
    },
    "language_info": {
      "name": "python"
    }
  },
  "cells": [
    {
      "cell_type": "markdown",
      "metadata": {
        "id": "view-in-github",
        "colab_type": "text"
      },
      "source": [
        "<a href=\"https://colab.research.google.com/github/fmipython/PythonCourse2022/blob/17_c_code_in_python/17%20-%20Using%20C%20code%20in%20Python/17%20-%20Using%20C%20code%20in%20Python.ipynb\" target=\"_parent\"><img src=\"https://colab.research.google.com/assets/colab-badge.svg\" alt=\"Open In Colab\"/></a>"
      ]
    },
    {
      "cell_type": "markdown",
      "source": [
        "# Използване на C код в Python\n",
        "\n",
        "План на лекцията:\n",
        "- [ ] Защо C код в Python ?\n",
        "- [ ] Как работят C библиотеките ?\n",
        "- [ ] Простичка функция\n",
        "- [ ] Структури\n",
        "- [ ] Скорост\n",
        "- [ ] Примери\n",
        "- [ ] Задачи"
      ],
      "metadata": {
        "id": "Llt8geaPDHbB"
      }
    },
    {
      "cell_type": "code",
      "execution_count": null,
      "metadata": {
        "id": "8lGd45t-C8k1"
      },
      "outputs": [],
      "source": []
    },
    {
      "cell_type": "markdown",
      "source": [
        "## Защо C код в Python ?"
      ],
      "metadata": {
        "id": "bSSzFD8jEYqP"
      }
    },
    {
      "cell_type": "markdown",
      "source": [
        "## Как работят C библиотеките ?"
      ],
      "metadata": {
        "id": "Hi8Df8oVEazd"
      }
    },
    {
      "cell_type": "markdown",
      "source": [
        "## Простичка функция"
      ],
      "metadata": {
        "id": "2cA_CS2VEc34"
      }
    },
    {
      "cell_type": "markdown",
      "source": [
        "## Структури"
      ],
      "metadata": {
        "id": "O7-a2bbaEgTU"
      }
    },
    {
      "cell_type": "markdown",
      "source": [
        "## Скорост"
      ],
      "metadata": {
        "id": "PtV_EIOJEiED"
      }
    },
    {
      "cell_type": "markdown",
      "source": [
        "## Примери"
      ],
      "metadata": {
        "id": "ybsYmCnQE2Ai"
      }
    },
    {
      "cell_type": "markdown",
      "source": [
        "## Задачи"
      ],
      "metadata": {
        "id": "H4MziQ7wE3YF"
      }
    }
  ]
}