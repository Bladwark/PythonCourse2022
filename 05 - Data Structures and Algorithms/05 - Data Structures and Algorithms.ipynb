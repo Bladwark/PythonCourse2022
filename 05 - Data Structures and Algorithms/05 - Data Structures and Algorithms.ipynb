{
 "cells": [
  {
   "cell_type": "markdown",
   "metadata": {},
   "source": [
    "# Структури от данни и Алгоритми"
   ]
  },
  {
   "cell_type": "markdown",
   "metadata": {},
   "source": [
    "Структурите от данни са класове и обекти с интерфейс чрез който ги използваме, като се абстрахираме от имплементацията им.\n",
    "\n",
    "Алгоритмите са генерализирани процедури (парчета код/функции) които решават даден проблем (изпълняват дадена задача)."
   ]
  },
  {
   "cell_type": "markdown",
   "metadata": {},
   "source": [
    "## Защо?\n",
    "\n",
    "Структурите от данни и алгоритми:\n",
    "\n",
    "- Се използват често (по-простите от тях: List/Dict/Sort)\n",
    "- Подпомагат разбирането на други езици за програмиране (e.g. JavaScript обектите са Dict)\n",
    "- Са основа на по-сложни системи и приложения (e.g. Приоритетната опашка може да се реализира чрез запазване на опашката в база данни)\n",
    "- Са ключови за Google-style интервютата\n",
    "\n",
    "![https://i.imgur.com/dVcLsFl.png](https://i.imgur.com/dVcLsFl.png)"
   ]
  },
  {
   "cell_type": "markdown",
   "metadata": {},
   "source": [
    "## 3.. 2.. 1.. Go"
   ]
  },
  {
   "cell_type": "markdown",
   "metadata": {},
   "source": [
    "## Сложност на алгоритми\n",
    "\n",
    "https://www.bigocheatsheet.com/\n",
    "\n",
    "За оценка на сложност (бързина) на алгоритми използваме нотацията \"Big O\" $O(...)$.\n",
    "\n",
    "Сложността оценяваме спрямо размера на входа, като най-често използваме $n$, за да обозначим размера на входа.\n",
    "\n",
    "Примери за $n$:\n",
    "- За list K: $n = len(K)$\n",
    "- За str K: $n = len(K)$\n",
    "- За int K: $n = bytes of K = log_8(K) \\approxeq log_2(K)$ (но обикновено int казваме че има константен размер $O(1)$)\n",
    "\n",
    "Най-важните сложности са:\n",
    "- Constant $O(1)$\n",
    "- Linear $O(n)$\n",
    "- Linearithmic $O(n \\times log(n))$\n",
    "- Quadratic $O(n^2)$"
   ]
  },
  {
   "cell_type": "code",
   "execution_count": 1,
   "metadata": {},
   "outputs": [],
   "source": [
    "# O(1)\n",
    "def constant(x):\n",
    "    return x + 1\n",
    "\n",
    "# O(n)\n",
    "def linear(arr): # O(n x 1) = O(n)\n",
    "    for x in arr: # O(n)\n",
    "        print(x) # O(1)\n",
    "\n",
    "# O(n * log n)\n",
    "def linearithmic(arr):\n",
    "    logi = 1\n",
    "    while logi < len(arr): # O(log n)\n",
    "        logi *= 2 # iterations = len(arr) = 2 ^ logi -> solve for logi -> logi = log(len(arr))\n",
    "        linear(arr)\n",
    "\n",
    "# O(n * log n)\n",
    "def linearithmic2(arr):\n",
    "    arr.sort() # O(n * log n)\n",
    "\n",
    "# O (n^2)\n",
    "def quadratic(arr): # O(n * n * 1) = O(n^2)\n",
    "    for row in range(len(arr)): # O(n)\n",
    "        for column in range(len(arr)): # O(n)\n",
    "            print(arr[row][column]) # O(1)"
   ]
  },
  {
   "cell_type": "markdown",
   "metadata": {},
   "source": [
    "## str\n",
    "\n",
    "`str` е поредица от символи. Ще разгледаме:\n",
    "\n",
    "- [str](https://docs.python.org/3/library/stdtypes.html#text-sequence-type-str) методи и\n",
    "- [string](https://docs.python.org/3/library/string.html) често употребявани константи\n",
    "\n",
    "Стринговете в Python са immutable -> Повечето операции са $O(n)$"
   ]
  },
  {
   "cell_type": "code",
   "execution_count": 3,
   "metadata": {},
   "outputs": [
    {
     "name": "stdout",
     "output_type": "stream",
     "text": [
      "🐍 is awesomeͤͤͤͤͤ\n"
     ]
    }
   ],
   "source": [
    "# Python speaks   UTF-8 :) https://en.wikipedia.org/wiki/UTF-8\n",
    "s = '🐍 is awesomeͤͤͤͤͤ'\n",
    "print(s)"
   ]
  },
  {
   "cell_type": "code",
   "execution_count": 5,
   "metadata": {},
   "outputs": [
    {
     "name": "stdout",
     "output_type": "stream",
     "text": [
      "🐍 is awesomeͤͤͤͤͤ -> b'\\xf0\\x9f\\x90\\x8d is awesome\\xcd\\xa4\\xcd\\xa4\\xcd\\xa4\\xcd\\xa4\\xcd\\xa4'\n",
      "От байтове може да се върнем в стринг: 🐍 is awesomeͤͤͤͤͤ\n",
      "🐍 = 🐍\n",
      "b'' е просто списък от uint8: 🐍\n",
      "Дължината на 🐍 e:  4\n",
      "['c', 'o', 'o', 'l', ' ', '🐍']\n"
     ]
    }
   ],
   "source": [
    "# .encode() Конвертира стринг до байтове.\n",
    "# Някой байтове не могат да се представят със символ от азбуката\n",
    "# и използват Hexadecimal Escape Sequence\n",
    "\n",
    "# Често се използва при работа с файлове - понякога четем и пишем байтове вместо стрингове\n",
    "encoded = s.encode('utf-8')\n",
    "print(f'{s} -> {encoded}')\n",
    "print('От байтове може да се върнем в стринг:', encoded.decode())\n",
    "# 🐍 = \\xf0\\x9f\\x90\\x8d\n",
    "# сложи символ отгоре = '\\xcd'\n",
    "# какво да се сложи отгоре = '\\xa4'\n",
    "\n",
    "print('🐍 =', b'\\xf0\\x9f\\x90\\x8d'.decode()) # = 🐍 Поредица от байтове се индикира с b''\n",
    "print(\"b'' е просто списък от uint8:\", bytes([0xf0, 0x9f, 0x90, 0x8d]).decode())\n",
    "print('Дължината на 🐍 e: ', len(b'\\xf0\\x9f\\x90\\x8d')) # len(\\xYY) = 1 byte\n",
    "\n",
    "# Итерирането по стринг работи чрез итериране по символи, не по байтове\n",
    "print([x for x in 'cool 🐍'])"
   ]
  },
  {
   "cell_type": "code",
   "execution_count": 7,
   "metadata": {},
   "outputs": [
    {
     "name": "stdout",
     "output_type": "stream",
     "text": [
      "Форматирането работи! 🐍 * 🐍 = 🐍²\n"
     ]
    }
   ],
   "source": [
    "print('Форматирането работи! {0} * {1} = {2}'.format('🐍', '🐍', '🐍²'))"
   ]
  },
  {
   "cell_type": "code",
   "execution_count": 8,
   "metadata": {},
   "outputs": [
    {
     "name": "stdout",
     "output_type": "stream",
     "text": [
      "{букви} = alphabetic\n",
      "{числа} = digit\n",
      "{числа, букви} = alpha-numeric\n",
      "{малки букви} = lowercase\n",
      "{големи букви} = uppercase\n",
      "{празни символи} = space\n"
     ]
    }
   ],
   "source": [
    "if 'самобукви'.isalpha():\n",
    "    print('{букви} = alphabetic')\n",
    "\n",
    "# Можем ли да конвертираме стринга до int?\n",
    "if '1232367457'.isdigit():\n",
    "    print('{числа} = digit')\n",
    "\n",
    "# Бърза проверка дали работим с дума или изречение (изречението има паузи и символи)\n",
    "if '1283912873andLetters'.isalnum():\n",
    "    print('{числа, букви} = alpha-numeric')\n",
    "\n",
    "# Трябва ли да пишем код който разбира от главни букви?\n",
    "if 'малкибукви'.islower():\n",
    "    print('{малки букви} = lowercase')\n",
    "\n",
    "if 'ГОЛЕМИБУКВИ'.isupper():\n",
    "    print('{големи букви} = uppercase')\n",
    "\n",
    "# Използваме при разбиване на стрингове - if space : do X else do Y\n",
    "if '\\t\\n  '.isspace():\n",
    "    print('{празни символи} = space')"
   ]
  },
  {
   "cell_type": "code",
   "execution_count": 10,
   "metadata": {},
   "outputs": [
    {
     "name": "stdout",
     "output_type": "stream",
     "text": [
      "s започва с '🐍 is'\n",
      "is е на индекс 2\n",
      "'e' се среща 2 пъти\n"
     ]
    }
   ],
   "source": [
    "if s.endswith('e'):\n",
    "    print('s завършва на e') # eͤͤͤ != e\n",
    "\n",
    "if s.startswith('🐍 is'):\n",
    "    print(\"s започва с '🐍 is'\")\n",
    "\n",
    "print('is е на индекс', s.find('is')) # Индекс по символ, не по байт\n",
    "\n",
    "print(\"'e' се среща\", s.count('e'), 'пъти')"
   ]
  },
  {
   "cell_type": "code",
   "execution_count": 12,
   "metadata": {},
   "outputs": [
    {
     "name": "stdout",
     "output_type": "stream",
     "text": [
      "🐍 is awesomeͤͤͤͤͤ\n",
      "Не винаги субституциите работят както ни се иска: 🐍 is много лесен курсͤͤͤͤͤ\n",
      "Но може да сработят с regex: 🐍 is бЪрЗ\n",
      "Може да направим всички символи голем: 🐍 IS AWESOMEͤͤͤͤͤ\n",
      "или малки: THICC -> thicc\n",
      "Да разчистим празните символи '    нещо ми духа '-> 'нещо ми духа'\n"
     ]
    }
   ],
   "source": [
    "print(s)\n",
    "print('Не винаги субституциите работят както ни се иска:',\n",
    "    s.replace('awesome', 'много лесен курс'))\n",
    "\n",
    "import re\n",
    "print('Но може да сработят с regex:', re.sub(r'awesome.*', 'бЪрЗ', s))\n",
    "\n",
    "print('Може да направим всички символи голем:', s.upper())\n",
    "# Често използваме за да оеднаквим символите, A = a и няма защо да ги третираме различно\n",
    "print('или малки:', 'THICC ->', 'THICC'.lower())\n",
    "# Ако някой въведе \"me@mail.com  \" то очевидно няма спейс в края на мейла -> strip() -> \"me@mail.com\"\n",
    "print(\"Да разчистим празните символи '    нещо ми духа '-> '\" + '    нещо ми духа  '.strip() + \"'\")"
   ]
  },
  {
   "cell_type": "code",
   "execution_count": 13,
   "metadata": {},
   "outputs": [
    {
     "name": "stdout",
     "output_type": "stream",
     "text": [
      "Удобно е да принтираме списъци: 1, 2, 3, 4, worldwide\n",
      "или да разбиваме стринг на елементи: ['fmi', 'poluchi', 'li?']\n",
      "['kude', 'sym', 'az', 'kude', 'si', 'ti', '']\n"
     ]
    }
   ],
   "source": [
    "# Много подпомага дебъгването и не оставя запетая след последния елемент!!\n",
    "print('Удобно е да принтираме списъци:', ', '.join(['1','2','3','4','worldwide']))\n",
    "# При разбиване на стрингове (данни, които знаем че са разделени с някакъв символ)\n",
    "print('или да разбиваме стринг на елементи:', 'fmi:poluchi:li?'.split(':'))\n",
    "\n",
    "# за по-сложни разбивания - regex (:\n",
    "import re\n",
    "print(re.split(r',|:|\\?', 'kude:sym,az?kude:si,ti?'))"
   ]
  },
  {
   "cell_type": "markdown",
   "metadata": {},
   "source": [
    "Библиотеката `string` предоставя някои удобни константи"
   ]
  },
  {
   "cell_type": "code",
   "execution_count": 82,
   "metadata": {},
   "outputs": [
    {
     "name": "stdout",
     "output_type": "stream",
     "text": [
      "all letters: abcdefghijklmnopqrstuvwxyzABCDEFGHIJKLMNOPQRSTUVWXYZ\n",
      "all lowercase: abcdefghijklmnopqrstuvwxyz\n",
      "all digits as a string: 0123456789\n",
      "all symbols: !\"#$%&'()*+,-./:;<=>?@[\\]^_`{|}~\n",
      "all whitespaces:  \t\n",
      "\u000b\f b' \\t\\n\\r\\x0b\\x0c'\n"
     ]
    }
   ],
   "source": [
    "import string\n",
    "\n",
    "# Вместо да хардкодваме \"abcdef...\"\n",
    "print('all letters:', string.ascii_letters)\n",
    "print('all lowercase:', string.ascii_lowercase)\n",
    "print('all digits as a string:', string.digits)\n",
    "print('all symbols:', string.punctuation)\n",
    "print('all whitespaces:', string.whitespace, string.whitespace.encode())"
   ]
  },
  {
   "cell_type": "markdown",
   "metadata": {},
   "source": [
    "## int\n",
    "\n",
    "Python няма ограничение за големината на int (C++ long long има ограничение $2^{63}-1$). Но операциите с големи числа са бавни - не са $O(1)$, а $O(log(number)) = O(number\\;of\\;digits)$\n",
    "\n",
    "Когато стойността надвиши $2^{63}-1$ числата се обръщат в BigInt.\n",
    "\n",
    "[https://www.codementor.io/@arpitbhayani/how-python-implements-super-long-integers-12icwon5vk](https://www.codementor.io/@arpitbhayani/how-python-implements-super-long-integers-12icwon5vk)"
   ]
  },
  {
   "cell_type": "code",
   "execution_count": 90,
   "metadata": {},
   "outputs": [
    {
     "name": "stdout",
     "output_type": "stream",
     "text": [
      "CPU times: user 4.28 s, sys: 22.2 ms, total: 4.31 s\n",
      "Wall time: 4.34 s\n"
     ]
    }
   ],
   "source": [
    "%%time\n",
    "result = 1\n",
    "for x in range(1, 100000):\n",
    "    result *= x\n",
    "# Същият код на C++ минава за total: 0.001 s. Но не връща верен отговор :)"
   ]
  },
  {
   "cell_type": "code",
   "execution_count": 102,
   "metadata": {},
   "outputs": [
    {
     "name": "stdout",
     "output_type": "stream",
     "text": [
      "int is 28 bytes\n",
      "10^1000 is 468 bytes\n",
      "float is 24 bytes\n"
     ]
    }
   ],
   "source": [
    "import sys\n",
    "print('int is {0} bytes'.format(sys.getsizeof(int(1))))\n",
    "print('10^1000 is {0} bytes'.format(sys.getsizeof(int(10**1000))))\n",
    "print('float is {0} bytes'.format(sys.getsizeof(float(1))))\n",
    "# float има прецизност като double в C++ (~14 знака след запетаята)"
   ]
  },
  {
   "cell_type": "code",
   "execution_count": 105,
   "metadata": {},
   "outputs": [
    {
     "name": "stdout",
     "output_type": "stream",
     "text": [
      "0.14285714285714285714285714285714285714285714285714285714\n"
     ]
    }
   ],
   "source": [
    "# За по голяма прицизност може да използваме `decimal` модула\n",
    "# По дефолт има прецизност 28 знака след запетаята, но може да му дадем повече :)\n",
    "from decimal import *\n",
    "getcontext().prec = 56\n",
    "print(Decimal(1) / Decimal(7))"
   ]
  },
  {
   "cell_type": "code",
   "execution_count": 31,
   "metadata": {},
   "outputs": [
    {
     "name": "stdout",
     "output_type": "stream",
     "text": [
      "Стринг -> int: 42\n",
      "Конвертиране от други бройни системи, освен base10: 255\n",
      "Премахване на знаците след десетичната запетая -5 5\n",
      "Абсолютна стойност(-5) = 5\n"
     ]
    }
   ],
   "source": [
    "# Начин на използване\n",
    "\n",
    "print('Стринг -> int:', int('42'))\n",
    "print('Конвертиране от други бройни системи, освен base10:', int('ff', 16))\n",
    "print('Премахване на знаците след десетичната запетая', int(-5.2), int(5.2))\n",
    "print('Абсолютна стойност(-5) =', abs(-5))"
   ]
  },
  {
   "cell_type": "markdown",
   "metadata": {},
   "source": [
    "## Math"
   ]
  },
  {
   "cell_type": "code",
   "execution_count": 46,
   "metadata": {},
   "outputs": [
    {
     "name": "stdout",
     "output_type": "stream",
     "text": [
      "Закръгляне на горе 2.2 -> 3\n",
      "Закръгляне на долу 2.7 -> 2\n",
      "Преброяване на битовете на числото 257 = 9\n",
      "Преброяване на цифрите на числото 14532 = 5\n",
      "Най-голям общ делител на 35 и 15 = 5\n",
      "Можем да смятаме inverse елемента по модул 15^-1 mod 26 = 7\n",
      "N choose K -> 10 choose 2 = 45\n"
     ]
    }
   ],
   "source": [
    "import math\n",
    "\n",
    "print('Закръгляне на горе 2.2 ->', math.ceil(2.2))\n",
    "print('Закръгляне на долу 2.7 ->', math.floor(2.7))\n",
    "\n",
    "# Може да правим побитово итериране на  числото\n",
    "print('Преброяване на битовете на числото 257 =', math.ceil(math.log2(257)))\n",
    "# Полезно при построяване на Trie/radix sort/заделяне на hashmap\n",
    "print('Преброяване на цифрите на числото 14532 =', math.ceil(math.log10(14532)))\n",
    "\n",
    "# Математически важни функции\n",
    "print('Най-голям общ делител на 35 и 15 =', math.gcd(35, 15))\n",
    "print('Можем да смятаме inverse елемента по модул 15^-1 mod 26 =', pow(15, -1, 26))\n",
    "\n",
    "# Комбинаторика (често се среща в задачи, но има и други)\n",
    "print('N choose K -> 10 choose 2 =', math.comb(10, 2))"
   ]
  },
  {
   "cell_type": "code",
   "execution_count": 47,
   "metadata": {},
   "outputs": [
    {
     "name": "stdout",
     "output_type": "stream",
     "text": [
      "Not a Number = nan\n",
      "Infinity = inf\n",
      "-Infinity = -inf\n",
      "π =  3.141592653589793\n",
      "e =  2.718281828459045\n"
     ]
    }
   ],
   "source": [
    "# Специални стойности на float:\n",
    "# Not a Number (полезно като дъно на стел)\n",
    "print('Not a Number =', math.nan)\n",
    "# Infinity (полезно като последен елемент на масив, нещо като терминираща нула в C++)\n",
    "print('Infinity =', math.inf)\n",
    "# -Infinity\n",
    "print('-Infinity =', -math.inf)\n",
    "\n",
    "# Константи\n",
    "print('π = ', math.pi)\n",
    "print('e = ', math.e)"
   ]
  },
  {
   "cell_type": "markdown",
   "metadata": {},
   "source": [
    "`math` модулът има още много функции на които няма да се спираме, защото не се използват често:\n",
    "- Тригонометрични функции\n",
    "- Хиперболични функции\n",
    "- Гама функция\n",
    "- Конвертиране между градуси и радиани\n",
    "- Други"
   ]
  },
  {
   "cell_type": "markdown",
   "metadata": {},
   "source": [
    "## List\n",
    "https://docs.python.org/3/library/stdtypes.html#sequence-types-list-tuple-range"
   ]
  },
  {
   "cell_type": "markdown",
   "metadata": {},
   "source": [
    "## Data structures\n",
    "https://docs.python.org/3/library/collections.html\n"
   ]
  },
  {
   "cell_type": "markdown",
   "metadata": {},
   "source": [
    "## Array \n",
    "https://docs.python.org/3/library/array.html"
   ]
  },
  {
   "cell_type": "markdown",
   "metadata": {},
   "source": [
    "## Dict"
   ]
  },
  {
   "cell_type": "markdown",
   "metadata": {},
   "source": [
    "### defaultdict"
   ]
  },
  {
   "cell_type": "markdown",
   "metadata": {},
   "source": [
    "### Counter"
   ]
  },
  {
   "cell_type": "markdown",
   "metadata": {},
   "source": [
    "## Set\n",
    "https://docs.python.org/3/library/stdtypes.html#set"
   ]
  },
  {
   "cell_type": "markdown",
   "metadata": {},
   "source": [
    "### Frozenset"
   ]
  },
  {
   "cell_type": "markdown",
   "metadata": {},
   "source": [
    "## Queue\n",
    "https://docs.python.org/3/library/queue.html"
   ]
  },
  {
   "cell_type": "markdown",
   "metadata": {},
   "source": [
    "## deque"
   ]
  },
  {
   "cell_type": "markdown",
   "metadata": {},
   "source": [
    "## heapq\n",
    "https://docs.python.org/3/library/heapq.html"
   ]
  },
  {
   "cell_type": "markdown",
   "metadata": {},
   "source": [
    "## Algorithms\n",
    "https://docs.python.org/3/library/bisect.html"
   ]
  },
  {
   "cell_type": "markdown",
   "metadata": {},
   "source": [
    "https://docs.python.org/3/library/copy.html"
   ]
  },
  {
   "cell_type": "markdown",
   "metadata": {},
   "source": [
    "https://docs.python.org/3/library/random.html"
   ]
  },
  {
   "cell_type": "markdown",
   "metadata": {},
   "source": [
    "https://docs.python.org/3/library/itertools.html"
   ]
  },
  {
   "cell_type": "markdown",
   "metadata": {},
   "source": [
    "https://docs.python.org/3/library/functools.html"
   ]
  },
  {
   "cell_type": "markdown",
   "metadata": {},
   "source": [
    "https://docs.python.org/3/library/csv.html"
   ]
  },
  {
   "cell_type": "markdown",
   "metadata": {},
   "source": [
    "https://docs.python.org/3/library/json.html"
   ]
  },
  {
   "cell_type": "markdown",
   "metadata": {},
   "source": [
    "https://docs.python.org/3/library/re.html"
   ]
  }
 ],
 "metadata": {
  "kernelspec": {
   "display_name": "Python 3.10.6 64-bit",
   "language": "python",
   "name": "python3"
  },
  "language_info": {
   "codemirror_mode": {
    "name": "ipython",
    "version": 3
   },
   "file_extension": ".py",
   "mimetype": "text/x-python",
   "name": "python",
   "nbconvert_exporter": "python",
   "pygments_lexer": "ipython3",
   "version": "3.10.6"
  },
  "orig_nbformat": 4,
  "vscode": {
   "interpreter": {
    "hash": "b0fa6594d8f4cbf19f97940f81e996739fb7646882a419484c72d19e05852a7e"
   }
  }
 },
 "nbformat": 4,
 "nbformat_minor": 2
}
