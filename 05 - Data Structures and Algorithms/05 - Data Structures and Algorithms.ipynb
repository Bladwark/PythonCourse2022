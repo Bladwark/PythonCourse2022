{
 "cells": [
  {
   "cell_type": "markdown",
   "metadata": {},
   "source": [
    "# Структури от данни и Алгоритми"
   ]
  },
  {
   "cell_type": "markdown",
   "metadata": {},
   "source": [
    "Структурите от данни са класове и обекти с интерфейс чрез който ги използваме, като се абстрахираме от имплементацията им.\n",
    "\n",
    "Алгоритмите са генерализирани процедури (парчета код/функции) които решават даден проблем (изпълняват дадена задача)."
   ]
  },
  {
   "cell_type": "markdown",
   "metadata": {},
   "source": [
    "## Защо?\n",
    "\n",
    "Структурите от данни и алгоритми:\n",
    "\n",
    "- Се използват често (по-простите от тях: List/Dict/Sort)\n",
    "- Подпомагат разбирането на други езици за програмиране (e.g. JavaScript обектите са Dict)\n",
    "- Са основа на по-сложни системи и приложения (e.g. Приоритетната опашка може да се реализира чрез запазване на опашката в база данни)\n",
    "- Са ключови за Google-style интервютата\n",
    "\n",
    "![https://i.imgur.com/dVcLsFl.png](https://i.imgur.com/dVcLsFl.png)"
   ]
  },
  {
   "cell_type": "markdown",
   "metadata": {},
   "source": [
    "## 3.. 2.. 1.. Go"
   ]
  },
  {
   "cell_type": "markdown",
   "metadata": {},
   "source": [
    "## str\n",
    "\n",
    "`str` е поредица от символи. Ще разгледаме:\n",
    "\n",
    "- [str](https://docs.python.org/3/library/stdtypes.html#text-sequence-type-str) методи и\n",
    "- [string](https://docs.python.org/3/library/string.html) често употребявани константи"
   ]
  },
  {
   "cell_type": "code",
   "execution_count": 42,
   "metadata": {},
   "outputs": [
    {
     "name": "stdout",
     "output_type": "stream",
     "text": [
      "🐍 is awesomeͤͤͤͤͤͤ\n"
     ]
    }
   ],
   "source": [
    "s = '🐍 is awesomeͤͤͤͤͤͤ'\n",
    "print(s)"
   ]
  },
  {
   "cell_type": "code",
   "execution_count": 50,
   "metadata": {},
   "outputs": [
    {
     "name": "stdout",
     "output_type": "stream",
     "text": [
      "b'\\xf0\\x9f\\x90\\x8d is awesome\\xcd\\xa4\\xcd\\xa4\\xcd\\xa4\\xcd\\xa4\\xcd\\xa4\\xcd\\xa4'\n",
      "🐍 is awesomeͤͤͤͤͤͤ\n",
      "🐍 = 🐍\n",
      "b'' е просто списък от uint8: 🐍\n",
      "Дължината на 🐍 e:  4\n",
      "['c', 'o', 'o', 'l', ' ', '🐍']\n"
     ]
    }
   ],
   "source": [
    "# .encode() Конвертира стринг до байтове.\n",
    "# Някой байтове не могат да се представят със символ от азбуката\n",
    "# и използват Hexadecimal Escape Sequence\n",
    "encoded = s.encode('utf-8')\n",
    "print(encoded)\n",
    "print(encoded.decode()) # От байтове може да се върнем в стринг\n",
    "# 🐍 = \\xf0\\x9f\\x90\\x8d\n",
    "# сложи символ отгоре = '\\xcd'\n",
    "# какво да се сложи отгоре = '\\xa4'\n",
    "\n",
    "print('🐍 =', b'\\xf0\\x9f\\x90\\x8d'.decode()) # = 🐍 Поредица от байтове се индикира с b''\n",
    "print(\"b'' е просто списък от uint8:\", bytes([0xf0, 0x9f, 0x90, 0x8d]).decode())\n",
    "print('Дължината на 🐍 e: ', len(b'\\xf0\\x9f\\x90\\x8d')) # \\xYY е = 1\n",
    "\n",
    "# Итерирането по стринг работи чрез итериране по символи, не по байтове\n",
    "print([x for x in 'cool 🐍'])"
   ]
  },
  {
   "cell_type": "code",
   "execution_count": null,
   "metadata": {},
   "outputs": [],
   "source": [
    "\n",
    "s.count('cat')\n",
    "s.endswith('at')\n",
    "s.startswith('ca')\n",
    "s.find('tc')\n",
    "'{0} + {1} = {2}'.format(1, 2, 3)\n",
    "s.isalnum()\n",
    "s.isalpha()\n",
    "s.isascii()\n",
    "s.isdigit()\n",
    "s.islower()\n",
    "s.isupper()\n",
    "s.isspace()\n",
    "','.join(['1','2','3'])\n",
    "s.lower()\n",
    "s.upper()\n",
    "s.replace('cat', '12')\n",
    "s.strip()\n",
    "s.split()"
   ]
  },
  {
   "cell_type": "code",
   "execution_count": 13,
   "metadata": {},
   "outputs": [
    {
     "data": {
      "text/plain": [
       "' \\t\\n\\r\\x0b\\x0c'"
      ]
     },
     "execution_count": 13,
     "metadata": {},
     "output_type": "execute_result"
    }
   ],
   "source": [
    "import string\n",
    "string.ascii_letters\n",
    "string.ascii_lowercase\n",
    "string.digits\n",
    "string.punctuation\n",
    "string.whitespace"
   ]
  },
  {
   "cell_type": "markdown",
   "metadata": {},
   "source": [
    "## int\n",
    "https://docs.python.org/3/library/functions.html#int\n",
    "int(string, base)\n",
    "power(-1, base)"
   ]
  },
  {
   "cell_type": "markdown",
   "metadata": {},
   "source": [
    "## Data structures\n",
    "https://docs.python.org/3/library/collections.html\n"
   ]
  },
  {
   "cell_type": "markdown",
   "metadata": {},
   "source": [
    "## List\n",
    "https://docs.python.org/3/library/stdtypes.html#sequence-types-list-tuple-range"
   ]
  },
  {
   "cell_type": "markdown",
   "metadata": {},
   "source": [
    "## Array \n",
    "https://docs.python.org/3/library/array.html"
   ]
  },
  {
   "cell_type": "markdown",
   "metadata": {},
   "source": [
    "## Dict"
   ]
  },
  {
   "cell_type": "markdown",
   "metadata": {},
   "source": [
    "### defaultdict"
   ]
  },
  {
   "cell_type": "markdown",
   "metadata": {},
   "source": [
    "### Counter"
   ]
  },
  {
   "cell_type": "markdown",
   "metadata": {},
   "source": [
    "## Set\n",
    "https://docs.python.org/3/library/stdtypes.html#set"
   ]
  },
  {
   "cell_type": "markdown",
   "metadata": {},
   "source": [
    "### Frozenset"
   ]
  },
  {
   "cell_type": "markdown",
   "metadata": {},
   "source": [
    "## Queue\n",
    "https://docs.python.org/3/library/queue.html"
   ]
  },
  {
   "cell_type": "markdown",
   "metadata": {},
   "source": [
    "## deque"
   ]
  },
  {
   "cell_type": "markdown",
   "metadata": {},
   "source": [
    "## heapq\n",
    "https://docs.python.org/3/library/heapq.html"
   ]
  },
  {
   "cell_type": "markdown",
   "metadata": {},
   "source": [
    "## Algorithms\n",
    "https://docs.python.org/3/library/bisect.html"
   ]
  },
  {
   "cell_type": "markdown",
   "metadata": {},
   "source": [
    "https://docs.python.org/3/library/copy.html"
   ]
  },
  {
   "cell_type": "markdown",
   "metadata": {},
   "source": [
    "https://docs.python.org/3/library/random.html"
   ]
  },
  {
   "cell_type": "markdown",
   "metadata": {},
   "source": []
  },
  {
   "cell_type": "markdown",
   "metadata": {},
   "source": [
    "https://docs.python.org/3/library/math.html"
   ]
  },
  {
   "cell_type": "markdown",
   "metadata": {},
   "source": [
    "https://docs.python.org/3/library/itertools.html"
   ]
  },
  {
   "cell_type": "markdown",
   "metadata": {},
   "source": [
    "https://docs.python.org/3/library/functools.html"
   ]
  },
  {
   "cell_type": "markdown",
   "metadata": {},
   "source": [
    "https://docs.python.org/3/library/csv.html"
   ]
  },
  {
   "cell_type": "markdown",
   "metadata": {},
   "source": [
    "https://docs.python.org/3/library/json.html"
   ]
  },
  {
   "cell_type": "markdown",
   "metadata": {},
   "source": [
    "https://docs.python.org/3/library/re.html"
   ]
  }
 ],
 "metadata": {
  "kernelspec": {
   "display_name": "Python 3.10.6 64-bit",
   "language": "python",
   "name": "python3"
  },
  "language_info": {
   "codemirror_mode": {
    "name": "ipython",
    "version": 3
   },
   "file_extension": ".py",
   "mimetype": "text/x-python",
   "name": "python",
   "nbconvert_exporter": "python",
   "pygments_lexer": "ipython3",
   "version": "3.10.6"
  },
  "orig_nbformat": 4,
  "vscode": {
   "interpreter": {
    "hash": "b0fa6594d8f4cbf19f97940f81e996739fb7646882a419484c72d19e05852a7e"
   }
  }
 },
 "nbformat": 4,
 "nbformat_minor": 2
}
