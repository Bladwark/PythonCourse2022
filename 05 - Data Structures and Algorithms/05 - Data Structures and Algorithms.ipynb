{
 "cells": [
  {
   "cell_type": "markdown",
   "metadata": {},
   "source": [
    "# Структури от данни и Алгоритми"
   ]
  },
  {
   "cell_type": "markdown",
   "metadata": {},
   "source": [
    "Структурите от данни са класове и обекти с интерфейс чрез който ги използваме, като се абстрахираме от имплементацията им.\n",
    "\n",
    "Алгоритмите са генерализирани процедури (парчета код/функции) които решават даден проблем (изпълняват дадена задача)."
   ]
  },
  {
   "cell_type": "markdown",
   "metadata": {},
   "source": [
    "## Защо?\n",
    "\n",
    "Структурите от данни и алгоритми:\n",
    "\n",
    "- Се използват често (по-простите от тях: List/Dict/Sort)\n",
    "- Подпомагат разбирането на други езици за програмиране (e.g. JavaScript обектите са Dict)\n",
    "- Са основа на по-сложни системи и приложения (e.g. Приоритетната опашка може да се реализира чрез запазване на опашката в база данни)\n",
    "- Са ключови за Google-style интервютата\n",
    "![https://i.imgur.com/dVcLsFl.png](https://i.imgur.com/dVcLsFl.png)"
   ]
  },
  {
   "cell_type": "markdown",
   "metadata": {},
   "source": [
    "## 3.. 2.. 1.. Go"
   ]
  },
  {
   "cell_type": "markdown",
   "metadata": {},
   "source": [
    "## Сложност на алгоритми\n",
    "\n",
    "https://www.bigocheatsheet.com/\n",
    "\n",
    "За оценка на сложност (бързина) на алгоритми използваме нотацията \"Big O\" $O(...)$.\n",
    "\n",
    "Сложността оценяваме спрямо размера на входа, като най-често използваме $n$, за да обозначим размера на входа.\n",
    "\n",
    "Примери за $n$:\n",
    "- За list K: $n = len(K)$\n",
    "- За str K: $n = len(K)$\n",
    "- За int K: $n = bytes\\;of\\;K = log_{10}(K) \\approxeq log_2(K)$ (но обикновено int казваме че има константен размер $O(1)$)\n",
    "\n",
    "Най-важните сложности са:\n",
    "- Constant $O(1)$\n",
    "- Linear $O(n)$\n",
    "- Linearithmic $O(n \\times log(n))$\n",
    "- Quadratic $O(n^2)$"
   ]
  },
  {
   "cell_type": "code",
   "execution_count": 1,
   "metadata": {},
   "outputs": [],
   "source": [
    "# O(1)\n",
    "def constant(x):\n",
    "    return x + 1\n",
    "\n",
    "# O(n)\n",
    "def linear(arr): # O(n x 1) = O(n)\n",
    "    for x in arr: # O(n)\n",
    "        print(x) # O(1)\n",
    "\n",
    "# O(n * log n)\n",
    "def linearithmic(arr):\n",
    "    logi = 1\n",
    "    while logi < len(arr): # O(log n)\n",
    "        logi *= 2 # iterations = len(arr) = 2 ^ logi -> solve for logi -> logi = log(len(arr))\n",
    "        linear(arr)\n",
    "\n",
    "# O(n * log n)\n",
    "def linearithmic2(arr):\n",
    "    arr.sort() # O(n * log n)\n",
    "\n",
    "# O (n^2)\n",
    "def quadratic(arr): # O(n * n * 1) = O(n^2)\n",
    "    for row in range(len(arr)): # O(n)\n",
    "        for column in range(len(arr)): # O(n)\n",
    "            print(arr[row][column]) # O(1)"
   ]
  },
  {
   "cell_type": "markdown",
   "metadata": {},
   "source": [
    "## str\n",
    "\n",
    "`str` е поредица от символи. Ще разгледаме:\n",
    "\n",
    "- [str](https://docs.python.org/3/library/stdtypes.html#text-sequence-type-str) методи и\n",
    "- [string](https://docs.python.org/3/library/string.html) често употребявани константи\n",
    "\n",
    "Стринговете в Python са immutable -> Повечето операции са $O(n)$"
   ]
  },
  {
   "cell_type": "code",
   "execution_count": 3,
   "metadata": {},
   "outputs": [
    {
     "name": "stdout",
     "output_type": "stream",
     "text": [
      "🐍 is awesomeͤͤͤͤͤ\n"
     ]
    }
   ],
   "source": [
    "# Python speaks   UTF-8 :) https://en.wikipedia.org/wiki/UTF-8\n",
    "s = '🐍 is awesomeͤͤͤͤͤ'\n",
    "print(s)"
   ]
  },
  {
   "cell_type": "code",
   "execution_count": 5,
   "metadata": {},
   "outputs": [
    {
     "name": "stdout",
     "output_type": "stream",
     "text": [
      "🐍 is awesomeͤͤͤͤͤ -> b'\\xf0\\x9f\\x90\\x8d is awesome\\xcd\\xa4\\xcd\\xa4\\xcd\\xa4\\xcd\\xa4\\xcd\\xa4'\n",
      "От байтове може да се върнем в стринг: 🐍 is awesomeͤͤͤͤͤ\n",
      "🐍 = 🐍\n",
      "b'' е просто списък от uint8: 🐍\n",
      "Дължината на 🐍 e:  4\n",
      "['c', 'o', 'o', 'l', ' ', '🐍']\n"
     ]
    }
   ],
   "source": [
    "# .encode() Конвертира стринг до байтове.\n",
    "# Някой байтове не могат да се представят със символ от азбуката\n",
    "# и използват Hexadecimal Escape Sequence\n",
    "\n",
    "# Често се използва при работа с файлове - понякога четем и пишем байтове вместо стрингове\n",
    "encoded = s.encode('utf-8')\n",
    "print(f'{s} -> {encoded}')\n",
    "print('От байтове може да се върнем в стринг:', encoded.decode())\n",
    "# 🐍 = \\xf0\\x9f\\x90\\x8d\n",
    "# сложи символ отгоре = '\\xcd'\n",
    "# какво да се сложи отгоре = '\\xa4'\n",
    "\n",
    "print('🐍 =', b'\\xf0\\x9f\\x90\\x8d'.decode()) # = 🐍 Поредица от байтове се индикира с b''\n",
    "print(\"b'' е просто списък от uint8:\", bytes([0xf0, 0x9f, 0x90, 0x8d]).decode())\n",
    "print('Дължината на 🐍 e: ', len(b'\\xf0\\x9f\\x90\\x8d')) # len(\\xYY) = 1 byte\n",
    "\n",
    "# Итерирането по стринг работи чрез итериране по символи, не по байтове\n",
    "print([x for x in 'cool 🐍'])"
   ]
  },
  {
   "cell_type": "code",
   "execution_count": 7,
   "metadata": {},
   "outputs": [
    {
     "name": "stdout",
     "output_type": "stream",
     "text": [
      "Форматирането работи! 🐍 * 🐍 = 🐍²\n"
     ]
    }
   ],
   "source": [
    "print('Форматирането работи! {0} * {1} = {2}'.format('🐍', '🐍', '🐍²'))"
   ]
  },
  {
   "cell_type": "code",
   "execution_count": 8,
   "metadata": {},
   "outputs": [
    {
     "name": "stdout",
     "output_type": "stream",
     "text": [
      "{букви} = alphabetic\n",
      "{числа} = digit\n",
      "{числа, букви} = alpha-numeric\n",
      "{малки букви} = lowercase\n",
      "{големи букви} = uppercase\n",
      "{празни символи} = space\n"
     ]
    }
   ],
   "source": [
    "if 'самобукви'.isalpha():\n",
    "    print('{букви} = alphabetic')\n",
    "\n",
    "# Можем ли да конвертираме стринга до int?\n",
    "if '1232367457'.isdigit():\n",
    "    print('{числа} = digit')\n",
    "\n",
    "# Бърза проверка дали работим с дума или изречение (изречението има паузи и символи)\n",
    "if '1283912873andLetters'.isalnum():\n",
    "    print('{числа, букви} = alpha-numeric')\n",
    "\n",
    "# Трябва ли да пишем код който разбира от главни букви?\n",
    "if 'малкибукви'.islower():\n",
    "    print('{малки букви} = lowercase')\n",
    "\n",
    "if 'ГОЛЕМИБУКВИ'.isupper():\n",
    "    print('{големи букви} = uppercase')\n",
    "\n",
    "# Използваме при разбиване на стрингове - if space : do X else do Y\n",
    "if '\\t\\n  '.isspace():\n",
    "    print('{празни символи} = space')"
   ]
  },
  {
   "cell_type": "code",
   "execution_count": 10,
   "metadata": {},
   "outputs": [
    {
     "name": "stdout",
     "output_type": "stream",
     "text": [
      "s започва с '🐍 is'\n",
      "is е на индекс 2\n",
      "'e' се среща 2 пъти\n"
     ]
    }
   ],
   "source": [
    "if s.endswith('e'):\n",
    "    print('s завършва на e') # eͤͤͤ != e\n",
    "\n",
    "if s.startswith('🐍 is'):\n",
    "    print(\"s започва с '🐍 is'\")\n",
    "\n",
    "print('is е на индекс', s.find('is')) # Индекс по символ, не по байт\n",
    "\n",
    "print(\"'e' се среща\", s.count('e'), 'пъти')"
   ]
  },
  {
   "cell_type": "code",
   "execution_count": 12,
   "metadata": {},
   "outputs": [
    {
     "name": "stdout",
     "output_type": "stream",
     "text": [
      "🐍 is awesomeͤͤͤͤͤ\n",
      "Не винаги субституциите работят както ни се иска: 🐍 is много лесен курсͤͤͤͤͤ\n",
      "Но може да сработят с regex: 🐍 is бЪрЗ\n",
      "Може да направим всички символи голем: 🐍 IS AWESOMEͤͤͤͤͤ\n",
      "или малки: THICC -> thicc\n",
      "Да разчистим празните символи '    нещо ми духа '-> 'нещо ми духа'\n"
     ]
    }
   ],
   "source": [
    "print(s)\n",
    "print('Не винаги субституциите работят както ни се иска:',\n",
    "    s.replace('awesome', 'много лесен курс'))\n",
    "\n",
    "import re\n",
    "print('Но може да сработят с regex:', re.sub(r'awesome.*', 'бЪрЗ', s))\n",
    "\n",
    "print('Може да направим всички символи голем:', s.upper())\n",
    "# Често използваме за да оеднаквим символите, A = a и няма защо да ги третираме различно\n",
    "print('или малки:', 'THICC ->', 'THICC'.lower())\n",
    "# Ако някой въведе \"me@mail.com  \" то очевидно няма спейс в края на мейла -> strip() -> \"me@mail.com\"\n",
    "print(\"Да разчистим празните символи '    нещо ми духа '-> '\" + '    нещо ми духа  '.strip() + \"'\")"
   ]
  },
  {
   "cell_type": "code",
   "execution_count": 13,
   "metadata": {},
   "outputs": [
    {
     "name": "stdout",
     "output_type": "stream",
     "text": [
      "Удобно е да принтираме списъци: 1, 2, 3, 4, worldwide\n",
      "или да разбиваме стринг на елементи: ['fmi', 'poluchi', 'li?']\n",
      "['kude', 'sym', 'az', 'kude', 'si', 'ti', '']\n"
     ]
    }
   ],
   "source": [
    "# Много подпомага дебъгването и не оставя запетая след последния елемент!!\n",
    "print('Удобно е да принтираме списъци:', ', '.join(['1','2','3','4','worldwide']))\n",
    "# При разбиване на стрингове (данни, които знаем че са разделени с някакъв символ)\n",
    "print('или да разбиваме стринг на елементи:', 'fmi:poluchi:li?'.split(':'))\n",
    "\n",
    "# за по-сложни разбивания - regex (:\n",
    "import re\n",
    "print(re.split(r',|:|\\?', 'kude:sym,az?kude:si,ti?'))"
   ]
  },
  {
   "cell_type": "markdown",
   "metadata": {},
   "source": [
    "Библиотеката `string` предоставя някои удобни константи"
   ]
  },
  {
   "cell_type": "code",
   "execution_count": 82,
   "metadata": {},
   "outputs": [
    {
     "name": "stdout",
     "output_type": "stream",
     "text": [
      "all letters: abcdefghijklmnopqrstuvwxyzABCDEFGHIJKLMNOPQRSTUVWXYZ\n",
      "all lowercase: abcdefghijklmnopqrstuvwxyz\n",
      "all digits as a string: 0123456789\n",
      "all symbols: !\"#$%&'()*+,-./:;<=>?@[\\]^_`{|}~\n",
      "all whitespaces:  \t\n",
      "\u000b\f b' \\t\\n\\r\\x0b\\x0c'\n"
     ]
    }
   ],
   "source": [
    "import string\n",
    "\n",
    "# Вместо да хардкодваме \"abcdef...\"\n",
    "print('all letters:', string.ascii_letters)\n",
    "print('all lowercase:', string.ascii_lowercase)\n",
    "print('all digits as a string:', string.digits)\n",
    "print('all symbols:', string.punctuation)\n",
    "print('all whitespaces:', string.whitespace, string.whitespace.encode())"
   ]
  },
  {
   "cell_type": "markdown",
   "metadata": {},
   "source": [
    "## int\n",
    "\n",
    "Python няма ограничение за големината на int (C++ long long има ограничение $2^{63}-1$). Но операциите с големи числа са бавни - не са $O(1)$, а $O(log(number)) = O(number\\;of\\;digits)$\n",
    "\n",
    "Когато стойността надвиши $2^{63}-1$ числата се обръщат в BigInt.\n",
    "\n",
    "[https://www.codementor.io/@arpitbhayani/how-python-implements-super-long-integers-12icwon5vk](https://www.codementor.io/@arpitbhayani/how-python-implements-super-long-integers-12icwon5vk)"
   ]
  },
  {
   "cell_type": "code",
   "execution_count": 90,
   "metadata": {},
   "outputs": [
    {
     "name": "stdout",
     "output_type": "stream",
     "text": [
      "CPU times: user 4.28 s, sys: 22.2 ms, total: 4.31 s\n",
      "Wall time: 4.34 s\n"
     ]
    }
   ],
   "source": [
    "%%time\n",
    "result = 1\n",
    "for x in range(1, 100000):\n",
    "    result *= x\n",
    "# Същият код на C++ минава за total: 0.001 s. Но не връща верен отговор :)"
   ]
  },
  {
   "cell_type": "code",
   "execution_count": 102,
   "metadata": {},
   "outputs": [
    {
     "name": "stdout",
     "output_type": "stream",
     "text": [
      "int is 28 bytes\n",
      "10^1000 is 468 bytes\n",
      "float is 24 bytes\n"
     ]
    }
   ],
   "source": [
    "import sys\n",
    "print('int is {0} bytes'.format(sys.getsizeof(int(1))))\n",
    "print('10^1000 is {0} bytes'.format(sys.getsizeof(int(10**1000))))\n",
    "print('float is {0} bytes'.format(sys.getsizeof(float(1))))\n",
    "# float има прецизност като double в C++ (~14 знака след запетаята)"
   ]
  },
  {
   "cell_type": "code",
   "execution_count": 3,
   "metadata": {},
   "outputs": [
    {
     "name": "stdout",
     "output_type": "stream",
     "text": [
      "3.1428571428571428571428571428571428571428571428571428571\n"
     ]
    }
   ],
   "source": [
    "# За по голяма прицизност може да използваме `decimal` модула\n",
    "# По дефолт има прецизност 28 знака след запетаята, но може да му дадем повече :)\n",
    "from decimal import *\n",
    "getcontext().prec = 56\n",
    "print(Decimal(22) / Decimal(7))"
   ]
  },
  {
   "cell_type": "code",
   "execution_count": 31,
   "metadata": {},
   "outputs": [
    {
     "name": "stdout",
     "output_type": "stream",
     "text": [
      "Стринг -> int: 42\n",
      "Конвертиране от други бройни системи, освен base10: 255\n",
      "Премахване на знаците след десетичната запетая -5 5\n",
      "Абсолютна стойност(-5) = 5\n"
     ]
    }
   ],
   "source": [
    "# Начин на използване\n",
    "\n",
    "print('Стринг -> int:', int('42'))\n",
    "print('Конвертиране от други бройни системи, освен base10:', int('ff', 16))\n",
    "print('Премахване на знаците след десетичната запетая', int(-5.2), int(5.2))\n",
    "print('Абсолютна стойност(-5) =', abs(-5))"
   ]
  },
  {
   "cell_type": "markdown",
   "metadata": {},
   "source": [
    "## Math"
   ]
  },
  {
   "cell_type": "code",
   "execution_count": 46,
   "metadata": {},
   "outputs": [
    {
     "name": "stdout",
     "output_type": "stream",
     "text": [
      "Закръгляне на горе 2.2 -> 3\n",
      "Закръгляне на долу 2.7 -> 2\n",
      "Преброяване на битовете на числото 257 = 9\n",
      "Преброяване на цифрите на числото 14532 = 5\n",
      "Най-голям общ делител на 35 и 15 = 5\n",
      "Можем да смятаме inverse елемента по модул 15^-1 mod 26 = 7\n",
      "N choose K -> 10 choose 2 = 45\n"
     ]
    }
   ],
   "source": [
    "import math\n",
    "\n",
    "print('Закръгляне на горе 2.2 ->', math.ceil(2.2))\n",
    "print('Закръгляне на долу 2.7 ->', math.floor(2.7))\n",
    "\n",
    "# Може да правим побитово итериране на  числото\n",
    "print('Преброяване на битовете на числото 257 =', math.ceil(math.log2(257)))\n",
    "# Полезно при построяване на Trie/radix sort/заделяне на hashmap\n",
    "print('Преброяване на цифрите на числото 14532 =', math.ceil(math.log10(14532)))\n",
    "\n",
    "# Математически важни функции\n",
    "print('Най-голям общ делител на 35 и 15 =', math.gcd(35, 15))\n",
    "print('Можем да смятаме inverse елемента по модул 15^-1 mod 26 =', pow(15, -1, 26))\n",
    "\n",
    "# Комбинаторика (често се среща в задачи, но има и други)\n",
    "print('N choose K -> 10 choose 2 =', math.comb(10, 2))"
   ]
  },
  {
   "cell_type": "code",
   "execution_count": 47,
   "metadata": {},
   "outputs": [
    {
     "name": "stdout",
     "output_type": "stream",
     "text": [
      "Not a Number = nan\n",
      "Infinity = inf\n",
      "-Infinity = -inf\n",
      "π =  3.141592653589793\n",
      "e =  2.718281828459045\n"
     ]
    }
   ],
   "source": [
    "# Специални стойности на float:\n",
    "# Not a Number (полезно като дъно на стел)\n",
    "print('Not a Number =', math.nan)\n",
    "# Infinity (полезно като последен елемент на масив, нещо като терминираща нула в C++)\n",
    "print('Infinity =', math.inf)\n",
    "# -Infinity\n",
    "print('-Infinity =', -math.inf)\n",
    "\n",
    "# Константи\n",
    "print('π = ', math.pi)\n",
    "print('e = ', math.e)"
   ]
  },
  {
   "cell_type": "markdown",
   "metadata": {},
   "source": [
    "`math` модулът има още много функции на които няма да се спираме, защото не се използват често:\n",
    "- Тригонометрични функции\n",
    "- Хиперболични функции\n",
    "- Гама функция\n",
    "- Конвертиране между градуси и радиани\n",
    "- Други"
   ]
  },
  {
   "cell_type": "markdown",
   "metadata": {},
   "source": [
    "## List\n",
    "\n",
    "Саморазширяващ се списък/масив от елементи. Въпреки името list, структурата е динамичен масив, а не свързан списък."
   ]
  },
  {
   "cell_type": "code",
   "execution_count": 1,
   "metadata": {},
   "outputs": [
    {
     "name": "stdout",
     "output_type": "stream",
     "text": [
      "Списък с 10 елемента: [0, 0, 0, 0, 0, 0, 0, 0, 0, 0]\n",
      "Празен списък: []\n",
      "До момента имаме: [-2, -1, 1]\n",
      "Може да обърнем списъка [1, -1, -2]\n",
      "И да го сортираме [-2, -1, 1]\n",
      "pop премахва последния елемент и го връща [-2, -1] 1\n"
     ]
    }
   ],
   "source": [
    "arr = [0] * 10 # инициализиране на списък с 10 елемента O(n)\n",
    "print('Списък с 10 елемента:', arr)\n",
    "arr = list() # празен списък O(1)\n",
    "arr.clear() # O(1) еквивалентно на ' = list()'\n",
    "print('Празен списък:', arr)\n",
    "arr.append(1) # O(1*) за разлика от конкатенацията на стрингове ('abc' + 'd') която е O(n)\n",
    "arr.insert(0, -1) # O(n)\n",
    "arr = [-2] + arr # O(n) еквивалентно на горното АКО елементите НЕ СА list\n",
    "print('До момента имаме:', arr)\n",
    "arr.reverse() # O(n)\n",
    "print('Може да обърнем списъка', arr)\n",
    "arr.sort() # O(n * log n)\n",
    "print('И да го сортираме', arr)\n",
    "last_element = arr.pop() # O(1)\n",
    "print('pop премахва последния елемент и го връща', arr, last_element)"
   ]
  },
  {
   "cell_type": "markdown",
   "metadata": {},
   "source": [
    "Примери с често използвани техники върху `list`"
   ]
  },
  {
   "cell_type": "code",
   "execution_count": 13,
   "metadata": {},
   "outputs": [
    {
     "name": "stdout",
     "output_type": "stream",
     "text": [
      "['1', '2', '3', '4', '5'] -> [1, 2, 3, 4, 5]\n",
      "15\n"
     ]
    }
   ],
   "source": [
    "# Конвертиране на 1 списък до друг (map)\n",
    "# Еквивалентно е на for цикъл\n",
    "\n",
    "# Често се използва при четене на числа от файл/stdin\n",
    "strings = ['1','2','3','4','5']\n",
    "numbers = [int(x) for x in strings]\n",
    "print(strings, '->', numbers)\n",
    "print(sum(numbers))"
   ]
  },
  {
   "cell_type": "code",
   "execution_count": 77,
   "metadata": {},
   "outputs": [
    {
     "name": "stdout",
     "output_type": "stream",
     "text": [
      "daddy elon\n",
      "elon daddy\n",
      "tuples = [(1, 'daddy'), (2, 'elon')], tuples_copy = []\n"
     ]
    }
   ],
   "source": [
    "# Сортиране на списък със обекти\n",
    "tuples = [(2, 'elon'), (1, 'daddy')]\n",
    "tuples.sort(key=lambda x: (x[1])) # Ако вместо tuples имаме обекти използваме obj.field, вместо x[1]\n",
    "# ламбда функцията връща tuple от елементи в каквато последователност трябва да се сравняват\n",
    "# Ако 0-левия елемент е един и същ, пробвай 1вия. Ако първият елемент е един и същ, пробвай 2рия и тн.\n",
    "print(' '.join(list(x[1] for x in tuples)))\n",
    "\n",
    "# Обръщане на списък\n",
    "reversed_tuples = tuples[::-1] # създава нов списък\n",
    "print(' '.join(list(x[1] for x in reversed_tuples)))\n",
    "\n",
    "# Копиране на списък\n",
    "tuples_copy = tuples[::]\n",
    "tuples_copy.clear()\n",
    "print(f'{tuples = }, {tuples_copy = }')"
   ]
  },
  {
   "cell_type": "markdown",
   "metadata": {},
   "source": [
    "## Array \n",
    "\n",
    "`array` предоставя по-ефективно използване на паметта от `list`. Повече прилича на стандартните масиви в други езици. Добавянето на елемент в края на `array` е $O(1)$.\n",
    "\n",
    "Има същите функционалности като `list`.\n",
    "\n",
    "При инициализиране трябва да окажем типа на елемтнтите в списъка.\n",
    "\n",
    "Ако се е стигнало до използване на по-оптимизирани структури в Python най-добре да използваме някоя библиотека като `numpy`."
   ]
  },
  {
   "cell_type": "code",
   "execution_count": 23,
   "metadata": {},
   "outputs": [],
   "source": [
    "%%capture\n",
    "# %%capture is a jupyter instruction to hide output\n",
    "\n",
    "from array import array\n",
    "\n",
    "array('l') # array<32 bit int>\n",
    "array('u', 'hello \\u2641') # array<unicode character>\n",
    "array('d', [1.0, 2.0, 3.14]) # array<double>\n",
    "array('I', [1, 2, 3])  # array<unsigned 16 bit int>\n"
   ]
  },
  {
   "cell_type": "markdown",
   "metadata": {},
   "source": [
    "## Dict\n",
    "\n",
    "`dict` е питонската имплементация на Hash-Table. Повечето операции с `dict` са $O(1)$. Изключение правят операциите за обработка на всички елементи, които са $O(n)$.\n",
    "\n",
    "Елементите на `dict` са `key`-`value` (ключ - стойност). Ключът задължително трябва да е от тип, който може да се хешира, стойността може да е всякаква.\n",
    "\n",
    "Забележка: Казваме, че операциите са $O(1)$, но всъщност зависят от размера на ключа. Обикновено ключовете са малки по размер в паметта и за това на повечето места в литературата се казва че операциите са $O(1)$, но ако ключовете ни са стрингове с дължина 100,000 символа, то сложността на операциите не е точно $O(1)$ :)"
   ]
  },
  {
   "cell_type": "code",
   "execution_count": 50,
   "metadata": {},
   "outputs": [
    {
     "name": "stdout",
     "output_type": "stream",
     "text": [
      "dict с 1 елемент my_dict = {'is big': 'not'}\n",
      "празен dict след като изтрихме ключа \"is big\" my_dict = {}\n"
     ]
    },
    {
     "ename": "KeyError",
     "evalue": "'non-existent key'",
     "output_type": "error",
     "traceback": [
      "\u001b[0;31m---------------------------------------------------------------------------\u001b[0m",
      "\u001b[0;31mKeyError\u001b[0m                                  Traceback (most recent call last)",
      "Cell \u001b[0;32mIn [50], line 8\u001b[0m\n\u001b[1;32m      6\u001b[0m \u001b[38;5;28;01mdel\u001b[39;00m my_dict[\u001b[38;5;124m'\u001b[39m\u001b[38;5;124mis big\u001b[39m\u001b[38;5;124m'\u001b[39m] \u001b[38;5;66;03m# del изтрива елемент\u001b[39;00m\n\u001b[1;32m      7\u001b[0m \u001b[38;5;28mprint\u001b[39m(\u001b[38;5;124m'\u001b[39m\u001b[38;5;124mпразен dict след като изтрихме ключа \u001b[39m\u001b[38;5;124m\"\u001b[39m\u001b[38;5;124mis big\u001b[39m\u001b[38;5;124m\"\u001b[39m\u001b[38;5;124m'\u001b[39m, \u001b[38;5;124mf\u001b[39m\u001b[38;5;124m'\u001b[39m\u001b[38;5;132;01m{\u001b[39;00mmy_dict \u001b[38;5;132;01m= }\u001b[39;00m\u001b[38;5;124m'\u001b[39m)\n\u001b[0;32m----> 8\u001b[0m \u001b[38;5;28;01mdel\u001b[39;00m my_dict[\u001b[38;5;124m'\u001b[39m\u001b[38;5;124mnon-existent key\u001b[39m\u001b[38;5;124m'\u001b[39m]\n",
      "\u001b[0;31mKeyError\u001b[0m: 'non-existent key'"
     ]
    }
   ],
   "source": [
    "my_dict = {} # Инициализираме празен dict\n",
    "my_dict = dict() # dict() == {}\n",
    "\n",
    "my_dict['is big'] = 'not'\n",
    "print('dict с 1 елемент', f'{my_dict = }')\n",
    "del my_dict['is big'] # del изтрива елемент\n",
    "print('празен dict след като изтрихме ключа \"is big\"', f'{my_dict = }')\n",
    "del my_dict['non-existent key'] # Ако се опитаме да достъпим или изтрием ключ който не съществува ще гръмнем с KeyError"
   ]
  },
  {
   "cell_type": "code",
   "execution_count": 1,
   "metadata": {},
   "outputs": [
    {
     "name": "stdout",
     "output_type": "stream",
     "text": [
      "for x in dict: ['Gosho na pochivka', 'Gosho na fmi']\n",
      "for x in dict.keys(): ['Gosho na pochivka', 'Gosho na fmi']\n",
      "for x in dict.values(): [25, 11001]\n",
      "for x in dict.items(): [('Gosho na pochivka', 25), ('Gosho na fmi', 11001)]\n"
     ]
    }
   ],
   "source": [
    "# Итериране по dict\n",
    "person_age = {\n",
    "    'Gosho na pochivka': 25,\n",
    "    'Gosho na fmi': 11001,\n",
    "}\n",
    "\n",
    "result = []\n",
    "for x in person_age: # == .keys()\n",
    "    result.append(x)\n",
    "print('for x in dict:', result)\n",
    "\n",
    "result = []\n",
    "for x in person_age.keys():\n",
    "    result.append(x)\n",
    "print('for x in dict.keys():', result)\n",
    "\n",
    "result = []\n",
    "for x in person_age.values():\n",
    "    result.append(x)\n",
    "print('for x in dict.values():', result)\n",
    "\n",
    "result = []\n",
    "for x in person_age.items():\n",
    "    result.append(x)\n",
    "print('for x in dict.items():', result)"
   ]
  },
  {
   "cell_type": "code",
   "execution_count": 13,
   "metadata": {},
   "outputs": [
    {
     "name": "stdout",
     "output_type": "stream",
     "text": [
      "{'ami': 'nali ne mojelo da se promenq e bai xy*', 'pari': 'nali ne mojelo da se promenq e bai xy*', 'nema': 'nali ne mojelo da se promenq e bai xy*'}\n"
     ]
    },
    {
     "ename": "RuntimeError",
     "evalue": "dictionary changed size during iteration",
     "output_type": "error",
     "traceback": [
      "\u001b[0;31m---------------------------------------------------------------------------\u001b[0m",
      "\u001b[0;31mRuntimeError\u001b[0m                              Traceback (most recent call last)",
      "Cell \u001b[0;32mIn [13], line 13\u001b[0m\n\u001b[1;32m      9\u001b[0m     palindromes[x] \u001b[39m=\u001b[39m \u001b[39m'\u001b[39m\u001b[39mnali ne mojelo da se promenq e bai xy*\u001b[39m\u001b[39m'\u001b[39m\n\u001b[1;32m     11\u001b[0m \u001b[39mprint\u001b[39m(palindromes)\n\u001b[0;32m---> 13\u001b[0m \u001b[39mfor\u001b[39;00m x \u001b[39min\u001b[39;00m palindromes:\n\u001b[1;32m     14\u001b[0m     \u001b[39mdel\u001b[39;00m palindromes[x]\n",
      "\u001b[0;31mRuntimeError\u001b[0m: dictionary changed size during iteration"
     ]
    }
   ],
   "source": [
    "# По време на итериране не е позволено да променяме dict\n",
    "palindromes = {\n",
    "    'ami': 'ima',\n",
    "    'pari': 'irap',\n",
    "    'nema': 'amen',\n",
    "}\n",
    "\n",
    "for x in palindromes:\n",
    "    palindromes[x] = 'nali ne mojelo da se promenq e bai xy*'\n",
    "    \n",
    "print(palindromes)\n",
    "\n",
    "for x in palindromes:\n",
    "    del palindromes[x] # промяна върху ключовете не работи :("
   ]
  },
  {
   "cell_type": "code",
   "execution_count": 17,
   "metadata": {},
   "outputs": [
    {
     "name": "stdout",
     "output_type": "stream",
     "text": [
      "въпреки грешката на предишната стъпка изтрихме 1 ключ (на рандъм) {'pari': 'nali ne mojelo da se promenq e bai xy*', 'nema': 'nali ne mojelo da se promenq e bai xy*'}\n",
      "{'nema': 'shte si napravq moi dict togava'}\n"
     ]
    }
   ],
   "source": [
    "print('въпреки грешката на предишната стъпка изтрихме 1 ключ (на рандъм)', palindromes)\n",
    "\n",
    "# Тъй като не може да променяме dict докато итерираме ще трябва да създадем нов\n",
    "changed = {k: 'shte si napravq moi dict togava' for k, _ in palindromes.items() if k != 'pari'}\n",
    "print(changed)"
   ]
  },
  {
   "cell_type": "markdown",
   "metadata": {},
   "source": [
    "### defaultdict\n",
    "\n",
    "`defaultdict` живее в модула `collections`. Има същата функционалност като `dict`, но при инициализация трябва да окажем от какъв тип ще са стойностите. При достъпване на ключ, който не съществува, ще се създаде ключа и стойност - дефолтен обект от типа, който задаваме при инициализация.\n",
    "\n",
    "Обикновено го използваме за удобство - не е нужно да проверяваме дали стойността зад някой ключ е инициализирана."
   ]
  },
  {
   "cell_type": "code",
   "execution_count": 25,
   "metadata": {},
   "outputs": [
    {
     "name": "stdout",
     "output_type": "stream",
     "text": [
      "defaultdict(<class 'list'>, {})\n",
      "дори само с достъпване на ключа създаваме дефолтен обект defaultdict(<class 'list'>, {'what': []})\n"
     ]
    },
    {
     "data": {
      "text/plain": [
       "defaultdict(list,\n",
       "            {'t': [0, 11],\n",
       "             'h': [1],\n",
       "             'i': [2, 5, 13],\n",
       "             's': [3, 6, 10],\n",
       "             ' ': [4, 7, 9],\n",
       "             'a': [8],\n",
       "             'r': [12],\n",
       "             'n': [14],\n",
       "             'g': [15]})"
      ]
     },
     "execution_count": 25,
     "metadata": {},
     "output_type": "execute_result"
    }
   ],
   "source": [
    "from collections import defaultdict\n",
    "\n",
    "my_default_dict = defaultdict(list)\n",
    "print(my_default_dict)\n",
    "my_default_dict['what']\n",
    "print('дори само с достъпване на ключа създаваме дефолтен обект', my_default_dict)\n",
    "\n",
    "del my_default_dict['what']\n",
    "for index, char in enumerate('this is a string'):\n",
    "    my_default_dict[char].append(index) # Това ще изгърми с нормален dict\n",
    "\n",
    "my_default_dict"
   ]
  },
  {
   "cell_type": "markdown",
   "metadata": {},
   "source": [
    "### Counter\n",
    "\n",
    "`Counter` е още един под-клас на `dict`. При инициализация може да се подаде колекция (или друг обект който може да се итерира и елементите му могат да се хешират), която бива итерирана и елементите ѝ се преброяват.\n",
    "Елементите на колекцията стават ключове, а стойностите са колко пъти даден елемент е срещнат в колекцията."
   ]
  },
  {
   "cell_type": "code",
   "execution_count": 27,
   "metadata": {},
   "outputs": [
    {
     "data": {
      "text/plain": [
       "Counter({'s': 3,\n",
       "         't': 6,\n",
       "         'r': 2,\n",
       "         'i': 5,\n",
       "         'n': 3,\n",
       "         'g': 1,\n",
       "         ' ': 6,\n",
       "         \"'\": 2,\n",
       "         'a': 2,\n",
       "         'c': 2,\n",
       "         'o': 2,\n",
       "         'l': 3,\n",
       "         'e': 3,\n",
       "         ',': 1,\n",
       "         'b': 2,\n",
       "         'u': 1})"
      ]
     },
     "execution_count": 27,
     "metadata": {},
     "output_type": "execute_result"
    }
   ],
   "source": [
    "from collections import Counter\n",
    "\n",
    "Counter('string isn\\'t a collection, but it\\'s iterable')"
   ]
  },
  {
   "cell_type": "markdown",
   "metadata": {},
   "source": [
    "## Set\n",
    "\n",
    "`set` е `dict`, който има само ключове, стойностите не ни интересуват. Добавяне/премахване/проверка дали елемент е в сет-а се случва за $O(1)$\n",
    "\n",
    "`set` се използва по-рядко от `dict`, и основно за да намерим уникалните елементи на колекция."
   ]
  },
  {
   "cell_type": "code",
   "execution_count": 35,
   "metadata": {},
   "outputs": [
    {
     "name": "stdout",
     "output_type": "stream",
     "text": [
      "инициализация от колекция {1, 2, 3}\n",
      "елемент, който вече е в сета няма да се добави отново {1, 2, 3}\n",
      "Може да обединим 2 сета {1, 2, 3, 4}\n",
      "Може да вземем само общите елементи {2, 3}\n",
      "Може да вземем елементите които не са общи {1, 4}\n",
      "Може да проверим дали даден елемент е в сета: 5 in [1,2,3]? False\n"
     ]
    }
   ],
   "source": [
    "uniques = set() # няма по-кратък начин за инициализране на сет, както {} за dict\n",
    "uniques = set([1,2,3,3,3,3,3,3]) # Може директно да го инициализираме от колекция\n",
    "print('инициализация от колекция', uniques)\n",
    "uniques.add(1) # добавяме елемент\n",
    "print('елемент, който вече е в сета няма да се добави отново', uniques)\n",
    "\n",
    "print('Може да обединим 2 сета', set([1,2,3]).union(set([2,3,4])))\n",
    "print('Може да вземем само общите елементи', set([1,2,3]) & set([2,3,4]))\n",
    "print('Може да вземем елементите които не са общи', set([1,2,3]) ^ set([2,3,4]))\n",
    "print('Може да проверим дали даден елемент е в сета: 5 in [1,2,3]?', 5 in set([1,2,3]))"
   ]
  },
  {
   "cell_type": "code",
   "execution_count": 43,
   "metadata": {},
   "outputs": [
    {
     "data": {
      "text/plain": [
       "26"
      ]
     },
     "execution_count": 43,
     "metadata": {},
     "output_type": "execute_result"
    }
   ],
   "source": [
    "# Задача: колко различни букви са използвани в следния стринг\n",
    "# 'The quick brown fox jumps over the lazy dog'\n",
    "# Отговор:\n",
    "len(set(\n",
    "        'The quick brown fox jumps over the lazy dog'\n",
    "        .lower()\n",
    "        .replace(' ','')\n",
    "    )\n",
    ")\n"
   ]
  },
  {
   "cell_type": "markdown",
   "metadata": {},
   "source": [
    "### Frozenset\n",
    "\n",
    "`frozenset` = immutable `set`. Immutability носи плюсовеи минуси:\n",
    "- (+) може да хешираме сета (да го използваме като ключ в `dict` или да го добавим в друг `set`)\n",
    "- (-) не може да го променяме (да добавяме/премахваме елементи)"
   ]
  },
  {
   "cell_type": "code",
   "execution_count": null,
   "metadata": {},
   "outputs": [
    {
     "ename": "TypeError",
     "evalue": "unhashable type: 'set'",
     "output_type": "error",
     "traceback": [
      "\u001b[0;31m---------------------------------------------------------------------------\u001b[0m\n",
      "\u001b[0;31mTypeError\u001b[0m                                 Traceback (most recent call last)\n",
      "Cell \u001b[0;32mIn [39], line 1\u001b[0m\n",
      "\u001b[0;32m----> 1\u001b[0m my_dict \u001b[38;5;241m=\u001b[39m {\n",
      "\u001b[1;32m      2\u001b[0m     \u001b[38;5;28mset\u001b[39m([\u001b[38;5;241m1\u001b[39m,\u001b[38;5;241m2\u001b[39m,\u001b[38;5;241m3\u001b[39m]): \u001b[38;5;124m'\u001b[39m\u001b[38;5;124mmy password\u001b[39m\u001b[38;5;124m'\u001b[39m, \u001b[38;5;66;03m# set is unhashable, trust me\u001b[39;00m\n",
      "\u001b[1;32m      3\u001b[0m }\n",
      "\n",
      "\u001b[0;31mTypeError\u001b[0m: unhashable type: 'set'"
     ]
    }
   ],
   "source": [
    "my_dict = {\n",
    "    set([1,2,3]): 'my password', # set is unhashable, trust me\n",
    "}"
   ]
  },
  {
   "cell_type": "code",
   "execution_count": 36,
   "metadata": {},
   "outputs": [
    {
     "data": {
      "text/plain": [
       "{frozenset({1, 2, 3}): 'my password',\n",
       " frozenset({'a',\n",
       "            'c',\n",
       "            'e',\n",
       "            'h',\n",
       "            'r',\n",
       "            's',\n",
       "            't'}): 'ако подадем string, ще конструираме set от буквите'}"
      ]
     },
     "execution_count": 36,
     "metadata": {},
     "output_type": "execute_result"
    }
   ],
   "source": [
    "numbers = set([1,2,3])\n",
    "\n",
    "my_dict = {\n",
    "    frozenset(numbers): 'my password',\n",
    "    frozenset('characters'): 'ако подадем string, ще конструираме set от буквите'\n",
    "}\n",
    "my_dict"
   ]
  },
  {
   "cell_type": "markdown",
   "metadata": {},
   "source": [
    "## Queue\n",
    "https://docs.python.org/3/library/queue.html"
   ]
  },
  {
   "cell_type": "markdown",
   "metadata": {},
   "source": [
    "## deque"
   ]
  },
  {
   "cell_type": "markdown",
   "metadata": {},
   "source": [
    "## heapq\n",
    "https://docs.python.org/3/library/heapq.html"
   ]
  },
  {
   "cell_type": "markdown",
   "metadata": {},
   "source": [
    "## Algorithms\n",
    "https://docs.python.org/3/library/bisect.html"
   ]
  },
  {
   "cell_type": "markdown",
   "metadata": {},
   "source": [
    "https://docs.python.org/3/library/copy.html"
   ]
  },
  {
   "cell_type": "markdown",
   "metadata": {},
   "source": [
    "https://docs.python.org/3/library/random.html"
   ]
  },
  {
   "cell_type": "markdown",
   "metadata": {},
   "source": [
    "https://docs.python.org/3/library/itertools.html"
   ]
  },
  {
   "cell_type": "markdown",
   "metadata": {},
   "source": [
    "https://docs.python.org/3/library/functools.html"
   ]
  },
  {
   "cell_type": "markdown",
   "metadata": {},
   "source": [
    "https://docs.python.org/3/library/csv.html"
   ]
  },
  {
   "cell_type": "markdown",
   "metadata": {},
   "source": [
    "https://docs.python.org/3/library/json.html"
   ]
  },
  {
   "cell_type": "markdown",
   "metadata": {},
   "source": [
    "https://docs.python.org/3/library/re.html"
   ]
  }
 ],
 "metadata": {
  "kernelspec": {
   "display_name": "Python 3.10.6 64-bit",
   "language": "python",
   "name": "python3"
  },
  "language_info": {
   "codemirror_mode": {
    "name": "ipython",
    "version": 3
   },
   "file_extension": ".py",
   "mimetype": "text/x-python",
   "name": "python",
   "nbconvert_exporter": "python",
   "pygments_lexer": "ipython3",
   "version": "3.10.7"
  },
  "orig_nbformat": 4,
  "vscode": {
   "interpreter": {
    "hash": "b0fa6594d8f4cbf19f97940f81e996739fb7646882a419484c72d19e05852a7e"
   }
  }
 },
 "nbformat": 4,
 "nbformat_minor": 2
}
