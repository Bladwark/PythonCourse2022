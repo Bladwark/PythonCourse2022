{
  "cells": [
    {
      "cell_type": "markdown",
      "metadata": {
        "id": "view-in-github",
        "colab_type": "text"
      },
      "source": [
        "<a href=\"https://colab.research.google.com/github/lyubolp/PythonCourse2022/blob/functional_05/05%20-%20Functional%20Programming/05_Functional_Programming.ipynb\" target=\"_parent\"><img src=\"https://colab.research.google.com/assets/colab-badge.svg\" alt=\"Open In Colab\"/></a>"
      ]
    },
    {
      "cell_type": "markdown",
      "source": [
        "# Функционално програмиране с Python\n",
        "План на лекцията:\n",
        "- Immutability & side-effects\n",
        "- Функции като обекти\n",
        "- Анонимни (lambda) функции\n",
        "- Map\n",
        "- Filter\n",
        "- Reduce\n",
        "- Generators\n",
        "- List comprehension\n",
        "- Примери\n",
        "- Задачи"
      ],
      "metadata": {
        "collapsed": false,
        "pycharm": {
          "name": "#%% md\n"
        },
        "id": "xGnJO5kKpFgT"
      }
    },
    {
      "cell_type": "markdown",
      "source": [
        "## Immutability & side-effects"
      ],
      "metadata": {
        "collapsed": false,
        "pycharm": {
          "name": "#%% md\n"
        },
        "id": "kYufvX6mpFga"
      }
    },
    {
      "cell_type": "markdown",
      "source": [
        "## Функции, като обекти\n"
      ],
      "metadata": {
        "collapsed": false,
        "pycharm": {
          "name": "#%% md\n"
        },
        "id": "O30koGZqpFgd"
      }
    },
    {
      "cell_type": "markdown",
      "source": [
        "## Map\n",
        "\n",
        "Map е специална функция, която има една-единствена цел - да приложи друга функция към дадена колекция. Нека е даден списък с числа и функция, която приема число, и го умножава по 2."
      ],
      "metadata": {
        "collapsed": false,
        "pycharm": {
          "name": "#%% md\n"
        },
        "id": "lPh3qYJPpFgf"
      }
    },
    {
      "cell_type": "code",
      "execution_count": 6,
      "outputs": [],
      "source": [
        "numbers = [2, 7, 3, 9, -1, 12]\n",
        "\n",
        "def multiply(number: int) -> int:\n",
        "    return number * 2"
      ],
      "metadata": {
        "pycharm": {
          "name": "#%%\n"
        },
        "id": "3Dol_OA7pFgh"
      }
    },
    {
      "cell_type": "markdown",
      "source": [
        "Ако трябва сами да разпишем map функцията, тя би изглеждала по следния начин:"
      ],
      "metadata": {
        "collapsed": false,
        "pycharm": {
          "name": "#%% md\n"
        },
        "id": "O4RQXl0UpFgj"
      }
    },
    {
      "cell_type": "code",
      "execution_count": 7,
      "outputs": [],
      "source": [
        "from typing import Callable, List\n",
        "def my_map(f: Callable, collection: List[any]) -> List[any]:\n",
        "    result = []\n",
        "\n",
        "    for item in collection:\n",
        "        result.append(f(item))\n",
        "    \n",
        "    return result"
      ],
      "metadata": {
        "pycharm": {
          "name": "#%%\n"
        },
        "id": "SwoW_4vHpFgk"
      }
    },
    {
      "cell_type": "markdown",
      "source": [
        "Нека извикаме нашата map функция, с дефинираните по-горе числа и функция, която да бъде приложена"
      ],
      "metadata": {
        "id": "6Ta41S2XpoO5"
      }
    },
    {
      "cell_type": "code",
      "source": [
        "print(my_map(multiply, numbers))"
      ],
      "metadata": {
        "colab": {
          "base_uri": "https://localhost:8080/"
        },
        "id": "6Be1d2k7pNCp",
        "outputId": "685772f9-791f-4fa3-8cf4-eaf4f848eb0e"
      },
      "execution_count": 8,
      "outputs": [
        {
          "output_type": "stream",
          "name": "stdout",
          "text": [
            "[4, 14, 6, 18, -2, 24]\n"
          ]
        }
      ]
    },
    {
      "cell_type": "markdown",
      "source": [
        "Можем да подадем и функция, която променя типа на обектите - нека разгледаме функция, която приема цяло число от 1 до 7 и връща съответния ден от седмицата (1 - Понеделник, 2 - Вторник, т.н.)"
      ],
      "metadata": {
        "id": "HJyDM8WSqX0c"
      }
    },
    {
      "cell_type": "code",
      "source": [
        "def number_to_day(number: int) -> str:\n",
        "    days = [\"Monday\", \"Tuesday\", \"Wednesday\", \"Thursday\", \"Friday\", \"Saturday\", \"Sunday\"]\n",
        "    return days[number - 1]\n",
        "\n",
        "days = [2, 3, 1, 4, 6]\n",
        "\n",
        "print(my_map(number_to_day, days))"
      ],
      "metadata": {
        "colab": {
          "base_uri": "https://localhost:8080/"
        },
        "id": "2CcoHEAcqnum",
        "outputId": "1b8b13f0-1ab9-4a34-f938-7531565c501c"
      },
      "execution_count": 9,
      "outputs": [
        {
          "output_type": "stream",
          "name": "stdout",
          "text": [
            "['Tuesday', 'Wednesday', 'Monday', 'Thursday', 'Saturday']\n"
          ]
        }
      ]
    }
  ],
  "metadata": {
    "kernelspec": {
      "display_name": "Python 3",
      "language": "python",
      "name": "python3"
    },
    "language_info": {
      "codemirror_mode": {
        "name": "ipython",
        "version": 2
      },
      "file_extension": ".py",
      "mimetype": "text/x-python",
      "name": "python",
      "nbconvert_exporter": "python",
      "pygments_lexer": "ipython2",
      "version": "2.7.6"
    },
    "colab": {
      "name": "05 - Functional Programming.ipynb",
      "provenance": [],
      "collapsed_sections": [],
      "include_colab_link": true
    }
  },
  "nbformat": 4,
  "nbformat_minor": 0
}