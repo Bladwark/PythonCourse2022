{
  "cells": [
    {
      "cell_type": "markdown",
      "metadata": {
        "id": "view-in-github",
        "colab_type": "text"
      },
      "source": [
        "<a href=\"https://colab.research.google.com/github/lyubolp/PythonCourse2022/blob/functional_05/05%20-%20Functional%20Programming/05%20-%20Functional%20Programming.ipynb\" target=\"_parent\"><img src=\"https://colab.research.google.com/assets/colab-badge.svg\" alt=\"Open In Colab\"/></a>"
      ]
    },
    {
      "cell_type": "markdown",
      "source": [
        "# Функционално програмиране с Python\n",
        "План на лекцията:\n",
        "- [ ] Immutability & side-effects\n",
        "- [ ] Функции като обекти\n",
        "- [ ] Анонимни (lambda) функции\n",
        "- [ ] Lazy evaluation\n",
        "- [ ] Generators (Не забравяй за `range`)\n",
        "- [X] Map\n",
        "- [X] Filter\n",
        "- [X] Reduce\n",
        "- [X] Zip\n",
        "- [X] List comprehension\n",
        "- [X] Скорост\n",
        "- [ ] Декоратори\n",
        "- [ ] Примери\n",
        "- [ ] Задачи"
      ],
      "metadata": {
        "collapsed": false,
        "pycharm": {
          "name": "#%% md\n"
        },
        "id": "xGnJO5kKpFgT"
      }
    },
    {
      "cell_type": "markdown",
      "source": [
        "## Immutability & side-effects"
      ],
      "metadata": {
        "collapsed": false,
        "pycharm": {
          "name": "#%% md\n"
        },
        "id": "kYufvX6mpFga"
      }
    },
    {
      "cell_type": "markdown",
      "source": [
        "## Функции, като обекти\n"
      ],
      "metadata": {
        "collapsed": false,
        "pycharm": {
          "name": "#%% md\n"
        },
        "id": "O30koGZqpFgd"
      }
    },
    {
      "cell_type": "markdown",
      "source": [
        "## Анонимни (lambda) функци"
      ],
      "metadata": {
        "id": "eHB4eyy0C0uX"
      }
    },
    {
      "cell_type": "markdown",
      "source": [
        "## Lazy evaluation"
      ],
      "metadata": {
        "id": "gkVl1LVhC3mE"
      }
    },
    {
      "cell_type": "markdown",
      "source": [
        "## Generators"
      ],
      "metadata": {
        "id": "9bZnjogKC55J"
      }
    },
    {
      "cell_type": "markdown",
      "source": [
        "## Map\n",
        "\n",
        "Map е специална функция, която има една-единствена цел - да приложи друга функция към дадена колекция. Нека е даден списък с числа и функция, която приема число, и го умножава по 2."
      ],
      "metadata": {
        "collapsed": false,
        "pycharm": {
          "name": "#%% md\n"
        },
        "id": "lPh3qYJPpFgf"
      }
    },
    {
      "cell_type": "code",
      "execution_count": null,
      "outputs": [],
      "source": [
        "numbers = [2, 7, 3, 9, -1, 12]\n",
        "\n",
        "def multiply(number):\n",
        "    return number * 2"
      ],
      "metadata": {
        "pycharm": {
          "name": "#%%\n"
        },
        "id": "3Dol_OA7pFgh"
      }
    },
    {
      "cell_type": "markdown",
      "source": [
        "Ако трябва сами да разпишем map функцията, тя би изглеждала по следния начин:"
      ],
      "metadata": {
        "collapsed": false,
        "pycharm": {
          "name": "#%% md\n"
        },
        "id": "O4RQXl0UpFgj"
      }
    },
    {
      "cell_type": "code",
      "execution_count": null,
      "outputs": [],
      "source": [
        "def my_map(map_function, collection):\n",
        "    result = []\n",
        "\n",
        "    for item in collection:\n",
        "        result.append(map_function(item))\n",
        "    \n",
        "    return result"
      ],
      "metadata": {
        "pycharm": {
          "name": "#%%\n"
        },
        "id": "SwoW_4vHpFgk"
      }
    },
    {
      "cell_type": "markdown",
      "source": [
        "Нека извикаме нашата map функция, с дефинираните по-горе числа и функция, която да бъде приложена"
      ],
      "metadata": {
        "id": "6Ta41S2XpoO5"
      }
    },
    {
      "cell_type": "code",
      "source": [
        "print(f'Squared numbers: {my_map(multiply, numbers)}')"
      ],
      "metadata": {
        "colab": {
          "base_uri": "https://localhost:8080/"
        },
        "id": "6Be1d2k7pNCp",
        "outputId": "62122716-6417-42f9-bc1d-2528617d73d6"
      },
      "execution_count": null,
      "outputs": [
        {
          "output_type": "stream",
          "name": "stdout",
          "text": [
            "[4, 14, 6, 18, -2, 24]\n"
          ]
        }
      ]
    },
    {
      "cell_type": "markdown",
      "source": [
        "Можем да подадем и функция, която променя типа на обектите - нека разгледаме функция, която приема цяло число от 1 до 7 и връща съответния ден от седмицата (1 - Понеделник, 2 - Вторник, т.н.)"
      ],
      "metadata": {
        "id": "HJyDM8WSqX0c"
      }
    },
    {
      "cell_type": "code",
      "source": [
        "def number_to_day(number):\n",
        "    days = [\"Monday\", \"Tuesday\", \"Wednesday\", \"Thursday\", \"Friday\", \"Saturday\", \"Sunday\"]\n",
        "    return days[number - 1]\n",
        "\n",
        "days = [2, 3, 1, 4, 6]\n",
        "\n",
        "print(f'Days of the week: {my_map(number_to_day, days)}')"
      ],
      "metadata": {
        "colab": {
          "base_uri": "https://localhost:8080/"
        },
        "id": "2CcoHEAcqnum",
        "outputId": "9ff92603-4e40-419b-f99b-99f1f6d61f85"
      },
      "execution_count": null,
      "outputs": [
        {
          "output_type": "stream",
          "name": "stdout",
          "text": [
            "['Tuesday', 'Wednesday', 'Monday', 'Thursday', 'Saturday']\n"
          ]
        }
      ]
    },
    {
      "cell_type": "markdown",
      "source": [
        "Нека сега разгледаме и вградена функция `map` в Python - тя приема като първи аргумент функцията, която ще бъде приложена, а като втори - колекцията, върху която да се приложи."
      ],
      "metadata": {
        "id": "DNAEFcdfWSk3"
      }
    },
    {
      "cell_type": "code",
      "source": [
        "numbers = [1, 2, 3, 4]\n",
        "\n",
        "def square(number):\n",
        "    return number ** 2\n",
        "\n",
        "print(f'Appyling map directly returns: {map(square, numbers)}')"
      ],
      "metadata": {
        "colab": {
          "base_uri": "https://localhost:8080/"
        },
        "id": "RdjOAvkeWSNY",
        "outputId": "1d39aa31-03e6-42bd-85f7-0d53f1a85cdd"
      },
      "execution_count": null,
      "outputs": [
        {
          "output_type": "stream",
          "name": "stdout",
          "text": [
            "<map object at 0x7fd5d35ffb10>\n"
          ]
        }
      ]
    },
    {
      "cell_type": "markdown",
      "source": [
        "Важно е да се отбележи, че резултатът от map функцията е `map` обект - или поне така изглежда. Всъщност това, което се връща е генератор, който ни дава новите стойности. Съвсем лесно можем да превърнем този генератор в списък, с едно просто извикване на `list()` функцията.\n"
      ],
      "metadata": {
        "id": "1CszaEFMZnTX"
      }
    },
    {
      "cell_type": "code",
      "source": [
        "numbers = [1, 2, 3, 4]\n",
        "\n",
        "def square(number):\n",
        "    return number ** 2\n",
        "\n",
        "print(f'Converting the map object into a list: {list(map(square, numbers))}')"
      ],
      "metadata": {
        "colab": {
          "base_uri": "https://localhost:8080/"
        },
        "id": "WCDkCuSTTCFL",
        "outputId": "05b714cf-d82e-49b8-ff76-5b31a48f693d"
      },
      "execution_count": null,
      "outputs": [
        {
          "output_type": "stream",
          "name": "stdout",
          "text": [
            "[1, 4, 9, 16]\n"
          ]
        }
      ]
    },
    {
      "cell_type": "markdown",
      "source": [
        "Освен да подаваме нормална функция, можем да използваме и `lambda`."
      ],
      "metadata": {
        "id": "YsHjf-xYTeTu"
      }
    },
    {
      "cell_type": "code",
      "source": [
        "numbers = [1, 2, 3, 4]\n",
        "\n",
        "mapped_numbers = map(lambda number: number ** 2, numbers)\n",
        "result = list(mapped_numbers)\n",
        "\n",
        "print(result)"
      ],
      "metadata": {
        "colab": {
          "base_uri": "https://localhost:8080/"
        },
        "id": "WACHF-IITlr_",
        "outputId": "bcf974d8-6b70-43d5-d090-828a4f12b8e0"
      },
      "execution_count": null,
      "outputs": [
        {
          "output_type": "stream",
          "name": "stdout",
          "text": [
            "[1, 4, 9, 16]\n"
          ]
        }
      ]
    },
    {
      "cell_type": "markdown",
      "source": [
        "Нека усложим нещата - ако се върнем на първоначалната ни дефиниция за `map` (Функция, която прилага друга функция върху колекция), си задаваме въпроса - какво става, ако имаме повече от една колекция, върху която искаме да приложим функция ? Възможно ли е въобще ? \n",
        "\n",
        "Отговора е да - `map` приема една или повече колекции. Единствената особенност е, че функцията която подаваме трябва да може да приеме повече от един аргумент. На по-прост език - ако подадем два списъка на `map`, функцията която ще се приложи върху тях трябва да приема два аргумента."
      ],
      "metadata": {
        "id": "VaA7b3_RTzp-"
      }
    },
    {
      "cell_type": "code",
      "source": [
        "first_numbers = [1, 2, 3, 4]\n",
        "second_numbers = [5, 6, 7, 8]\n",
        "\n",
        "def multiply(a, b):\n",
        "    return a * b\n",
        "\n",
        "print(list(map(multiply, first_numbers, second_numbers)))"
      ],
      "metadata": {
        "colab": {
          "base_uri": "https://localhost:8080/"
        },
        "id": "u4peYrvxULBq",
        "outputId": "3659e0f8-3969-49e7-ba0f-afdc2304f912"
      },
      "execution_count": null,
      "outputs": [
        {
          "output_type": "stream",
          "name": "stdout",
          "text": [
            "[5, 12, 21, 32]\n"
          ]
        }
      ]
    },
    {
      "cell_type": "markdown",
      "source": [
        "Важно е да се отбележи, че резултата от `map` операция винаги е **една** поредица от обекти - дори и да приемем 10 колекции, винаги на изхода ще имаме една. \n",
        "\n",
        "**Въпрос:** Как може да \"измамим\" системата, и да върнем повече от една колекция ?"
      ],
      "metadata": {
        "id": "mpij1VPbWQyW"
      }
    },
    {
      "cell_type": "markdown",
      "source": [
        "### Отговор"
      ],
      "metadata": {
        "id": "yIVTK-AEYJLZ"
      }
    },
    {
      "cell_type": "markdown",
      "source": [
        "Няма как да върнем повече от една колекция - това което можем да направим, е да върнем колекция, която съдържа наредени n-торки (tuples)."
      ],
      "metadata": {
        "id": "hnXPTxPYXym_"
      }
    },
    {
      "cell_type": "code",
      "source": [
        "first_numbers = [1, 2, 3, 4]\n",
        "second_numbers = [5, 6, 7, 8]\n",
        "\n",
        "def return_as_tuple(a, b):\n",
        "    return a, b\n",
        "\n",
        "print(list(map(return_as_tuple, first_numbers, second_numbers)))"
      ],
      "metadata": {
        "colab": {
          "base_uri": "https://localhost:8080/"
        },
        "id": "-07cxylmWQDR",
        "outputId": "c1ca2c1e-a513-40cb-80f9-495f5cb83271"
      },
      "execution_count": null,
      "outputs": [
        {
          "output_type": "stream",
          "name": "stdout",
          "text": [
            "[(1, 5), (2, 6), (3, 7), (4, 8)]\n"
          ]
        }
      ]
    },
    {
      "cell_type": "markdown",
      "source": [
        "## Filter\n",
        "Както името подсказва, `filter` е функция която филтрира елементи, отговарящи на даден критерии."
      ],
      "metadata": {
        "id": "h66DrhvJzi_U"
      }
    },
    {
      "cell_type": "markdown",
      "source": [
        "Нека отново имаме някакви числа, и функция която връща дали дадено число е четно или не."
      ],
      "metadata": {
        "id": "RyxGpugZ0OV0"
      }
    },
    {
      "cell_type": "code",
      "source": [
        "numbers = [2, 7, 11, 12]\n",
        "\n",
        "def is_even(number):\n",
        "    return number % 2 == 0"
      ],
      "metadata": {
        "id": "bc0DLwRQ0T03"
      },
      "execution_count": null,
      "outputs": []
    },
    {
      "cell_type": "markdown",
      "source": [
        "Ако трябва сами да разпишем функцията, тя би изглеждала по следния начин:"
      ],
      "metadata": {
        "id": "uv3m8HYvz5bi"
      }
    },
    {
      "cell_type": "code",
      "source": [
        "def my_filter(filter_fn, collection):\n",
        "    result = []\n",
        "    for item in collection:\n",
        "        if filter_fn(item):\n",
        "            result.append(item)\n",
        "    \n",
        "    return result"
      ],
      "metadata": {
        "id": "hc-taeVDz-yk"
      },
      "execution_count": null,
      "outputs": []
    },
    {
      "cell_type": "code",
      "source": [
        "print(my_filter(is_even, numbers))"
      ],
      "metadata": {
        "colab": {
          "base_uri": "https://localhost:8080/"
        },
        "id": "X5m69UgV1GPn",
        "outputId": "62ff7e34-3c02-4728-bf52-c2bb1fc500bf"
      },
      "execution_count": null,
      "outputs": [
        {
          "output_type": "stream",
          "name": "stdout",
          "text": [
            "[2, 12]\n"
          ]
        }
      ]
    },
    {
      "cell_type": "markdown",
      "source": [
        "Извикването на вградената функция `filter` изглежда по следния начин"
      ],
      "metadata": {
        "id": "5qWgvODw2NIU"
      }
    },
    {
      "cell_type": "code",
      "source": [
        "print(filter(is_even, numbers))"
      ],
      "metadata": {
        "colab": {
          "base_uri": "https://localhost:8080/"
        },
        "id": "-VYLdnKN2R39",
        "outputId": "58bfb242-2dbf-4d70-a156-d27d40d18893"
      },
      "execution_count": null,
      "outputs": [
        {
          "output_type": "stream",
          "name": "stdout",
          "text": [
            "<filter object at 0x7ff92bc03450>\n"
          ]
        }
      ]
    },
    {
      "cell_type": "markdown",
      "source": [
        "Както `map`, така и `filter` връщат генератор обекти - с едно извикване на `list` можем да превърнем резултата в списък"
      ],
      "metadata": {
        "id": "9O_Nett62jda"
      }
    },
    {
      "cell_type": "code",
      "source": [
        "print(list(filter(is_even, numbers)))"
      ],
      "metadata": {
        "colab": {
          "base_uri": "https://localhost:8080/"
        },
        "id": "44fycL4v2qJW",
        "outputId": "99ad70a3-ba06-4475-8cfb-448b79cbfaf5"
      },
      "execution_count": null,
      "outputs": [
        {
          "output_type": "stream",
          "name": "stdout",
          "text": [
            "[2, 12]\n"
          ]
        }
      ]
    },
    {
      "cell_type": "markdown",
      "source": [
        "Може и с `lambda`"
      ],
      "metadata": {
        "id": "Px7t6Gbi2y5x"
      }
    },
    {
      "cell_type": "code",
      "source": [
        "print(list(filter(lambda number: number % 2 == 0, numbers)))"
      ],
      "metadata": {
        "colab": {
          "base_uri": "https://localhost:8080/"
        },
        "id": "s2PRAAEa20Wp",
        "outputId": "af80eb32-da5b-4a66-e55d-094a3c3db788"
      },
      "execution_count": null,
      "outputs": [
        {
          "output_type": "stream",
          "name": "stdout",
          "text": [
            "[2, 12]\n"
          ]
        }
      ]
    },
    {
      "cell_type": "markdown",
      "source": [
        "## Reduce"
      ],
      "metadata": {
        "id": "sqXhZ0VjTt3n"
      }
    },
    {
      "cell_type": "markdown",
      "source": [
        "Тук нещата стават една идея по-сложни. Нека започнем с един пример: трябва да намерим произведението на всички числа в даден списък.\n",
        "\n",
        "Нека за момент се абстрахираме от програмирането - как бихме намерили произведението на числа 3, 5 и 8 ? Първо бихме умножили 3 и 5, което прави 15. След това, получения резултат от предишната операция (в нашия случай 15) и ще го умножим с 8.\n",
        "\n",
        "Тази процедура може да бъде използвана за списъци с произволен брой числа - всяко следващо число бива умножено с резултата до момента.\n",
        "\n",
        "Ако трябва да представим тази идея с код, тя би изглеждала по следния начин:"
      ],
      "metadata": {
        "id": "3hxXe8xBHK2C"
      }
    },
    {
      "cell_type": "code",
      "source": [
        "def get_product_of_all_nums(nums):\n",
        "    result = nums[0]\n",
        "\n",
        "    for num in nums[1:]:\n",
        "        result = result * num\n",
        "    \n",
        "    return result"
      ],
      "metadata": {
        "id": "s9z4rwwAJ30E"
      },
      "execution_count": null,
      "outputs": []
    },
    {
      "cell_type": "code",
      "source": [
        "numbers = [3, 5, 8]\n",
        "print(get_product_of_all_nums(numbers))"
      ],
      "metadata": {
        "colab": {
          "base_uri": "https://localhost:8080/"
        },
        "id": "r-UzBcuSNXSj",
        "outputId": "1dfe170f-6d62-4715-9710-bcc9c9493dca"
      },
      "execution_count": null,
      "outputs": [
        {
          "output_type": "stream",
          "name": "stdout",
          "text": [
            "120\n"
          ]
        }
      ]
    },
    {
      "cell_type": "markdown",
      "source": [
        "Нека генерализираме нашата функция - вместо умножение, тя да може да работи с подадена функция, приемаща два аргумента - резултата до момента и текущото число"
      ],
      "metadata": {
        "id": "5eEwlbKTN2qc"
      }
    },
    {
      "cell_type": "code",
      "source": [
        "def my_reduce(function, collection):\n",
        "    result = collection[0]\n",
        "\n",
        "    for item in collection[1:]:\n",
        "        result = function(result, item)\n",
        "    \n",
        "    return result"
      ],
      "metadata": {
        "id": "Aj_TGwF7OEbO"
      },
      "execution_count": null,
      "outputs": []
    },
    {
      "cell_type": "code",
      "source": [
        "numbers = [3, 5, 8]\n",
        "def multiply(result_so_far, current_number):\n",
        "    return result_so_far * current_number\n",
        "\n",
        "print(my_reduce(multiply, numbers))"
      ],
      "metadata": {
        "colab": {
          "base_uri": "https://localhost:8080/"
        },
        "id": "GOAzsrEyOcV9",
        "outputId": "511bce67-cb8a-460c-ad55-65a87cd84913"
      },
      "execution_count": null,
      "outputs": [
        {
          "output_type": "stream",
          "name": "stdout",
          "text": [
            "120\n"
          ]
        }
      ]
    },
    {
      "cell_type": "markdown",
      "source": [
        "Една оптимизация, която можем да направим е следната - вместо за начало да взимаме първия елемент от колекцията, може да приемаме началната стойност като аргумент на функцията"
      ],
      "metadata": {
        "id": "zh_Yc4mCOr21"
      }
    },
    {
      "cell_type": "code",
      "source": [
        "def my_reduce_with_start(function, collection, start):\n",
        "    result = start\n",
        "\n",
        "    for item in collection:\n",
        "        result = function(result, item)\n",
        "    \n",
        "    return result"
      ],
      "metadata": {
        "id": "btgU6oqxO0xn"
      },
      "execution_count": null,
      "outputs": []
    },
    {
      "cell_type": "code",
      "source": [
        "numbers = [3, 5, 8]\n",
        "def multiply(result_so_far, current_number):\n",
        "    return result_so_far * current_number\n",
        "\n",
        "print(my_reduce_with_start(multiply, numbers, 1))"
      ],
      "metadata": {
        "colab": {
          "base_uri": "https://localhost:8080/"
        },
        "id": "zJW_47dcO4NF",
        "outputId": "f887213c-acdc-450c-a6e8-50ebcea174f0"
      },
      "execution_count": null,
      "outputs": [
        {
          "output_type": "stream",
          "name": "stdout",
          "text": [
            "120\n"
          ]
        }
      ]
    },
    {
      "cell_type": "markdown",
      "source": [
        "Ето че стигнахме и до `reduce` - функция, която приема функция и колекция. Функцията бива приложена върху резултата, който имаме до момента и всеки елемент от колекцията.\n",
        "Важно е да уточним терминологията тук - в някои езици може да срещенете тази функция като `accumulate`, `fold` или пък `foldl`.\n",
        "\n",
        "Тук е важно да спомена за наличието на т.нар \"ляв\" и \"десен\" `reduce`. В други функционални езици (като Haskell), имаме концепцията за ляв и десен `fold` - в каква посока се изпълнява функцията - отляво надясно или отдясно наляво. За някои операции (например умножение) реда на изпълнение няма значение, но например при деление би имало значение дали започваме от ляво или от дясно. Повече информация за fold функцията в другите езици, може да намерите [тук](https://www.wikiwand.com/en/Fold_(higher-order_function)). "
      ],
      "metadata": {
        "id": "3yKqd5GiO-4b"
      }
    },
    {
      "cell_type": "markdown",
      "source": [
        "Вградената функция reduce в Python се намира в библиотеката `functools`. За да я използваме, първо трябва да я заредим (`import`)"
      ],
      "metadata": {
        "id": "cWgQ-b6rgPBs"
      }
    },
    {
      "cell_type": "code",
      "source": [
        "from functools import reduce\n",
        "\n",
        "numbers = [3, 5, 8]\n",
        "\n",
        "def multiply(result_so_far, current_number):\n",
        "    return result_so_far * current_number\n",
        "\n",
        "print(reduce(multiply, numbers, 1))"
      ],
      "metadata": {
        "colab": {
          "base_uri": "https://localhost:8080/"
        },
        "id": "E0OsOOpofqWV",
        "outputId": "f1ce8e1d-61de-4133-a603-d2bb40c7fe07"
      },
      "execution_count": null,
      "outputs": [
        {
          "output_type": "stream",
          "name": "stdout",
          "text": [
            "120\n"
          ]
        }
      ]
    },
    {
      "cell_type": "markdown",
      "source": [
        "Както може би сте се досетили, тук не получаваме генератор - резултатът от `reduce` е една стойност (в нашия случай това е число).\n",
        "\n",
        "`reduce`, също както `map` и `filter` работи и с `lambda` функции. Тук е добро място да се отбележи, че първия аргумент, който бива подаден на функцията е стойността до момента (или стойността, която се е **акумулирала** (**accumulate**). "
      ],
      "metadata": {
        "id": "WjRPbjw_gqjM"
      }
    },
    {
      "cell_type": "code",
      "source": [
        "numbers = [3, 5, 8]\n",
        "\n",
        "print(reduce(lambda acc, number: acc * number, numbers))"
      ],
      "metadata": {
        "colab": {
          "base_uri": "https://localhost:8080/"
        },
        "id": "iDUnY5Ikg1nA",
        "outputId": "c4b4a2ce-7436-4004-ed59-c5ba8d779346"
      },
      "execution_count": null,
      "outputs": [
        {
          "output_type": "stream",
          "name": "stdout",
          "text": [
            "120\n"
          ]
        }
      ]
    },
    {
      "cell_type": "markdown",
      "source": [
        "А можем и да подадем начална стойност:"
      ],
      "metadata": {
        "id": "Y0kpWGxPrm1B"
      }
    },
    {
      "cell_type": "code",
      "source": [
        "numbers = [3, 5, 8]\n",
        "print(reduce(lambda acc, number: acc * number, numbers, 1))\n",
        "print(reduce(lambda acc, number: acc * number, numbers, 2))"
      ],
      "metadata": {
        "colab": {
          "base_uri": "https://localhost:8080/"
        },
        "id": "l1W8u5RrrpyN",
        "outputId": "75c1e431-925f-4d60-e361-17e540f3e5c0"
      },
      "execution_count": null,
      "outputs": [
        {
          "output_type": "stream",
          "name": "stdout",
          "text": [
            "120\n",
            "240\n"
          ]
        }
      ]
    },
    {
      "cell_type": "markdown",
      "source": [
        "А сега един по-сложен пример: Нека имаме списък, чийто елементи са списъци с числа. С помощта на `reduce`, подходяща функция и подходяща начална стойност, бихме могли да получим един списък, който съдържа числата, без те да са в отделни списъци."
      ],
      "metadata": {
        "id": "YVMFH9kZsOkV"
      }
    },
    {
      "cell_type": "code",
      "source": [
        "numbers_2d = [[1, 2, 3], [4, 5, 6], [7, 8, 9, 10]]\n",
        "\n",
        "print(reduce(lambda acc, item: acc + item, numbers_2d, []))"
      ],
      "metadata": {
        "colab": {
          "base_uri": "https://localhost:8080/"
        },
        "id": "QQn2gsO-snB-",
        "outputId": "757c36ac-51ef-4243-e92f-c4644278fc66"
      },
      "execution_count": null,
      "outputs": [
        {
          "output_type": "stream",
          "name": "stdout",
          "text": [
            "[1, 2, 3, 4, 5, 6, 7, 8, 9, 10]\n"
          ]
        }
      ]
    },
    {
      "cell_type": "markdown",
      "source": [
        "Припомням, че операция събиране (`+`) приложена върху два списъка ни връща конкатенацията на двата списъка. \n",
        "\n",
        "В горната операция, ние взехме един списък, и го \"изравнихме\" (flatten). Операцията \"flatten\" върху списъци е често срещата в езиците за функционално програмиране, макар и в Python да нямаме готова функция за това. "
      ],
      "metadata": {
        "id": "0S1DKM_ps2jd"
      }
    },
    {
      "cell_type": "code",
      "source": [
        ""
      ],
      "metadata": {
        "id": "e3T2-PqNs_Yy"
      },
      "execution_count": null,
      "outputs": []
    },
    {
      "cell_type": "markdown",
      "source": [
        "## Zip"
      ],
      "metadata": {
        "id": "ZPJ5LXnptyEh"
      }
    },
    {
      "cell_type": "markdown",
      "source": [
        "Нека се върнем за кратко към примера за използването на `map`, при който от два списъка, ние направихме един, който съдържаше елементите на двата, групирани по позицията им:"
      ],
      "metadata": {
        "id": "bEz_G7lXt05j"
      }
    },
    {
      "cell_type": "code",
      "source": [
        "first_numbers = [1, 2, 3, 4]\n",
        "second_numbers = [5, 6, 7, 8]\n",
        "\n",
        "def return_as_tuple(a, b):\n",
        "    return a, b\n",
        "\n",
        "print(list(map(return_as_tuple, first_numbers, second_numbers)))"
      ],
      "metadata": {
        "colab": {
          "base_uri": "https://localhost:8080/"
        },
        "id": "dNGwI1wmzisP",
        "outputId": "201d87bf-36de-4601-a3f3-dadcd6065f5e"
      },
      "execution_count": null,
      "outputs": [
        {
          "output_type": "stream",
          "name": "stdout",
          "text": [
            "[(1, 5), (2, 6), (3, 7), (4, 8)]\n"
          ]
        }
      ]
    },
    {
      "cell_type": "markdown",
      "source": [
        "В Python има готова функция, която прави това обединение за нас - `zip`"
      ],
      "metadata": {
        "id": "4Shx9XEZzuU_"
      }
    },
    {
      "cell_type": "code",
      "source": [
        "first_numbers = [1, 2, 3, 4]\n",
        "second_numbers = [5, 6, 7, 8]\n",
        "\n",
        "print(zip(first_numbers, second_numbers))\n",
        "print(list(zip(first_numbers, second_numbers)))"
      ],
      "metadata": {
        "colab": {
          "base_uri": "https://localhost:8080/"
        },
        "id": "zJEUVGBc5fNv",
        "outputId": "190b1824-dca2-4836-acb3-abf1a6a81951"
      },
      "execution_count": null,
      "outputs": [
        {
          "output_type": "stream",
          "name": "stdout",
          "text": [
            "<zip object at 0x7fb7250d3320>\n",
            "[(1, 5), (2, 6), (3, 7), (4, 8)]\n"
          ]
        }
      ]
    },
    {
      "cell_type": "markdown",
      "source": [
        "Не е нужно списъците да са от еднакви типове елементи."
      ],
      "metadata": {
        "id": "g5IHInrO5qUY"
      }
    },
    {
      "cell_type": "code",
      "source": [
        "names = ['Иван', 'Любо', 'Алекс']\n",
        "favorite_number = [3, 20, 7]\n",
        "\n",
        "print(list(zip(names, favorite_number)))"
      ],
      "metadata": {
        "colab": {
          "base_uri": "https://localhost:8080/"
        },
        "id": "Zrhemegr5w2b",
        "outputId": "709329e8-c18c-4b9a-f2ac-dc5ac9f0f82d"
      },
      "execution_count": null,
      "outputs": [
        {
          "output_type": "stream",
          "name": "stdout",
          "text": [
            "[('Иван', 3), ('Любо', 20), ('Алекс', 7)]\n"
          ]
        }
      ]
    },
    {
      "cell_type": "markdown",
      "source": [
        "Ако единият списък е по-дълъг от другия, по-дългия списък ще бъде отрязан:"
      ],
      "metadata": {
        "id": "_ddnvIx36J-Y"
      }
    },
    {
      "cell_type": "code",
      "source": [
        "names = ['Иван', 'Любо', 'Алекс', 'Иво']\n",
        "favorite_number = [3, 20, 7]\n",
        "\n",
        "print(list(zip(names, favorite_number)))"
      ],
      "metadata": {
        "colab": {
          "base_uri": "https://localhost:8080/"
        },
        "id": "Jdi4-Bh86T4P",
        "outputId": "e9b4321f-2ce1-4dbc-8864-0a12524fdcfa"
      },
      "execution_count": null,
      "outputs": [
        {
          "output_type": "stream",
          "name": "stdout",
          "text": [
            "[('Иван', 3), ('Любо', 20), ('Алекс', 7)]\n"
          ]
        }
      ]
    },
    {
      "cell_type": "code",
      "source": [
        "names = ['Иван', 'Любо', 'Алекс']\n",
        "favorite_number = [3, 20, 7, -1]\n",
        "\n",
        "print(list(zip(names, favorite_number)))"
      ],
      "metadata": {
        "colab": {
          "base_uri": "https://localhost:8080/"
        },
        "id": "C4N8CVYh6XPo",
        "outputId": "ec01104b-fcf3-4206-82cd-2b8e960de567"
      },
      "execution_count": null,
      "outputs": [
        {
          "output_type": "stream",
          "name": "stdout",
          "text": [
            "[('Иван', 3), ('Любо', 20), ('Алекс', 7)]\n"
          ]
        }
      ]
    },
    {
      "cell_type": "markdown",
      "source": [
        "Или поне това е поведението по подразбиране. `zip` предлага още два метода на работа. С помощта на аргумента `strict=True`, ако подадените списъци са с различен размер, `zip` ще ни хвърли грешка (това е въведено в Python3.10). "
      ],
      "metadata": {
        "id": "-1urzDOj7-bF"
      }
    },
    {
      "cell_type": "code",
      "source": [
        "names = ['Иван', 'Любо', 'Алекс']\n",
        "favorite_number = [3, 20, 7, -1]\n",
        "\n",
        "zip(names, favorite_number, strict=True)"
      ],
      "metadata": {
        "colab": {
          "base_uri": "https://localhost:8080/",
          "height": 204
        },
        "id": "E6ns_0mK8MKR",
        "outputId": "56094cf0-c792-4af4-c6d2-5b98ad59e20b"
      },
      "execution_count": null,
      "outputs": [
        {
          "output_type": "error",
          "ename": "TypeError",
          "evalue": "ignored",
          "traceback": [
            "\u001b[0;31m---------------------------------------------------------------------------\u001b[0m",
            "\u001b[0;31mTypeError\u001b[0m                                 Traceback (most recent call last)",
            "\u001b[0;32m<ipython-input-11-acdcfbd62260>\u001b[0m in \u001b[0;36m<module>\u001b[0;34m()\u001b[0m\n\u001b[1;32m      2\u001b[0m \u001b[0mfavorite_number\u001b[0m \u001b[0;34m=\u001b[0m \u001b[0;34m[\u001b[0m\u001b[0;36m3\u001b[0m\u001b[0;34m,\u001b[0m \u001b[0;36m20\u001b[0m\u001b[0;34m,\u001b[0m \u001b[0;36m7\u001b[0m\u001b[0;34m,\u001b[0m \u001b[0;34m-\u001b[0m\u001b[0;36m1\u001b[0m\u001b[0;34m]\u001b[0m\u001b[0;34m\u001b[0m\u001b[0;34m\u001b[0m\u001b[0m\n\u001b[1;32m      3\u001b[0m \u001b[0;34m\u001b[0m\u001b[0m\n\u001b[0;32m----> 4\u001b[0;31m \u001b[0mzip\u001b[0m\u001b[0;34m(\u001b[0m\u001b[0mnames\u001b[0m\u001b[0;34m,\u001b[0m \u001b[0mfavorite_number\u001b[0m\u001b[0;34m,\u001b[0m \u001b[0mstrict\u001b[0m\u001b[0;34m=\u001b[0m\u001b[0;32mTrue\u001b[0m\u001b[0;34m)\u001b[0m\u001b[0;34m\u001b[0m\u001b[0;34m\u001b[0m\u001b[0m\n\u001b[0m",
            "\u001b[0;31mTypeError\u001b[0m: zip() takes no keyword arguments"
          ]
        }
      ]
    },
    {
      "cell_type": "markdown",
      "source": [
        "А ако искаме да добавим някакви \"празни\" стойности към по-късия списък, може да използваме "
      ],
      "metadata": {
        "id": "LvxFBRCT8495"
      }
    },
    {
      "cell_type": "code",
      "source": [
        "from itertools import zip_longest\n",
        "\n",
        "names = ['Иван', 'Любо', 'Алекс']\n",
        "favorite_number = [3, 20, 7, -1, -2]\n",
        "\n",
        "print(list(zip_longest(names, favorite_number, fillvalue='Dummy')))"
      ],
      "metadata": {
        "colab": {
          "base_uri": "https://localhost:8080/"
        },
        "id": "7V5Wb-td81Vf",
        "outputId": "458cbd5b-46d4-4117-eeb8-ced7603f2500"
      },
      "execution_count": null,
      "outputs": [
        {
          "output_type": "stream",
          "name": "stdout",
          "text": [
            "[('Иван', 3), ('Любо', 20), ('Алекс', 7), ('Dummy', -1), ('Dummy', -2)]\n"
          ]
        }
      ]
    },
    {
      "cell_type": "markdown",
      "source": [
        "Ако трябва да сме на 100% коректни, `zip` приема каквато и да е колекция:"
      ],
      "metadata": {
        "id": "udRYYe8g6ckD"
      }
    },
    {
      "cell_type": "code",
      "source": [
        "numbers = [1, 2, 3]\n",
        "letters = ['a', 'b', 'c']\n",
        "\n",
        "print(list(zip(map(lambda x: x ** 2, numbers), letters)))"
      ],
      "metadata": {
        "colab": {
          "base_uri": "https://localhost:8080/"
        },
        "id": "ZzYTuhQ46iJ-",
        "outputId": "d1524afd-39f1-4cc1-8874-a490febbd705"
      },
      "execution_count": null,
      "outputs": [
        {
          "output_type": "stream",
          "name": "stdout",
          "text": [
            "[(1, 'a'), (4, 'b'), (9, 'c')]\n"
          ]
        }
      ]
    },
    {
      "cell_type": "markdown",
      "source": [
        "Горният пример, малко по-културно разписан, изглежда по следния начин:"
      ],
      "metadata": {
        "id": "lPp4g-QY7AFZ"
      }
    },
    {
      "cell_type": "code",
      "source": [
        "numbers = [1, 2, 3]\n",
        "letters = ['a', 'b', 'c']\n",
        "\n",
        "squared_numbers = map(lambda x: x ** 2, numbers)\n",
        "zipped_together = zip(squared_numbers, letters)\n",
        "zipped_together_as_a_list = list(zipped_together)\n",
        "\n",
        "print(zipped_together_as_a_list)"
      ],
      "metadata": {
        "colab": {
          "base_uri": "https://localhost:8080/"
        },
        "id": "-MdoefTD7GHi",
        "outputId": "c1ca2605-6fcf-4964-9f6f-4e0db78514ca"
      },
      "execution_count": null,
      "outputs": [
        {
          "output_type": "stream",
          "name": "stdout",
          "text": [
            "[(1, 'a'), (4, 'b'), (9, 'c')]\n"
          ]
        }
      ]
    },
    {
      "cell_type": "markdown",
      "source": [
        "## List comprehension"
      ],
      "metadata": {
        "id": "3UMrn1_GC9TV"
      }
    },
    {
      "cell_type": "markdown",
      "source": [
        "В Python съществува функционалност, наречена \"list comprehension\". List comprehension е синтактична конструкция, която ни позволява да създаваме списъци на базата на други списъци. Синтактично, list comprehension следва математическата нотация за дефиниране на множество:\n",
        "\n",
        "$$ S = \\{x^2 \\mid x \\in [1;100] , x \\text{ is even}\\} $$\n",
        "\n",
        "Това математически заклинание ни дава цели числа, по-големи от 5, като върху тях е повдигнато на квадрат.\n",
        "\n",
        "Можем да изразим това в Python като използваме вече познатите ни `map` и `filter`:\n"
      ],
      "metadata": {
        "id": "fuy1NAg0smBA"
      }
    },
    {
      "cell_type": "code",
      "source": [
        "numbers = range(1, 101)\n",
        "\n",
        "even_numbers = filter(lambda x: x % 2 == 0, numbers)\n",
        "squared_numbers = map(lambda x: x ** 2, even_numbers)\n",
        "\n",
        "print(f'Squared even numbers: {list(squared_numbers)}')"
      ],
      "metadata": {
        "colab": {
          "base_uri": "https://localhost:8080/"
        },
        "id": "YwrygZ6wv8V8",
        "outputId": "e9f61fb3-8c47-44e4-ac1f-206e96f0dc6b"
      },
      "execution_count": 4,
      "outputs": [
        {
          "output_type": "stream",
          "name": "stdout",
          "text": [
            "Squared even numbers: [4, 16, 36, 64, 100, 144, 196, 256, 324, 400, 484, 576, 676, 784, 900, 1024, 1156, 1296, 1444, 1600, 1764, 1936, 2116, 2304, 2500, 2704, 2916, 3136, 3364, 3600, 3844, 4096, 4356, 4624, 4900, 5184, 5476, 5776, 6084, 6400, 6724, 7056, 7396, 7744, 8100, 8464, 8836, 9216, 9604, 10000]\n"
          ]
        }
      ]
    },
    {
      "cell_type": "markdown",
      "source": [
        "В общия случай, синтаксиса на list comprehension е следния: `[f(item) for item in collection if p(item)]` - т.е. кода по-горе би изглеждал по следния начин като list comprehension:"
      ],
      "metadata": {
        "id": "KscbZW_owmaj"
      }
    },
    {
      "cell_type": "code",
      "source": [
        "print(f'Squared even numbers: {[x ** 2 for x in range(1, 101) if x % 2 == 0]}')"
      ],
      "metadata": {
        "colab": {
          "base_uri": "https://localhost:8080/"
        },
        "id": "SvpZfh34w6f1",
        "outputId": "fe345a1d-c8fa-41a6-8b35-3e9b3cd6eb77"
      },
      "execution_count": 5,
      "outputs": [
        {
          "output_type": "stream",
          "name": "stdout",
          "text": [
            "Squared even numbers: [4, 16, 36, 64, 100, 144, 196, 256, 324, 400, 484, 576, 676, 784, 900, 1024, 1156, 1296, 1444, 1600, 1764, 1936, 2116, 2304, 2500, 2704, 2916, 3136, 3364, 3600, 3844, 4096, 4356, 4624, 4900, 5184, 5476, 5776, 6084, 6400, 6724, 7056, 7396, 7744, 8100, 8464, 8836, 9216, 9604, 10000]\n"
          ]
        }
      ]
    },
    {
      "cell_type": "markdown",
      "source": [
        "`if` часта или функцията, която се прилага върху всяка променливата могат да бъдат изпуснати:"
      ],
      "metadata": {
        "id": "6WIeBL5oxHnj"
      }
    },
    {
      "cell_type": "code",
      "source": [
        "numbers = [1, 2, 3]\n",
        "print(f'Odd numbers: {[number for number in numbers if number % 2 != 0]}')\n",
        "print(f'Multiplying all numbers by 2: {[number * 2 for number in numbers]}')"
      ],
      "metadata": {
        "colab": {
          "base_uri": "https://localhost:8080/"
        },
        "id": "pjyywkZbxSeE",
        "outputId": "27c82f4f-34f8-4aae-cfc1-346512983c58"
      },
      "execution_count": 7,
      "outputs": [
        {
          "output_type": "stream",
          "name": "stdout",
          "text": [
            "Odd numbers: [1, 3]\n",
            "Multiplying all numbers by 2: [2, 4, 6]\n"
          ]
        }
      ]
    },
    {
      "cell_type": "code",
      "source": [
        "def calculate_area_of_rectangle(a, b):\n",
        "    return a * b\n",
        "\n",
        "rectangles = [(1, 2), (5, 4), (3, 2.5), (-2, 3)]\n",
        "areas = [calculate_area_of_rectangle(x, y) for x, y in rectangles if x >= 0 and y >= 0]\n",
        "\n",
        "print(f'Areas of valid rectangles: {areas}')"
      ],
      "metadata": {
        "colab": {
          "base_uri": "https://localhost:8080/"
        },
        "id": "cLobXcm0yTJK",
        "outputId": "de79dfc1-84ce-4508-f922-de50970eb102"
      },
      "execution_count": 9,
      "outputs": [
        {
          "output_type": "stream",
          "name": "stdout",
          "text": [
            "Areas of valid rectangles: [2, 20, 7.5]\n"
          ]
        }
      ]
    },
    {
      "cell_type": "markdown",
      "source": [
        "Може би забелязвате, че когато функцията която изпълняваме не е външна, не използваме `lambda`, а директно пишем операцията която искаме да приложим - това е част от опростяването на синтаксиса на list comprehension-ите. "
      ],
      "metadata": {
        "id": "7egor06ByQ6F"
      }
    },
    {
      "cell_type": "markdown",
      "source": [
        "Нека имаме дадени числа - искаме да върнем списък, в който за всяко число да пише \"Yes\" ако се дели на 3 или 5 и \"No\" в противен случай. Това може да стане лесно, чрез използването на тернарния оператор в Python."
      ],
      "metadata": {
        "id": "TAIQ13l-zK2c"
      }
    },
    {
      "cell_type": "code",
      "source": [
        "numbers = [7, 12, 5, 6, 9, 15, 1, 11]\n",
        "\n",
        "results = [\"Yes\" if number % 3 == 0 or number % 5 == 0 else \"No\" for number in numbers]\n",
        "\n",
        "print(f'Results are: {results}')"
      ],
      "metadata": {
        "colab": {
          "base_uri": "https://localhost:8080/"
        },
        "id": "BZwrpsImzesG",
        "outputId": "f2f05f17-4af3-44fa-d7e1-64985cec43a2"
      },
      "execution_count": 10,
      "outputs": [
        {
          "output_type": "stream",
          "name": "stdout",
          "text": [
            "Results are: ['No', 'Yes', 'Yes', 'Yes', 'Yes', 'Yes', 'No', 'No']\n"
          ]
        }
      ]
    },
    {
      "cell_type": "markdown",
      "source": [
        "## Скорост"
      ],
      "metadata": {
        "id": "p1gXeK1VC_hj"
      }
    },
    {
      "cell_type": "markdown",
      "source": [
        "Едно от най-\"шокиращите\" неща в Python е скоростта, която получаваме при използването на обикновенни `for` цикли, `map` или list comprehension.\n",
        "\n",
        "За да демонстрираме разликата, ще създадем функция, която повдига число на квадрат, и ще я приложим върху списък от 40 000 000 числа."
      ],
      "metadata": {
        "id": "TP_Xktyy0GaH"
      }
    },
    {
      "cell_type": "code",
      "source": [
        "from time import time\n",
        "\n",
        "def power_up(a):\n",
        "    return a ** 2\n",
        "\n",
        "numbers = list(range(1, 40000000))\n",
        "\n",
        "for_loop_start = time()\n",
        "\n",
        "for_loop_result = []\n",
        "for number in numbers:\n",
        "    for_loop_result.append(power_up(number))\n",
        "\n",
        "for_loop_end = time()\n",
        "print(f'For-looping took {for_loop_end - for_loop_start:.2f} seconds')\n",
        "\n",
        "\n",
        "map_start = time()\n",
        "\n",
        "map_result = list(map(power_up, numbers))\n",
        "\n",
        "map_end = time()\n",
        "print(f'map() took {map_end - map_start:.2f} seconds')\n",
        "\n",
        "\n",
        "list_comprehension_start = time()\n",
        "\n",
        "list_comprehension_result = [power_up(x) for x in numbers]\n",
        "\n",
        "list_comprehension_end = time()\n",
        "print(f'List comprehension took {list_comprehension_end - list_comprehension_start:.2f} seconds')"
      ],
      "metadata": {
        "colab": {
          "base_uri": "https://localhost:8080/"
        },
        "id": "mfnNOi640c7h",
        "outputId": "b2e88fcb-d08a-4718-bfe4-41e839e18aa3"
      },
      "execution_count": 24,
      "outputs": [
        {
          "output_type": "stream",
          "name": "stdout",
          "text": [
            "For-looping took 21.92 seconds\n",
            "map() took 14.21 seconds\n",
            "List comprehension took 15.65 seconds\n"
          ]
        }
      ]
    },
    {
      "cell_type": "markdown",
      "source": [
        "Основната разлика във времето идва от факта, че `append()` операцията е бавна. `map` и list comprehension-ите използва хитрини при заделянето на паметта, затова може да се каже че са с около 30% по-бързи. Няма да се впускам повече в темата, за по-любопитните, [тук](https://web.archive.org/web/20190319205826/http://blog.cdleary.com/2010/04/efficiency-of-list-comprehensions/) нещата са обяснение в повече детайли."
      ],
      "metadata": {
        "id": "E5_wupc73MQm"
      }
    },
    {
      "cell_type": "markdown",
      "source": [
        "На въпросът, кой от трите подхода се използват, моят отговор е следния: list comprehension и `map` дават доста по-добро представяне спрямо `for` loop + `append`, затова и са за предпочитане. Синтаксисът на list comprehension-ите е по-прост спрямо този на `map` (особенно ако трябва и да филтрираме елементите), което води до това, че **list comprehension-ите са за предпочитане**."
      ],
      "metadata": {
        "id": "HDUtKjL53mtu"
      }
    },
    {
      "cell_type": "markdown",
      "source": [
        "## Декоратори"
      ],
      "metadata": {
        "id": "V0akTWPMDDTj"
      }
    },
    {
      "cell_type": "markdown",
      "source": [
        "## Примери"
      ],
      "metadata": {
        "id": "kvSV07HkDF9T"
      }
    },
    {
      "cell_type": "markdown",
      "source": [
        "## Задачи"
      ],
      "metadata": {
        "id": "P0UV3ryNDIU0"
      }
    }
  ],
  "metadata": {
    "kernelspec": {
      "display_name": "Python 3",
      "language": "python",
      "name": "python3"
    },
    "language_info": {
      "codemirror_mode": {
        "name": "ipython",
        "version": 2
      },
      "file_extension": ".py",
      "mimetype": "text/x-python",
      "name": "python",
      "nbconvert_exporter": "python",
      "pygments_lexer": "ipython2",
      "version": "2.7.6"
    },
    "colab": {
      "name": "05 - Functional Programming.ipynb",
      "provenance": [],
      "collapsed_sections": [
        "lPh3qYJPpFgf",
        "h66DrhvJzi_U",
        "sqXhZ0VjTt3n",
        "ZPJ5LXnptyEh",
        "3UMrn1_GC9TV",
        "p1gXeK1VC_hj"
      ],
      "include_colab_link": true
    }
  },
  "nbformat": 4,
  "nbformat_minor": 0
}