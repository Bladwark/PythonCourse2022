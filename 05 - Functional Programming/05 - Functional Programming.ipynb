{
  "cells": [
    {
      "cell_type": "markdown",
      "metadata": {
        "id": "view-in-github",
        "colab_type": "text"
      },
      "source": [
        "<a href=\"https://colab.research.google.com/github/lyubolp/PythonCourse2022/blob/functional_05/05%20-%20Functional%20Programming/05%20-%20Functional%20Programming.ipynb\" target=\"_parent\"><img src=\"https://colab.research.google.com/assets/colab-badge.svg\" alt=\"Open In Colab\"/></a>"
      ]
    },
    {
      "cell_type": "markdown",
      "source": [
        "# Функционално програмиране с Python\n",
        "План на лекцията:\n",
        "- [X] Какво е функционално програмиране ?\n",
        "- [ ] Immutability & side-effects\n",
        "- [X] Функции като обекти\n",
        "- [X] Декоратори\n",
        "- [X] Анонимни (lambda) функции\n",
        "- [X] Lazy evaluation\n",
        "- [X] Generators\n",
        "- [X] Map\n",
        "- [X] Filter\n",
        "- [X] Reduce\n",
        "- [X] Zip\n",
        "- [X] List comprehension\n",
        "- [X] Скорост\n",
        "- [ ] Примери\n",
        "- [ ] Задачи"
      ],
      "metadata": {
        "collapsed": false,
        "pycharm": {
          "name": "#%% md\n"
        },
        "id": "xGnJO5kKpFgT"
      }
    },
    {
      "cell_type": "markdown",
      "source": [
        "## Какво е функционално програмиране ?"
      ],
      "metadata": {
        "id": "egnOPBZddRFY"
      }
    },
    {
      "cell_type": "markdown",
      "source": [
        "Функционалното програмиране е парадигма в програмирането, фокусираща се върху използването на функции. В езиците за функционално програмиране, функциите могат да се третират като обекти. Друга особенност на функционалното програмиране (или поне в чистата му форма), е липсата на състояние (а и от там, липсата на променливи в традиционния смисъл). В повечето езици за функционално програмиране липсват и класове. \n",
        "\n",
        "Основни концепции във функционалното програмиране:\n",
        "- Функции като обекти\n",
        "- Функции от по-висок ред\n",
        "- \"Чисти\" функции\n",
        "- Рекурсия \n",
        "\n",
        "Примери за езици, които следват единственото функционалната парадигма са Scheme, Haskell, Lisp.\n",
        "\n",
        "В повечето модерни езици за програмиране могат да се открият елементи от функционалното програмиране - Python не е изключение. \n"
      ],
      "metadata": {
        "id": "fsNd_ZAbN8YZ"
      }
    },
    {
      "cell_type": "markdown",
      "source": [
        "## Immutability и странични ефекти"
      ],
      "metadata": {
        "collapsed": false,
        "pycharm": {
          "name": "#%% md\n"
        },
        "id": "kYufvX6mpFga"
      }
    },
    {
      "cell_type": "markdown",
      "source": [
        ""
      ],
      "metadata": {
        "id": "-xRYz814dNyM"
      }
    },
    {
      "cell_type": "markdown",
      "source": [
        "## Функции, като обекти\n"
      ],
      "metadata": {
        "collapsed": false,
        "pycharm": {
          "name": "#%% md\n"
        },
        "id": "O30koGZqpFgd"
      }
    },
    {
      "cell_type": "markdown",
      "source": [
        "В Python, функциите са т.нар. \"first-class objects\" - което на български може да се преведе като \"първокласни обекти\". А ако трябва да го обясним с прости думи, функциите могат да се третират като \"нормалните\" типове - числа, низове и т.н. Това означава, че можем да ги използваме като променливи - да им даваме имена, да ги подаваме към аргументи на други функции, да ги връщаме като резултат от функции и да ги пазим в колекции."
      ],
      "metadata": {
        "id": "8V_qf0oWXjr7"
      }
    },
    {
      "cell_type": "code",
      "source": [
        "def multiply(a, b):\n",
        "    return a * b\n",
        "\n",
        "f = multiply\n",
        "\n",
        "print(f(2, 3))"
      ],
      "metadata": {
        "colab": {
          "base_uri": "https://localhost:8080/"
        },
        "id": "lNDEISDjYwwd",
        "outputId": "63c1ffbb-1e93-495c-ca23-04e2b3cfcc5b"
      },
      "execution_count": 1,
      "outputs": [
        {
          "output_type": "stream",
          "name": "stdout",
          "text": [
            "6\n"
          ]
        }
      ]
    },
    {
      "cell_type": "markdown",
      "source": [
        "Важно е да направим разлика между `f = multiply` и `f = multiply()`. Макар и разликата да е малка синтактично, поведението на двата реда е различно. Първото извикване **присвоява функцията** към променливата `f`, докато второто **присвоява резултата от извикването** на функцията.  \n",
        "\n",
        "Когато присвоим цялата функция (може да си го представяме като function pointer в C++), можем да ползваме функцията като нормална променлива:"
      ],
      "metadata": {
        "id": "A1Iwlc68ZDYJ"
      }
    },
    {
      "cell_type": "code",
      "source": [
        "def multiply(a, b):\n",
        "    return a * b\n",
        "\n",
        "def sum(a, b):\n",
        "    return a + b\n",
        "\n",
        "\n",
        "def apply_to_numbers(a, b, f):\n",
        "    print(f'Applying a function to {a} and {b}')\n",
        "    return f(a, b)\n",
        "\n",
        "print(apply_to_numbers(2, 3, sum))\n",
        "print(apply_to_numbers(2, 3, multiply))"
      ],
      "metadata": {
        "colab": {
          "base_uri": "https://localhost:8080/"
        },
        "id": "4PHaO7XnaiPN",
        "outputId": "29aefd95-b2f4-46f4-92df-bc686c3ee5e1"
      },
      "execution_count": 2,
      "outputs": [
        {
          "output_type": "stream",
          "name": "stdout",
          "text": [
            "Applying a function to 2 and 3\n",
            "5\n",
            "Applying a function to 2 and 3\n",
            "6\n"
          ]
        }
      ]
    },
    {
      "cell_type": "markdown",
      "source": [
        "А можем и да връщаме функция като резултат от друга функция:"
      ],
      "metadata": {
        "id": "-dYxZBtxcnNU"
      }
    },
    {
      "cell_type": "code",
      "source": [
        "def foo():\n",
        "    print(\"Foo called\")\n",
        "\n",
        "def bar():\n",
        "    return foo\n",
        "\n",
        "f = bar()\n",
        "f()"
      ],
      "metadata": {
        "colab": {
          "base_uri": "https://localhost:8080/"
        },
        "id": "GHE3Gt71csq8",
        "outputId": "e1e2f549-8463-4500-94ed-16de4a1bc03e"
      },
      "execution_count": 3,
      "outputs": [
        {
          "output_type": "stream",
          "name": "stdout",
          "text": [
            "Foo called\n"
          ]
        }
      ]
    },
    {
      "cell_type": "markdown",
      "source": [
        "В тялото на една функция, можем да дефинираме друга функция, която да върнем:"
      ],
      "metadata": {
        "id": "OhSJcNCXc4qy"
      }
    },
    {
      "cell_type": "code",
      "source": [
        "def foo():\n",
        "    def bar():\n",
        "        print(\"Bar called\")\n",
        "    \n",
        "    return bar\n",
        "\n",
        "f = foo()\n",
        "f() "
      ],
      "metadata": {
        "colab": {
          "base_uri": "https://localhost:8080/"
        },
        "id": "2l3fNkMXc13X",
        "outputId": "a830a342-053d-4d8c-b63e-f935de930b9b"
      },
      "execution_count": 4,
      "outputs": [
        {
          "output_type": "stream",
          "name": "stdout",
          "text": [
            "Bar called\n"
          ]
        }
      ]
    },
    {
      "cell_type": "markdown",
      "source": [
        "Това, че функциите са обекти, ни позволява да правим интересни неща - например, можем да направим проста функция, която да използваме за logging."
      ],
      "metadata": {
        "id": "vOn59wWXdUPY"
      }
    },
    {
      "cell_type": "code",
      "source": [
        "def log_and_run(f, args=(), kwargs={}):\n",
        "    print(f'Calling {f} with {args} and {kwargs}')\n",
        "    return f(*args, **kwargs)\n",
        "\n",
        "def add(a, b):\n",
        "    return a + b\n",
        "\n",
        "print(log_and_run(add, (2, 3)))"
      ],
      "metadata": {
        "colab": {
          "base_uri": "https://localhost:8080/"
        },
        "id": "2JPtNIWQdiI_",
        "outputId": "03d137ad-fcc8-4c66-f526-a0d4025fa323"
      },
      "execution_count": 5,
      "outputs": [
        {
          "output_type": "stream",
          "name": "stdout",
          "text": [
            "Calling <function add at 0x7f80d21b28c0> with (2, 3) and {}\n",
            "5\n"
          ]
        }
      ]
    },
    {
      "cell_type": "markdown",
      "source": [
        "Припомням, че `args` съдържа позиционните аргументи и е от тип `Tuple`, а `kwargs` съдържа keyword аргументите и е от тип `dict`."
      ],
      "metadata": {
        "id": "LBQrvrKpeesi"
      }
    },
    {
      "cell_type": "markdown",
      "source": [
        "Освен като аргументи и резултат, функциите могат да се пазят и в колекции (списъци, речници, т.н.):"
      ],
      "metadata": {
        "id": "f-2IExhre-Ov"
      }
    },
    {
      "cell_type": "code",
      "source": [
        "def add(a, b):\n",
        "    return a + b\n",
        "\n",
        "def subtract(a, b):\n",
        "    return a - b\n",
        "\n",
        "def multiply(a, b):\n",
        "    return a * b\n",
        "\n",
        "def divide(a, b):\n",
        "    return a / b\n",
        "\n",
        "actions = {\n",
        "    '+': add,\n",
        "    '-': subtract,\n",
        "    '*': multiply,\n",
        "    '/': divide\n",
        "}\n",
        "\n",
        "first = input('Enter a number: ')\n",
        "operation = input('Enter an operation (+, -, * or /)')\n",
        "second = input('Enter a number: ')\n",
        "\n",
        "if operation not in actions:\n",
        "    print('Operation not supported')\n",
        "else:\n",
        "    if not first.isnumeric() or not second.isnumeric():\n",
        "        print('Input is not a number')\n",
        "    else:\n",
        "        first = int(first)\n",
        "        second = int(second)\n",
        "\n",
        "        result = actions[operation](first, second)\n",
        "        print(f'{first} {operation} {second} = {result}')\n"
      ],
      "metadata": {
        "colab": {
          "base_uri": "https://localhost:8080/"
        },
        "id": "t0I6mmI5fEqq",
        "outputId": "ca98663f-e8fa-449e-e5d3-066ab2a78d6c"
      },
      "execution_count": 6,
      "outputs": [
        {
          "output_type": "stream",
          "name": "stdout",
          "text": [
            "Enter a number: 5\n",
            "Enter an operation (+, -, * or /)+\n",
            "Enter a number: 2\n",
            "5 + 2 = 7\n"
          ]
        }
      ]
    },
    {
      "cell_type": "markdown",
      "source": [
        "## Декоратори"
      ],
      "metadata": {
        "id": "V0akTWPMDDTj"
      }
    },
    {
      "cell_type": "markdown",
      "source": [
        "Една от по-интересни функционалности на Python са т.нар. декоратори (decorators). Всъщност, ние вече видяхме как се пише декоратор и как работи - нека се върнем на примера от по-горе с `log_and_run`:"
      ],
      "metadata": {
        "id": "FwuzabXI8nbD"
      }
    },
    {
      "cell_type": "code",
      "source": [
        "def log_and_run(f, args=(), kwargs={}):\n",
        "    print(f'Calling {f} with {args} and {kwargs}')\n",
        "    return f(*args, **kwargs)\n",
        "\n",
        "def add(a, b):\n",
        "    return a + b\n",
        "\n",
        "print(log_and_run(add, (2, 3)))"
      ],
      "metadata": {
        "colab": {
          "base_uri": "https://localhost:8080/"
        },
        "id": "dDgfp7RE9YTQ",
        "outputId": "5e271d42-26b5-4631-e858-485bdec38f8b"
      },
      "execution_count": 7,
      "outputs": [
        {
          "output_type": "stream",
          "name": "stdout",
          "text": [
            "Calling <function add at 0x7f80d65288c0> with (2, 3) and {}\n",
            "5\n"
          ]
        }
      ]
    },
    {
      "cell_type": "markdown",
      "source": [
        "Това изглежда леко грозно, да трябва да извикваме `log_and_run` вместо функцията, която всъщност искаме да извикаме. Ако добавим функции за изваждане, умножение и деление, всяко извикване ще трябва да преминава през `log_and_run`. \n",
        "\n",
        "А няма ли по-лесен начин с който да кажем - нека преди изпълнението на нашата функция `f1`, да се изпълни функция `f` (Както преди `add` се изпълнява `log_and_run`) ?"
      ],
      "metadata": {
        "id": "YyZvOMcn9eyZ"
      }
    },
    {
      "cell_type": "markdown",
      "source": [
        "Преди да разгледаме как точно се прави декоратор функция в Python, нека всъщност разберем какво искаме да постигнем:\n",
        "1. Искаме да приемем функция (нека я кръстим `g`), която да изпълним\n",
        "2. Преди да изпълним `g`, искаме да изпълним някакви други действия (нека те са събрани във функцията `f`\n",
        "3. Искаме да върнем нова функция (нека да я кръстим `h`), която първо да изпълни `f`, а после `g`.\n",
        "\n",
        "Нека първо се фокусираме върху 1 и 2 :"
      ],
      "metadata": {
        "id": "_GRsD2OR-zeB"
      }
    },
    {
      "cell_type": "code",
      "source": [
        "def pseudo_decorator(f, g):\n",
        "    f()\n",
        "    g()\n",
        "\n",
        "\n",
        "def print_hello():\n",
        "    print(\"Hello\")\n",
        "\n",
        "def print_bye():\n",
        "    print(\"bye\")\n",
        "\n",
        "\n",
        "pseudo_decorator(print_hello, print_bye)"
      ],
      "metadata": {
        "colab": {
          "base_uri": "https://localhost:8080/"
        },
        "id": "B9KcFESh_ZRe",
        "outputId": "1f80528c-6b50-4198-d62a-dc6c507ff43b"
      },
      "execution_count": 8,
      "outputs": [
        {
          "output_type": "stream",
          "name": "stdout",
          "text": [
            "Hello\n",
            "bye\n"
          ]
        }
      ]
    },
    {
      "cell_type": "markdown",
      "source": [
        "Нека променим поведението на `pseudo_decorator` от това просто да изпълнява `f` и `g` към това да връща нова функция, която да изпълнява `f` и `g`"
      ],
      "metadata": {
        "id": "WhzNMPC6_8n-"
      }
    },
    {
      "cell_type": "code",
      "source": [
        "def pseudo_decorator(f, g):\n",
        "    def inner():\n",
        "        f()\n",
        "        g()\n",
        "    return inner\n",
        "\n",
        "\n",
        "def print_hello():\n",
        "    print(\"Hello\")\n",
        "\n",
        "def print_bye():\n",
        "    print(\"bye\")\n",
        "\n",
        "\n",
        "f = pseudo_decorator(print_hello, print_bye)\n",
        "f()"
      ],
      "metadata": {
        "colab": {
          "base_uri": "https://localhost:8080/"
        },
        "id": "4SwNR2GOAHCe",
        "outputId": "9c464879-41ce-455f-d1f6-b352aeff3bf7"
      },
      "execution_count": 9,
      "outputs": [
        {
          "output_type": "stream",
          "name": "stdout",
          "text": [
            "Hello\n",
            "bye\n"
          ]
        }
      ]
    },
    {
      "cell_type": "markdown",
      "source": [
        "Почти сме до истинските декоратори. За съжаление, следващата част е възможна заради малко синтактична захар. \n",
        "\n",
        "Основната идея е, че искаме да вземем нашата функция `g` и да я заместим с резултата от `pseudo_decorator`, без да се налага реално да извикваме `pseudo_decorator`. С цел опростяване, ще приемем, че `f` е просто принтиране. "
      ],
      "metadata": {
        "id": "X1U1mgNkATgB"
      }
    },
    {
      "cell_type": "code",
      "source": [
        "def print_decorator(g):\n",
        "    def inner():\n",
        "        print(\"Hello\")\n",
        "        g()\n",
        "    return inner\n",
        "\n",
        "@print_decorator\n",
        "def print_bye():\n",
        "    print(\"bye\")\n",
        "\n",
        "print_bye()"
      ],
      "metadata": {
        "colab": {
          "base_uri": "https://localhost:8080/"
        },
        "id": "zyP_F2Z0-ORT",
        "outputId": "82f00c45-24d8-41f9-f20f-f52cff91bc74"
      },
      "execution_count": 10,
      "outputs": [
        {
          "output_type": "stream",
          "name": "stdout",
          "text": [
            "Hello\n",
            "bye\n"
          ]
        }
      ]
    },
    {
      "cell_type": "markdown",
      "source": [
        "С помощта на `@`, последвано от функция, която връща друга функция, ние можем да \"декорираме\" всяка функция в Python.\n",
        "\n",
        "Това, което се случва в случая е, че взимаме `print_bye` като първи аргумент на `print_decorator` и изпълняваме `print_decorator`. Тя от своя страна ни връща нова функция, която принтира \"Hello\" и след това изпълнява подадената от нас функция. \n",
        "\n",
        "Обяснено още по-просто: При извикване на `print_bye`, всъщност ще се извика `print_decorator` с аргумент `print_bye`. "
      ],
      "metadata": {
        "id": "uI0ZbAhDBFbH"
      }
    },
    {
      "cell_type": "markdown",
      "source": [
        "Нека използваме този нов подход върху примера с `log_and_run` (която ще преименуваме само на `log`)"
      ],
      "metadata": {
        "id": "SF7tqeq1BtZx"
      }
    },
    {
      "cell_type": "code",
      "source": [
        "def log(f):\n",
        "    def inner(*args, **kwargs):\n",
        "        print(f'Calling {f} with {args} and {kwargs}')\n",
        "        return f(*args, **kwargs)\n",
        "    return inner\n",
        "\n",
        "@log\n",
        "def add(a, b):\n",
        "    return a + b\n",
        "\n",
        "print(add(2, 3))"
      ],
      "metadata": {
        "colab": {
          "base_uri": "https://localhost:8080/"
        },
        "id": "7Oy92EMgCHcz",
        "outputId": "2201c25b-242d-4718-fb73-f88c5aa24775"
      },
      "execution_count": 11,
      "outputs": [
        {
          "output_type": "stream",
          "name": "stdout",
          "text": [
            "Calling <function add at 0x7f80d21e00e0> with (2, 3) and {}\n",
            "5\n"
          ]
        }
      ]
    },
    {
      "cell_type": "markdown",
      "source": [
        "Сега ако добавим нови методи за изваждане, умножение и деление, можем лесно да се използваме от `log`, без да се налага да променяме начина им на извикване:"
      ],
      "metadata": {
        "id": "0wNmuckDDAmW"
      }
    },
    {
      "cell_type": "code",
      "source": [
        "def log(f):\n",
        "    def inner(*args, **kwargs):\n",
        "        print(f'Calling {f} with {args} and {kwargs}')\n",
        "        return f(*args, **kwargs)\n",
        "    return inner\n",
        "\n",
        "@log\n",
        "def add(a, b):\n",
        "    return a + b\n",
        "\n",
        "@log \n",
        "def subtract(a, b):\n",
        "    return a - b\n",
        "\n",
        "@log\n",
        "def multiply(a, b):\n",
        "    return a * b\n",
        "\n",
        "@log\n",
        "def divide(a, b):\n",
        "    return a / b\n",
        "\n",
        "print(add(2, 3))\n",
        "print(subtract(3, 1))\n",
        "print(multiply(1.5, b=3))\n",
        "print(divide(a=12, b=6))"
      ],
      "metadata": {
        "colab": {
          "base_uri": "https://localhost:8080/"
        },
        "id": "Tc2Q4b8-DL_A",
        "outputId": "1dd005b6-b7e3-4028-a2ec-e6ede1f42ec4"
      },
      "execution_count": 12,
      "outputs": [
        {
          "output_type": "stream",
          "name": "stdout",
          "text": [
            "Calling <function add at 0x7f80d21e09e0> with (2, 3) and {}\n",
            "5\n",
            "Calling <function subtract at 0x7f80d21e0b90> with (3, 1) and {}\n",
            "2\n",
            "Calling <function multiply at 0x7f80d21e0d40> with (1.5,) and {'b': 3}\n",
            "4.5\n",
            "Calling <function divide at 0x7f80d21e0ef0> with () and {'a': 12, 'b': 6}\n",
            "2.0\n"
          ]
        }
      ]
    },
    {
      "cell_type": "markdown",
      "source": [
        "Друг пример за декоратор може да бъде декоратор, който измерва времето за изпълнение на функция:"
      ],
      "metadata": {
        "id": "pJME6BdrDzvH"
      }
    },
    {
      "cell_type": "code",
      "source": [
        "import time\n",
        "\n",
        "def time_it(f):\n",
        "    def inner(*args, **kwargs):\n",
        "        start = time.time()\n",
        "        result = f(*args, **kwargs)\n",
        "        end = time.time()\n",
        "        print(f'{f} took {end - start:.2f} second')\n",
        "    return inner\n",
        "\n",
        "@time_it\n",
        "def slow_function(a):\n",
        "    return (a ** a) ** a\n",
        "\n",
        "slow_function(1000)"
      ],
      "metadata": {
        "id": "6X2Mut_cD4dX",
        "colab": {
          "base_uri": "https://localhost:8080/"
        },
        "outputId": "e976a1d6-11b6-4e1c-f850-ac1d3af183bf"
      },
      "execution_count": 13,
      "outputs": [
        {
          "output_type": "stream",
          "name": "stdout",
          "text": [
            "<function slow_function at 0x7f80d2167050> took 1.53 second\n"
          ]
        }
      ]
    },
    {
      "cell_type": "markdown",
      "source": [
        "## Анонимни (lambda) функции"
      ],
      "metadata": {
        "id": "eHB4eyy0C0uX"
      }
    },
    {
      "cell_type": "markdown",
      "source": [
        "Lambda функции идват от т.нар ламбда смятане (lambda calculus) и изразяват изпълнението на дадени изчисления върху дадени стойности. Няма да навлизаме в математическите доказателства и формализми. Lambda функциите са анонимни функции - т.е. не се дефинират с `def` и без да е необходимо да им се дава име. \n",
        "\n",
        "Всяка ламбда функция има две основни части - входни променливи и един израз (expression). В Python, ламбда функциите се дефинират с ключовата дума `lambda`"
      ],
      "metadata": {
        "id": "G1eX5BdWz2so"
      }
    },
    {
      "cell_type": "code",
      "source": [
        "lambda x: x + 1"
      ],
      "metadata": {
        "colab": {
          "base_uri": "https://localhost:8080/"
        },
        "id": "VeTYRAclB3j2",
        "outputId": "fa90a626-c65f-4abe-f89d-7fc0124fe834"
      },
      "execution_count": 14,
      "outputs": [
        {
          "output_type": "execute_result",
          "data": {
            "text/plain": [
              "<function __main__.<lambda>(x)>"
            ]
          },
          "metadata": {},
          "execution_count": 14
        }
      ]
    },
    {
      "cell_type": "markdown",
      "source": [
        "По-горната функция приема един аргумент (на име `x`), и изпълнява израза `x + 1`. Важно е да се отбележи, че една ламбда функция може да съдържа само един израз.\n",
        "\n",
        "Припомням, че израз в Python е всичко, което съдържа някакъв индетификатор (напр. променлива), литерал (напр. `'hello'`) или оператор (напр. извикване на функция, оператор `[]`)\n",
        "\n",
        "Или казано по-просто: не може да създадем ламбда, която да присвоява стойност на някаква променлива:"
      ],
      "metadata": {
        "id": "WK_0lu9rB8Vp"
      }
    },
    {
      "cell_type": "code",
      "source": [
        "lambda x: a = x"
      ],
      "metadata": {
        "colab": {
          "base_uri": "https://localhost:8080/",
          "height": 134
        },
        "id": "hX2Rkd_wDFjz",
        "outputId": "34726171-1cb2-46dd-b7a3-072b7aef2ee1"
      },
      "execution_count": 15,
      "outputs": [
        {
          "output_type": "error",
          "ename": "SyntaxError",
          "evalue": "ignored",
          "traceback": [
            "\u001b[0;36m  File \u001b[0;32m\"<ipython-input-15-6a40442b8e41>\"\u001b[0;36m, line \u001b[0;32m1\u001b[0m\n\u001b[0;31m    lambda x: a = x\u001b[0m\n\u001b[0m                   ^\u001b[0m\n\u001b[0;31mSyntaxError\u001b[0m\u001b[0;31m:\u001b[0m can't assign to lambda\n"
          ]
        }
      ]
    },
    {
      "cell_type": "markdown",
      "source": [
        "Не можем също и да имаме два израза един след друг (Това чисто синтактично няма как да ни се позволи - ламбдите са на един ред, а в Python нямаме символ за край на израз."
      ],
      "metadata": {
        "id": "fO6sHHsrDIvz"
      }
    },
    {
      "cell_type": "markdown",
      "source": [
        "Можем да извикваме дадена lambda функция, като просто използваме `()` след нея"
      ],
      "metadata": {
        "id": "spR82IIaDerh"
      }
    },
    {
      "cell_type": "code",
      "source": [
        "(lambda x: print(x))(5)"
      ],
      "metadata": {
        "colab": {
          "base_uri": "https://localhost:8080/"
        },
        "id": "YprP04OiDeRK",
        "outputId": "a3922e56-c5dd-4104-b19e-23c327ea373d"
      },
      "execution_count": 16,
      "outputs": [
        {
          "output_type": "stream",
          "name": "stdout",
          "text": [
            "5\n"
          ]
        }
      ]
    },
    {
      "cell_type": "markdown",
      "source": [
        "Макар и анонимни, можем да присвоим ламбда функция към дадена променлива"
      ],
      "metadata": {
        "id": "I1LGqVmyDnQ5"
      }
    },
    {
      "cell_type": "code",
      "source": [
        "f = lambda x: x + 1\n",
        "\n",
        "print(f(5))"
      ],
      "metadata": {
        "colab": {
          "base_uri": "https://localhost:8080/"
        },
        "id": "FTuQzNC0DRSn",
        "outputId": "41a382d4-4287-41ad-9878-13dec03e07fd"
      },
      "execution_count": 17,
      "outputs": [
        {
          "output_type": "stream",
          "name": "stdout",
          "text": [
            "6\n"
          ]
        }
      ]
    },
    {
      "cell_type": "markdown",
      "source": [
        "Горното парче код изпълнява следните стъпки:\n",
        "1. Създава анонимна функция, която приема един аргумент (`x`) и връща стойноста на `x` събрана с 1\n",
        "2. Присвояваме новосъздадената ни функция към променливата `f`\n",
        "3. Принтираме резултата от извикването на `f` със стойност 5\n",
        "    - В тялото на ламбда функцията, стойноста на `x` се замества с 5\n",
        "    - От там, 5 + 1 = 6"
      ],
      "metadata": {
        "id": "s5ntTdwFDxGb"
      }
    },
    {
      "cell_type": "markdown",
      "source": [
        "Едно от местата, където често се ползват lambda функции, са вградените функции за сортиране. Както знаем, метода `.sort()` може да приема функция, която да сравнява обектите. "
      ],
      "metadata": {
        "id": "BHyMhFE3URqJ"
      }
    },
    {
      "cell_type": "code",
      "source": [
        " l = [5, 2, 7, 3]\n",
        " l.sort(key=lambda x: -x)\n",
        " print(l)"
      ],
      "metadata": {
        "colab": {
          "base_uri": "https://localhost:8080/"
        },
        "id": "o8iyHKCKURUj",
        "outputId": "341acbed-b5d1-4e92-d30a-fd9907792720"
      },
      "execution_count": 18,
      "outputs": [
        {
          "output_type": "stream",
          "name": "stdout",
          "text": [
            "[7, 5, 3, 2]\n"
          ]
        }
      ]
    },
    {
      "cell_type": "markdown",
      "source": [
        "С помощта на тази ламбда, можем да сортираме числата в обратен ред. \n",
        "\n",
        "Можем да използваме ламбди за да сортираме и по-сложни списъци - например списък от наредени n-торки."
      ],
      "metadata": {
        "id": "ZIBjj5fYWnjO"
      }
    },
    {
      "cell_type": "markdown",
      "source": [
        "Нека е даден списък, съставен от имена на хора, и тяхната възраст. "
      ],
      "metadata": {
        "id": "dhgh-XL5W0PD"
      }
    },
    {
      "cell_type": "code",
      "source": [
        "people_data = [('Иван', 22), ('Георги', 71), ('Мария', 35), ('Митко', 51), ('Любо', 35)]\n",
        "people_data.sort(key=lambda person: (person[1], person[0]))\n",
        "print(people_data)"
      ],
      "metadata": {
        "colab": {
          "base_uri": "https://localhost:8080/"
        },
        "id": "pIYl4MOdW_sw",
        "outputId": "19ae67e1-67a2-4581-b791-62fe410041fb"
      },
      "execution_count": 19,
      "outputs": [
        {
          "output_type": "stream",
          "name": "stdout",
          "text": [
            "[('Иван', 22), ('Любо', 35), ('Мария', 35), ('Митко', 51), ('Георги', 71)]\n"
          ]
        }
      ]
    },
    {
      "cell_type": "markdown",
      "source": [
        "Тук първо сортираме хората по тяхната възраст, а после лексикографкси, по тяхното име."
      ],
      "metadata": {
        "id": "dDnNQ3wQaT6G"
      }
    },
    {
      "cell_type": "markdown",
      "source": [
        "Можем да използваме и функцията `sorted` с ламбда функция:"
      ],
      "metadata": {
        "id": "JGXxLgzsDzs5"
      }
    },
    {
      "cell_type": "code",
      "source": [
        "people_data = [('Иван', 22), ('Георги', 71), ('Мария', 35), ('Митко', 51), ('Любо', 35)]\n",
        "print(sorted(people_data, key=lambda person: (person[1], person[0])))"
      ],
      "metadata": {
        "colab": {
          "base_uri": "https://localhost:8080/"
        },
        "id": "RH0Pc07HD4HQ",
        "outputId": "4a48ae5a-d16a-4b09-eef2-a0815682aca6"
      },
      "execution_count": 20,
      "outputs": [
        {
          "output_type": "stream",
          "name": "stdout",
          "text": [
            "[('Иван', 22), ('Любо', 35), ('Мария', 35), ('Митко', 51), ('Георги', 71)]\n"
          ]
        }
      ]
    },
    {
      "cell_type": "markdown",
      "source": [
        "## Lazy evaluation"
      ],
      "metadata": {
        "id": "gkVl1LVhC3mE"
      }
    },
    {
      "cell_type": "markdown",
      "source": [
        "Съществуват различни стратегии за оценяване (или изчисляване) на изрази - най-позната е т.нар. \"нетърпеливо оценяване\" или \"оценяване на момента\" - целия израз се изчислява на момента.\n",
        "\n",
        "Нека е даден израза `a + b + c`. Първо, ще бъде оценена стойността на `a`, после на `b`. Следващата стъпка е да се извърши операцията събиране. Резултатът от първата операция ще бъде използван за следващата операция събиране, заедно с `c`. \n",
        "\n",
        "Пример за оценяване на момента може да бъде следната функция:"
      ],
      "metadata": {
        "id": "BmDBNoJpnShQ"
      }
    },
    {
      "cell_type": "code",
      "source": [
        "def f(x):\n",
        "    print(f'x = {x}')\n",
        "    return x\n",
        "\n",
        "print(f(1) + f(2))"
      ],
      "metadata": {
        "colab": {
          "base_uri": "https://localhost:8080/"
        },
        "id": "mfuEbmgqomQQ",
        "outputId": "eab5bff4-6b19-4f91-e6cc-2d73a207313c"
      },
      "execution_count": 21,
      "outputs": [
        {
          "output_type": "stream",
          "name": "stdout",
          "text": [
            "x = 1\n",
            "x = 2\n",
            "3\n"
          ]
        }
      ]
    },
    {
      "cell_type": "markdown",
      "source": [
        "При оценяването на момента (eager evaluation), всички необходими данни за извършване на изчислението (променливи, функции, др.) се зареждат наведнъж в паметта. Освен това, всички изчисления трябва да бъда извършени точно на момента."
      ],
      "metadata": {
        "id": "BAo7aBEQowo3"
      }
    },
    {
      "cell_type": "markdown",
      "source": [
        "Тук се намесва т.нар. \"мързеливо\" оценяване - изчисленията се извършват само при необходимост. Това ни позволява да си спестим някои изчисления (както и да работим с т.нар. \"безкрайни\" колекции).\n",
        "\n",
        "Най-близкото до \"мързеливо\" оценяване, което познаваме е изчисляването на логическите изрази при `if` блокове и други булеви изрази - там, всеки елемент от израза се изчислява, при условие че предишния израз не е достатъчен за оценяване на целия израз (т.е. ако имаме един израз който е със стойност на `True`, тези след него не се оценяват). \n",
        "\n",
        "По подобен начин работи и мързеливото оценяване, с разликата, че изразите се оценяват при поискване. "
      ],
      "metadata": {
        "id": "YjMUgVUVqal0"
      }
    },
    {
      "cell_type": "markdown",
      "source": [
        "## Generators"
      ],
      "metadata": {
        "id": "9bZnjogKC55J"
      }
    },
    {
      "cell_type": "markdown",
      "source": [
        "Генераторите са специални функции, които позволяват \"мързеливо\" итериране на дадена (дори и безкрайна) поредица. Генераторите не държат всичките си стойности в паметта, а изчисляват стойността при поискване (това позволява работата с \"безкрайни\" поредици)."
      ],
      "metadata": {
        "id": "d85fdJ3KE9KM"
      }
    },
    {
      "cell_type": "markdown",
      "source": [
        "Нека разгледаме следния пример - искаме да създадем генератор, който да ни връща числата, които са точни квадрати (число, получено чрез повдигане на друго цяло число на квадрат - 1, 4, 9, 16, 25, т.н.). \n",
        "\n",
        "Ако за момент се абстрахираме от идеята за генератори, как бихме могли да напишем функция, която ни връща `n`-тия точен квадрат ? Първия точен квардрат е 0 (0^2 = 0, защото са неотрицателни), втория е 1 (1^2 = 1), третия е 4 (2^2 = 4) и т.н. "
      ],
      "metadata": {
        "id": "XpTuyI_hCry6"
      }
    },
    {
      "cell_type": "code",
      "source": [
        "def generate_nth_perfect_square(n):\n",
        "    return (n-1) ** 2\n",
        "\n",
        "print(generate_nth_perfect_square(3))"
      ],
      "metadata": {
        "colab": {
          "base_uri": "https://localhost:8080/"
        },
        "id": "tmnNoaR8Cubf",
        "outputId": "d1789136-281c-4c6c-8f38-9aed1b2b3648"
      },
      "execution_count": 22,
      "outputs": [
        {
          "output_type": "stream",
          "name": "stdout",
          "text": [
            "4\n"
          ]
        }
      ]
    },
    {
      "cell_type": "markdown",
      "source": [
        "Можем да променим нашата функция, която да ни връща списък от всички точни квадрати до `n`-тия. "
      ],
      "metadata": {
        "id": "_iX-VxJNDe8l"
      }
    },
    {
      "cell_type": "code",
      "source": [
        "def generate_all_perfect_squares_until(n):\n",
        "    result = []\n",
        "    for i in range(1, n+1):\n",
        "        result.append(generate_nth_perfect_square(i))\n",
        "    \n",
        "    return result\n",
        "\n",
        "print(generate_all_perfect_squares_until(5))"
      ],
      "metadata": {
        "colab": {
          "base_uri": "https://localhost:8080/"
        },
        "id": "kTI4auzuEPgh",
        "outputId": "58798feb-ba1f-41c5-e4a2-b0c56914dc83"
      },
      "execution_count": 23,
      "outputs": [
        {
          "output_type": "stream",
          "name": "stdout",
          "text": [
            "[0, 1, 4, 9, 16]\n"
          ]
        }
      ]
    },
    {
      "cell_type": "markdown",
      "source": [
        "Проблемът с горната функция, е че изчислява всички стойности до `n` едновременно - ние искаме те да се изчисляват една по една, при поискване. По-важното е, че искаме да можем да итерираме по тях - т.е. да ги вкараме в един `for` цикъл, и да ги обходим.\n",
        "\n",
        "За да постигнем тази цел, ни трябват две неща - функция, която да \"спре\" изпълнението до дадено място и да ни върне някаква стойност - функцията, която извършва това, е `yield`. "
      ],
      "metadata": {
        "id": "6jPtmYzPGz4Z"
      }
    },
    {
      "cell_type": "code",
      "source": [
        "def perfect_squares(n):\n",
        "    for i in range(1, n+1):\n",
        "        yield generate_nth_perfect_square(i)\n",
        "\n",
        "\n",
        "print(perfect_squares(5))"
      ],
      "metadata": {
        "colab": {
          "base_uri": "https://localhost:8080/"
        },
        "id": "0coNKoouH2GS",
        "outputId": "b1bdda4e-520f-491c-eb7f-0c9d5a2ac264"
      },
      "execution_count": 24,
      "outputs": [
        {
          "output_type": "stream",
          "name": "stdout",
          "text": [
            "<generator object perfect_squares at 0x7f80d21656d0>\n"
          ]
        }
      ]
    },
    {
      "cell_type": "markdown",
      "source": [
        "Тук виждаме, че нашата функция вече ни връща `generator` обект. \n",
        "\n",
        "За да работим с нашия генератор обект, е необходимо да го подадем като обект на функцията `next` - тя ни връща следващия елемент от генератор/итератор."
      ],
      "metadata": {
        "id": "J8UJgR5QIFI0"
      }
    },
    {
      "cell_type": "code",
      "source": [
        "perfect_square_generator = perfect_squares(5)\n",
        "print(next(perfect_square_generator))\n",
        "print(next(perfect_square_generator))\n",
        "print(next(perfect_square_generator))\n",
        "print(next(perfect_square_generator))"
      ],
      "metadata": {
        "colab": {
          "base_uri": "https://localhost:8080/"
        },
        "id": "7-jHEPqyIwxB",
        "outputId": "da3a20b7-5f2d-433e-c836-50a8c96487b3"
      },
      "execution_count": 25,
      "outputs": [
        {
          "output_type": "stream",
          "name": "stdout",
          "text": [
            "0\n",
            "1\n",
            "4\n",
            "9\n"
          ]
        }
      ]
    },
    {
      "cell_type": "markdown",
      "source": [
        "Както се вижда, `next` изпълнява нашия код, до следващото срещане на `yield`, и връща стойността, която `yield` връща."
      ],
      "metadata": {
        "id": "mscLIoUaJOhH"
      }
    },
    {
      "cell_type": "markdown",
      "source": [
        "Благодарение на факта, че получваме генератор, може да използваме нашата функция `perfect_squares` директно във `for` цикъл."
      ],
      "metadata": {
        "id": "3EUHK5--JeIM"
      }
    },
    {
      "cell_type": "code",
      "source": [
        "for i in perfect_squares(5):\n",
        "    print(i)"
      ],
      "metadata": {
        "colab": {
          "base_uri": "https://localhost:8080/"
        },
        "id": "YPe1U0RuJZ4S",
        "outputId": "ec9813d9-28dd-4398-f890-6205a2ce7bf0"
      },
      "execution_count": 26,
      "outputs": [
        {
          "output_type": "stream",
          "name": "stdout",
          "text": [
            "0\n",
            "1\n",
            "4\n",
            "9\n",
            "16\n"
          ]
        }
      ]
    },
    {
      "cell_type": "markdown",
      "source": [
        "Нека направим нещата една идея по-сложни. Вместо да създаваме генератор на перфектни квадрати до дадено число, нека променим нашия генератор, да връща перфектни квадрати до безкрайност (понеже перфектните квадрати са дефинирани върху всички неотрицателни числа, е възможно до безкрайност да генерираме такива)."
      ],
      "metadata": {
        "id": "eFhgkZp1JoUd"
      }
    },
    {
      "cell_type": "code",
      "source": [
        "def perfect_square():\n",
        "    n = 1\n",
        "    while True:\n",
        "        yield generate_nth_perfect_square(n)\n",
        "        n += 1"
      ],
      "metadata": {
        "id": "kAAE_1EIKebv"
      },
      "execution_count": 27,
      "outputs": []
    },
    {
      "cell_type": "code",
      "source": [
        "perfect_square_generator = perfect_square()\n",
        "print(next(perfect_square_generator))\n",
        "print(next(perfect_square_generator))\n",
        "print(next(perfect_square_generator))\n",
        "print(next(perfect_square_generator))"
      ],
      "metadata": {
        "colab": {
          "base_uri": "https://localhost:8080/"
        },
        "id": "L3RK9BbtKm2M",
        "outputId": "1450f663-edd6-48d8-ce9c-3dc584007230"
      },
      "execution_count": 28,
      "outputs": [
        {
          "output_type": "stream",
          "name": "stdout",
          "text": [
            "0\n",
            "1\n",
            "4\n",
            "9\n"
          ]
        }
      ]
    },
    {
      "cell_type": "markdown",
      "source": [
        "Използването на `yield` не е единствения начин да бъде създаден генератор. Python поддържа т.нар. \"generator expressions\". Generator expressions е синтактична конструкция, която ни позволява да създаваме генератор на базата на друга колекция/генератор. Синтактично, generator expression следва математическата нотация за дефиниране на множество:\n",
        "\n",
        "$$ S = \\{x^2 \\mid x \\in [1;100] , x \\text{ is even}\\} $$\n",
        "\n",
        "Това математическо заклинание ни дава цели числа, по-големи от 5, като върху тях е повдигнато на квадрат.\n",
        "\n",
        "В общият случай, един generator expression изглежда по следния начин: `(f(x) for x in X if p(x))`, където `f` е функция, която прилагаме върху `x`, а `p` е филтрираща функция (повече за прилагането на функции върху елементи и филтрирането му по-долу)"
      ],
      "metadata": {
        "id": "OlX9JS_JpeKC"
      }
    },
    {
      "cell_type": "markdown",
      "source": [
        "Ако искаме да запишем нашата функция `perfect_squares(n)`, която ни връща точните квадрати до `n` като generator expression, тя би изглеждала по следния начин."
      ],
      "metadata": {
        "id": "9X8SDFlm4wnH"
      }
    },
    {
      "cell_type": "code",
      "source": [
        "perfect_squares_generator_exp = (generate_nth_perfect_square(i) for i in range(1, 6))\n",
        "\n",
        "print(perfect_squares_generator_exp)\n",
        "print(next(perfect_squares_generator_exp))\n",
        "print(next(perfect_squares_generator_exp))\n",
        "print(next(perfect_squares_generator_exp))"
      ],
      "metadata": {
        "colab": {
          "base_uri": "https://localhost:8080/"
        },
        "id": "4OJQgSzO4wCm",
        "outputId": "31e5b83c-0a25-4e04-f6f5-042e3b5734df"
      },
      "execution_count": 29,
      "outputs": [
        {
          "output_type": "stream",
          "name": "stdout",
          "text": [
            "<generator object <genexpr> at 0x7f80d5c27950>\n",
            "0\n",
            "1\n",
            "4\n"
          ]
        }
      ]
    },
    {
      "cell_type": "markdown",
      "source": [
        "В горния пример, нашия генератор ще ни върне първите 5 точни квадрата, с помощта на generator expression. Как би изглеждал кода обаче, ако искаме да можем да приемаме `n`, с което да заместим 5 ?"
      ],
      "metadata": {
        "id": "EhtFBeLX5i7B"
      }
    },
    {
      "cell_type": "code",
      "source": [
        "perfect_squares_n_generator_exp = lambda n: (generate_nth_perfect_square(i) for i in range(1, n + 1))\n",
        "\n",
        "for num in perfect_squares_n_generator_exp(3):\n",
        "    print(num)\n",
        "\n",
        "print('--')\n",
        "for num in perfect_squares_n_generator_exp(10):\n",
        "    print(num)"
      ],
      "metadata": {
        "colab": {
          "base_uri": "https://localhost:8080/"
        },
        "id": "z2APkX8t5zj4",
        "outputId": "272d4699-d293-4d18-b647-1715762c21a5"
      },
      "execution_count": 30,
      "outputs": [
        {
          "output_type": "stream",
          "name": "stdout",
          "text": [
            "0\n",
            "1\n",
            "4\n",
            "--\n",
            "0\n",
            "1\n",
            "4\n",
            "9\n",
            "16\n",
            "25\n",
            "36\n",
            "49\n",
            "64\n",
            "81\n"
          ]
        }
      ]
    },
    {
      "cell_type": "markdown",
      "source": [
        "Едно последно нещо - един от най-използваните генератори е `range`. `range` приема три аргумента - начало, край и стъпка. В резултат, получаваме генератор, който генерира числата от това множество. "
      ],
      "metadata": {
        "id": "G-OM7Qoi8AoH"
      }
    },
    {
      "cell_type": "code",
      "source": [
        "for i in range(2, 7, 2):\n",
        "    print(i)"
      ],
      "metadata": {
        "colab": {
          "base_uri": "https://localhost:8080/"
        },
        "id": "aT8UCA-L8jty",
        "outputId": "14581467-7d07-40a1-cc7d-c4a739f386fe"
      },
      "execution_count": 71,
      "outputs": [
        {
          "output_type": "stream",
          "name": "stdout",
          "text": [
            "2\n",
            "4\n",
            "6\n"
          ]
        }
      ]
    },
    {
      "cell_type": "markdown",
      "source": [
        "Няма значение колко е голям размера на `range`-а за представянето му - това е защото `range` изчислява следващия елемент на момента. "
      ],
      "metadata": {
        "id": "0U-qJ4zq8nTd"
      }
    },
    {
      "cell_type": "markdown",
      "source": [
        "## Map\n"
      ],
      "metadata": {
        "collapsed": false,
        "pycharm": {
          "name": "#%% md\n"
        },
        "id": "lPh3qYJPpFgf"
      }
    },
    {
      "cell_type": "markdown",
      "source": [
        "\n",
        "Map е специална функция, която има една-единствена цел - да приложи друга функция към дадена колекция. Нека е даден списък с числа и функция, която приема число, и го умножава по 2."
      ],
      "metadata": {
        "id": "qBwOJhrjWSbl"
      }
    },
    {
      "cell_type": "code",
      "execution_count": 31,
      "outputs": [],
      "source": [
        "numbers = [2, 7, 3, 9, -1, 12]\n",
        "\n",
        "def multiply(number):\n",
        "    return number * 2"
      ],
      "metadata": {
        "pycharm": {
          "name": "#%%\n"
        },
        "id": "3Dol_OA7pFgh"
      }
    },
    {
      "cell_type": "markdown",
      "source": [
        "Ако трябва сами да разпишем map функцията, тя би изглеждала по следния начин:"
      ],
      "metadata": {
        "collapsed": false,
        "pycharm": {
          "name": "#%% md\n"
        },
        "id": "O4RQXl0UpFgj"
      }
    },
    {
      "cell_type": "code",
      "execution_count": 32,
      "outputs": [],
      "source": [
        "def my_map(map_function, collection):\n",
        "    result = []\n",
        "\n",
        "    for item in collection:\n",
        "        result.append(map_function(item))\n",
        "    \n",
        "    return result"
      ],
      "metadata": {
        "pycharm": {
          "name": "#%%\n"
        },
        "id": "SwoW_4vHpFgk"
      }
    },
    {
      "cell_type": "markdown",
      "source": [
        "Нека извикаме нашата map функция, с дефинираните по-горе числа и функция, която да бъде приложена"
      ],
      "metadata": {
        "id": "6Ta41S2XpoO5"
      }
    },
    {
      "cell_type": "code",
      "source": [
        "print(f'Squared numbers: {my_map(multiply, numbers)}')"
      ],
      "metadata": {
        "colab": {
          "base_uri": "https://localhost:8080/"
        },
        "id": "6Be1d2k7pNCp",
        "outputId": "366fd9b9-64e7-4748-e27f-26ce1715245e"
      },
      "execution_count": 33,
      "outputs": [
        {
          "output_type": "stream",
          "name": "stdout",
          "text": [
            "Squared numbers: [4, 14, 6, 18, -2, 24]\n"
          ]
        }
      ]
    },
    {
      "cell_type": "markdown",
      "source": [
        "Можем да подадем и функция, която променя типа на обектите - нека разгледаме функция, която приема цяло число от 1 до 7 и връща съответния ден от седмицата (1 - Понеделник, 2 - Вторник, т.н.)"
      ],
      "metadata": {
        "id": "HJyDM8WSqX0c"
      }
    },
    {
      "cell_type": "code",
      "source": [
        "def number_to_day(number):\n",
        "    days = [\"Monday\", \"Tuesday\", \"Wednesday\", \"Thursday\", \"Friday\", \"Saturday\", \"Sunday\"]\n",
        "    return days[number - 1]\n",
        "\n",
        "days = [2, 3, 1, 4, 6]\n",
        "\n",
        "print(f'Days of the week: {my_map(number_to_day, days)}')"
      ],
      "metadata": {
        "colab": {
          "base_uri": "https://localhost:8080/"
        },
        "id": "2CcoHEAcqnum",
        "outputId": "b4f3e680-3fa4-4fe6-ea96-3f10bbd1cf9e"
      },
      "execution_count": 34,
      "outputs": [
        {
          "output_type": "stream",
          "name": "stdout",
          "text": [
            "Days of the week: ['Tuesday', 'Wednesday', 'Monday', 'Thursday', 'Saturday']\n"
          ]
        }
      ]
    },
    {
      "cell_type": "markdown",
      "source": [
        "Нека сега разгледаме и вградена функция `map` в Python - тя приема като първи аргумент функцията, която ще бъде приложена, а като втори - колекцията, върху която да се приложи."
      ],
      "metadata": {
        "id": "DNAEFcdfWSk3"
      }
    },
    {
      "cell_type": "code",
      "source": [
        "numbers = [1, 2, 3, 4]\n",
        "\n",
        "def square(number):\n",
        "    return number ** 2\n",
        "\n",
        "print(f'Appyling map directly returns: {map(square, numbers)}')"
      ],
      "metadata": {
        "colab": {
          "base_uri": "https://localhost:8080/"
        },
        "id": "RdjOAvkeWSNY",
        "outputId": "dd9eb7f0-6626-4f85-f878-7fc2cabc93ae"
      },
      "execution_count": 35,
      "outputs": [
        {
          "output_type": "stream",
          "name": "stdout",
          "text": [
            "Appyling map directly returns: <map object at 0x7f80d8013c50>\n"
          ]
        }
      ]
    },
    {
      "cell_type": "markdown",
      "source": [
        "Важно е да се отбележи, че резултатът от map функцията е `map` обект - или поне така изглежда. Всъщност това, което се връща е генератор, който ни дава новите стойности. Съвсем лесно можем да превърнем този генератор в списък, с едно просто извикване на `list()` функцията.\n"
      ],
      "metadata": {
        "id": "1CszaEFMZnTX"
      }
    },
    {
      "cell_type": "code",
      "source": [
        "numbers = [1, 2, 3, 4]\n",
        "\n",
        "def square(number):\n",
        "    return number ** 2\n",
        "\n",
        "print(f'Converting the map object into a list: {list(map(square, numbers))}')"
      ],
      "metadata": {
        "colab": {
          "base_uri": "https://localhost:8080/"
        },
        "id": "WCDkCuSTTCFL",
        "outputId": "aeb0c40b-1417-4569-8646-0950c86b90ed"
      },
      "execution_count": 36,
      "outputs": [
        {
          "output_type": "stream",
          "name": "stdout",
          "text": [
            "Converting the map object into a list: [1, 4, 9, 16]\n"
          ]
        }
      ]
    },
    {
      "cell_type": "markdown",
      "source": [
        "Освен да подаваме нормална функция, можем да използваме и `lambda`."
      ],
      "metadata": {
        "id": "YsHjf-xYTeTu"
      }
    },
    {
      "cell_type": "code",
      "source": [
        "numbers = [1, 2, 3, 4]\n",
        "\n",
        "mapped_numbers = map(lambda number: number ** 2, numbers)\n",
        "result = list(mapped_numbers)\n",
        "\n",
        "print(result)"
      ],
      "metadata": {
        "colab": {
          "base_uri": "https://localhost:8080/"
        },
        "id": "WACHF-IITlr_",
        "outputId": "36a3bff8-e725-4eb6-ba9a-30de8e685ec3"
      },
      "execution_count": 37,
      "outputs": [
        {
          "output_type": "stream",
          "name": "stdout",
          "text": [
            "[1, 4, 9, 16]\n"
          ]
        }
      ]
    },
    {
      "cell_type": "markdown",
      "source": [
        "Нека усложим нещата - ако се върнем на първоначалната ни дефиниция за `map` (Функция, която прилага друга функция върху колекция), си задаваме въпроса - какво става, ако имаме повече от една колекция, върху която искаме да приложим функция ? Възможно ли е въобще ? \n",
        "\n",
        "Отговора е да - `map` приема една или повече колекции. Единствената особенност е, че функцията която подаваме трябва да може да приеме повече от един аргумент. На по-прост език - ако подадем два списъка на `map`, функцията която ще се приложи върху тях трябва да приема два аргумента."
      ],
      "metadata": {
        "id": "VaA7b3_RTzp-"
      }
    },
    {
      "cell_type": "code",
      "source": [
        "first_numbers = [1, 2, 3, 4]\n",
        "second_numbers = [5, 6, 7, 8]\n",
        "\n",
        "def multiply(a, b):\n",
        "    return a * b\n",
        "\n",
        "print(list(map(multiply, first_numbers, second_numbers)))"
      ],
      "metadata": {
        "colab": {
          "base_uri": "https://localhost:8080/"
        },
        "id": "u4peYrvxULBq",
        "outputId": "c486bfbc-9154-4a44-e06b-f1c5cf29adb6"
      },
      "execution_count": 38,
      "outputs": [
        {
          "output_type": "stream",
          "name": "stdout",
          "text": [
            "[5, 12, 21, 32]\n"
          ]
        }
      ]
    },
    {
      "cell_type": "markdown",
      "source": [
        "Важно е да се отбележи, че резултата от `map` операция винаги е **една** поредица от обекти - дори и да приемем 10 колекции, винаги на изхода ще имаме една. \n",
        "\n",
        "**Въпрос:** Как може да \"измамим\" системата, и да върнем повече от една колекция ?"
      ],
      "metadata": {
        "id": "mpij1VPbWQyW"
      }
    },
    {
      "cell_type": "markdown",
      "source": [
        "### Отговор"
      ],
      "metadata": {
        "id": "yIVTK-AEYJLZ"
      }
    },
    {
      "cell_type": "markdown",
      "source": [
        "Няма как да върнем повече от една колекция - това което можем да направим, е да върнем колекция, която съдържа наредени n-торки (tuples)."
      ],
      "metadata": {
        "id": "hnXPTxPYXym_"
      }
    },
    {
      "cell_type": "code",
      "source": [
        "first_numbers = [1, 2, 3, 4]\n",
        "second_numbers = [5, 6, 7, 8]\n",
        "\n",
        "def return_as_tuple(a, b):\n",
        "    return a, b\n",
        "\n",
        "print(list(map(return_as_tuple, first_numbers, second_numbers)))"
      ],
      "metadata": {
        "colab": {
          "base_uri": "https://localhost:8080/"
        },
        "id": "-07cxylmWQDR",
        "outputId": "666c8887-7ab4-4075-8802-7f1ad45d3a2d"
      },
      "execution_count": 39,
      "outputs": [
        {
          "output_type": "stream",
          "name": "stdout",
          "text": [
            "[(1, 5), (2, 6), (3, 7), (4, 8)]\n"
          ]
        }
      ]
    },
    {
      "cell_type": "markdown",
      "source": [
        "## Filter\n"
      ],
      "metadata": {
        "id": "h66DrhvJzi_U"
      }
    },
    {
      "cell_type": "markdown",
      "source": [
        "Както името подсказва, `filter` е функция която филтрира елементи, отговарящи на даден критерии."
      ],
      "metadata": {
        "id": "0zjSBJ9tWWOU"
      }
    },
    {
      "cell_type": "markdown",
      "source": [
        "Нека отново имаме някакви числа, и функция която връща дали дадено число е четно или не."
      ],
      "metadata": {
        "id": "RyxGpugZ0OV0"
      }
    },
    {
      "cell_type": "code",
      "source": [
        "numbers = [2, 7, 11, 12]\n",
        "\n",
        "def is_even(number):\n",
        "    return number % 2 == 0"
      ],
      "metadata": {
        "id": "bc0DLwRQ0T03"
      },
      "execution_count": 40,
      "outputs": []
    },
    {
      "cell_type": "markdown",
      "source": [
        "Ако трябва сами да разпишем функцията, тя би изглеждала по следния начин:"
      ],
      "metadata": {
        "id": "uv3m8HYvz5bi"
      }
    },
    {
      "cell_type": "code",
      "source": [
        "def my_filter(filter_fn, collection):\n",
        "    result = []\n",
        "    for item in collection:\n",
        "        if filter_fn(item):\n",
        "            result.append(item)\n",
        "    \n",
        "    return result"
      ],
      "metadata": {
        "id": "hc-taeVDz-yk"
      },
      "execution_count": 41,
      "outputs": []
    },
    {
      "cell_type": "code",
      "source": [
        "print(my_filter(is_even, numbers))"
      ],
      "metadata": {
        "colab": {
          "base_uri": "https://localhost:8080/"
        },
        "id": "X5m69UgV1GPn",
        "outputId": "d1f5862e-7693-4bcf-9875-1c99518a49b4"
      },
      "execution_count": 42,
      "outputs": [
        {
          "output_type": "stream",
          "name": "stdout",
          "text": [
            "[2, 12]\n"
          ]
        }
      ]
    },
    {
      "cell_type": "markdown",
      "source": [
        "Извикването на вградената функция `filter` изглежда по следния начин"
      ],
      "metadata": {
        "id": "5qWgvODw2NIU"
      }
    },
    {
      "cell_type": "code",
      "source": [
        "print(filter(is_even, numbers))"
      ],
      "metadata": {
        "colab": {
          "base_uri": "https://localhost:8080/"
        },
        "id": "-VYLdnKN2R39",
        "outputId": "18f841c1-8432-4b89-de55-0c77db103a1b"
      },
      "execution_count": 43,
      "outputs": [
        {
          "output_type": "stream",
          "name": "stdout",
          "text": [
            "<filter object at 0x7f80d21974d0>\n"
          ]
        }
      ]
    },
    {
      "cell_type": "markdown",
      "source": [
        "Както `map`, така и `filter` връщат генератор обекти - с едно извикване на `list` можем да превърнем резултата в списък"
      ],
      "metadata": {
        "id": "9O_Nett62jda"
      }
    },
    {
      "cell_type": "code",
      "source": [
        "print(list(filter(is_even, numbers)))"
      ],
      "metadata": {
        "colab": {
          "base_uri": "https://localhost:8080/"
        },
        "id": "44fycL4v2qJW",
        "outputId": "3a7bb081-cc2d-4185-ec8f-9bb171894a39"
      },
      "execution_count": 44,
      "outputs": [
        {
          "output_type": "stream",
          "name": "stdout",
          "text": [
            "[2, 12]\n"
          ]
        }
      ]
    },
    {
      "cell_type": "markdown",
      "source": [
        "Може и с `lambda`"
      ],
      "metadata": {
        "id": "Px7t6Gbi2y5x"
      }
    },
    {
      "cell_type": "code",
      "source": [
        "print(list(filter(lambda number: number % 2 == 0, numbers)))"
      ],
      "metadata": {
        "colab": {
          "base_uri": "https://localhost:8080/"
        },
        "id": "s2PRAAEa20Wp",
        "outputId": "b9adb9e7-1fa8-4d61-ce97-675d237ac801"
      },
      "execution_count": 45,
      "outputs": [
        {
          "output_type": "stream",
          "name": "stdout",
          "text": [
            "[2, 12]\n"
          ]
        }
      ]
    },
    {
      "cell_type": "markdown",
      "source": [
        "## Reduce"
      ],
      "metadata": {
        "id": "sqXhZ0VjTt3n"
      }
    },
    {
      "cell_type": "markdown",
      "source": [
        "Тук нещата стават една идея по-сложни. Нека започнем с един пример: трябва да намерим произведението на всички числа в даден списък.\n",
        "\n",
        "Нека за момент се абстрахираме от програмирането - как бихме намерили произведението на числа 3, 5 и 8 ? Първо бихме умножили 3 и 5, което прави 15. След това, получения резултат от предишната операция (в нашия случай 15) и ще го умножим с 8.\n",
        "\n",
        "Тази процедура може да бъде използвана за списъци с произволен брой числа - всяко следващо число бива умножено с резултата до момента.\n",
        "\n",
        "Ако трябва да представим тази идея с код, тя би изглеждала по следния начин:"
      ],
      "metadata": {
        "id": "3hxXe8xBHK2C"
      }
    },
    {
      "cell_type": "code",
      "source": [
        "def get_product_of_all_nums(nums):\n",
        "    result = nums[0]\n",
        "\n",
        "    for num in nums[1:]:\n",
        "        result = result * num\n",
        "    \n",
        "    return result"
      ],
      "metadata": {
        "id": "s9z4rwwAJ30E"
      },
      "execution_count": 46,
      "outputs": []
    },
    {
      "cell_type": "code",
      "source": [
        "numbers = [3, 5, 8]\n",
        "print(get_product_of_all_nums(numbers))"
      ],
      "metadata": {
        "colab": {
          "base_uri": "https://localhost:8080/"
        },
        "id": "r-UzBcuSNXSj",
        "outputId": "3fc1f310-0cbc-4cbc-a7a1-5468e99803f3"
      },
      "execution_count": 47,
      "outputs": [
        {
          "output_type": "stream",
          "name": "stdout",
          "text": [
            "120\n"
          ]
        }
      ]
    },
    {
      "cell_type": "markdown",
      "source": [
        "Нека генерализираме нашата функция - вместо умножение, тя да може да работи с подадена функция, приемаща два аргумента - резултата до момента и текущото число"
      ],
      "metadata": {
        "id": "5eEwlbKTN2qc"
      }
    },
    {
      "cell_type": "code",
      "source": [
        "def my_reduce(function, collection):\n",
        "    result = collection[0]\n",
        "\n",
        "    for item in collection[1:]:\n",
        "        result = function(result, item)\n",
        "    \n",
        "    return result"
      ],
      "metadata": {
        "id": "Aj_TGwF7OEbO"
      },
      "execution_count": 48,
      "outputs": []
    },
    {
      "cell_type": "code",
      "source": [
        "numbers = [3, 5, 8]\n",
        "def multiply(result_so_far, current_number):\n",
        "    return result_so_far * current_number\n",
        "\n",
        "print(my_reduce(multiply, numbers))"
      ],
      "metadata": {
        "colab": {
          "base_uri": "https://localhost:8080/"
        },
        "id": "GOAzsrEyOcV9",
        "outputId": "e0c4c38f-47bc-4562-cc36-06f2dffb31eb"
      },
      "execution_count": 49,
      "outputs": [
        {
          "output_type": "stream",
          "name": "stdout",
          "text": [
            "120\n"
          ]
        }
      ]
    },
    {
      "cell_type": "markdown",
      "source": [
        "Една оптимизация, която можем да направим е следната - вместо за начало да взимаме първия елемент от колекцията, може да приемаме началната стойност като аргумент на функцията"
      ],
      "metadata": {
        "id": "zh_Yc4mCOr21"
      }
    },
    {
      "cell_type": "code",
      "source": [
        "def my_reduce_with_start(function, collection, start):\n",
        "    result = start\n",
        "\n",
        "    for item in collection:\n",
        "        result = function(result, item)\n",
        "    \n",
        "    return result"
      ],
      "metadata": {
        "id": "btgU6oqxO0xn"
      },
      "execution_count": 50,
      "outputs": []
    },
    {
      "cell_type": "code",
      "source": [
        "numbers = [3, 5, 8]\n",
        "def multiply(result_so_far, current_number):\n",
        "    return result_so_far * current_number\n",
        "\n",
        "print(my_reduce_with_start(multiply, numbers, 1))"
      ],
      "metadata": {
        "colab": {
          "base_uri": "https://localhost:8080/"
        },
        "id": "zJW_47dcO4NF",
        "outputId": "9df0e633-4ecd-4f1f-d300-676a310f5e10"
      },
      "execution_count": 51,
      "outputs": [
        {
          "output_type": "stream",
          "name": "stdout",
          "text": [
            "120\n"
          ]
        }
      ]
    },
    {
      "cell_type": "markdown",
      "source": [
        "Ето че стигнахме и до `reduce` - функция, която приема функция и колекция. Функцията бива приложена върху резултата, който имаме до момента и всеки елемент от колекцията.\n",
        "Важно е да уточним терминологията тук - в някои езици може да срещенете тази функция като `accumulate`, `fold` или пък `foldl`.\n",
        "\n",
        "Тук е важно да спомена за наличието на т.нар \"ляв\" и \"десен\" `reduce`. В други функционални езици (като Haskell), имаме концепцията за ляв и десен `fold` - в каква посока се изпълнява функцията - отляво надясно или отдясно наляво. За някои операции (например умножение) реда на изпълнение няма значение, но например при деление би имало значение дали започваме от ляво или от дясно. Повече информация за fold функцията в другите езици, може да намерите [тук](https://www.wikiwand.com/en/Fold_(higher-order_function)). "
      ],
      "metadata": {
        "id": "3yKqd5GiO-4b"
      }
    },
    {
      "cell_type": "markdown",
      "source": [
        "Вградената функция reduce в Python се намира в библиотеката `functools`. За да я използваме, първо трябва да я заредим (`import`)"
      ],
      "metadata": {
        "id": "cWgQ-b6rgPBs"
      }
    },
    {
      "cell_type": "code",
      "source": [
        "from functools import reduce\n",
        "\n",
        "numbers = [3, 5, 8]\n",
        "\n",
        "def multiply(result_so_far, current_number):\n",
        "    return result_so_far * current_number\n",
        "\n",
        "print(reduce(multiply, numbers, 1))"
      ],
      "metadata": {
        "colab": {
          "base_uri": "https://localhost:8080/"
        },
        "id": "E0OsOOpofqWV",
        "outputId": "c3016c76-8430-43ed-92e6-69df557feed9"
      },
      "execution_count": 52,
      "outputs": [
        {
          "output_type": "stream",
          "name": "stdout",
          "text": [
            "120\n"
          ]
        }
      ]
    },
    {
      "cell_type": "markdown",
      "source": [
        "Както може би сте се досетили, тук не получаваме генератор - резултатът от `reduce` е една стойност (в нашия случай това е число).\n",
        "\n",
        "`reduce`, също както `map` и `filter` работи и с `lambda` функции. Тук е добро място да се отбележи, че първия аргумент, който бива подаден на функцията е стойността до момента (или стойността, която се е **акумулирала** (**accumulate**). "
      ],
      "metadata": {
        "id": "WjRPbjw_gqjM"
      }
    },
    {
      "cell_type": "code",
      "source": [
        "numbers = [3, 5, 8]\n",
        "\n",
        "print(reduce(lambda acc, number: acc * number, numbers))"
      ],
      "metadata": {
        "colab": {
          "base_uri": "https://localhost:8080/"
        },
        "id": "iDUnY5Ikg1nA",
        "outputId": "8e790c89-a88a-47ec-d05c-e139ed6f5aa8"
      },
      "execution_count": 53,
      "outputs": [
        {
          "output_type": "stream",
          "name": "stdout",
          "text": [
            "120\n"
          ]
        }
      ]
    },
    {
      "cell_type": "markdown",
      "source": [
        "А можем и да подадем начална стойност:"
      ],
      "metadata": {
        "id": "Y0kpWGxPrm1B"
      }
    },
    {
      "cell_type": "code",
      "source": [
        "numbers = [3, 5, 8]\n",
        "print(reduce(lambda acc, number: acc * number, numbers, 1))\n",
        "print(reduce(lambda acc, number: acc * number, numbers, 2))"
      ],
      "metadata": {
        "colab": {
          "base_uri": "https://localhost:8080/"
        },
        "id": "l1W8u5RrrpyN",
        "outputId": "2191b3a8-ac24-46d4-ea6a-3706c1e63f8f"
      },
      "execution_count": 54,
      "outputs": [
        {
          "output_type": "stream",
          "name": "stdout",
          "text": [
            "120\n",
            "240\n"
          ]
        }
      ]
    },
    {
      "cell_type": "markdown",
      "source": [
        "А сега един по-сложен пример: Нека имаме списък, чийто елементи са списъци с числа. С помощта на `reduce`, подходяща функция и подходяща начална стойност, бихме могли да получим един списък, който съдържа числата, без те да са в отделни списъци."
      ],
      "metadata": {
        "id": "YVMFH9kZsOkV"
      }
    },
    {
      "cell_type": "code",
      "source": [
        "numbers_2d = [[1, 2, 3], [4, 5, 6], [7, 8, 9, 10]]\n",
        "\n",
        "print(reduce(lambda acc, item: acc + item, numbers_2d, []))"
      ],
      "metadata": {
        "colab": {
          "base_uri": "https://localhost:8080/"
        },
        "id": "QQn2gsO-snB-",
        "outputId": "5c211919-a167-4a93-b37a-5cf98f7243a0"
      },
      "execution_count": 55,
      "outputs": [
        {
          "output_type": "stream",
          "name": "stdout",
          "text": [
            "[1, 2, 3, 4, 5, 6, 7, 8, 9, 10]\n"
          ]
        }
      ]
    },
    {
      "cell_type": "markdown",
      "source": [
        "Припомням, че операция събиране (`+`) приложена върху два списъка ни връща конкатенацията на двата списъка. \n",
        "\n",
        "В горната операция, ние взехме един списък, и го \"изравнихме\" (flatten). Операцията \"flatten\" върху списъци е често срещата в езиците за функционално програмиране, макар и в Python да нямаме готова функция за това. "
      ],
      "metadata": {
        "id": "0S1DKM_ps2jd"
      }
    },
    {
      "cell_type": "code",
      "source": [
        ""
      ],
      "metadata": {
        "id": "e3T2-PqNs_Yy"
      },
      "execution_count": 55,
      "outputs": []
    },
    {
      "cell_type": "markdown",
      "source": [
        "## Zip"
      ],
      "metadata": {
        "id": "ZPJ5LXnptyEh"
      }
    },
    {
      "cell_type": "markdown",
      "source": [
        "Нека се върнем за кратко към примера за използването на `map`, при който от два списъка, ние направихме един, който съдържаше елементите на двата, групирани по позицията им:"
      ],
      "metadata": {
        "id": "bEz_G7lXt05j"
      }
    },
    {
      "cell_type": "code",
      "source": [
        "first_numbers = [1, 2, 3, 4]\n",
        "second_numbers = [5, 6, 7, 8]\n",
        "\n",
        "def return_as_tuple(a, b):\n",
        "    return a, b\n",
        "\n",
        "print(list(map(return_as_tuple, first_numbers, second_numbers)))"
      ],
      "metadata": {
        "colab": {
          "base_uri": "https://localhost:8080/"
        },
        "id": "dNGwI1wmzisP",
        "outputId": "7b4d66c8-eedc-43d8-ab88-0f127b8b3077"
      },
      "execution_count": 56,
      "outputs": [
        {
          "output_type": "stream",
          "name": "stdout",
          "text": [
            "[(1, 5), (2, 6), (3, 7), (4, 8)]\n"
          ]
        }
      ]
    },
    {
      "cell_type": "markdown",
      "source": [
        "В Python има готова функция, която прави това обединение за нас - `zip`"
      ],
      "metadata": {
        "id": "4Shx9XEZzuU_"
      }
    },
    {
      "cell_type": "code",
      "source": [
        "first_numbers = [1, 2, 3, 4]\n",
        "second_numbers = [5, 6, 7, 8]\n",
        "\n",
        "print(zip(first_numbers, second_numbers))\n",
        "print(list(zip(first_numbers, second_numbers)))"
      ],
      "metadata": {
        "colab": {
          "base_uri": "https://localhost:8080/"
        },
        "id": "zJEUVGBc5fNv",
        "outputId": "e238fa99-0242-4001-e848-d60ad8e4ee33"
      },
      "execution_count": 57,
      "outputs": [
        {
          "output_type": "stream",
          "name": "stdout",
          "text": [
            "<zip object at 0x7f80d2135690>\n",
            "[(1, 5), (2, 6), (3, 7), (4, 8)]\n"
          ]
        }
      ]
    },
    {
      "cell_type": "markdown",
      "source": [
        "Не е нужно списъците да са от еднакви типове елементи."
      ],
      "metadata": {
        "id": "g5IHInrO5qUY"
      }
    },
    {
      "cell_type": "code",
      "source": [
        "names = ['Иван', 'Любо', 'Алекс']\n",
        "favorite_number = [3, 20, 7]\n",
        "\n",
        "print(list(zip(names, favorite_number)))"
      ],
      "metadata": {
        "colab": {
          "base_uri": "https://localhost:8080/"
        },
        "id": "Zrhemegr5w2b",
        "outputId": "26254305-7a98-4632-b281-c9fbf088d68d"
      },
      "execution_count": 58,
      "outputs": [
        {
          "output_type": "stream",
          "name": "stdout",
          "text": [
            "[('Иван', 3), ('Любо', 20), ('Алекс', 7)]\n"
          ]
        }
      ]
    },
    {
      "cell_type": "markdown",
      "source": [
        "Ако единият списък е по-дълъг от другия, по-дългия списък ще бъде отрязан:"
      ],
      "metadata": {
        "id": "_ddnvIx36J-Y"
      }
    },
    {
      "cell_type": "code",
      "source": [
        "names = ['Иван', 'Любо', 'Алекс', 'Иво']\n",
        "favorite_number = [3, 20, 7]\n",
        "\n",
        "print(list(zip(names, favorite_number)))"
      ],
      "metadata": {
        "colab": {
          "base_uri": "https://localhost:8080/"
        },
        "id": "Jdi4-Bh86T4P",
        "outputId": "4322a0eb-58f0-48a8-8c31-4c137a3cddd2"
      },
      "execution_count": 59,
      "outputs": [
        {
          "output_type": "stream",
          "name": "stdout",
          "text": [
            "[('Иван', 3), ('Любо', 20), ('Алекс', 7)]\n"
          ]
        }
      ]
    },
    {
      "cell_type": "code",
      "source": [
        "names = ['Иван', 'Любо', 'Алекс']\n",
        "favorite_number = [3, 20, 7, -1]\n",
        "\n",
        "print(list(zip(names, favorite_number)))"
      ],
      "metadata": {
        "colab": {
          "base_uri": "https://localhost:8080/"
        },
        "id": "C4N8CVYh6XPo",
        "outputId": "f175fcac-d48b-41bf-8ae1-1e2730a53df3"
      },
      "execution_count": 60,
      "outputs": [
        {
          "output_type": "stream",
          "name": "stdout",
          "text": [
            "[('Иван', 3), ('Любо', 20), ('Алекс', 7)]\n"
          ]
        }
      ]
    },
    {
      "cell_type": "markdown",
      "source": [
        "Или поне това е поведението по подразбиране. `zip` предлага още два метода на работа. С помощта на аргумента `strict=True`, ако подадените списъци са с различен размер, `zip` ще ни хвърли грешка (това е въведено в Python3.10). "
      ],
      "metadata": {
        "id": "-1urzDOj7-bF"
      }
    },
    {
      "cell_type": "code",
      "source": [
        "names = ['Иван', 'Любо', 'Алекс']\n",
        "favorite_number = [3, 20, 7, -1]\n",
        "\n",
        "zip(names, favorite_number, strict=True)"
      ],
      "metadata": {
        "colab": {
          "base_uri": "https://localhost:8080/",
          "height": 204
        },
        "id": "E6ns_0mK8MKR",
        "outputId": "39e93934-f540-4558-fb6a-f0160fe9c693"
      },
      "execution_count": 61,
      "outputs": [
        {
          "output_type": "error",
          "ename": "TypeError",
          "evalue": "ignored",
          "traceback": [
            "\u001b[0;31m---------------------------------------------------------------------------\u001b[0m",
            "\u001b[0;31mTypeError\u001b[0m                                 Traceback (most recent call last)",
            "\u001b[0;32m<ipython-input-61-acdcfbd62260>\u001b[0m in \u001b[0;36m<module>\u001b[0;34m\u001b[0m\n\u001b[1;32m      2\u001b[0m \u001b[0mfavorite_number\u001b[0m \u001b[0;34m=\u001b[0m \u001b[0;34m[\u001b[0m\u001b[0;36m3\u001b[0m\u001b[0;34m,\u001b[0m \u001b[0;36m20\u001b[0m\u001b[0;34m,\u001b[0m \u001b[0;36m7\u001b[0m\u001b[0;34m,\u001b[0m \u001b[0;34m-\u001b[0m\u001b[0;36m1\u001b[0m\u001b[0;34m]\u001b[0m\u001b[0;34m\u001b[0m\u001b[0;34m\u001b[0m\u001b[0m\n\u001b[1;32m      3\u001b[0m \u001b[0;34m\u001b[0m\u001b[0m\n\u001b[0;32m----> 4\u001b[0;31m \u001b[0mzip\u001b[0m\u001b[0;34m(\u001b[0m\u001b[0mnames\u001b[0m\u001b[0;34m,\u001b[0m \u001b[0mfavorite_number\u001b[0m\u001b[0;34m,\u001b[0m \u001b[0mstrict\u001b[0m\u001b[0;34m=\u001b[0m\u001b[0;32mTrue\u001b[0m\u001b[0;34m)\u001b[0m\u001b[0;34m\u001b[0m\u001b[0;34m\u001b[0m\u001b[0m\n\u001b[0m",
            "\u001b[0;31mTypeError\u001b[0m: zip() takes no keyword arguments"
          ]
        }
      ]
    },
    {
      "cell_type": "markdown",
      "source": [
        "А ако искаме да добавим някакви \"празни\" стойности към по-късия списък, може да използваме "
      ],
      "metadata": {
        "id": "LvxFBRCT8495"
      }
    },
    {
      "cell_type": "code",
      "source": [
        "from itertools import zip_longest\n",
        "\n",
        "names = ['Иван', 'Любо', 'Алекс']\n",
        "favorite_number = [3, 20, 7, -1, -2]\n",
        "\n",
        "print(list(zip_longest(names, favorite_number, fillvalue='Dummy')))"
      ],
      "metadata": {
        "colab": {
          "base_uri": "https://localhost:8080/"
        },
        "id": "7V5Wb-td81Vf",
        "outputId": "ee9d0d1e-46e4-401c-f646-4e36509b1971"
      },
      "execution_count": 62,
      "outputs": [
        {
          "output_type": "stream",
          "name": "stdout",
          "text": [
            "[('Иван', 3), ('Любо', 20), ('Алекс', 7), ('Dummy', -1), ('Dummy', -2)]\n"
          ]
        }
      ]
    },
    {
      "cell_type": "markdown",
      "source": [
        "Ако трябва да сме на 100% коректни, `zip` приема каквато и да е колекция:"
      ],
      "metadata": {
        "id": "udRYYe8g6ckD"
      }
    },
    {
      "cell_type": "code",
      "source": [
        "numbers = [1, 2, 3]\n",
        "letters = ['a', 'b', 'c']\n",
        "\n",
        "print(list(zip(map(lambda x: x ** 2, numbers), letters)))"
      ],
      "metadata": {
        "colab": {
          "base_uri": "https://localhost:8080/"
        },
        "id": "ZzYTuhQ46iJ-",
        "outputId": "f571107d-f809-45e8-bbe5-e4e7d59cceb0"
      },
      "execution_count": 63,
      "outputs": [
        {
          "output_type": "stream",
          "name": "stdout",
          "text": [
            "[(1, 'a'), (4, 'b'), (9, 'c')]\n"
          ]
        }
      ]
    },
    {
      "cell_type": "markdown",
      "source": [
        "Горният пример, малко по-културно разписан, изглежда по следния начин:"
      ],
      "metadata": {
        "id": "lPp4g-QY7AFZ"
      }
    },
    {
      "cell_type": "code",
      "source": [
        "numbers = [1, 2, 3]\n",
        "letters = ['a', 'b', 'c']\n",
        "\n",
        "squared_numbers = map(lambda x: x ** 2, numbers)\n",
        "zipped_together = zip(squared_numbers, letters)\n",
        "zipped_together_as_a_list = list(zipped_together)\n",
        "\n",
        "print(zipped_together_as_a_list)"
      ],
      "metadata": {
        "colab": {
          "base_uri": "https://localhost:8080/"
        },
        "id": "-MdoefTD7GHi",
        "outputId": "c1922c0e-9c8e-499c-bb0f-81669aeb38a5"
      },
      "execution_count": 64,
      "outputs": [
        {
          "output_type": "stream",
          "name": "stdout",
          "text": [
            "[(1, 'a'), (4, 'b'), (9, 'c')]\n"
          ]
        }
      ]
    },
    {
      "cell_type": "markdown",
      "source": [
        "## List comprehension"
      ],
      "metadata": {
        "id": "3UMrn1_GC9TV"
      }
    },
    {
      "cell_type": "markdown",
      "source": [
        "В Python съществува функционалност, наречена \"list comprehension\". List comprehension е синтактична конструкция, която ни позволява да създаваме списъци на базата на други списъци. Синтактично, list comprehension прилича на generator expressions:\n",
        "\n",
        "Можем да изразим тази идея в Python като използваме вече познатите ни `map` и `filter`:\n"
      ],
      "metadata": {
        "id": "fuy1NAg0smBA"
      }
    },
    {
      "cell_type": "code",
      "source": [
        "numbers = range(1, 101)\n",
        "\n",
        "even_numbers = filter(lambda x: x % 2 == 0, numbers)\n",
        "squared_numbers = map(lambda x: x ** 2, even_numbers)\n",
        "\n",
        "print(f'Squared even numbers: {list(squared_numbers)}')"
      ],
      "metadata": {
        "colab": {
          "base_uri": "https://localhost:8080/"
        },
        "id": "YwrygZ6wv8V8",
        "outputId": "0736a6eb-af7f-4eee-d51b-992459f082cc"
      },
      "execution_count": 65,
      "outputs": [
        {
          "output_type": "stream",
          "name": "stdout",
          "text": [
            "Squared even numbers: [4, 16, 36, 64, 100, 144, 196, 256, 324, 400, 484, 576, 676, 784, 900, 1024, 1156, 1296, 1444, 1600, 1764, 1936, 2116, 2304, 2500, 2704, 2916, 3136, 3364, 3600, 3844, 4096, 4356, 4624, 4900, 5184, 5476, 5776, 6084, 6400, 6724, 7056, 7396, 7744, 8100, 8464, 8836, 9216, 9604, 10000]\n"
          ]
        }
      ]
    },
    {
      "cell_type": "markdown",
      "source": [
        "В общия случай, синтаксиса на list comprehension е следния: `[f(item) for item in collection if p(item)]` - т.е. кода по-горе би изглеждал по следния начин като list comprehension:"
      ],
      "metadata": {
        "id": "KscbZW_owmaj"
      }
    },
    {
      "cell_type": "code",
      "source": [
        "print(f'Squared even numbers: {[x ** 2 for x in range(1, 101) if x % 2 == 0]}')"
      ],
      "metadata": {
        "colab": {
          "base_uri": "https://localhost:8080/"
        },
        "id": "SvpZfh34w6f1",
        "outputId": "5bdacdec-947b-4cc6-df12-fb4ec30510ca"
      },
      "execution_count": 66,
      "outputs": [
        {
          "output_type": "stream",
          "name": "stdout",
          "text": [
            "Squared even numbers: [4, 16, 36, 64, 100, 144, 196, 256, 324, 400, 484, 576, 676, 784, 900, 1024, 1156, 1296, 1444, 1600, 1764, 1936, 2116, 2304, 2500, 2704, 2916, 3136, 3364, 3600, 3844, 4096, 4356, 4624, 4900, 5184, 5476, 5776, 6084, 6400, 6724, 7056, 7396, 7744, 8100, 8464, 8836, 9216, 9604, 10000]\n"
          ]
        }
      ]
    },
    {
      "cell_type": "markdown",
      "source": [
        "`if` часта или функцията, която се прилага върху всяка променливата могат да бъдат изпуснати:"
      ],
      "metadata": {
        "id": "6WIeBL5oxHnj"
      }
    },
    {
      "cell_type": "code",
      "source": [
        "numbers = [1, 2, 3]\n",
        "print(f'Odd numbers: {[number for number in numbers if number % 2 != 0]}')\n",
        "print(f'Multiplying all numbers by 2: {[number * 2 for number in numbers]}')"
      ],
      "metadata": {
        "colab": {
          "base_uri": "https://localhost:8080/"
        },
        "id": "pjyywkZbxSeE",
        "outputId": "5eb0cfb6-3dc9-4f52-aba6-89face7c21fd"
      },
      "execution_count": 67,
      "outputs": [
        {
          "output_type": "stream",
          "name": "stdout",
          "text": [
            "Odd numbers: [1, 3]\n",
            "Multiplying all numbers by 2: [2, 4, 6]\n"
          ]
        }
      ]
    },
    {
      "cell_type": "code",
      "source": [
        "def calculate_area_of_rectangle(a, b):\n",
        "    return a * b\n",
        "\n",
        "rectangles = [(1, 2), (5, 4), (3, 2.5), (-2, 3)]\n",
        "areas = [calculate_area_of_rectangle(x, y) for x, y in rectangles if x >= 0 and y >= 0]\n",
        "\n",
        "print(f'Areas of valid rectangles: {areas}')"
      ],
      "metadata": {
        "colab": {
          "base_uri": "https://localhost:8080/"
        },
        "id": "cLobXcm0yTJK",
        "outputId": "0b4240ca-3603-41aa-aff7-5a3deca7f0fb"
      },
      "execution_count": 68,
      "outputs": [
        {
          "output_type": "stream",
          "name": "stdout",
          "text": [
            "Areas of valid rectangles: [2, 20, 7.5]\n"
          ]
        }
      ]
    },
    {
      "cell_type": "markdown",
      "source": [
        "Може би забелязвате, че когато функцията която изпълняваме не е външна, не използваме `lambda`, а директно пишем операцията която искаме да приложим - това е част от опростяването на синтаксиса на list comprehension-ите. "
      ],
      "metadata": {
        "id": "7egor06ByQ6F"
      }
    },
    {
      "cell_type": "markdown",
      "source": [
        "Нека имаме дадени числа - искаме да върнем списък, в който за всяко число да пише \"Yes\" ако се дели на 3 или 5 и \"No\" в противен случай. Това може да стане лесно, чрез използването на тернарния оператор в Python."
      ],
      "metadata": {
        "id": "TAIQ13l-zK2c"
      }
    },
    {
      "cell_type": "code",
      "source": [
        "numbers = [7, 12, 5, 6, 9, 15, 1, 11]\n",
        "\n",
        "results = [\"Yes\" if number % 3 == 0 or number % 5 == 0 else \"No\" for number in numbers]\n",
        "\n",
        "print(f'Results are: {results}')"
      ],
      "metadata": {
        "colab": {
          "base_uri": "https://localhost:8080/"
        },
        "id": "BZwrpsImzesG",
        "outputId": "e1aa915a-1f9c-469b-c983-d48a275a7579"
      },
      "execution_count": 69,
      "outputs": [
        {
          "output_type": "stream",
          "name": "stdout",
          "text": [
            "Results are: ['No', 'Yes', 'Yes', 'Yes', 'Yes', 'Yes', 'No', 'No']\n"
          ]
        }
      ]
    },
    {
      "cell_type": "markdown",
      "source": [
        "## Скорост"
      ],
      "metadata": {
        "id": "p1gXeK1VC_hj"
      }
    },
    {
      "cell_type": "markdown",
      "source": [
        "Едно от най-\"шокиращите\" неща в Python е скоростта, която получаваме при използването на обикновенни `for` цикли, `map` или list comprehension.\n",
        "\n",
        "За да демонстрираме разликата, ще създадем функция, която повдига число на квадрат, и ще я приложим върху списък от 40 000 000 числа."
      ],
      "metadata": {
        "id": "TP_Xktyy0GaH"
      }
    },
    {
      "cell_type": "code",
      "source": [
        "from time import time\n",
        "\n",
        "def power_up(a):\n",
        "    return a ** 2\n",
        "\n",
        "numbers = list(range(1, 40000000))\n",
        "\n",
        "for_loop_start = time()\n",
        "\n",
        "for_loop_result = []\n",
        "for number in numbers:\n",
        "    for_loop_result.append(power_up(number))\n",
        "\n",
        "for_loop_end = time()\n",
        "print(f'For-looping took {for_loop_end - for_loop_start:.2f} seconds')\n",
        "\n",
        "\n",
        "map_start = time()\n",
        "\n",
        "map_result = list(map(power_up, numbers))\n",
        "\n",
        "map_end = time()\n",
        "print(f'map() took {map_end - map_start:.2f} seconds')\n",
        "\n",
        "\n",
        "list_comprehension_start = time()\n",
        "\n",
        "list_comprehension_result = [power_up(x) for x in numbers]\n",
        "\n",
        "list_comprehension_end = time()\n",
        "print(f'List comprehension took {list_comprehension_end - list_comprehension_start:.2f} seconds')"
      ],
      "metadata": {
        "colab": {
          "base_uri": "https://localhost:8080/"
        },
        "id": "mfnNOi640c7h",
        "outputId": "d34f0fd4-86a1-4b17-fcb4-e3a132f45472"
      },
      "execution_count": 70,
      "outputs": [
        {
          "output_type": "stream",
          "name": "stdout",
          "text": [
            "For-looping took 19.71 seconds\n",
            "map() took 13.12 seconds\n",
            "List comprehension took 15.12 seconds\n"
          ]
        }
      ]
    },
    {
      "cell_type": "markdown",
      "source": [
        "Основната разлика във времето идва от факта, че `append()` операцията е бавна. `map` и list comprehension-ите използва хитрини при заделянето на паметта, затова може да се каже че са с около 30% по-бързи. Няма да се впускам повече в темата, за по-любопитните, [тук](https://web.archive.org/web/20190319205826/http://blog.cdleary.com/2010/04/efficiency-of-list-comprehensions/) нещата са обяснение в повече детайли."
      ],
      "metadata": {
        "id": "E5_wupc73MQm"
      }
    },
    {
      "cell_type": "markdown",
      "source": [
        "На въпросът, кой от трите подхода се използват, моят отговор е следния: list comprehension и `map` дават доста по-добро представяне спрямо `for` loop + `append`, затова и са за предпочитане. Синтаксисът на list comprehension-ите е по-прост спрямо този на `map` (особенно ако трябва и да филтрираме елементите), което води до това, че **list comprehension-ите са за предпочитане**."
      ],
      "metadata": {
        "id": "HDUtKjL53mtu"
      }
    },
    {
      "cell_type": "markdown",
      "source": [
        "## Примери"
      ],
      "metadata": {
        "id": "kvSV07HkDF9T"
      }
    },
    {
      "cell_type": "markdown",
      "source": [
        "## Задачи"
      ],
      "metadata": {
        "id": "P0UV3ryNDIU0"
      }
    }
  ],
  "metadata": {
    "kernelspec": {
      "display_name": "Python 3",
      "language": "python",
      "name": "python3"
    },
    "language_info": {
      "codemirror_mode": {
        "name": "ipython",
        "version": 2
      },
      "file_extension": ".py",
      "mimetype": "text/x-python",
      "name": "python",
      "nbconvert_exporter": "python",
      "pygments_lexer": "ipython2",
      "version": "2.7.6"
    },
    "colab": {
      "name": "05 - Functional Programming.ipynb",
      "provenance": [],
      "collapsed_sections": [
        "egnOPBZddRFY"
      ],
      "include_colab_link": true
    }
  },
  "nbformat": 4,
  "nbformat_minor": 0
}