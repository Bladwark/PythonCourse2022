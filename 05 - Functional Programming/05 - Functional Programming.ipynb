{
 "cells": [
  {
   "cell_type": "markdown",
   "source": [
    "# Функционално програмиране с Python\n",
    "План на лекцията:\n",
    "- Immutability & side-effects\n",
    "- Функции като обекти\n",
    "- Анонимни (lambda) функции\n",
    "- Map\n",
    "- Filter\n",
    "- Reduce\n",
    "- Generators\n",
    "- List comprehension\n",
    "- Примери\n",
    "- Задачи"
   ],
   "metadata": {
    "collapsed": false,
    "pycharm": {
     "name": "#%% md\n"
    }
   }
  },
  {
   "cell_type": "markdown",
   "source": [
    "## Immutability & side-effects"
   ],
   "metadata": {
    "collapsed": false,
    "pycharm": {
     "name": "#%% md\n"
    }
   }
  },
  {
   "cell_type": "markdown",
   "source": [
    "## Функции, като обекти\n"
   ],
   "metadata": {
    "collapsed": false,
    "pycharm": {
     "name": "#%% md\n"
    }
   }
  },
  {
   "cell_type": "markdown",
   "source": [
    "## Map\n",
    "\n",
    "Map е специална функция, която има една-единствена цел - да приложи друга функция към дадена колекция. Нека е даден списък с числа и функция, която приема число, и го умножава по 2."
   ],
   "metadata": {
    "collapsed": false,
    "pycharm": {
     "name": "#%% md\n"
    }
   }
  },
  {
   "cell_type": "code",
   "execution_count": null,
   "outputs": [],
   "source": [
    "numbers = [2, 7, 3, 9, -1, 12]\n",
    "\n",
    "def multiply(number: int) -> int:\n",
    "    return number * 2"
   ],
   "metadata": {
    "collapsed": false,
    "pycharm": {
     "name": "#%%\n"
    }
   }
  },
  {
   "cell_type": "markdown",
   "source": [
    "Ако трябва сами да разпишем map функцията, тя би изглеждала по следния начин:"
   ],
   "metadata": {
    "collapsed": false,
    "pycharm": {
     "name": "#%% md\n"
    }
   }
  },
  {
   "cell_type": "code",
   "execution_count": null,
   "outputs": [],
   "source": [
    "def my_map()"
   ],
   "metadata": {
    "collapsed": false,
    "pycharm": {
     "name": "#%%\n"
    }
   }
  }
 ],
 "metadata": {
  "kernelspec": {
   "display_name": "Python 3",
   "language": "python",
   "name": "python3"
  },
  "language_info": {
   "codemirror_mode": {
    "name": "ipython",
    "version": 2
   },
   "file_extension": ".py",
   "mimetype": "text/x-python",
   "name": "python",
   "nbconvert_exporter": "python",
   "pygments_lexer": "ipython2",
   "version": "2.7.6"
  }
 },
 "nbformat": 4,
 "nbformat_minor": 0
}