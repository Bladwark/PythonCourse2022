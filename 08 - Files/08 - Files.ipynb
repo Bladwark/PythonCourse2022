{
  "nbformat": 4,
  "nbformat_minor": 0,
  "metadata": {
    "colab": {
      "provenance": [],
      "collapsed_sections": [
        "3Fd8dyDSliLn",
        "KPWujZmdo10D",
        "UU_sozqXbJhx",
        "90Il8AMhbLu2",
        "Nlb97sGOf4s8",
        "HbjmmlfMYpVo",
        "G3Jqt8kLi8W0",
        "baI__6ycM8IS",
        "Ekhha8biM-Ps",
        "NHJPuuq_NBV5",
        "vgkfZTpuNGlv",
        "BC9RWXG1NX7R",
        "YfLvF6IvlDpa"
      ],
      "authorship_tag": "ABX9TyME8mGJZauKt5TvpQ2KkrvV",
      "include_colab_link": true
    },
    "kernelspec": {
      "name": "python3",
      "display_name": "Python 3"
    },
    "language_info": {
      "name": "python"
    }
  },
  "cells": [
    {
      "cell_type": "markdown",
      "metadata": {
        "id": "view-in-github",
        "colab_type": "text"
      },
      "source": [
        "<a href=\"https://colab.research.google.com/github/fmipython/PythonCourse2022/blob/08_files/08%20-%20Files/08%20-%20Files.ipynb\" target=\"_parent\"><img src=\"https://colab.research.google.com/assets/colab-badge.svg\" alt=\"Open In Colab\"/></a>"
      ]
    },
    {
      "cell_type": "markdown",
      "source": [
        "# Работа с файлове в Python\n",
        "План на лекцията:\n",
        "- [X] Кратка интродукция за работата с пътища, Windows и Unix\n",
        "- [X] Представяне на файловете в Python\n",
        "- [X] Четене на файлове\n",
        "- [X] Писане на файлове\n",
        "- [X] Работа с файлове и пътища\n",
        "- [X] Използване на `with`\n",
        "- [ ] `tell` и `seek`\n",
        "- [ ] Примери\n",
        "- [ ] Задачи"
      ],
      "metadata": {
        "id": "YIgCCwN5a39O"
      }
    },
    {
      "cell_type": "markdown",
      "source": [
        "### Предварителна подготовка "
      ],
      "metadata": {
        "id": "LnxJAYYb63dN"
      }
    },
    {
      "cell_type": "code",
      "source": [
        "!mkdir files\n",
        "!curl -o files/lorem_ipsum.txt https://raw.githubusercontent.com/lyubolp/PythonCourse2022/08_files/08%20-%20Files/files/1.txt\n",
        "!echo \"hello\" > files/hello.txt"
      ],
      "metadata": {
        "colab": {
          "base_uri": "https://localhost:8080/"
        },
        "id": "L02fnebn7I_E",
        "outputId": "5788f15c-fa41-41d8-b226-1c1fc5bf5b29"
      },
      "execution_count": null,
      "outputs": [
        {
          "output_type": "stream",
          "name": "stdout",
          "text": [
            "mkdir: cannot create directory ‘files’: File exists\n",
            "  % Total    % Received % Xferd  Average Speed   Time    Time     Time  Current\n",
            "                                 Dload  Upload   Total   Spent    Left  Speed\n",
            "100   448  100   448    0     0   3500      0 --:--:-- --:--:-- --:--:--  3527\n"
          ]
        }
      ]
    },
    {
      "cell_type": "markdown",
      "source": [
        "## Кратка интродукция за работата с пътища, Windows и Unix."
      ],
      "metadata": {
        "id": "3Fd8dyDSliLn"
      }
    },
    {
      "cell_type": "markdown",
      "source": [
        "Път в една файлова система посочва локацията и името на даден обект (бил той файл или директория). Пример за път в Linux/MacOS е `/home/user/myfile.txt`, а в Windows - `C:\\Users\\user\\myfile.txt`. \n",
        "\n",
        "Забелязва се, че пътищата в Windows и Unix-базираните ОС се разделят с различни черти. Нашият Python код трябва да е съвместим и с двата начина за разделя на пътища. \n",
        "\n",
        "За наше улеснение, Python предлага функцията `os.path.join`, която по подадени имена на директории/файлове, конструира правилния спрямо нашия OS път."
      ],
      "metadata": {
        "id": "1FQAdGyXlkjs"
      }
    },
    {
      "cell_type": "code",
      "source": [
        "import os\n",
        "\n",
        "os.path.join('/home', 'lyubo', 'myfile.txt')"
      ],
      "metadata": {
        "colab": {
          "base_uri": "https://localhost:8080/",
          "height": 36
        },
        "id": "FR2Fp_MrnHDt",
        "outputId": "19a17f12-7d00-41ba-c2e3-17edd07caea9"
      },
      "execution_count": null,
      "outputs": [
        {
          "output_type": "execute_result",
          "data": {
            "text/plain": [
              "'/home/lyubo/myfile.txt'"
            ],
            "application/vnd.google.colaboratory.intrinsic+json": {
              "type": "string"
            }
          },
          "metadata": {},
          "execution_count": 2
        }
      ]
    },
    {
      "cell_type": "markdown",
      "source": [
        "Понеже кодът е изпълнен под Linux, получаваме Unix-ски път. Ако изпълним обаче същия код под Windows, ще получим правилен Windows-ки път. "
      ],
      "metadata": {
        "id": "RGGzX2_znL_z"
      }
    },
    {
      "cell_type": "markdown",
      "source": [
        "## Представяне на файловете в Python"
      ],
      "metadata": {
        "id": "KPWujZmdo10D"
      }
    },
    {
      "cell_type": "markdown",
      "source": [
        "Python предоставя API за работа с файлове и потоци. Python работи с т.нар. \"file objects\" - това може да са файлове на диска, sockets, pipes и други потоци.\n",
        "\n",
        "Освен с текстови файлове, можем да работим и с бинарни файлове. За момента обаче, ще се спрем само върху текстовите файлове."
      ],
      "metadata": {
        "id": "FBsGm74Yo6LW"
      }
    },
    {
      "cell_type": "markdown",
      "source": [
        "Можем да отворим един файл за работа, с помощта на функцията `open`. В най-простия си вид, тя приема път към файл. "
      ],
      "metadata": {
        "id": "e0ME86yzrRuJ"
      }
    },
    {
      "cell_type": "code",
      "source": [
        "fd = open(os.path.join('files', 'lorem_ipsum.txt'))\n",
        "\n",
        "print(fd)\n",
        "\n",
        "fd.close()"
      ],
      "metadata": {
        "colab": {
          "base_uri": "https://localhost:8080/"
        },
        "id": "9uztE6pzrYj5",
        "outputId": "f9ad02ca-ae15-459f-e86b-9bc7b1af735a"
      },
      "execution_count": null,
      "outputs": [
        {
          "output_type": "stream",
          "name": "stdout",
          "text": [
            "<_io.TextIOWrapper name='files/lorem_ipsum.txt' mode='r' encoding='UTF-8'>\n"
          ]
        }
      ]
    },
    {
      "cell_type": "markdown",
      "source": [
        "След като приключим работа с един файл, не трябва да забравяме да го затворим. Затварянето на един файл става с помощта на `close` метода. "
      ],
      "metadata": {
        "id": "4ohPpwYurg55"
      }
    },
    {
      "cell_type": "markdown",
      "source": [
        "Забелязваме, че обекта който получаваме като резултат от `open` има име (`files/lorem_ipsum.txt`), режим (`r`) и кодиране (`UTF-8`).\n",
        "\n",
        "Един файл може да бъде отворен в няколко различни режима:\n",
        "- `r` - отваря файла за четене\n",
        "- `w` - отваря файла за писане, като файла първо бива зачистен\n",
        "- `a` - отваря файла за писане, като новото съдържание се записва в края на файла\n",
        "- `x` - създава файла, ако не съществува. Ако файла вече съществува, се хвърля `FileExistsError`\n",
        "- `b` - отваря файл в бинарен режим\n",
        "- `t` - отваря файл в текстови режим\n",
        "- `+` - отваря файла за четене и писане\n",
        "\n",
        "Освен режима на отваряне, можем да променим и кодирането, с което се опитваме да четем файла. По подразбиране, използваме `UTF-8`. "
      ],
      "metadata": {
        "id": "lpRD3mZarn3x"
      }
    },
    {
      "cell_type": "markdown",
      "source": [
        "Ако се опитаме да запишем файл в несъществуваща директория, ще получим грешка"
      ],
      "metadata": {
        "id": "RlrURy5tmAHa"
      }
    },
    {
      "cell_type": "code",
      "source": [
        "fd = open(os.path.join('files', 'non_existing_dir', 'new_file.txt'), 'w')\n",
        "\n",
        "fd.write('content')\n",
        "\n",
        "fd.close()"
      ],
      "metadata": {
        "colab": {
          "base_uri": "https://localhost:8080/",
          "height": 239
        },
        "id": "jcixN1mWl_sN",
        "outputId": "2dce9842-bb6f-43ba-e5f4-8f30767267f8"
      },
      "execution_count": null,
      "outputs": [
        {
          "output_type": "error",
          "ename": "FileNotFoundError",
          "evalue": "ignored",
          "traceback": [
            "\u001b[0;31m---------------------------------------------------------------------------\u001b[0m",
            "\u001b[0;31mFileNotFoundError\u001b[0m                         Traceback (most recent call last)",
            "\u001b[0;32m<ipython-input-8-40e729170234>\u001b[0m in \u001b[0;36m<module>\u001b[0;34m\u001b[0m\n\u001b[0;32m----> 1\u001b[0;31m \u001b[0mfd\u001b[0m \u001b[0;34m=\u001b[0m \u001b[0mopen\u001b[0m\u001b[0;34m(\u001b[0m\u001b[0mos\u001b[0m\u001b[0;34m.\u001b[0m\u001b[0mpath\u001b[0m\u001b[0;34m.\u001b[0m\u001b[0mjoin\u001b[0m\u001b[0;34m(\u001b[0m\u001b[0;34m'files'\u001b[0m\u001b[0;34m,\u001b[0m \u001b[0;34m'non_existing_dir'\u001b[0m\u001b[0;34m,\u001b[0m \u001b[0;34m'new_file.txt'\u001b[0m\u001b[0;34m)\u001b[0m\u001b[0;34m,\u001b[0m \u001b[0;34m'w'\u001b[0m\u001b[0;34m)\u001b[0m\u001b[0;34m\u001b[0m\u001b[0;34m\u001b[0m\u001b[0m\n\u001b[0m\u001b[1;32m      2\u001b[0m \u001b[0;34m\u001b[0m\u001b[0m\n\u001b[1;32m      3\u001b[0m \u001b[0mfd\u001b[0m\u001b[0;34m.\u001b[0m\u001b[0mwrite\u001b[0m\u001b[0;34m(\u001b[0m\u001b[0;34m'content'\u001b[0m\u001b[0;34m)\u001b[0m\u001b[0;34m\u001b[0m\u001b[0;34m\u001b[0m\u001b[0m\n\u001b[1;32m      4\u001b[0m \u001b[0;34m\u001b[0m\u001b[0m\n\u001b[1;32m      5\u001b[0m \u001b[0mfd\u001b[0m\u001b[0;34m.\u001b[0m\u001b[0mclose\u001b[0m\u001b[0;34m(\u001b[0m\u001b[0;34m)\u001b[0m\u001b[0;34m\u001b[0m\u001b[0;34m\u001b[0m\u001b[0m\n",
            "\u001b[0;31mFileNotFoundError\u001b[0m: [Errno 2] No such file or directory: 'files/non_existing_dir/new_file.txt'"
          ]
        }
      ]
    },
    {
      "cell_type": "markdown",
      "source": [
        "## Четене на файлове"
      ],
      "metadata": {
        "id": "UU_sozqXbJhx"
      }
    },
    {
      "cell_type": "markdown",
      "source": [
        "В Python имаме три метода, чрез които можем да четем от файлове: `read`, `readline` и `readlines`.  "
      ],
      "metadata": {
        "id": "D27sqq5ilMSp"
      }
    },
    {
      "cell_type": "markdown",
      "source": [
        "Нека първо разгледаме метода `read`. Той прочита целия файл и запазва съдържанието му в променлива, като един голям низ. "
      ],
      "metadata": {
        "id": "jJNafCFk12bQ"
      }
    },
    {
      "cell_type": "code",
      "execution_count": null,
      "metadata": {
        "colab": {
          "base_uri": "https://localhost:8080/",
          "height": 239
        },
        "id": "h92FBNCNat7U",
        "outputId": "fe0c97b7-e98d-428a-f459-3d391d8cb710"
      },
      "outputs": [
        {
          "output_type": "error",
          "ename": "FileNotFoundError",
          "evalue": "ignored",
          "traceback": [
            "\u001b[0;31m---------------------------------------------------------------------------\u001b[0m",
            "\u001b[0;31mFileNotFoundError\u001b[0m                         Traceback (most recent call last)",
            "\u001b[0;32m<ipython-input-1-9c6a5a439e46>\u001b[0m in \u001b[0;36m<module>\u001b[0;34m\u001b[0m\n\u001b[1;32m      1\u001b[0m \u001b[0;32mimport\u001b[0m \u001b[0mos\u001b[0m\u001b[0;34m\u001b[0m\u001b[0;34m\u001b[0m\u001b[0m\n\u001b[1;32m      2\u001b[0m \u001b[0;34m\u001b[0m\u001b[0m\n\u001b[0;32m----> 3\u001b[0;31m \u001b[0mfd\u001b[0m \u001b[0;34m=\u001b[0m \u001b[0mopen\u001b[0m\u001b[0;34m(\u001b[0m\u001b[0mos\u001b[0m\u001b[0;34m.\u001b[0m\u001b[0mpath\u001b[0m\u001b[0;34m.\u001b[0m\u001b[0mjoin\u001b[0m\u001b[0;34m(\u001b[0m\u001b[0;34m'files'\u001b[0m\u001b[0;34m,\u001b[0m \u001b[0;34m'lorem_ipsum.txt'\u001b[0m\u001b[0;34m)\u001b[0m\u001b[0;34m)\u001b[0m\u001b[0;34m\u001b[0m\u001b[0;34m\u001b[0m\u001b[0m\n\u001b[0m\u001b[1;32m      4\u001b[0m \u001b[0;34m\u001b[0m\u001b[0m\n\u001b[1;32m      5\u001b[0m \u001b[0mcontent\u001b[0m \u001b[0;34m=\u001b[0m \u001b[0mfd\u001b[0m\u001b[0;34m.\u001b[0m\u001b[0mread\u001b[0m\u001b[0;34m(\u001b[0m\u001b[0;34m)\u001b[0m\u001b[0;34m\u001b[0m\u001b[0;34m\u001b[0m\u001b[0m\n",
            "\u001b[0;31mFileNotFoundError\u001b[0m: [Errno 2] No such file or directory: 'files/lorem_ipsum.txt'"
          ]
        }
      ],
      "source": [
        "import os\n",
        "\n",
        "fd = open(os.path.join('files', 'lorem_ipsum.txt'))\n",
        "\n",
        "content = fd.read()\n",
        "print(f'content={content}')\n",
        "\n",
        "fd.close()"
      ]
    },
    {
      "cell_type": "markdown",
      "source": [
        "Веднъж прочетен един файл, следващото прочитане ще ни върне празен низ. "
      ],
      "metadata": {
        "id": "vGKGqRa-1K_m"
      }
    },
    {
      "cell_type": "code",
      "source": [
        "fd = open(os.path.join('files', 'lorem_ipsum.txt'))\n",
        "\n",
        "content = fd.read()\n",
        "print(f'content={content}')\n",
        "\n",
        "content = fd.read()\n",
        "print(f'content={content}')\n",
        "\n",
        "fd.close()"
      ],
      "metadata": {
        "colab": {
          "base_uri": "https://localhost:8080/"
        },
        "id": "-Xfg_I0NJJ9C",
        "outputId": "0c027891-7bf3-4d6c-c50b-f949db725e16"
      },
      "execution_count": null,
      "outputs": [
        {
          "output_type": "stream",
          "name": "stdout",
          "text": [
            "content=Lorem ipsum dolor sit amet, consectetur adipiscing elit, sed do eiusmod tempor incididunt ut labore et dolore magna aliqua. \n",
            "Ut enim ad minim veniam, quis nostrud exercitation ullamco laboris nisi ut aliquip ex ea commodo consequat. \n",
            "Duis aute irure dolor in reprehenderit in voluptate velit esse cillum dolore eu fugiat nulla pariatur. \n",
            "Excepteur sint occaecat cupidatat non proident, sunt in culpa qui officia deserunt mollit anim id est laborum\n",
            "\n",
            "content=\n"
          ]
        }
      ]
    },
    {
      "cell_type": "markdown",
      "source": [
        "Друг вариант за четене на файл, е ред по ред - това става с помощта на метода `readline`. "
      ],
      "metadata": {
        "id": "ULGoY5x72lCb"
      }
    },
    {
      "cell_type": "code",
      "source": [
        "import os\n",
        "fd = open(os.path.join('files', 'lorem_ipsum.txt'))\n",
        "\n",
        "content = fd.readline()\n",
        "print(f'content={content}')\n",
        "\n",
        "content = fd.readline()\n",
        "print(f'content={content}')\n",
        "\n",
        "fd.close()"
      ],
      "metadata": {
        "colab": {
          "base_uri": "https://localhost:8080/"
        },
        "id": "oK9Xi-Gu2zr7",
        "outputId": "2270a97a-ea9a-4183-ff06-e9b43beebb85"
      },
      "execution_count": null,
      "outputs": [
        {
          "output_type": "stream",
          "name": "stdout",
          "text": [
            "content=Lorem ipsum dolor sit amet, consectetur adipiscing elit, sed do eiusmod tempor incididunt ut labore et dolore magna aliqua. \n",
            "\n",
            "content=Ut enim ad minim veniam, quis nostrud exercitation ullamco laboris nisi ut aliquip ex ea commodo consequat. \n",
            "\n"
          ]
        }
      ]
    },
    {
      "cell_type": "markdown",
      "source": [
        "След прочитане на последния ред, `readline` връща празен низ."
      ],
      "metadata": {
        "id": "_DXlyrPY315L"
      }
    },
    {
      "cell_type": "code",
      "source": [
        "import os\n",
        "fd = open(os.path.join('files', 'lorem_ipsum.txt'))\n",
        "\n",
        "content = fd.readline()\n",
        "print(f'content={content}')\n",
        "\n",
        "while content != '':\n",
        "    content = fd.readline()\n",
        "    print(f'content={content}')\n",
        "\n",
        "fd.close()"
      ],
      "metadata": {
        "colab": {
          "base_uri": "https://localhost:8080/"
        },
        "id": "yVRgVthN3vix",
        "outputId": "b00d3d60-8ff7-47e1-db7f-5a16fadd3325"
      },
      "execution_count": null,
      "outputs": [
        {
          "output_type": "stream",
          "name": "stdout",
          "text": [
            "content=Lorem ipsum dolor sit amet, consectetur adipiscing elit, sed do eiusmod tempor incididunt ut labore et dolore magna aliqua. \n",
            "\n",
            "content=Ut enim ad minim veniam, quis nostrud exercitation ullamco laboris nisi ut aliquip ex ea commodo consequat. \n",
            "\n",
            "content=Duis aute irure dolor in reprehenderit in voluptate velit esse cillum dolore eu fugiat nulla pariatur. \n",
            "\n",
            "content=Excepteur sint occaecat cupidatat non proident, sunt in culpa qui officia deserunt mollit anim id est laborum\n",
            "\n",
            "content=\n"
          ]
        }
      ]
    },
    {
      "cell_type": "markdown",
      "source": [
        "Ако искаме да получим списък от всички редове във файл, можем да използваме `readlines`."
      ],
      "metadata": {
        "id": "6nLUpVFq4Ld4"
      }
    },
    {
      "cell_type": "code",
      "source": [
        "import os\n",
        "fd = open(os.path.join('files', 'lorem_ipsum.txt'))\n",
        "\n",
        "content = fd.readlines()\n",
        "print(f'content={content}')\n",
        "\n",
        "fd.close()"
      ],
      "metadata": {
        "colab": {
          "base_uri": "https://localhost:8080/"
        },
        "id": "xcmi0pcO4ULY",
        "outputId": "5f1c1861-3511-4039-e00e-0cfa79f45225"
      },
      "execution_count": null,
      "outputs": [
        {
          "output_type": "stream",
          "name": "stdout",
          "text": [
            "content=['Lorem ipsum dolor sit amet, consectetur adipiscing elit, sed do eiusmod tempor incididunt ut labore et dolore magna aliqua. \\n', 'Ut enim ad minim veniam, quis nostrud exercitation ullamco laboris nisi ut aliquip ex ea commodo consequat. \\n', 'Duis aute irure dolor in reprehenderit in voluptate velit esse cillum dolore eu fugiat nulla pariatur. \\n', 'Excepteur sint occaecat cupidatat non proident, sunt in culpa qui officia deserunt mollit anim id est laborum\\n']\n"
          ]
        }
      ]
    },
    {
      "cell_type": "code",
      "source": [
        "import os\n",
        "fd = open(os.path.join('files', 'lorem_ipsum.txt'))\n",
        "\n",
        "content = fd.readlines()\n",
        "\n",
        "for line in content:\n",
        "    print(f'content={line}')\n",
        "\n",
        "fd.close()"
      ],
      "metadata": {
        "colab": {
          "base_uri": "https://localhost:8080/"
        },
        "id": "zPRIvtWb4Ycu",
        "outputId": "40cdf2bf-bdb2-4f93-bf9c-89bf3757e63a"
      },
      "execution_count": null,
      "outputs": [
        {
          "output_type": "stream",
          "name": "stdout",
          "text": [
            "content=Lorem ipsum dolor sit amet, consectetur adipiscing elit, sed do eiusmod tempor incididunt ut labore et dolore magna aliqua. \n",
            "\n",
            "content=Ut enim ad minim veniam, quis nostrud exercitation ullamco laboris nisi ut aliquip ex ea commodo consequat. \n",
            "\n",
            "content=Duis aute irure dolor in reprehenderit in voluptate velit esse cillum dolore eu fugiat nulla pariatur. \n",
            "\n",
            "content=Excepteur sint occaecat cupidatat non proident, sunt in culpa qui officia deserunt mollit anim id est laborum\n",
            "\n"
          ]
        }
      ]
    },
    {
      "cell_type": "markdown",
      "source": [
        "Вместо да използваме `readlines`, можем да итерираме директно по файл обекта."
      ],
      "metadata": {
        "id": "URkhviux8oQn"
      }
    },
    {
      "cell_type": "code",
      "source": [
        "import os\n",
        "fd = open(os.path.join('files', 'lorem_ipsum.txt'))\n",
        "\n",
        "for line in fd:\n",
        "    print(f'content={line}')\n",
        "\n",
        "fd.close()"
      ],
      "metadata": {
        "colab": {
          "base_uri": "https://localhost:8080/"
        },
        "id": "6uiK1ioa9zCq",
        "outputId": "c4f4339c-e6a4-479b-ff47-42bad7cbfe26"
      },
      "execution_count": null,
      "outputs": [
        {
          "output_type": "stream",
          "name": "stdout",
          "text": [
            "content=Lorem ipsum dolor sit amet, consectetur adipiscing elit, sed do eiusmod tempor incididunt ut labore et dolore magna aliqua. \n",
            "\n",
            "content=Ut enim ad minim veniam, quis nostrud exercitation ullamco laboris nisi ut aliquip ex ea commodo consequat. \n",
            "\n",
            "content=Duis aute irure dolor in reprehenderit in voluptate velit esse cillum dolore eu fugiat nulla pariatur. \n",
            "\n",
            "content=Excepteur sint occaecat cupidatat non proident, sunt in culpa qui officia deserunt mollit anim id est laborum\n",
            "\n"
          ]
        }
      ]
    },
    {
      "cell_type": "markdown",
      "source": [
        "## Писане на файлове"
      ],
      "metadata": {
        "id": "90Il8AMhbLu2"
      }
    },
    {
      "cell_type": "markdown",
      "source": [
        "За писане на файлове в Python може да използваме методите `write` и `writelines`"
      ],
      "metadata": {
        "id": "GUyazAnfSESG"
      }
    },
    {
      "cell_type": "markdown",
      "source": [
        "Методът `write` записва низ във файла. Позицията зависи от начина по който е отворен файла (с или без изтриване на текущото съдържание)."
      ],
      "metadata": {
        "id": "URaUQ1hVS_Dx"
      }
    },
    {
      "cell_type": "code",
      "source": [
        "import os\n",
        "fd = open(os.path.join('files', 'hello_world.txt'), 'w')\n",
        "\n",
        "fd.write('Hello world')\n",
        "\n",
        "fd.close()"
      ],
      "metadata": {
        "id": "epMK7--sUZuH"
      },
      "execution_count": null,
      "outputs": []
    },
    {
      "cell_type": "code",
      "source": [
        "import os\n",
        "fd = open(os.path.join('files', 'hello_world.txt'))\n",
        "\n",
        "content = fd.read()\n",
        "print(content)\n",
        "fd.close()"
      ],
      "metadata": {
        "colab": {
          "base_uri": "https://localhost:8080/"
        },
        "id": "J0n45OqOh8D2",
        "outputId": "abac2e93-0fea-4e95-9c52-4df3edfd4cc1"
      },
      "execution_count": null,
      "outputs": [
        {
          "output_type": "stream",
          "name": "stdout",
          "text": [
            "Hello world\n"
          ]
        }
      ]
    },
    {
      "cell_type": "markdown",
      "source": [
        "Припомням, че ако отворим файла в режим `w`, то ще изтрием текущото му съдържание."
      ],
      "metadata": {
        "id": "SiZ4QZjZiZOo"
      }
    },
    {
      "cell_type": "code",
      "source": [
        "import os\n",
        "\n",
        "fd = open(os.path.join('files', 'my_important_file.txt'), 'w')\n",
        "fd.write('Really important')\n",
        "fd.close()\n",
        "\n",
        "# Oops, forgot to write something down\n",
        "\n",
        "fd = open(os.path.join('files', 'my_important_file.txt'), 'w')\n",
        "fd.write('Should really not forget this')\n",
        "fd.close()\n"
      ],
      "metadata": {
        "id": "VJPqmvsgiYrZ"
      },
      "execution_count": null,
      "outputs": []
    },
    {
      "cell_type": "code",
      "source": [
        "import os\n",
        "fd = open(os.path.join('files', 'my_important_file.txt'))\n",
        "\n",
        "content = fd.read()\n",
        "print(content)\n",
        "fd.close()"
      ],
      "metadata": {
        "colab": {
          "base_uri": "https://localhost:8080/"
        },
        "id": "nVBAP46YiwhL",
        "outputId": "1d978811-e1fd-4a75-92eb-736cb477144a"
      },
      "execution_count": null,
      "outputs": [
        {
          "output_type": "stream",
          "name": "stdout",
          "text": [
            "Should really not forget this\n"
          ]
        }
      ]
    },
    {
      "cell_type": "markdown",
      "source": [
        "Ако искаме да пишем в края на файла, трябва да използваме режим `a`"
      ],
      "metadata": {
        "id": "wuq58B4vi5Ub"
      }
    },
    {
      "cell_type": "code",
      "source": [
        "import os\n",
        "\n",
        "fd = open(os.path.join('files', 'my_important_file_2.txt'), 'a')\n",
        "fd.write('Really important\\n')\n",
        "fd.close()\n",
        "\n",
        "# Oops, forgot to write something down\n",
        "\n",
        "fd = open(os.path.join('files', 'my_important_file_2.txt'), 'a')\n",
        "fd.write('Should really not forget this\\n')\n",
        "fd.close()"
      ],
      "metadata": {
        "id": "bwjQXxlci9Kx"
      },
      "execution_count": null,
      "outputs": []
    },
    {
      "cell_type": "code",
      "source": [
        "import os\n",
        "fd = open(os.path.join('files', 'my_important_file_2.txt'))\n",
        "\n",
        "content = fd.read()\n",
        "print(content)\n",
        "fd.close()"
      ],
      "metadata": {
        "colab": {
          "base_uri": "https://localhost:8080/"
        },
        "id": "sdlaFvC6jJ1x",
        "outputId": "34e46186-d464-4ae8-a106-59227164842a"
      },
      "execution_count": null,
      "outputs": [
        {
          "output_type": "stream",
          "name": "stdout",
          "text": [
            "Really important\n",
            "Should really not forget this\n",
            "\n"
          ]
        }
      ]
    },
    {
      "cell_type": "markdown",
      "source": [
        "Методът `writelines` приема списък от \"редове\", които да бъдат записани във файла.\n",
        "\n",
        "**Забележка**: `writelines` не добавя автоматично нови редове след всеки елемент, затова се очаква всеки елемент от списъка да съдържа нов ред в себе си. "
      ],
      "metadata": {
        "id": "MMU2OzCFjqzI"
      }
    },
    {
      "cell_type": "code",
      "source": [
        "import os\n",
        "\n",
        "fd = open(os.path.join('files', 'writelines_example.txt'), 'w')\n",
        "\n",
        "lines_to_write = ['hello\\n', 'this\\n', 'are\\n', 'my\\n', 'lines\\n']\n",
        "fd.writelines(lines_to_write)\n",
        "\n",
        "fd.close()"
      ],
      "metadata": {
        "id": "Cl81-OtJkvXW"
      },
      "execution_count": null,
      "outputs": []
    },
    {
      "cell_type": "code",
      "source": [
        "import os\n",
        "fd = open(os.path.join('files', 'writelines_example.txt'))\n",
        "\n",
        "content = fd.read()\n",
        "print(content)\n",
        "fd.close()"
      ],
      "metadata": {
        "colab": {
          "base_uri": "https://localhost:8080/"
        },
        "id": "p1P40tosk-5A",
        "outputId": "451399fc-ace3-4502-9014-0e227a525768"
      },
      "execution_count": null,
      "outputs": [
        {
          "output_type": "stream",
          "name": "stdout",
          "text": [
            "hello\n",
            "this\n",
            "are\n",
            "my\n",
            "lines\n",
            "\n"
          ]
        }
      ]
    },
    {
      "cell_type": "markdown",
      "source": [
        "Тук е добре да се отбележи, че можем да записваме и други типове данни, освен низове (е не точно, но...).\n",
        "\n",
        "Стига даден тип (или обект) да има низово представяне, можем да го запишем във файл."
      ],
      "metadata": {
        "id": "mk0qWw2GWTFP"
      }
    },
    {
      "cell_type": "code",
      "source": [
        "import os\n",
        "\n",
        "other_types_in_files = os.path.join('files', 'other_types_in_files.txt')\n",
        "\n",
        "fd = open(other_types_in_files, 'w')\n",
        "\n",
        "fd.write(str(2) + '\\n')\n",
        "fd.write(str([2, 3, 4]) + '\\n')\n",
        "fd.write(str({'a': 2, 'b': 3, 'c': 4}) + '\\n')\n",
        "fd.write(str((2, 3)) + '\\n')\n",
        "\n",
        "fd.close()\n",
        "\n",
        "fd = open(other_types_in_files)\n",
        "content = fd.read()\n",
        "print(content)\n",
        "fd.close()"
      ],
      "metadata": {
        "colab": {
          "base_uri": "https://localhost:8080/"
        },
        "id": "E67N2bZvWjxq",
        "outputId": "1526c77e-6719-42ae-8441-6ab631470820"
      },
      "execution_count": null,
      "outputs": [
        {
          "output_type": "stream",
          "name": "stdout",
          "text": [
            "2\n",
            "[2, 3, 4]\n",
            "{'a': 2, 'b': 3, 'c': 4}\n",
            "(2, 3)\n",
            "\n"
          ]
        }
      ]
    },
    {
      "cell_type": "markdown",
      "source": [
        "## Работа с файлове и пътища"
      ],
      "metadata": {
        "id": "Nlb97sGOf4s8"
      }
    },
    {
      "cell_type": "markdown",
      "source": [
        "Python предлага удобен начин за работа с файлове. Вградената библиотека `os` съдържа всичко необходимо за работата с файлове и директории. \n",
        "\n",
        "Ще разгледаме как можем да:\n",
        "- [X] Прегледаме съдържанието на директория\n",
        "- [X] Преместим файл\n",
        "- [X] Изтрием файл\n",
        "- [X] Създадем директория\n",
        "- [X] Преместим директория\n",
        "- [X] Изтрием директория\n",
        "- [X] Обща работа с пътища"
      ],
      "metadata": {
        "id": "oe4Ti1UBhsVW"
      }
    },
    {
      "cell_type": "markdown",
      "source": [
        "### Преглеждане на съдържание на директория"
      ],
      "metadata": {
        "id": "HbjmmlfMYpVo"
      }
    },
    {
      "cell_type": "markdown",
      "source": [
        "Можем да видим съдържанието на директория като използваме `os.listdir` метода. Той ни връща списък от низове, съдържащи имената на директориите и файловете в исканата от нас папка. "
      ],
      "metadata": {
        "id": "Ks5R8-anYyA-"
      }
    },
    {
      "cell_type": "code",
      "source": [
        "import os\n",
        "\n",
        "print(os.listdir('files'))"
      ],
      "metadata": {
        "colab": {
          "base_uri": "https://localhost:8080/"
        },
        "id": "KMuyJeL_Zw8t",
        "outputId": "09fa8c12-259e-466e-b891-78214df9b4d4"
      },
      "execution_count": null,
      "outputs": [
        {
          "output_type": "stream",
          "name": "stdout",
          "text": [
            "['lorem_ipsum.txt', 'hello.txt']\n"
          ]
        }
      ]
    },
    {
      "cell_type": "markdown",
      "source": [
        "### Преместване на файл"
      ],
      "metadata": {
        "id": "G3Jqt8kLi8W0"
      }
    },
    {
      "cell_type": "markdown",
      "source": [
        "Преместването на файл става чрез \"преименуването му\" (или всъщност, преименуването на файл е преместването му като файл с друго име 🤔) - това в Python става с помощта на функцията `os.rename`. `os.rename` приема два аргумента - source път и destination път (т.е. старото и новото име на файла)"
      ],
      "metadata": {
        "id": "njIXBgExNpyD"
      }
    },
    {
      "cell_type": "code",
      "source": [
        "import os\n",
        "\n",
        "file_to_be_moved = os.path.join('files', 'to_be_moved.txt')\n",
        "\n",
        "fp = open(file_to_be_moved, 'w')\n",
        "fp.write('This file is to be moved')\n",
        "fp.close()\n",
        "\n",
        "print(f'Before = {os.listdir(\"files\")}')\n",
        "\n",
        "file_moved = os.path.join('files', 'file_moved.txt')\n",
        "\n",
        "os.rename(file_to_be_moved, file_moved)\n",
        "\n",
        "print(f'After = {os.listdir(\"files\")}')"
      ],
      "metadata": {
        "colab": {
          "base_uri": "https://localhost:8080/"
        },
        "id": "1g2-mwQLOnro",
        "outputId": "db180169-57ae-426a-88ef-84059adde5a7"
      },
      "execution_count": null,
      "outputs": [
        {
          "output_type": "stream",
          "name": "stdout",
          "text": [
            "Before = ['lorem_ipsum.txt', 'hello.txt', 'file_moved.txt', 'to_be_moved.txt']\n",
            "After = ['lorem_ipsum.txt', 'hello.txt', 'file_moved.txt']\n"
          ]
        }
      ]
    },
    {
      "cell_type": "markdown",
      "source": [
        "Ако вече съществува файл със същото име се случват едно от две неща:\n",
        "- Ако кодът се изпълнява под Windows, се хвърля `FileExistsError`. \n",
        "- Ако кодът се изпълнява под Linux/MacOS и имаме права върху файла върху който ще пишем, той ще бъде презаписан"
      ],
      "metadata": {
        "id": "CKGnXOydcpvy"
      }
    },
    {
      "cell_type": "markdown",
      "source": [
        "Нека разгледаме следната ситуация: имаме файл `files/a/file.txt`, който искаме да преместим в `files/b`, но директорията `b` не съществува."
      ],
      "metadata": {
        "id": "qRE0bS-BliKM"
      }
    },
    {
      "cell_type": "code",
      "source": [
        "!mkdir files/a"
      ],
      "metadata": {
        "id": "p3IzgYI0l1Rl"
      },
      "execution_count": null,
      "outputs": []
    },
    {
      "cell_type": "code",
      "source": [
        "import os\n",
        "\n",
        "file_to_be_moved = os.path.join('files', 'a', 'file.txt')\n",
        "\n",
        "fp = open(file_to_be_moved, 'w')\n",
        "fp.write('This file is to be moved')\n",
        "fp.close()\n",
        "\n",
        "os.rename(file_to_be_moved, os.path.join('files', 'b', 'file.txt'))"
      ],
      "metadata": {
        "colab": {
          "base_uri": "https://localhost:8080/",
          "height": 204
        },
        "id": "t7hy8TpPlrsS",
        "outputId": "0030f4fd-543e-40f7-dbe5-eb85acb5b1ca"
      },
      "execution_count": null,
      "outputs": [
        {
          "output_type": "error",
          "ename": "FileNotFoundError",
          "evalue": "ignored",
          "traceback": [
            "\u001b[0;31m---------------------------------------------------------------------------\u001b[0m",
            "\u001b[0;31mFileNotFoundError\u001b[0m                         Traceback (most recent call last)",
            "\u001b[0;32m<ipython-input-9-f2e9cc02e9b0>\u001b[0m in \u001b[0;36m<module>\u001b[0;34m\u001b[0m\n\u001b[1;32m      8\u001b[0m \u001b[0;34m\u001b[0m\u001b[0m\n\u001b[1;32m      9\u001b[0m \u001b[0;34m\u001b[0m\u001b[0m\n\u001b[0;32m---> 10\u001b[0;31m \u001b[0mos\u001b[0m\u001b[0;34m.\u001b[0m\u001b[0mrename\u001b[0m\u001b[0;34m(\u001b[0m\u001b[0mfile_to_be_moved\u001b[0m\u001b[0;34m,\u001b[0m \u001b[0mos\u001b[0m\u001b[0;34m.\u001b[0m\u001b[0mpath\u001b[0m\u001b[0;34m.\u001b[0m\u001b[0mjoin\u001b[0m\u001b[0;34m(\u001b[0m\u001b[0;34m'files'\u001b[0m\u001b[0;34m,\u001b[0m \u001b[0;34m'b'\u001b[0m\u001b[0;34m,\u001b[0m \u001b[0;34m'file.txt'\u001b[0m\u001b[0;34m)\u001b[0m\u001b[0;34m)\u001b[0m\u001b[0;34m\u001b[0m\u001b[0;34m\u001b[0m\u001b[0m\n\u001b[0m",
            "\u001b[0;31mFileNotFoundError\u001b[0m: [Errno 2] No such file or directory: 'files/a/file.txt' -> 'files/b/file.txt'"
          ]
        }
      ]
    },
    {
      "cell_type": "markdown",
      "source": [
        "### Изтриване на файл"
      ],
      "metadata": {
        "id": "baI__6ycM8IS"
      }
    },
    {
      "cell_type": "markdown",
      "source": [
        "Изтриването на файл се случва чрез метода `os.remove`. `os.remove` приема един аргумент - пътят към файла, който ще бъде изтрит."
      ],
      "metadata": {
        "id": "TbpItit-NzqO"
      }
    },
    {
      "cell_type": "code",
      "source": [
        "import os\n",
        "\n",
        "file_path = os.path.join('files', 'to_removed.txt')\n",
        "fp = open(file_path, 'w')\n",
        "fp.write('This file will be deleted')\n",
        "fp.close()\n",
        "\n",
        "print(f'Before = {os.listdir(\"files\")}')\n",
        "\n",
        "os.remove(file_path)\n",
        "\n",
        "print(f'After = {os.listdir(\"files\")}')"
      ],
      "metadata": {
        "colab": {
          "base_uri": "https://localhost:8080/"
        },
        "id": "MuNNNLMJpXNS",
        "outputId": "d3d04be5-80b8-4610-a590-d702232d07ca"
      },
      "execution_count": null,
      "outputs": [
        {
          "output_type": "stream",
          "name": "stdout",
          "text": [
            "Before = ['lorem_ipsum.txt', 'hello.txt', 'to_removed.txt']\n",
            "After = ['lorem_ipsum.txt', 'hello.txt']\n"
          ]
        }
      ]
    },
    {
      "cell_type": "markdown",
      "source": [
        "Ако се опитаме да изтрием директория с `os.remove`, ще получим грешка `IsADirectoryError`."
      ],
      "metadata": {
        "id": "4lDTPY-6dsce"
      }
    },
    {
      "cell_type": "code",
      "source": [
        "import os\n",
        "\n",
        "os.remove('files')"
      ],
      "metadata": {
        "colab": {
          "base_uri": "https://localhost:8080/",
          "height": 204
        },
        "id": "7n1HOZdUdzQn",
        "outputId": "1cc732fe-4b2f-4ec4-c43a-2e4e0b49bff0"
      },
      "execution_count": null,
      "outputs": [
        {
          "output_type": "error",
          "ename": "IsADirectoryError",
          "evalue": "ignored",
          "traceback": [
            "\u001b[0;31m---------------------------------------------------------------------------\u001b[0m",
            "\u001b[0;31mIsADirectoryError\u001b[0m                         Traceback (most recent call last)",
            "\u001b[0;32m<ipython-input-3-b40f4eb2e94c>\u001b[0m in \u001b[0;36m<module>\u001b[0;34m\u001b[0m\n\u001b[1;32m      1\u001b[0m \u001b[0;32mimport\u001b[0m \u001b[0mos\u001b[0m\u001b[0;34m\u001b[0m\u001b[0;34m\u001b[0m\u001b[0m\n\u001b[1;32m      2\u001b[0m \u001b[0;34m\u001b[0m\u001b[0m\n\u001b[0;32m----> 3\u001b[0;31m \u001b[0mos\u001b[0m\u001b[0;34m.\u001b[0m\u001b[0mremove\u001b[0m\u001b[0;34m(\u001b[0m\u001b[0;34m'files'\u001b[0m\u001b[0;34m)\u001b[0m\u001b[0;34m\u001b[0m\u001b[0;34m\u001b[0m\u001b[0m\n\u001b[0m",
            "\u001b[0;31mIsADirectoryError\u001b[0m: [Errno 21] Is a directory: 'files'"
          ]
        }
      ]
    },
    {
      "cell_type": "markdown",
      "source": [
        "А ако опитаме да изтрием файл, който не съществува, ще получим грешка `FileNotFoundError`."
      ],
      "metadata": {
        "id": "yzM5ffT8eSVt"
      }
    },
    {
      "cell_type": "code",
      "source": [
        "import os\n",
        "\n",
        "non_existant_path = os.path.join('files', 'this_file_does_not_exist.txt')\n",
        "\n",
        "os.remove(non_existant_path)"
      ],
      "metadata": {
        "colab": {
          "base_uri": "https://localhost:8080/",
          "height": 204
        },
        "id": "gwHS4rtYeX3f",
        "outputId": "1f0316f5-de4e-4449-b50c-643a2d17a006"
      },
      "execution_count": null,
      "outputs": [
        {
          "output_type": "error",
          "ename": "FileNotFoundError",
          "evalue": "ignored",
          "traceback": [
            "\u001b[0;31m---------------------------------------------------------------------------\u001b[0m",
            "\u001b[0;31mFileNotFoundError\u001b[0m                         Traceback (most recent call last)",
            "\u001b[0;32m<ipython-input-4-3e3114601185>\u001b[0m in \u001b[0;36m<module>\u001b[0;34m\u001b[0m\n\u001b[1;32m      3\u001b[0m \u001b[0mnon_existant_path\u001b[0m \u001b[0;34m=\u001b[0m \u001b[0mos\u001b[0m\u001b[0;34m.\u001b[0m\u001b[0mpath\u001b[0m\u001b[0;34m.\u001b[0m\u001b[0mjoin\u001b[0m\u001b[0;34m(\u001b[0m\u001b[0;34m'files'\u001b[0m\u001b[0;34m,\u001b[0m \u001b[0;34m'this_file_does_not_exist.txt'\u001b[0m\u001b[0;34m)\u001b[0m\u001b[0;34m\u001b[0m\u001b[0;34m\u001b[0m\u001b[0m\n\u001b[1;32m      4\u001b[0m \u001b[0;34m\u001b[0m\u001b[0m\n\u001b[0;32m----> 5\u001b[0;31m \u001b[0mos\u001b[0m\u001b[0;34m.\u001b[0m\u001b[0mremove\u001b[0m\u001b[0;34m(\u001b[0m\u001b[0mnon_existant_path\u001b[0m\u001b[0;34m)\u001b[0m\u001b[0;34m\u001b[0m\u001b[0;34m\u001b[0m\u001b[0m\n\u001b[0m",
            "\u001b[0;31mFileNotFoundError\u001b[0m: [Errno 2] No such file or directory: 'files/this_file_does_not_exist.txt'"
          ]
        }
      ]
    },
    {
      "cell_type": "markdown",
      "source": [
        "### Създаване на директория"
      ],
      "metadata": {
        "id": "Ekhha8biM-Ps"
      }
    },
    {
      "cell_type": "markdown",
      "source": [
        "В Python създаването на директория става чрез метода `os.mkdir`. `os.mkdir` приема пътя към директорията, която да бъде създадена. "
      ],
      "metadata": {
        "id": "SiGgH-3r_zGq"
      }
    },
    {
      "cell_type": "code",
      "source": [
        "import os\n",
        "\n",
        "print(f'Before = {os.listdir(\"files\")}')\n",
        "\n",
        "file_path = os.path.join('files', 'mkdir_example')\n",
        "os.mkdir(file_path)\n",
        "\n",
        "print(f'After = {os.listdir(\"files\")}')"
      ],
      "metadata": {
        "colab": {
          "base_uri": "https://localhost:8080/"
        },
        "id": "Y8_j9oJHAUA7",
        "outputId": "3b710a1c-e3bc-44b6-b8e2-41d28d4bd4c9"
      },
      "execution_count": null,
      "outputs": [
        {
          "output_type": "stream",
          "name": "stdout",
          "text": [
            "Before = ['lorem_ipsum.txt', 'hello.txt']\n",
            "After = ['lorem_ipsum.txt', 'mkdir_example', 'hello.txt']\n"
          ]
        }
      ]
    },
    {
      "cell_type": "markdown",
      "source": [
        "Само за информация: Можем да зададем права на директорията, с помощта на аргумента `mode`. "
      ],
      "metadata": {
        "id": "kbA7dS_PAzTr"
      }
    },
    {
      "cell_type": "markdown",
      "source": [
        "Ако се опитаме да създадем директория, която вече съществува, ще получим `FileExistsError`. "
      ],
      "metadata": {
        "id": "E9bfpXokDlB_"
      }
    },
    {
      "cell_type": "code",
      "source": [
        "import os\n",
        "\n",
        "file_path = os.path.join('files', 'mkdir_existing_directory')\n",
        "os.mkdir(file_path)\n",
        "\n",
        "os.mkdir(file_path)"
      ],
      "metadata": {
        "colab": {
          "base_uri": "https://localhost:8080/",
          "height": 204
        },
        "id": "jUSXZTQCD0v-",
        "outputId": "221b34ff-798b-4be9-ac18-ee611f1daf99"
      },
      "execution_count": null,
      "outputs": [
        {
          "output_type": "error",
          "ename": "FileExistsError",
          "evalue": "ignored",
          "traceback": [
            "\u001b[0;31m---------------------------------------------------------------------------\u001b[0m",
            "\u001b[0;31mFileExistsError\u001b[0m                           Traceback (most recent call last)",
            "\u001b[0;32m<ipython-input-15-e40d002b820f>\u001b[0m in \u001b[0;36m<module>\u001b[0;34m\u001b[0m\n\u001b[1;32m      4\u001b[0m \u001b[0mos\u001b[0m\u001b[0;34m.\u001b[0m\u001b[0mmkdir\u001b[0m\u001b[0;34m(\u001b[0m\u001b[0mfile_path\u001b[0m\u001b[0;34m)\u001b[0m\u001b[0;34m\u001b[0m\u001b[0;34m\u001b[0m\u001b[0m\n\u001b[1;32m      5\u001b[0m \u001b[0;34m\u001b[0m\u001b[0m\n\u001b[0;32m----> 6\u001b[0;31m \u001b[0mos\u001b[0m\u001b[0;34m.\u001b[0m\u001b[0mmkdir\u001b[0m\u001b[0;34m(\u001b[0m\u001b[0mfile_path\u001b[0m\u001b[0;34m)\u001b[0m\u001b[0;34m\u001b[0m\u001b[0;34m\u001b[0m\u001b[0m\n\u001b[0m",
            "\u001b[0;31mFileExistsError\u001b[0m: [Errno 17] File exists: 'files/mkdir_existing_directory'"
          ]
        }
      ]
    },
    {
      "cell_type": "markdown",
      "source": [
        "Нека опитаме да създадем няколко нови директории, една под друга. "
      ],
      "metadata": {
        "id": "lTXna1gtBs0g"
      }
    },
    {
      "cell_type": "code",
      "source": [
        "import os\n",
        "\n",
        "print(f'Before = {os.listdir(\"files\")}')\n",
        "\n",
        "file_path = os.path.join('files', 'mkdir_example_parent', 'mkdir_example_child')\n",
        "os.mkdir(file_path)\n",
        "\n",
        "print(f'After = {os.listdir(\"files\")}')"
      ],
      "metadata": {
        "colab": {
          "base_uri": "https://localhost:8080/",
          "height": 256
        },
        "id": "sp1qFjZGC81F",
        "outputId": "ae043016-cf23-47b4-e74e-8b8acd2eab74"
      },
      "execution_count": null,
      "outputs": [
        {
          "output_type": "stream",
          "name": "stdout",
          "text": [
            "Before = ['lorem_ipsum.txt', 'mkdir_example', 'hello.txt']\n"
          ]
        },
        {
          "output_type": "error",
          "ename": "FileNotFoundError",
          "evalue": "ignored",
          "traceback": [
            "\u001b[0;31m---------------------------------------------------------------------------\u001b[0m",
            "\u001b[0;31mFileNotFoundError\u001b[0m                         Traceback (most recent call last)",
            "\u001b[0;32m<ipython-input-14-ad15298990ac>\u001b[0m in \u001b[0;36m<module>\u001b[0;34m\u001b[0m\n\u001b[1;32m      4\u001b[0m \u001b[0;34m\u001b[0m\u001b[0m\n\u001b[1;32m      5\u001b[0m \u001b[0mfile_path\u001b[0m \u001b[0;34m=\u001b[0m \u001b[0mos\u001b[0m\u001b[0;34m.\u001b[0m\u001b[0mpath\u001b[0m\u001b[0;34m.\u001b[0m\u001b[0mjoin\u001b[0m\u001b[0;34m(\u001b[0m\u001b[0;34m'files'\u001b[0m\u001b[0;34m,\u001b[0m \u001b[0;34m'mkdir_example_parent'\u001b[0m\u001b[0;34m,\u001b[0m \u001b[0;34m'mkdir_example_child'\u001b[0m\u001b[0;34m)\u001b[0m\u001b[0;34m\u001b[0m\u001b[0;34m\u001b[0m\u001b[0m\n\u001b[0;32m----> 6\u001b[0;31m \u001b[0mos\u001b[0m\u001b[0;34m.\u001b[0m\u001b[0mmkdir\u001b[0m\u001b[0;34m(\u001b[0m\u001b[0mfile_path\u001b[0m\u001b[0;34m)\u001b[0m\u001b[0;34m\u001b[0m\u001b[0;34m\u001b[0m\u001b[0m\n\u001b[0m\u001b[1;32m      7\u001b[0m \u001b[0;34m\u001b[0m\u001b[0m\n\u001b[1;32m      8\u001b[0m \u001b[0mprint\u001b[0m\u001b[0;34m(\u001b[0m\u001b[0;34mf'After = {os.listdir(\"files\")}'\u001b[0m\u001b[0;34m)\u001b[0m\u001b[0;34m\u001b[0m\u001b[0;34m\u001b[0m\u001b[0m\n",
            "\u001b[0;31mFileNotFoundError\u001b[0m: [Errno 2] No such file or directory: 'files/mkdir_example_parent/mkdir_example_child'"
          ]
        }
      ]
    },
    {
      "cell_type": "markdown",
      "source": [
        "Тук получаваме грешка - `os.mkdir` не може да създаде несъществуващите директории над последната. За целта трябва да използваме метода `os.makedirs`. `os.makedirs` приема отново като аргумент пътят към директорията, която искаме да създадем, както и права на директорията/директориите. "
      ],
      "metadata": {
        "id": "PIZb3CQxDWyC"
      }
    },
    {
      "cell_type": "code",
      "source": [
        "import os\n",
        "\n",
        "print(f'Before = {os.listdir(\"files\")}')\n",
        "\n",
        "file_path = os.path.join('files', 'mkdir_example_parent', 'mkdir_example_child')\n",
        "os.makedirs(file_path)\n",
        "\n",
        "print(f'After = {os.listdir(\"files\")}')"
      ],
      "metadata": {
        "colab": {
          "base_uri": "https://localhost:8080/"
        },
        "id": "P0I8cNkEyBUW",
        "outputId": "939e6dc4-61e4-4b59-faf2-70d1412144f6"
      },
      "execution_count": null,
      "outputs": [
        {
          "output_type": "stream",
          "name": "stdout",
          "text": [
            "Before = ['lorem_ipsum.txt', 'hello.txt']\n",
            "After = ['lorem_ipsum.txt', 'hello.txt', 'mkdir_example_parent']\n"
          ]
        }
      ]
    },
    {
      "cell_type": "markdown",
      "source": [
        "Един допълнителен аргумент, който `makedirs` приема, е аргумента `exist_ok`. Той контролира дали да се хвърли грешка, ако крайната директория която искаме да създадем, вече съществува. "
      ],
      "metadata": {
        "id": "1EDMtz9N1YN6"
      }
    },
    {
      "cell_type": "markdown",
      "source": [
        "### Преместване на директория"
      ],
      "metadata": {
        "id": "NHJPuuq_NBV5"
      }
    },
    {
      "cell_type": "markdown",
      "source": [
        "Освен за преместване на файлове, `os.rename` работи и за директории. "
      ],
      "metadata": {
        "id": "bs_Hrj42yaYx"
      }
    },
    {
      "cell_type": "code",
      "source": [
        "import os\n",
        "\n",
        "file_path = os.path.join('files', 'rename_dir_example_1')\n",
        "os.makedirs(file_path)\n",
        "\n",
        "print(f'Before = {os.listdir(\"files\")}')\n",
        "\n",
        "target_file_path = os.path.join('files', 'renamed_dir_example_1')\n",
        "os.rename(file_path, target_file_path)\n",
        "print(f'After = {os.listdir(\"files\")}')"
      ],
      "metadata": {
        "colab": {
          "base_uri": "https://localhost:8080/"
        },
        "id": "WjInQ5BRyeGq",
        "outputId": "faa3282d-988b-4dd4-dee2-67ed49fd923e"
      },
      "execution_count": null,
      "outputs": [
        {
          "output_type": "stream",
          "name": "stdout",
          "text": [
            "Before = ['lorem_ipsum.txt', 'hello.txt', 'mkdir_example_parent', 'rename_dir_example_1']\n",
            "After = ['lorem_ipsum.txt', 'hello.txt', 'mkdir_example_parent', 'renamed_dir_example_1']\n"
          ]
        }
      ]
    },
    {
      "cell_type": "markdown",
      "source": [
        "Както споменахме по-горе, ако дестинацията съществува, под Windows `os.rename` хвърля `FileExistsError`. \n",
        "\n",
        "Под Unix системи (Linux, MacOS) поведението е малко по-различно:\n",
        "- Ако source пътя е файл, а destination пътя е директория, се хвърля `IsADirectory` грешка\n",
        "- Ако source пътя е директория, а destination пътя е файл, се хвърля `NotADirectory` грешка\n",
        "- Ако destination е съществуваща директория:\n",
        "    - Ако е празна, преместването е успешно\n",
        "    - Ако не е празна, се хвърля `OSError` грешка\n"
      ],
      "metadata": {
        "id": "miLCHiM4OE_n"
      }
    },
    {
      "cell_type": "markdown",
      "source": [
        "### Изтриване на директория"
      ],
      "metadata": {
        "id": "vgkfZTpuNGlv"
      }
    },
    {
      "cell_type": "markdown",
      "source": [
        "Изтриването на директория става чрез `os.rmdir`. `os.rmdir` приема пътя към директорията, която трябва да бъде изтрита. "
      ],
      "metadata": {
        "id": "TI6k87QW0d7p"
      }
    },
    {
      "cell_type": "code",
      "source": [
        "import os\n",
        "\n",
        "file_path = os.path.join('files', 'remove_dir_example_1')\n",
        "os.makedirs(file_path)\n",
        "\n",
        "print(f'Before = {os.listdir(\"files\")}')\n",
        "\n",
        "os.rmdir(file_path)\n",
        "print(f'After = {os.listdir(\"files\")}')"
      ],
      "metadata": {
        "colab": {
          "base_uri": "https://localhost:8080/"
        },
        "id": "nyr05CrHDAeu",
        "outputId": "d86c6407-1050-4080-a623-4f90aabe5580"
      },
      "execution_count": null,
      "outputs": [
        {
          "output_type": "stream",
          "name": "stdout",
          "text": [
            "Before = ['lorem_ipsum.txt', 'remove_dir_example_1', 'hello.txt', 'mkdir_example_parent', 'renamed_dir_example_1']\n",
            "After = ['lorem_ipsum.txt', 'hello.txt', 'mkdir_example_parent', 'renamed_dir_example_1']\n"
          ]
        }
      ]
    },
    {
      "cell_type": "markdown",
      "source": [
        "Ако директорията, която се опитаме да изтрием, не е празна, ще получим `OSError`. А ако тя не съществува, ще получим `FileNotFoundError`. "
      ],
      "metadata": {
        "id": "KboM7dmEDMKW"
      }
    },
    {
      "cell_type": "code",
      "source": [
        "import os\n",
        "\n",
        "non_existing_dir = os.path.join('files', 'non_existing_dir')\n",
        "\n",
        "os.rmdir(non_existing_dir)\n",
        "os.rmdir('files')"
      ],
      "metadata": {
        "colab": {
          "base_uri": "https://localhost:8080/",
          "height": 221
        },
        "id": "0UQyFZKXDgmg",
        "outputId": "c90f4b1b-cbdf-4fa1-aa68-586224e0d91e"
      },
      "execution_count": null,
      "outputs": [
        {
          "output_type": "error",
          "ename": "FileNotFoundError",
          "evalue": "ignored",
          "traceback": [
            "\u001b[0;31m---------------------------------------------------------------------------\u001b[0m",
            "\u001b[0;31mFileNotFoundError\u001b[0m                         Traceback (most recent call last)",
            "\u001b[0;32m<ipython-input-6-18c20a4e9047>\u001b[0m in \u001b[0;36m<module>\u001b[0;34m\u001b[0m\n\u001b[1;32m      3\u001b[0m \u001b[0mnon_existing_dir\u001b[0m \u001b[0;34m=\u001b[0m \u001b[0mos\u001b[0m\u001b[0;34m.\u001b[0m\u001b[0mpath\u001b[0m\u001b[0;34m.\u001b[0m\u001b[0mjoin\u001b[0m\u001b[0;34m(\u001b[0m\u001b[0;34m'files'\u001b[0m\u001b[0;34m,\u001b[0m \u001b[0;34m'non_existing_dir'\u001b[0m\u001b[0;34m)\u001b[0m\u001b[0;34m\u001b[0m\u001b[0;34m\u001b[0m\u001b[0m\n\u001b[1;32m      4\u001b[0m \u001b[0;34m\u001b[0m\u001b[0m\n\u001b[0;32m----> 5\u001b[0;31m \u001b[0mos\u001b[0m\u001b[0;34m.\u001b[0m\u001b[0mrmdir\u001b[0m\u001b[0;34m(\u001b[0m\u001b[0mnon_existing_dir\u001b[0m\u001b[0;34m)\u001b[0m\u001b[0;34m\u001b[0m\u001b[0;34m\u001b[0m\u001b[0m\n\u001b[0m\u001b[1;32m      6\u001b[0m \u001b[0mos\u001b[0m\u001b[0;34m.\u001b[0m\u001b[0mrmdir\u001b[0m\u001b[0;34m(\u001b[0m\u001b[0;34m'files'\u001b[0m\u001b[0;34m)\u001b[0m\u001b[0;34m\u001b[0m\u001b[0;34m\u001b[0m\u001b[0m\n",
            "\u001b[0;31mFileNotFoundError\u001b[0m: [Errno 2] No such file or directory: 'files/non_existing_dir'"
          ]
        }
      ]
    },
    {
      "cell_type": "code",
      "source": [
        "import os\n",
        "\n",
        "os.rmdir('files')"
      ],
      "metadata": {
        "colab": {
          "base_uri": "https://localhost:8080/",
          "height": 204
        },
        "id": "mYec3cULDqNf",
        "outputId": "73f7f469-353a-4206-f479-4bed9c964aad"
      },
      "execution_count": null,
      "outputs": [
        {
          "output_type": "error",
          "ename": "OSError",
          "evalue": "ignored",
          "traceback": [
            "\u001b[0;31m---------------------------------------------------------------------------\u001b[0m",
            "\u001b[0;31mOSError\u001b[0m                                   Traceback (most recent call last)",
            "\u001b[0;32m<ipython-input-7-8046e22d30ce>\u001b[0m in \u001b[0;36m<module>\u001b[0;34m\u001b[0m\n\u001b[1;32m      1\u001b[0m \u001b[0;32mimport\u001b[0m \u001b[0mos\u001b[0m\u001b[0;34m\u001b[0m\u001b[0;34m\u001b[0m\u001b[0m\n\u001b[1;32m      2\u001b[0m \u001b[0;34m\u001b[0m\u001b[0m\n\u001b[0;32m----> 3\u001b[0;31m \u001b[0mos\u001b[0m\u001b[0;34m.\u001b[0m\u001b[0mrmdir\u001b[0m\u001b[0;34m(\u001b[0m\u001b[0;34m'files'\u001b[0m\u001b[0;34m)\u001b[0m\u001b[0;34m\u001b[0m\u001b[0;34m\u001b[0m\u001b[0m\n\u001b[0m",
            "\u001b[0;31mOSError\u001b[0m: [Errno 39] Directory not empty: 'files'"
          ]
        }
      ]
    },
    {
      "cell_type": "markdown",
      "source": [
        "Освен `os.rmdir`, Python предлага и друга функция за изтриване на директории - `os.removedirs`. Тя обаче работи по специфичен начин. `os.removedirs` приема път до директория, като освен да премахва последната директория от пътя, функцията се опитва да премахне и всички празни директории нагоре, като спира при първата директория, която не е успяла да премахне успешно."
      ],
      "metadata": {
        "id": "4YKfS67MOHJF"
      }
    },
    {
      "cell_type": "markdown",
      "source": [
        "Нека за целта създадем следната структура - `files/remove_dirs_example` ще е основната ни директория. В нея ще имаме две поддиректории - `first` и `second`. В `first` ще създадем още няколко поддиректории, като всичките ще са празни. В `second` ще създадем един файл и една поддиректория."
      ],
      "metadata": {
        "id": "gPQjlwwxSKEt"
      }
    },
    {
      "cell_type": "markdown",
      "source": [
        "Ще се опитаме да извикаме `os.removedirs` върху най-долната директории в `first` и `second`"
      ],
      "metadata": {
        "id": "vaRS8bxeTL9j"
      }
    },
    {
      "cell_type": "code",
      "source": [
        "import os\n",
        "\n",
        "main_dir = os.path.join('files', 'remove_dirs_example')\n",
        "\n",
        "first_dir = os.path.join(main_dir, 'first')\n",
        "empty_first_subdirs = os.path.join(first_dir, 'a', 'b', 'c')\n",
        "\n",
        "second_dir = os.path.join(main_dir, 'second')\n",
        "empty_second_subdir = os.path.join(second_dir, 'd')\n",
        "empty_second_dir_file = os.path.join(second_dir, 'e')\n",
        "\n",
        "os.makedirs(empty_first_subdirs)\n",
        "os.makedirs(empty_second_subdir)\n",
        "\n",
        "\n",
        "fd = open(empty_second_dir_file, 'w')\n",
        "fd.write('Hi')\n",
        "fd.close()\n",
        "\n",
        "print(f'Before = {os.listdir(main_dir)}')\n",
        "\n",
        "os.removedirs(empty_first_subdirs)\n",
        "os.removedirs(empty_second_subdir)\n",
        "\n",
        "print(f'After = {os.listdir(main_dir)}')"
      ],
      "metadata": {
        "colab": {
          "base_uri": "https://localhost:8080/"
        },
        "id": "wOIjU6GCSen3",
        "outputId": "6c4be7bc-e0e3-489a-880a-806b6dbb8ed6"
      },
      "execution_count": null,
      "outputs": [
        {
          "output_type": "stream",
          "name": "stdout",
          "text": [
            "Before = ['first', 'second']\n",
            "After = ['second']\n"
          ]
        }
      ]
    },
    {
      "cell_type": "markdown",
      "source": [
        "Как работи `os.removedirs` в този случай ?\n",
        "\n",
        "Върху `files/first/a/b/c`:\n",
        "1. Опитваме да изтрием `c` => тя е празна, изтрива се\n",
        "2. Опитваме да изтрием `b` => тя е празна, изтрива се\n",
        "3. Опитваме да изтрием `a` => тя е празна, изтрива се\n",
        "4. Опитваме да изтрием `first` => тя е празна, изтрива се\n",
        "5. Опитваме да изтрием `remove_dirs_example` => тя не е празна, спираме\n",
        "\n",
        "Върху `files/second/d`:\n",
        "1. Опитваме да изтрием `d` => тя е празна, изтрива се\n",
        "2. Опитваме да изтрием `second` => тя не е празна, спираме"
      ],
      "metadata": {
        "id": "Z6cWgSYgTyLn"
      }
    },
    {
      "cell_type": "markdown",
      "source": [
        "`os.removedirs` е много подходяща когато имаме много празни директории една в друга, но е редно да се използва внимателно."
      ],
      "metadata": {
        "id": "5YyMwXCQUf9w"
      }
    },
    {
      "cell_type": "markdown",
      "source": [
        "За любопитните: Съществува функция [`rmtree`](https://docs.python.org/3.10/library/shutil.html#shutil.rmtree), намираща се в `shutil` библиотеката, която изтрива папка и всички в нея. Нея няма да я разглеждаме в курса."
      ],
      "metadata": {
        "id": "SsKFjwI0U87d"
      }
    },
    {
      "cell_type": "markdown",
      "source": [
        "### Обща работа с пътища"
      ],
      "metadata": {
        "id": "BC9RWXG1NX7R"
      }
    },
    {
      "cell_type": "markdown",
      "source": [
        "В началото видяхме, че за да построим един път до файл или директория в Python, трябва да използваме `os.path.join`. Освен `join`, [`os.path`](https://docs.python.org/3.10/library/os.path.html) предлага много други полезни функции за работа с пътища. \n",
        "\n",
        "Ще се спрем върху една част от тях, която е по-вероятно да използвате във всекидневната си работа с Python:\n",
        "\n",
        "- os.path.exists - проверка дали пътят сочи към валиден файл или директория\n",
        "- os.path.isdir - дали пътят сочи към валидна директория\n",
        "- os.path.isfile - дали пътят сочи към валиден файл\n",
        "- os.path.split - отделя последната част от път"
      ],
      "metadata": {
        "id": "w3SgN35oNwF2"
      }
    },
    {
      "cell_type": "code",
      "source": [
        "import os\n",
        "print(f'Does the files directory exist: {os.path.exists(\"files\")}')\n",
        "print(f'Does the files/lorem_ipsum.txt file exist: {os.path.exists(os.path.join(\"files\", \"lorem_ipsum.txt\"))}')\n",
        "print(f'Does the files/ala-bala.txt file exist: {os.path.exists(os.path.join(\"files\", \"ala-bala.txt\"))}')"
      ],
      "metadata": {
        "colab": {
          "base_uri": "https://localhost:8080/"
        },
        "id": "OWaoBdJ6fuIU",
        "outputId": "49ea2329-ab4e-4d61-bb09-8e793be9c693"
      },
      "execution_count": null,
      "outputs": [
        {
          "output_type": "stream",
          "name": "stdout",
          "text": [
            "Does the files directory exist: True\n",
            "Does the files/lorem_ipsum.txt file exist: True\n",
            "Does the files/ala-bala.txt file exist: False\n"
          ]
        }
      ]
    },
    {
      "cell_type": "code",
      "source": [
        "import os\n",
        "print(f'Is \"files\" a directory: {os.path.isdir(\"files\")}')\n",
        "print(f'Is \"files/lorem_ipsum.txt\" a directory: {os.path.isdir(os.path.join(\"files\", \"lorem_ipsum.txt\"))}')\n",
        "print(f'Is \"files/ala-bala.txt\" a directory: {os.path.isdir(os.path.join(\"files\", \"ala-bala.txt\"))}')  # Although the file does not exist, isdir returns False"
      ],
      "metadata": {
        "colab": {
          "base_uri": "https://localhost:8080/"
        },
        "id": "vf5udnCGgY_x",
        "outputId": "99c5f416-a01f-4a63-dbdd-ba6691185f39"
      },
      "execution_count": null,
      "outputs": [
        {
          "output_type": "stream",
          "name": "stdout",
          "text": [
            "Is \"files\" a directory: True\n",
            "Is \"files/lorem_ipsum.txt\" a directory: False\n",
            "Is \"files/ala-bala.txt\" a directory: False\n"
          ]
        }
      ]
    },
    {
      "cell_type": "code",
      "source": [
        "import os\n",
        "print(f'Is \"files\" a file: {os.path.isfile(\"files\")}')\n",
        "print(f'Is \"files/lorem_ipsum.txt\" a file: {os.path.isfile(os.path.join(\"files\", \"lorem_ipsum.txt\"))}')\n",
        "print(f'Is \"files/ala-bala.txt\" a directory: {os.path.isfile(os.path.join(\"files\", \"ala-bala.txt\"))}')  # Although the file does not exist, isfile returns False"
      ],
      "metadata": {
        "colab": {
          "base_uri": "https://localhost:8080/"
        },
        "id": "bWAE_SBmgntD",
        "outputId": "117db10a-122d-4fee-a3ef-c602c4ad00cb"
      },
      "execution_count": null,
      "outputs": [
        {
          "output_type": "stream",
          "name": "stdout",
          "text": [
            "Is \"files\" a file: False\n",
            "Is \"files/lorem_ipsum.txt\" a file: True\n",
            "Is \"files/ala-bala.txt\" a directory: False\n"
          ]
        }
      ]
    },
    {
      "cell_type": "markdown",
      "source": [
        "`os.path.split` отделя последната част от пътя от останалия. Връща ни наредена двойка от `head` и `tail`, където `tail` съдържа последната част от пътя, а `head` останалото "
      ],
      "metadata": {
        "id": "rTQnNvzlh0PD"
      }
    },
    {
      "cell_type": "code",
      "source": [
        "import os\n",
        "\n",
        "long_path = os.path.join('/', 'foo', 'bar', 'baz')\n",
        "print(f'long_path = {long_path}')\n",
        "\n",
        "print(f'long_path splitted: {os.path.split(long_path)}')"
      ],
      "metadata": {
        "colab": {
          "base_uri": "https://localhost:8080/"
        },
        "id": "ezd7ZHB5g9fj",
        "outputId": "21cdfc47-760e-446d-a6df-02b4cd5bc94b"
      },
      "execution_count": null,
      "outputs": [
        {
          "output_type": "stream",
          "name": "stdout",
          "text": [
            "long_path = /foo/bar/baz\n",
            "long_path contains: ('/foo/bar', 'baz')\n"
          ]
        }
      ]
    },
    {
      "cell_type": "markdown",
      "source": [
        "Важно е да отбележим няколко по-специални случая:\n",
        "\n",
        "- Ако пътят е празен, `split` ще ни върне празни `head` и `tail`\n",
        "- Ако пътят завършва с `/` (или `\\` под Windows), `tail` ще е празен низ\n",
        "- Ако пътят не съдържа `/`(или `\\` под Windows), `head` ще е празен низ"
      ],
      "metadata": {
        "id": "Va2Hb5YhuKHa"
      }
    },
    {
      "cell_type": "code",
      "source": [
        "empty_path = ''\n",
        "print(f'split with empty path returns = {os.path.split(empty_path)}')\n",
        "\n",
        "ending_with_separator = '/foo/bar/'\n",
        "print(f'split with path ending in / returns = {os.path.split(ending_with_separator)}')\n",
        "\n",
        "no_separators = 'foo'\n",
        "print(f'split with no separators returns = {os.path.split(no_separators)}')"
      ],
      "metadata": {
        "colab": {
          "base_uri": "https://localhost:8080/"
        },
        "id": "yCoiMcrM7es1",
        "outputId": "49573f4c-11cf-4dee-b2be-2035d14e1448"
      },
      "execution_count": null,
      "outputs": [
        {
          "output_type": "stream",
          "name": "stdout",
          "text": [
            "split with empty path returns = ('', '')\n",
            "split with path ending in / returns = ('/foo/bar', '')\n",
            "split with no separators returns = ('', 'foo')\n"
          ]
        }
      ]
    },
    {
      "cell_type": "markdown",
      "source": [
        "## Използване на `with`"
      ],
      "metadata": {
        "id": "FzOWCerhbNUN"
      }
    },
    {
      "cell_type": "markdown",
      "source": [
        "Досега в работата ни с файлове, забелязахме че трябва да подсигурим, че сме затворили файла. Проблемът идва, когато трябва да се справим с грешки, които могат да бъда хвърлени от различните операции с файлове. Дори и при хвърлена грешка, ние все пак трябва да си затворим файла.\n",
        "\n",
        "Python ни позволява два начина да се справим с този проблем - `try/finally` и `with`."
      ],
      "metadata": {
        "id": "H7dxt9Ma2oho"
      }
    },
    {
      "cell_type": "markdown",
      "source": [
        "След всеки `try` блок, може да поставим един друг блок, който да се изпълнява винаги след `try` или `except` блоковете. Този допълнителен блок се казва `finally`. "
      ],
      "metadata": {
        "id": "QUT2FQfW4Dhk"
      }
    },
    {
      "cell_type": "code",
      "source": [
        "def raiser():\n",
        "    raise ValueError('Hello there')\n",
        "\n",
        "try:\n",
        "    raiser()\n",
        "finally:\n",
        "    print('After the exception, this will be printed')"
      ],
      "metadata": {
        "colab": {
          "base_uri": "https://localhost:8080/",
          "height": 378
        },
        "id": "diBiYJdp4UEp",
        "outputId": "2a5e4516-24da-4f2f-c721-0670220caeb4"
      },
      "execution_count": null,
      "outputs": [
        {
          "output_type": "stream",
          "name": "stdout",
          "text": [
            "After the exception, this will be printed\n"
          ]
        },
        {
          "output_type": "error",
          "ename": "ValueError",
          "evalue": "ignored",
          "traceback": [
            "\u001b[0;31m---------------------------------------------------------------------------\u001b[0m",
            "\u001b[0;31mValueError\u001b[0m                                Traceback (most recent call last)",
            "\u001b[0;32m<ipython-input-1-7202c6019a97>\u001b[0m in \u001b[0;36m<module>\u001b[0;34m\u001b[0m\n\u001b[1;32m      3\u001b[0m \u001b[0;34m\u001b[0m\u001b[0m\n\u001b[1;32m      4\u001b[0m \u001b[0;32mtry\u001b[0m\u001b[0;34m:\u001b[0m\u001b[0;34m\u001b[0m\u001b[0;34m\u001b[0m\u001b[0m\n\u001b[0;32m----> 5\u001b[0;31m     \u001b[0mraiser\u001b[0m\u001b[0;34m(\u001b[0m\u001b[0;34m)\u001b[0m\u001b[0;34m\u001b[0m\u001b[0;34m\u001b[0m\u001b[0m\n\u001b[0m\u001b[1;32m      6\u001b[0m \u001b[0;32mfinally\u001b[0m\u001b[0;34m:\u001b[0m\u001b[0;34m\u001b[0m\u001b[0;34m\u001b[0m\u001b[0m\n\u001b[1;32m      7\u001b[0m     \u001b[0mprint\u001b[0m\u001b[0;34m(\u001b[0m\u001b[0;34m'After the exception, this will be printed'\u001b[0m\u001b[0;34m)\u001b[0m\u001b[0;34m\u001b[0m\u001b[0;34m\u001b[0m\u001b[0m\n",
            "\u001b[0;32m<ipython-input-1-7202c6019a97>\u001b[0m in \u001b[0;36mraiser\u001b[0;34m()\u001b[0m\n\u001b[1;32m      1\u001b[0m \u001b[0;32mdef\u001b[0m \u001b[0mraiser\u001b[0m\u001b[0;34m(\u001b[0m\u001b[0;34m)\u001b[0m\u001b[0;34m:\u001b[0m\u001b[0;34m\u001b[0m\u001b[0;34m\u001b[0m\u001b[0m\n\u001b[0;32m----> 2\u001b[0;31m     \u001b[0;32mraise\u001b[0m \u001b[0mValueError\u001b[0m\u001b[0;34m(\u001b[0m\u001b[0;34m'Hello there'\u001b[0m\u001b[0;34m)\u001b[0m\u001b[0;34m\u001b[0m\u001b[0;34m\u001b[0m\u001b[0m\n\u001b[0m\u001b[1;32m      3\u001b[0m \u001b[0;34m\u001b[0m\u001b[0m\n\u001b[1;32m      4\u001b[0m \u001b[0;32mtry\u001b[0m\u001b[0;34m:\u001b[0m\u001b[0;34m\u001b[0m\u001b[0;34m\u001b[0m\u001b[0m\n\u001b[1;32m      5\u001b[0m     \u001b[0mraiser\u001b[0m\u001b[0;34m(\u001b[0m\u001b[0;34m)\u001b[0m\u001b[0;34m\u001b[0m\u001b[0;34m\u001b[0m\u001b[0m\n",
            "\u001b[0;31mValueError\u001b[0m: Hello there"
          ]
        }
      ]
    },
    {
      "cell_type": "markdown",
      "source": [
        "По подобен начин можем да използваме `finally` за да затворим отворения файл."
      ],
      "metadata": {
        "id": "8ubdugN44sR0"
      }
    },
    {
      "cell_type": "code",
      "source": [
        "import os\n",
        "fp = open(os.path.join('files', 'lorem_ipsum.txt'))\n",
        "try:\n",
        "    print(fp.read())\n",
        "finally:\n",
        "    fp.close()"
      ],
      "metadata": {
        "colab": {
          "base_uri": "https://localhost:8080/"
        },
        "id": "cnd3mHOI4ruV",
        "outputId": "e4159c5e-4cde-45ab-a593-5d2139e787d7"
      },
      "execution_count": null,
      "outputs": [
        {
          "output_type": "stream",
          "name": "stdout",
          "text": [
            "Lorem ipsum dolor sit amet, consectetur adipiscing elit, sed do eiusmod tempor incididunt ut labore et dolore magna aliqua. \n",
            "Ut enim ad minim veniam, quis nostrud exercitation ullamco laboris nisi ut aliquip ex ea commodo consequat. \n",
            "Duis aute irure dolor in reprehenderit in voluptate velit esse cillum dolore eu fugiat nulla pariatur. \n",
            "Excepteur sint occaecat cupidatat non proident, sunt in culpa qui officia deserunt mollit anim id est laborum\n",
            "\n"
          ]
        }
      ]
    },
    {
      "cell_type": "markdown",
      "source": [
        "Така, дори и да получим грешка при четене (или каквато и да е друга операция в `try` блока), файла ще бъде затворен."
      ],
      "metadata": {
        "id": "AOGQnyg65H9d"
      }
    },
    {
      "cell_type": "markdown",
      "source": [
        "От тук можем да стигнем до заключението - при работата с ресурси, имаме процес по отваряне и процес по затваряне (независимо от грешки). Python ни предлага и друга синтактична конструкция за работа с такива структури - `with`."
      ],
      "metadata": {
        "id": "qvu90-kN5oCy"
      }
    },
    {
      "cell_type": "markdown",
      "source": [
        "`with` ни позволява отварянето на нов контекст. В него може да отворим ресурс, а след излизането от блока, този ресурс се затваря автоматично. \n",
        "\n",
        "Общият вид на `with` е следния:\n",
        "```python\n",
        "with <expression> as <variable>:\n",
        "    f(variable)\n",
        "```\n",
        "\n",
        "Ако искаме да отворим файл и да прочетем нещо с `with`, кода би изглеждал по следния начин:"
      ],
      "metadata": {
        "id": "GpkO14Bw6Tue"
      }
    },
    {
      "cell_type": "code",
      "source": [
        "import os\n",
        "with open(os.path.join('files', 'lorem_ipsum.txt')) as fp:\n",
        "    print(fp.read())\n",
        "\n",
        "print(f'Is the file closed ? {fp.closed}')"
      ],
      "metadata": {
        "colab": {
          "base_uri": "https://localhost:8080/"
        },
        "id": "NXfepH8q7aLH",
        "outputId": "b0ae10a2-96fa-492a-ab5f-ebc10a82c1af"
      },
      "execution_count": null,
      "outputs": [
        {
          "output_type": "stream",
          "name": "stdout",
          "text": [
            "Lorem ipsum dolor sit amet, consectetur adipiscing elit, sed do eiusmod tempor incididunt ut labore et dolore magna aliqua. \n",
            "Ut enim ad minim veniam, quis nostrud exercitation ullamco laboris nisi ut aliquip ex ea commodo consequat. \n",
            "Duis aute irure dolor in reprehenderit in voluptate velit esse cillum dolore eu fugiat nulla pariatur. \n",
            "Excepteur sint occaecat cupidatat non proident, sunt in culpa qui officia deserunt mollit anim id est laborum\n",
            "\n",
            "Is the file closed ? True\n"
          ]
        }
      ]
    },
    {
      "cell_type": "markdown",
      "source": [
        "Дори и при грешка, файлът ще бъде затворен. Ако искаме обаче да хванем грешката, все пак трябва да изпозлваме `try/catch`."
      ],
      "metadata": {
        "id": "EGihrAlq739A"
      }
    },
    {
      "cell_type": "code",
      "source": [
        "import os\n",
        "\n",
        "try:\n",
        "    with open(os.path.join('files', 'lorem_ipsum.txt')) as fp:\n",
        "        print(fp.read())\n",
        "except OSError as err:\n",
        "    print(err)"
      ],
      "metadata": {
        "colab": {
          "base_uri": "https://localhost:8080/"
        },
        "id": "Gg93e1tN8Yeo",
        "outputId": "730adde8-bcd5-4d7c-b0f4-0e9d91b1de3b"
      },
      "execution_count": null,
      "outputs": [
        {
          "output_type": "stream",
          "name": "stdout",
          "text": [
            "Lorem ipsum dolor sit amet, consectetur adipiscing elit, sed do eiusmod tempor incididunt ut labore et dolore magna aliqua. \n",
            "Ut enim ad minim veniam, quis nostrud exercitation ullamco laboris nisi ut aliquip ex ea commodo consequat. \n",
            "Duis aute irure dolor in reprehenderit in voluptate velit esse cillum dolore eu fugiat nulla pariatur. \n",
            "Excepteur sint occaecat cupidatat non proident, sunt in culpa qui officia deserunt mollit anim id est laborum\n",
            "\n"
          ]
        }
      ]
    },
    {
      "cell_type": "markdown",
      "source": [
        "Начинът по който `with` работи е, че извиква два специални магически метода - `__enter__` и `__exit__`, който се изпълняват при влизане и излизане съответно от контекст мениджъра. \n",
        "\n",
        "По-конкретно, `__enter__` метода се изивиква в `as` частта на `with`. В него връщаме обекта, който ще бъде присвоен на променливата след `as`.\n",
        "\n",
        "\n",
        "Файловите обекти имплементират `__exit__` метода, където затварят отворения файл."
      ],
      "metadata": {
        "id": "8r0zhhbi9Pl8"
      }
    },
    {
      "cell_type": "markdown",
      "source": [
        "Ако искаме и нашите класове да работят с контекстните мениджъри, трябва да имплементираме `__enter__` и `__exit__` методите. "
      ],
      "metadata": {
        "id": "mItDZ8Bb-jV2"
      }
    },
    {
      "cell_type": "code",
      "source": [
        "class ContextableClass:\n",
        "    def __init__(self, some_var=42):\n",
        "        self.some_var = some_var\n",
        "    \n",
        "    def __enter__(self):\n",
        "        print('Entering the context manager')\n",
        "        return self\n",
        "    \n",
        "    def __exit__(self, exc_type, exc_value, traceback):\n",
        "        print('Exiting the context manager')"
      ],
      "metadata": {
        "id": "d6PErO_q-vza"
      },
      "execution_count": null,
      "outputs": []
    },
    {
      "cell_type": "code",
      "source": [
        "with ContextableClass(5) as instance:\n",
        "    print(instance.some_var)"
      ],
      "metadata": {
        "colab": {
          "base_uri": "https://localhost:8080/"
        },
        "id": "QwMZX5jF_2AX",
        "outputId": "1be631c8-6ef2-45a8-9d3e-dc994af98251"
      },
      "execution_count": null,
      "outputs": [
        {
          "output_type": "stream",
          "name": "stdout",
          "text": [
            "Entering the context manager\n",
            "5\n",
            "Exiting the context manager\n"
          ]
        }
      ]
    },
    {
      "cell_type": "markdown",
      "source": [
        "## `tell` и `seek`"
      ],
      "metadata": {
        "id": "BsHLVveUPgaD"
      }
    },
    {
      "cell_type": "markdown",
      "source": [
        "## Примери"
      ],
      "metadata": {
        "id": "YfLvF6IvlDpa"
      }
    },
    {
      "cell_type": "markdown",
      "source": [
        "### Пример 1"
      ],
      "metadata": {
        "id": "GQFz51abh-L-"
      }
    },
    {
      "cell_type": "markdown",
      "source": [
        "Напишете функция `split_path`, която приема път (като низ), и го разделя на съставните му части. Използвайте `os.path.split`."
      ],
      "metadata": {
        "id": "VjoN0y7etjP4"
      }
    },
    {
      "cell_type": "markdown",
      "source": [
        "#### Решение на пример 1"
      ],
      "metadata": {
        "id": "L0gvQsq5txfw"
      }
    },
    {
      "cell_type": "code",
      "source": [
        "import os\n",
        "def split_path(file_path):\n",
        "    head, tail = os.path.split(file_path)\n",
        "\n",
        "    result = [tail]\n",
        "    while head != '' and head != file_path:\n",
        "        file_path = head\n",
        "        head, tail = os.path.split(file_path)\n",
        "        result.append(tail)\n",
        "\n",
        "    result.reverse()\n",
        "    return result"
      ],
      "metadata": {
        "id": "0Ys1jhNfty_0"
      },
      "execution_count": null,
      "outputs": []
    },
    {
      "cell_type": "code",
      "source": [
        "print(split_path('/foo/bar/baz'))\n",
        "print(split_path('/foo/bar/baz/'))\n",
        "print(split_path('/foo'))\n",
        "print(split_path('foo'))"
      ],
      "metadata": {
        "colab": {
          "base_uri": "https://localhost:8080/"
        },
        "id": "RhdgDKkna_mh",
        "outputId": "fbfab7bb-3c81-4330-decf-a57d2291bcbd"
      },
      "execution_count": null,
      "outputs": [
        {
          "output_type": "stream",
          "name": "stdout",
          "text": [
            "['', 'foo', 'bar', 'baz']\n",
            "['', 'foo', 'bar', 'baz', '']\n",
            "['', 'foo']\n",
            "['foo']\n"
          ]
        }
      ]
    },
    {
      "cell_type": "markdown",
      "source": [
        "### Пример 2"
      ],
      "metadata": {
        "id": "ije_Z0fEXgKM"
      }
    },
    {
      "cell_type": "markdown",
      "source": [
        "Даден е клас `Person`, който съдържа информация за човек - неговите имена, рожденна дата, възраст и работа."
      ],
      "metadata": {
        "id": "3d7BwPi4Xhtb"
      }
    },
    {
      "cell_type": "code",
      "source": [
        "class Person:\n",
        "    def __init__(self, first_name='', last_name='', birthdate='', age=0, job=''):\n",
        "        self.__first_name = first_name\n",
        "        self.__last_name = last_name\n",
        "        self.__birthdate = birthdate\n",
        "        self.__age = age\n",
        "        self.__job = job\n",
        "\n",
        "    @property\n",
        "    def first_name(self):\n",
        "        return self.__first_name\n",
        "    \n",
        "    @property\n",
        "    def last_name(self):\n",
        "        return self.__last_name\n",
        "    \n",
        "    @property\n",
        "    def birthdate(self):\n",
        "        return self.__birthdate\n",
        "\n",
        "    @property\n",
        "    def age(self):\n",
        "        return self.__age\n",
        "\n",
        "    @property\n",
        "    def job(self):\n",
        "        return self.__job"
      ],
      "metadata": {
        "id": "3lCnmwaTXwbe"
      },
      "execution_count": null,
      "outputs": []
    },
    {
      "cell_type": "markdown",
      "source": [
        "Напишете клас `PersonSerializer`, съдържащ следните методи:\n",
        "- Метод, който приема обект от тип `Person` и път. Методът записва във файл информацията за човека\n",
        "- Метод, който приема път и връща обект от тип `Person`, който е създаден на база данните от файла\n",
        "- Метод, който приема списък от `Person` и път. Методът записва във файл информация за хората\n",
        "- Метод, който приема път и връща списък от `Person`, които са създадени на база на информацията във файла\n",
        "\n",
        "При грешка при писането или четенето класът да хвърля `ValueError`. \n",
        "\n",
        "Може да приемем, че информацията за един човек ще бъде записана на един ред. "
      ],
      "metadata": {
        "id": "GaGWV_nZYR2-"
      }
    },
    {
      "cell_type": "markdown",
      "source": [
        "#### Решение на пример 2"
      ],
      "metadata": {
        "id": "TTMqcvL5ZbYj"
      }
    },
    {
      "cell_type": "code",
      "source": [
        "class Person:\n",
        "    def __init__(self, first_name='', last_name='', birthdate='', age=0, job=''):\n",
        "        self.__first_name = first_name\n",
        "        self.__last_name = last_name\n",
        "        self.__birthdate = birthdate\n",
        "        self.__age = age\n",
        "        self.__job = job\n",
        "\n",
        "    @property\n",
        "    def first_name(self):\n",
        "        return self.__first_name\n",
        "    \n",
        "    @property\n",
        "    def last_name(self):\n",
        "        return self.__last_name\n",
        "    \n",
        "    @property\n",
        "    def birthdate(self):\n",
        "        return self.__birthdate\n",
        "\n",
        "    @property\n",
        "    def age(self):\n",
        "        return self.__age\n",
        "\n",
        "    @property\n",
        "    def job(self):\n",
        "        return self.__job\n",
        "    \n",
        "    # Adding a __str__ magic method helps us with printing the info\n",
        "    def __str__(self):\n",
        "        return f'{self.first_name}, {self.last_name}, {self.birthdate}, {self.age}, {self.job}'\n",
        "    \n",
        "    @staticmethod\n",
        "    def from_string(person_info):\n",
        "        first_name, last_name, birthdate, age, job = person_info.strip().split(', ')\n",
        "        return Person(first_name, last_name, birthdate, age, job)\n",
        "    \n",
        "class PersonSerializer:\n",
        "    @staticmethod\n",
        "    def save_person(person, filepath, mode='w'):\n",
        "        with open(filepath, mode) as fp:\n",
        "            fp.write(str(person) + '\\n')\n",
        "    \n",
        "    @staticmethod\n",
        "    def create_person_from_file(filepath):\n",
        "        if not os.path.exists(filepath):\n",
        "            raise ValueError(f'File not found at {filepath}')\n",
        "        \n",
        "        with open(filepath) as fp:\n",
        "            person_info = fp.read()\n",
        "            return Person.from_string(person_info)\n",
        "\n",
        "    @staticmethod\n",
        "    def save_people(people, filepath):\n",
        "        for person in people:\n",
        "            PersonSerializer.save_person(person, filepath, mode='a')\n",
        "    \n",
        "    @staticmethod\n",
        "    def create_people_from_file(filepath):\n",
        "        if not os.path.exists(filepath):\n",
        "            raise ValueError(f'File not found at {filepath}')\n",
        "        \n",
        "        with open(filepath) as fp:\n",
        "            return [Person.from_string(person_info) for person_info in fp]\n"
      ],
      "metadata": {
        "id": "fQBxLoESZeQV"
      },
      "execution_count": null,
      "outputs": []
    },
    {
      "cell_type": "code",
      "source": [
        "me = Person('Lyubo', 'Karev', '20-09-1998', 24, 'Developer')\n",
        "my_filepath = os.path.join('files', 'lyubo.txt')\n",
        "\n",
        "PersonSerializer.save_person(me, my_filepath)\n",
        "me_again = PersonSerializer.create_person_from_file(my_filepath)  # Hello me, meet the real me\n",
        "\n",
        "print(me)\n",
        "print(me_again)"
      ],
      "metadata": {
        "colab": {
          "base_uri": "https://localhost:8080/"
        },
        "id": "VGnQEoPnbcra",
        "outputId": "3fbf91d2-9161-4396-89d4-e911ed4623c5"
      },
      "execution_count": null,
      "outputs": [
        {
          "output_type": "stream",
          "name": "stdout",
          "text": [
            "Lyubo, Karev, 20-09-1998, 24, Developer\n",
            "Lyubo, Karev, 20-09-1998, 24, Developer\n"
          ]
        }
      ]
    },
    {
      "cell_type": "code",
      "source": [
        "bunch_of_people = [\n",
        "    Person('Lyubo', 'Karev', '20-09-1998', 24, 'Developer'),\n",
        "    Person('Alex', 'Ignatov', '22-10-1998', 24, 'Developer'),\n",
        "    Person('Ivan', 'Luchev', '28-04-1998', 24, 'Student')\n",
        "]\n",
        "\n",
        "our_filepath = os.path.join('files', 'us.txt')\n",
        "\n",
        "PersonSerializer.save_people(bunch_of_people, our_filepath)\n",
        "us_again = PersonSerializer.create_people_from_file(our_filepath)\n",
        "\n",
        "print('Bunch of people:')\n",
        "for person in bunch_of_people: \n",
        "    print(person)\n",
        "\n",
        "print('Us again:')\n",
        "for person in us_again: \n",
        "    print(person)"
      ],
      "metadata": {
        "colab": {
          "base_uri": "https://localhost:8080/"
        },
        "id": "aju9NHCLcfBQ",
        "outputId": "7dbfcc3c-664d-43f1-a1ae-b95a93c67916"
      },
      "execution_count": null,
      "outputs": [
        {
          "output_type": "stream",
          "name": "stdout",
          "text": [
            "Bunch of people:\n",
            "Lyubo, Karev, 20-09-1998, 24, Developer\n",
            "Alex, Ignatov, 22-10-1998, 24, Developer\n",
            "Ivan, Luchev, 28-04-1998, 24, Student\n",
            "Us again:\n",
            "Lyubo, Karev, 20-09-1998, 24, Developer\n",
            "Alex, Ignatov, 22-10-1998, 24, Developer\n",
            "Ivan, Luchev, 28-04-1998, 24, Student\n"
          ]
        }
      ]
    },
    {
      "cell_type": "markdown",
      "source": [
        "## Задачи"
      ],
      "metadata": {
        "id": "Mvgi6--wlFDS"
      }
    },
    {
      "cell_type": "markdown",
      "source": [
        "Задачите може да намерите тук: [tasks.md](https://github.com/lyubolp/PythonCourse2022/blob/08_files/08%20-%20Files/tasks/tasks.md)"
      ],
      "metadata": {
        "id": "hq-AcP5Plq3x"
      }
    }
  ]
}