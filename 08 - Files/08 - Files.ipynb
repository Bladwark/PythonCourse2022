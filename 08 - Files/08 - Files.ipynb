{
  "nbformat": 4,
  "nbformat_minor": 0,
  "metadata": {
    "colab": {
      "provenance": [],
      "collapsed_sections": [
        "3Fd8dyDSliLn",
        "KPWujZmdo10D",
        "UU_sozqXbJhx"
      ],
      "authorship_tag": "ABX9TyMoj0VgqZenj2HB036oj4Qh",
      "include_colab_link": true
    },
    "kernelspec": {
      "name": "python3",
      "display_name": "Python 3"
    },
    "language_info": {
      "name": "python"
    }
  },
  "cells": [
    {
      "cell_type": "markdown",
      "metadata": {
        "id": "view-in-github",
        "colab_type": "text"
      },
      "source": [
        "<a href=\"https://colab.research.google.com/github/lyubolp/PythonCourse2022/blob/08_files/08%20-%20Files/08%20-%20Files.ipynb\" target=\"_parent\"><img src=\"https://colab.research.google.com/assets/colab-badge.svg\" alt=\"Open In Colab\"/></a>"
      ]
    },
    {
      "cell_type": "markdown",
      "source": [
        "# Работа с файлове в Python\n",
        "План на лекцията:\n",
        "- [X] Кратка интродукция за работата с пътища, Windows и Unix\n",
        "- [X] Представяне на файловете в Python\n",
        "- [X] Четене на файлове\n",
        "- [ ] Писане на файлове\n",
        "- [ ] Работа с файлове и пътища\n",
        "- [ ] Използване на `with`\n",
        "- [ ] `tell` и `seek`\n",
        "- [ ] Примери\n",
        "- [ ] Задачи"
      ],
      "metadata": {
        "id": "YIgCCwN5a39O"
      }
    },
    {
      "cell_type": "markdown",
      "source": [
        "### Предварителна подготовка "
      ],
      "metadata": {
        "id": "LnxJAYYb63dN"
      }
    },
    {
      "cell_type": "code",
      "source": [
        "!mkdir files\n",
        "!curl -o files/lorem_ipsum.txt https://raw.githubusercontent.com/lyubolp/PythonCourse2022/08_files/08%20-%20Files/files/1.txt\n",
        "!echo \"hello\" > files/hello.txt"
      ],
      "metadata": {
        "colab": {
          "base_uri": "https://localhost:8080/"
        },
        "id": "L02fnebn7I_E",
        "outputId": "72cd3590-5a7e-4750-ae4d-43794ae95f1c"
      },
      "execution_count": 1,
      "outputs": [
        {
          "output_type": "stream",
          "name": "stdout",
          "text": [
            "  % Total    % Received % Xferd  Average Speed   Time    Time     Time  Current\n",
            "                                 Dload  Upload   Total   Spent    Left  Speed\n",
            "\r  0     0    0     0    0     0      0      0 --:--:-- --:--:-- --:--:--     0\r100   448  100   448    0     0   3177      0 --:--:-- --:--:-- --:--:--  3177\n"
          ]
        }
      ]
    },
    {
      "cell_type": "markdown",
      "source": [
        "## Кратка интродукция за работата с пътища, Windows и Unix."
      ],
      "metadata": {
        "id": "3Fd8dyDSliLn"
      }
    },
    {
      "cell_type": "markdown",
      "source": [
        "Път в една файлова система посочва локацията и името на даден обект (бил той файл или директория). Пример за път в Linux/MacOS е `/home/user/myfile.txt`, а в Windows - `C:\\Users\\user\\myfile.txt`. \n",
        "\n",
        "Забелязва се, че пътищата в Windows и Unix-базираните ОС се разделят с различни черти. Нашият Python код трябва да е съвместим и с двата начина за разделя на пътища. \n",
        "\n",
        "За наше улеснение, Python предлага функцията `os.path.join`, която по подадени имена на директории/файлове, конструира правилния спрямо нашия OS път."
      ],
      "metadata": {
        "id": "1FQAdGyXlkjs"
      }
    },
    {
      "cell_type": "code",
      "source": [
        "import os\n",
        "\n",
        "os.path.join('/home', 'lyubo', 'myfile.txt')"
      ],
      "metadata": {
        "colab": {
          "base_uri": "https://localhost:8080/",
          "height": 36
        },
        "id": "FR2Fp_MrnHDt",
        "outputId": "19a17f12-7d00-41ba-c2e3-17edd07caea9"
      },
      "execution_count": null,
      "outputs": [
        {
          "output_type": "execute_result",
          "data": {
            "text/plain": [
              "'/home/lyubo/myfile.txt'"
            ],
            "application/vnd.google.colaboratory.intrinsic+json": {
              "type": "string"
            }
          },
          "metadata": {},
          "execution_count": 2
        }
      ]
    },
    {
      "cell_type": "markdown",
      "source": [
        "Понеже кодът е изпълнен под Linux, получаваме Unix-ски път. Ако изпълним обаче същия код под Windows, ще получим правилен Windows-ки път. "
      ],
      "metadata": {
        "id": "RGGzX2_znL_z"
      }
    },
    {
      "cell_type": "markdown",
      "source": [
        "## Представяне на файловете в Python"
      ],
      "metadata": {
        "id": "KPWujZmdo10D"
      }
    },
    {
      "cell_type": "markdown",
      "source": [
        "Python предоставя API за работа с файлове и потоци. Python работи с т.нар. \"file objects\" - това може да са файлове на диска, sockets, pipes и други потоци.\n",
        "\n",
        "Освен с текстови файлове, можем да работим и с бинарни файлове. За момента обаче, ще се спрем само върху текстовите файлове."
      ],
      "metadata": {
        "id": "FBsGm74Yo6LW"
      }
    },
    {
      "cell_type": "markdown",
      "source": [
        "Можем да отворим един файл за работа, с помощта на функцията `open`. В най-простия си вид, тя приема път към файл. "
      ],
      "metadata": {
        "id": "e0ME86yzrRuJ"
      }
    },
    {
      "cell_type": "code",
      "source": [
        "fd = open(os.path.join('files', 'lorem_ipsum.txt'))\n",
        "\n",
        "print(fd)\n",
        "\n",
        "fd.close()"
      ],
      "metadata": {
        "colab": {
          "base_uri": "https://localhost:8080/"
        },
        "id": "9uztE6pzrYj5",
        "outputId": "f9ad02ca-ae15-459f-e86b-9bc7b1af735a"
      },
      "execution_count": null,
      "outputs": [
        {
          "output_type": "stream",
          "name": "stdout",
          "text": [
            "<_io.TextIOWrapper name='files/lorem_ipsum.txt' mode='r' encoding='UTF-8'>\n"
          ]
        }
      ]
    },
    {
      "cell_type": "markdown",
      "source": [
        "След като приключим работа с един файл, не трябва да забравяме да го затворим. Затварянето на един файл става с помощта на `close` метода. "
      ],
      "metadata": {
        "id": "4ohPpwYurg55"
      }
    },
    {
      "cell_type": "markdown",
      "source": [
        "Забелязваме, че обекта който получаваме като резултат от `open` има име (`files/lorem_ipsum.txt`), режим (`r`) и кодиране (`UTF-8`).\n",
        "\n",
        "Един файл може да бъде отворен в няколко различни режима:\n",
        "- `r` - отваря файла за четене\n",
        "- `w` - отваря файла за писане, като файла първо бива зачистен\n",
        "- `a` - отваря файла за писане, като новото съдържание се записва в края на файла\n",
        "- `x` - създава файла, ако не съществува. Ако файла вече съществува, се хвърля `FileExistsError`\n",
        "- `b` - отваря файл в бинарен режим\n",
        "- `t` - отваря файл в текстови режим\n",
        "- `+` - отваря файла за четене и писане\n",
        "\n",
        "Освен режима на отваряне, можем да променим и кодирането, с което се опитваме да четем файла. По подразбиране, използваме `UTF-8`. "
      ],
      "metadata": {
        "id": "lpRD3mZarn3x"
      }
    },
    {
      "cell_type": "markdown",
      "source": [
        "## Четене на файлове"
      ],
      "metadata": {
        "id": "UU_sozqXbJhx"
      }
    },
    {
      "cell_type": "markdown",
      "source": [
        "В Python имаме три метода, чрез които можем да четем от файлове: `read`, `readline` и `readlines`.  "
      ],
      "metadata": {
        "id": "D27sqq5ilMSp"
      }
    },
    {
      "cell_type": "markdown",
      "source": [
        "Нека първо разгледаме метода `read`. Той прочита целия файл и запазва съдържанието му в променлива, като един голям низ. "
      ],
      "metadata": {
        "id": "jJNafCFk12bQ"
      }
    },
    {
      "cell_type": "code",
      "execution_count": 4,
      "metadata": {
        "colab": {
          "base_uri": "https://localhost:8080/"
        },
        "id": "h92FBNCNat7U",
        "outputId": "377e7828-f895-4d3e-aaac-588f558b83ca"
      },
      "outputs": [
        {
          "output_type": "stream",
          "name": "stdout",
          "text": [
            "content=Lorem ipsum dolor sit amet, consectetur adipiscing elit, sed do eiusmod tempor incididunt ut labore et dolore magna aliqua. \n",
            "Ut enim ad minim veniam, quis nostrud exercitation ullamco laboris nisi ut aliquip ex ea commodo consequat. \n",
            "Duis aute irure dolor in reprehenderit in voluptate velit esse cillum dolore eu fugiat nulla pariatur. \n",
            "Excepteur sint occaecat cupidatat non proident, sunt in culpa qui officia deserunt mollit anim id est laborum\n",
            "\n"
          ]
        }
      ],
      "source": [
        "import os\n",
        "\n",
        "fd = open(os.path.join('files', 'lorem_ipsum.txt'))\n",
        "\n",
        "content = fd.read()\n",
        "print(f'content={content}')\n",
        "\n",
        "fd.close()"
      ]
    },
    {
      "cell_type": "markdown",
      "source": [
        "Веднъж прочетен един файл, следващото прочитане ще ни върне празен низ. "
      ],
      "metadata": {
        "id": "vGKGqRa-1K_m"
      }
    },
    {
      "cell_type": "code",
      "source": [
        "fd = open(os.path.join('files', 'lorem_ipsum.txt'))\n",
        "\n",
        "content = fd.read()\n",
        "print(f'content={content}')\n",
        "\n",
        "content = fd.read()\n",
        "print(f'content={content}')\n",
        "\n",
        "fd.close()"
      ],
      "metadata": {
        "colab": {
          "base_uri": "https://localhost:8080/"
        },
        "id": "-Xfg_I0NJJ9C",
        "outputId": "0c027891-7bf3-4d6c-c50b-f949db725e16"
      },
      "execution_count": 5,
      "outputs": [
        {
          "output_type": "stream",
          "name": "stdout",
          "text": [
            "content=Lorem ipsum dolor sit amet, consectetur adipiscing elit, sed do eiusmod tempor incididunt ut labore et dolore magna aliqua. \n",
            "Ut enim ad minim veniam, quis nostrud exercitation ullamco laboris nisi ut aliquip ex ea commodo consequat. \n",
            "Duis aute irure dolor in reprehenderit in voluptate velit esse cillum dolore eu fugiat nulla pariatur. \n",
            "Excepteur sint occaecat cupidatat non proident, sunt in culpa qui officia deserunt mollit anim id est laborum\n",
            "\n",
            "content=\n"
          ]
        }
      ]
    },
    {
      "cell_type": "markdown",
      "source": [
        "Друг вариант за четене на файл, е ред по ред - това става с помощта на метода `readline`. "
      ],
      "metadata": {
        "id": "ULGoY5x72lCb"
      }
    },
    {
      "cell_type": "code",
      "source": [
        "fd = open(os.path.join('files', 'lorem_ipsum.txt'))\n",
        "\n",
        "content = fd.readline()\n",
        "print(f'content={content}')\n",
        "\n",
        "content = fd.readline()\n",
        "print(f'content={content}')\n",
        "\n",
        "fd.close()"
      ],
      "metadata": {
        "colab": {
          "base_uri": "https://localhost:8080/"
        },
        "id": "oK9Xi-Gu2zr7",
        "outputId": "2270a97a-ea9a-4183-ff06-e9b43beebb85"
      },
      "execution_count": 6,
      "outputs": [
        {
          "output_type": "stream",
          "name": "stdout",
          "text": [
            "content=Lorem ipsum dolor sit amet, consectetur adipiscing elit, sed do eiusmod tempor incididunt ut labore et dolore magna aliqua. \n",
            "\n",
            "content=Ut enim ad minim veniam, quis nostrud exercitation ullamco laboris nisi ut aliquip ex ea commodo consequat. \n",
            "\n"
          ]
        }
      ]
    },
    {
      "cell_type": "markdown",
      "source": [
        "След прочитане на последния ред, `readline` връща празен низ."
      ],
      "metadata": {
        "id": "_DXlyrPY315L"
      }
    },
    {
      "cell_type": "code",
      "source": [
        "fd = open(os.path.join('files', 'lorem_ipsum.txt'))\n",
        "\n",
        "content = fd.readline()\n",
        "print(f'content={content}')\n",
        "\n",
        "while content != '':\n",
        "    content = fd.readline()\n",
        "    print(f'content={content}')\n",
        "\n",
        "fd.close()"
      ],
      "metadata": {
        "colab": {
          "base_uri": "https://localhost:8080/"
        },
        "id": "yVRgVthN3vix",
        "outputId": "b00d3d60-8ff7-47e1-db7f-5a16fadd3325"
      },
      "execution_count": 7,
      "outputs": [
        {
          "output_type": "stream",
          "name": "stdout",
          "text": [
            "content=Lorem ipsum dolor sit amet, consectetur adipiscing elit, sed do eiusmod tempor incididunt ut labore et dolore magna aliqua. \n",
            "\n",
            "content=Ut enim ad minim veniam, quis nostrud exercitation ullamco laboris nisi ut aliquip ex ea commodo consequat. \n",
            "\n",
            "content=Duis aute irure dolor in reprehenderit in voluptate velit esse cillum dolore eu fugiat nulla pariatur. \n",
            "\n",
            "content=Excepteur sint occaecat cupidatat non proident, sunt in culpa qui officia deserunt mollit anim id est laborum\n",
            "\n",
            "content=\n"
          ]
        }
      ]
    },
    {
      "cell_type": "markdown",
      "source": [
        "Ако искаме да получим списък от всички редове във файл, можем да използваме `readlines`."
      ],
      "metadata": {
        "id": "6nLUpVFq4Ld4"
      }
    },
    {
      "cell_type": "code",
      "source": [
        "fd = open(os.path.join('files', 'lorem_ipsum.txt'))\n",
        "\n",
        "content = fd.readlines()\n",
        "print(f'content={content}')\n",
        "\n",
        "fd.close()"
      ],
      "metadata": {
        "colab": {
          "base_uri": "https://localhost:8080/"
        },
        "id": "xcmi0pcO4ULY",
        "outputId": "5f1c1861-3511-4039-e00e-0cfa79f45225"
      },
      "execution_count": 8,
      "outputs": [
        {
          "output_type": "stream",
          "name": "stdout",
          "text": [
            "content=['Lorem ipsum dolor sit amet, consectetur adipiscing elit, sed do eiusmod tempor incididunt ut labore et dolore magna aliqua. \\n', 'Ut enim ad minim veniam, quis nostrud exercitation ullamco laboris nisi ut aliquip ex ea commodo consequat. \\n', 'Duis aute irure dolor in reprehenderit in voluptate velit esse cillum dolore eu fugiat nulla pariatur. \\n', 'Excepteur sint occaecat cupidatat non proident, sunt in culpa qui officia deserunt mollit anim id est laborum\\n']\n"
          ]
        }
      ]
    },
    {
      "cell_type": "code",
      "source": [
        "fd = open(os.path.join('files', 'lorem_ipsum.txt'))\n",
        "\n",
        "content = fd.readlines()\n",
        "\n",
        "for line in content:\n",
        "    print(f'content={line}')\n",
        "\n",
        "fd.close()"
      ],
      "metadata": {
        "colab": {
          "base_uri": "https://localhost:8080/"
        },
        "id": "zPRIvtWb4Ycu",
        "outputId": "40cdf2bf-bdb2-4f93-bf9c-89bf3757e63a"
      },
      "execution_count": 9,
      "outputs": [
        {
          "output_type": "stream",
          "name": "stdout",
          "text": [
            "content=Lorem ipsum dolor sit amet, consectetur adipiscing elit, sed do eiusmod tempor incididunt ut labore et dolore magna aliqua. \n",
            "\n",
            "content=Ut enim ad minim veniam, quis nostrud exercitation ullamco laboris nisi ut aliquip ex ea commodo consequat. \n",
            "\n",
            "content=Duis aute irure dolor in reprehenderit in voluptate velit esse cillum dolore eu fugiat nulla pariatur. \n",
            "\n",
            "content=Excepteur sint occaecat cupidatat non proident, sunt in culpa qui officia deserunt mollit anim id est laborum\n",
            "\n"
          ]
        }
      ]
    },
    {
      "cell_type": "markdown",
      "source": [
        "Вместо да използваме `readlines`, можем да итерираме директно по файл обекта."
      ],
      "metadata": {
        "id": "URkhviux8oQn"
      }
    },
    {
      "cell_type": "code",
      "source": [
        "fd = open(os.path.join('files', 'lorem_ipsum.txt'))\n",
        "\n",
        "for line in fd:\n",
        "    print(f'content={line}')\n",
        "\n",
        "fd.close()"
      ],
      "metadata": {
        "colab": {
          "base_uri": "https://localhost:8080/"
        },
        "id": "6uiK1ioa9zCq",
        "outputId": "c4f4339c-e6a4-479b-ff47-42bad7cbfe26"
      },
      "execution_count": 10,
      "outputs": [
        {
          "output_type": "stream",
          "name": "stdout",
          "text": [
            "content=Lorem ipsum dolor sit amet, consectetur adipiscing elit, sed do eiusmod tempor incididunt ut labore et dolore magna aliqua. \n",
            "\n",
            "content=Ut enim ad minim veniam, quis nostrud exercitation ullamco laboris nisi ut aliquip ex ea commodo consequat. \n",
            "\n",
            "content=Duis aute irure dolor in reprehenderit in voluptate velit esse cillum dolore eu fugiat nulla pariatur. \n",
            "\n",
            "content=Excepteur sint occaecat cupidatat non proident, sunt in culpa qui officia deserunt mollit anim id est laborum\n",
            "\n"
          ]
        }
      ]
    },
    {
      "cell_type": "markdown",
      "source": [],
      "metadata": {
        "id": "monpYn3E9wk0"
      }
    },
    {
      "cell_type": "markdown",
      "source": [
        "## Писане на файлове"
      ],
      "metadata": {
        "id": "90Il8AMhbLu2"
      }
    },
    {
      "cell_type": "markdown",
      "source": [
        "## Работа с файлове и пътища"
      ],
      "metadata": {
        "id": "Nlb97sGOf4s8"
      }
    },
    {
      "cell_type": "markdown",
      "source": [
        "Python предлага удобен начин за работа с файлове. Вградената библиотека `os` съдържа всичко необходимо за работата с файлове и директории. \n",
        "\n",
        "Ще разгледаме как можем да:\n",
        "- Преместим файл\n",
        "- Изтрием файл\n",
        "- Създадем директория\n",
        "- Преместим директория\n",
        "- Изтрием директория\n",
        "- Проверка дали даден файл/директория съществува\n",
        "- Дали даден път сочи към файл или директория\n",
        "- Обща работа с пътища\n",
        "- Обхождане на файловата система\n",
        "\n"
      ],
      "metadata": {
        "id": "oe4Ti1UBhsVW"
      }
    },
    {
      "cell_type": "markdown",
      "source": [
        "- Move file (os.rename)\n",
        "- Delete file (os.remove)\n",
        "\n",
        "- Create directory (os.mkdir/os.makedirs)\n",
        "- Move directory (os.rename)\n",
        "- Delete directory (os.rmdir/os.removedirs)\n",
        "\n",
        "- os.path.exists\n",
        "- os.path.join\n",
        "- os.path.split\n",
        "- os.path.isdir\n",
        "- os.path.isfile\n",
        "- os.walk"
      ],
      "metadata": {
        "id": "93CJDM6Mf6aA"
      }
    },
    {
      "cell_type": "markdown",
      "source": [
        "### Преместване на файл\n",
        "Преместването на файл става чрез \"преименуването му\" (или всъщност, преименуването на файл е преместването му като файл с друго име 🤔) - това в Python става с помощта на функцията `os.rename`"
      ],
      "metadata": {
        "id": "G3Jqt8kLi8W0"
      }
    },
    {
      "cell_type": "markdown",
      "source": [
        "## Използване на `with`"
      ],
      "metadata": {
        "id": "FzOWCerhbNUN"
      }
    },
    {
      "cell_type": "markdown",
      "source": [
        "## `tell` и `seek`"
      ],
      "metadata": {
        "id": "BsHLVveUPgaD"
      }
    }
  ]
}