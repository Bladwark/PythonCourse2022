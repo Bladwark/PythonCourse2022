{
  "nbformat": 4,
  "nbformat_minor": 0,
  "metadata": {
    "colab": {
      "provenance": [],
      "collapsed_sections": [
        "3Fd8dyDSliLn",
        "KPWujZmdo10D",
        "UU_sozqXbJhx",
        "90Il8AMhbLu2",
        "HbjmmlfMYpVo",
        "G3Jqt8kLi8W0",
        "baI__6ycM8IS",
        "Ekhha8biM-Ps",
        "NHJPuuq_NBV5",
        "vgkfZTpuNGlv",
        "FzOWCerhbNUN",
        "BsHLVveUPgaD",
        "YfLvF6IvlDpa",
        "GQFz51abh-L-"
      ],
      "authorship_tag": "ABX9TyMQedVVgLlHdHDHX6upcpqL",
      "include_colab_link": true
    },
    "kernelspec": {
      "name": "python3",
      "display_name": "Python 3"
    },
    "language_info": {
      "name": "python"
    }
  },
  "cells": [
    {
      "cell_type": "markdown",
      "metadata": {
        "id": "view-in-github",
        "colab_type": "text"
      },
      "source": [
        "<a href=\"https://colab.research.google.com/github/fmipython/PythonCourse2022/blob/08_files/08%20-%20Files/08%20-%20Files.ipynb\" target=\"_parent\"><img src=\"https://colab.research.google.com/assets/colab-badge.svg\" alt=\"Open In Colab\"/></a>"
      ]
    },
    {
      "cell_type": "markdown",
      "source": [
        "# Работа с файлове в Python\n",
        "План на лекцията:\n",
        "- Кратка интродукция за работата с пътища, Windows и Unix\n",
        "- Представяне на файловете в Python\n",
        "- Четене на файлове\n",
        "- Писане на файлове\n",
        "- Работа с файлове и пътища\n",
        "- Използване на `with`\n",
        "- `tell` и `seek`\n",
        "- Примери\n",
        "- Задачи"
      ],
      "metadata": {
        "id": "YIgCCwN5a39O"
      }
    },
    {
      "cell_type": "markdown",
      "source": [
        "### Предварителна подготовка "
      ],
      "metadata": {
        "id": "LnxJAYYb63dN"
      }
    },
    {
      "cell_type": "code",
      "source": [
        "!mkdir files\n",
        "!curl -o files/lorem_ipsum.txt https://raw.githubusercontent.com/lyubolp/PythonCourse2022/08_files/08%20-%20Files/files/1.txt\n",
        "!echo \"hello\" > files/hello.txt"
      ],
      "metadata": {
        "colab": {
          "base_uri": "https://localhost:8080/"
        },
        "id": "L02fnebn7I_E",
        "outputId": "dcfbc25d-6a7f-43a0-9437-44e9e0f66764"
      },
      "execution_count": 1,
      "outputs": [
        {
          "output_type": "stream",
          "name": "stdout",
          "text": [
            "mkdir: cannot create directory ‘files’: File exists\n",
            "  % Total    % Received % Xferd  Average Speed   Time    Time     Time  Current\n",
            "                                 Dload  Upload   Total   Spent    Left  Speed\n",
            "100   448  100   448    0     0   2531      0 --:--:-- --:--:-- --:--:--  2531\n"
          ]
        }
      ]
    },
    {
      "cell_type": "markdown",
      "source": [
        "## Кратка интродукция за работата с пътища, Windows и Unix."
      ],
      "metadata": {
        "id": "3Fd8dyDSliLn"
      }
    },
    {
      "cell_type": "markdown",
      "source": [
        "Път в една файлова система посочва локацията и името на даден обект (бил той файл или директория). Пример за път в Linux/MacOS е `/home/user/myfile.txt`, а в Windows - `C:\\Users\\user\\myfile.txt`. \n",
        "\n",
        "Забелязва се, че пътищата в Windows и Unix-базираните ОС се разделят с различни черти. Нашият Python код трябва да е съвместим и с двата начина за разделя на пътища. \n",
        "\n",
        "За наше улеснение, Python предлага функцията `os.path.join`, която по подадени имена на директории/файлове, конструира правилния спрямо нашия OS път."
      ],
      "metadata": {
        "id": "1FQAdGyXlkjs"
      }
    },
    {
      "cell_type": "code",
      "source": [
        "import os\n",
        "\n",
        "os.path.join('/home', 'lyubo', 'myfile.txt')"
      ],
      "metadata": {
        "colab": {
          "base_uri": "https://localhost:8080/",
          "height": 36
        },
        "id": "FR2Fp_MrnHDt",
        "outputId": "7bf33844-ff6e-4bac-d8de-b5600c9f8565"
      },
      "execution_count": 2,
      "outputs": [
        {
          "output_type": "execute_result",
          "data": {
            "text/plain": [
              "'/home/lyubo/myfile.txt'"
            ],
            "application/vnd.google.colaboratory.intrinsic+json": {
              "type": "string"
            }
          },
          "metadata": {},
          "execution_count": 2
        }
      ]
    },
    {
      "cell_type": "markdown",
      "source": [
        "Понеже кодът е изпълнен под Linux, получаваме Unix-ски път. Ако изпълним обаче същия код под Windows, ще получим правилен Windows-ки път. "
      ],
      "metadata": {
        "id": "RGGzX2_znL_z"
      }
    },
    {
      "cell_type": "markdown",
      "source": [
        "## Представяне на файловете в Python"
      ],
      "metadata": {
        "id": "KPWujZmdo10D"
      }
    },
    {
      "cell_type": "markdown",
      "source": [
        "Python предоставя API за работа с файлове и потоци. Python работи с т.нар. \"file objects\" - това може да са файлове на диска, sockets, pipes и други потоци.\n",
        "\n",
        "Освен с текстови файлове, можем да работим и с бинарни файлове. За момента обаче, ще се спрем само върху текстовите файлове."
      ],
      "metadata": {
        "id": "FBsGm74Yo6LW"
      }
    },
    {
      "cell_type": "markdown",
      "source": [
        "Можем да отворим един файл за работа, с помощта на функцията `open`. В най-простия си вид, тя приема път към файл. "
      ],
      "metadata": {
        "id": "e0ME86yzrRuJ"
      }
    },
    {
      "cell_type": "code",
      "source": [
        "fd = open(os.path.join('files', 'lorem_ipsum.txt'))\n",
        "\n",
        "print(fd)\n",
        "\n",
        "fd.close()"
      ],
      "metadata": {
        "colab": {
          "base_uri": "https://localhost:8080/"
        },
        "id": "9uztE6pzrYj5",
        "outputId": "aef05ab4-f132-4564-fce7-287d321d3acd"
      },
      "execution_count": 3,
      "outputs": [
        {
          "output_type": "stream",
          "name": "stdout",
          "text": [
            "<_io.TextIOWrapper name='files/lorem_ipsum.txt' mode='r' encoding='UTF-8'>\n"
          ]
        }
      ]
    },
    {
      "cell_type": "markdown",
      "source": [
        "След като приключим работа с един файл, не трябва да забравяме да го затворим. Затварянето на един файл става с помощта на `close` метода. "
      ],
      "metadata": {
        "id": "4ohPpwYurg55"
      }
    },
    {
      "cell_type": "markdown",
      "source": [
        "Забелязваме, че обекта който получаваме като резултат от `open` има име (`files/lorem_ipsum.txt`), режим (`r`) и кодиране (`UTF-8`).\n",
        "\n",
        "Един файл може да бъде отворен в няколко различни режима:\n",
        "- `r` - отваря файла за четене\n",
        "- `w` - отваря файла за писане, като файла първо бива зачистен\n",
        "- `a` - отваря файла за писане, като новото съдържание се записва в края на файла\n",
        "- `x` - създава файла, ако не съществува. Ако файла вече съществува, се хвърля `FileExistsError`\n",
        "- `b` - отваря файл в бинарен режим\n",
        "- `t` - отваря файл в текстови режим\n",
        "- `+` - отваря файла за четене и писане\n",
        "\n",
        "Освен режима на отваряне, можем да променим и кодирането, с което се опитваме да четем файла. По подразбиране, използваме `UTF-8`. "
      ],
      "metadata": {
        "id": "lpRD3mZarn3x"
      }
    },
    {
      "cell_type": "markdown",
      "source": [
        "Ако се опитаме да запишем файл в несъществуваща директория, ще получим грешка"
      ],
      "metadata": {
        "id": "RlrURy5tmAHa"
      }
    },
    {
      "cell_type": "code",
      "source": [
        "fd = open(os.path.join('files', 'non_existing_dir', 'new_file.txt'), 'w')\n",
        "\n",
        "fd.write('content')\n",
        "\n",
        "fd.close()"
      ],
      "metadata": {
        "colab": {
          "base_uri": "https://localhost:8080/",
          "height": 239
        },
        "id": "jcixN1mWl_sN",
        "outputId": "3c64d45a-d12f-4250-8d04-9a2ac52a0a24"
      },
      "execution_count": 4,
      "outputs": [
        {
          "output_type": "error",
          "ename": "FileNotFoundError",
          "evalue": "ignored",
          "traceback": [
            "\u001b[0;31m---------------------------------------------------------------------------\u001b[0m",
            "\u001b[0;31mFileNotFoundError\u001b[0m                         Traceback (most recent call last)",
            "\u001b[0;32m<ipython-input-4-40e729170234>\u001b[0m in \u001b[0;36m<module>\u001b[0;34m\u001b[0m\n\u001b[0;32m----> 1\u001b[0;31m \u001b[0mfd\u001b[0m \u001b[0;34m=\u001b[0m \u001b[0mopen\u001b[0m\u001b[0;34m(\u001b[0m\u001b[0mos\u001b[0m\u001b[0;34m.\u001b[0m\u001b[0mpath\u001b[0m\u001b[0;34m.\u001b[0m\u001b[0mjoin\u001b[0m\u001b[0;34m(\u001b[0m\u001b[0;34m'files'\u001b[0m\u001b[0;34m,\u001b[0m \u001b[0;34m'non_existing_dir'\u001b[0m\u001b[0;34m,\u001b[0m \u001b[0;34m'new_file.txt'\u001b[0m\u001b[0;34m)\u001b[0m\u001b[0;34m,\u001b[0m \u001b[0;34m'w'\u001b[0m\u001b[0;34m)\u001b[0m\u001b[0;34m\u001b[0m\u001b[0;34m\u001b[0m\u001b[0m\n\u001b[0m\u001b[1;32m      2\u001b[0m \u001b[0;34m\u001b[0m\u001b[0m\n\u001b[1;32m      3\u001b[0m \u001b[0mfd\u001b[0m\u001b[0;34m.\u001b[0m\u001b[0mwrite\u001b[0m\u001b[0;34m(\u001b[0m\u001b[0;34m'content'\u001b[0m\u001b[0;34m)\u001b[0m\u001b[0;34m\u001b[0m\u001b[0;34m\u001b[0m\u001b[0m\n\u001b[1;32m      4\u001b[0m \u001b[0;34m\u001b[0m\u001b[0m\n\u001b[1;32m      5\u001b[0m \u001b[0mfd\u001b[0m\u001b[0;34m.\u001b[0m\u001b[0mclose\u001b[0m\u001b[0;34m(\u001b[0m\u001b[0;34m)\u001b[0m\u001b[0;34m\u001b[0m\u001b[0;34m\u001b[0m\u001b[0m\n",
            "\u001b[0;31mFileNotFoundError\u001b[0m: [Errno 2] No such file or directory: 'files/non_existing_dir/new_file.txt'"
          ]
        }
      ]
    },
    {
      "cell_type": "markdown",
      "source": [
        "## Четене на файлове"
      ],
      "metadata": {
        "id": "UU_sozqXbJhx"
      }
    },
    {
      "cell_type": "markdown",
      "source": [
        "В Python имаме три метода, чрез които можем да четем от файлове: `read`, `readline` и `readlines`.  "
      ],
      "metadata": {
        "id": "D27sqq5ilMSp"
      }
    },
    {
      "cell_type": "markdown",
      "source": [
        "Нека първо разгледаме метода `read`. Той прочита целия файл и запазва съдържанието му в променлива, като един голям низ. "
      ],
      "metadata": {
        "id": "jJNafCFk12bQ"
      }
    },
    {
      "cell_type": "code",
      "execution_count": null,
      "metadata": {
        "id": "h92FBNCNat7U"
      },
      "outputs": [],
      "source": [
        "import os\n",
        "\n",
        "fd = open(os.path.join('files', 'lorem_ipsum.txt'))\n",
        "\n",
        "content = fd.read()\n",
        "print(f'content={content}')\n",
        "\n",
        "fd.close()"
      ]
    },
    {
      "cell_type": "markdown",
      "source": [
        "Веднъж прочетен един файл, следващото прочитане ще ни върне празен низ. "
      ],
      "metadata": {
        "id": "vGKGqRa-1K_m"
      }
    },
    {
      "cell_type": "code",
      "source": [
        "fd = open(os.path.join('files', 'lorem_ipsum.txt'))\n",
        "\n",
        "content = fd.read()\n",
        "print(f'content={content}')\n",
        "\n",
        "content = fd.read()\n",
        "print(f'content={content}')\n",
        "\n",
        "fd.close()"
      ],
      "metadata": {
        "id": "-Xfg_I0NJJ9C"
      },
      "execution_count": null,
      "outputs": []
    },
    {
      "cell_type": "markdown",
      "source": [
        "Друг вариант за четене на файл, е ред по ред - това става с помощта на метода `readline`. "
      ],
      "metadata": {
        "id": "ULGoY5x72lCb"
      }
    },
    {
      "cell_type": "code",
      "source": [
        "import os\n",
        "fd = open(os.path.join('files', 'lorem_ipsum.txt'))\n",
        "\n",
        "content = fd.readline()\n",
        "print(f'content={content}')\n",
        "\n",
        "content = fd.readline()\n",
        "print(f'content={content}')\n",
        "\n",
        "fd.close()"
      ],
      "metadata": {
        "id": "oK9Xi-Gu2zr7"
      },
      "execution_count": null,
      "outputs": []
    },
    {
      "cell_type": "markdown",
      "source": [
        "След прочитане на последния ред, `readline` връща празен низ."
      ],
      "metadata": {
        "id": "_DXlyrPY315L"
      }
    },
    {
      "cell_type": "code",
      "source": [
        "import os\n",
        "fd = open(os.path.join('files', 'lorem_ipsum.txt'))\n",
        "\n",
        "content = fd.readline()\n",
        "print(f'content={content}')\n",
        "\n",
        "while content != '':\n",
        "    content = fd.readline()\n",
        "    print(f'content={content}')\n",
        "\n",
        "fd.close()"
      ],
      "metadata": {
        "id": "yVRgVthN3vix"
      },
      "execution_count": null,
      "outputs": []
    },
    {
      "cell_type": "markdown",
      "source": [
        "Ако искаме да получим списък от всички редове във файл, можем да използваме `readlines`."
      ],
      "metadata": {
        "id": "6nLUpVFq4Ld4"
      }
    },
    {
      "cell_type": "code",
      "source": [
        "import os\n",
        "fd = open(os.path.join('files', 'lorem_ipsum.txt'))\n",
        "\n",
        "content = fd.readlines()\n",
        "print(f'content={content}')\n",
        "\n",
        "fd.close()"
      ],
      "metadata": {
        "id": "xcmi0pcO4ULY"
      },
      "execution_count": null,
      "outputs": []
    },
    {
      "cell_type": "code",
      "source": [
        "import os\n",
        "fd = open(os.path.join('files', 'lorem_ipsum.txt'))\n",
        "\n",
        "content = fd.readlines()\n",
        "\n",
        "for line in content:\n",
        "    print(f'content={line}')\n",
        "\n",
        "fd.close()"
      ],
      "metadata": {
        "id": "zPRIvtWb4Ycu"
      },
      "execution_count": null,
      "outputs": []
    },
    {
      "cell_type": "markdown",
      "source": [
        "Вместо да използваме `readlines`, можем да итерираме директно по файл обекта."
      ],
      "metadata": {
        "id": "URkhviux8oQn"
      }
    },
    {
      "cell_type": "code",
      "source": [
        "import os\n",
        "fd = open(os.path.join('files', 'lorem_ipsum.txt'))\n",
        "\n",
        "for line in fd:\n",
        "    print(f'content={line}')\n",
        "\n",
        "fd.close()"
      ],
      "metadata": {
        "id": "6uiK1ioa9zCq"
      },
      "execution_count": null,
      "outputs": []
    },
    {
      "cell_type": "markdown",
      "source": [
        "## Писане на файлове"
      ],
      "metadata": {
        "id": "90Il8AMhbLu2"
      }
    },
    {
      "cell_type": "markdown",
      "source": [
        "За писане на файлове в Python може да използваме методите `write` и `writelines`"
      ],
      "metadata": {
        "id": "GUyazAnfSESG"
      }
    },
    {
      "cell_type": "markdown",
      "source": [
        "Методът `write` записва низ във файла. Позицията зависи от начина по който е отворен файла (с или без изтриване на текущото съдържание)."
      ],
      "metadata": {
        "id": "URaUQ1hVS_Dx"
      }
    },
    {
      "cell_type": "code",
      "source": [
        "import os\n",
        "fd = open(os.path.join('files', 'hello_world.txt'), 'w')\n",
        "\n",
        "fd.write('Hello world')\n",
        "\n",
        "fd.close()"
      ],
      "metadata": {
        "id": "epMK7--sUZuH"
      },
      "execution_count": null,
      "outputs": []
    },
    {
      "cell_type": "code",
      "source": [
        "import os\n",
        "fd = open(os.path.join('files', 'hello_world.txt'))\n",
        "\n",
        "content = fd.read()\n",
        "print(content)\n",
        "fd.close()"
      ],
      "metadata": {
        "id": "J0n45OqOh8D2"
      },
      "execution_count": null,
      "outputs": []
    },
    {
      "cell_type": "markdown",
      "source": [
        "Припомням, че ако отворим файла в режим `w`, то ще изтрием текущото му съдържание."
      ],
      "metadata": {
        "id": "SiZ4QZjZiZOo"
      }
    },
    {
      "cell_type": "code",
      "source": [
        "import os\n",
        "\n",
        "fd = open(os.path.join('files', 'my_important_file.txt'), 'w')\n",
        "fd.write('Really important')\n",
        "fd.close()\n",
        "\n",
        "# Oops, forgot to write something down\n",
        "\n",
        "fd = open(os.path.join('files', 'my_important_file.txt'), 'w')\n",
        "fd.write('Should really not forget this')\n",
        "fd.close()\n"
      ],
      "metadata": {
        "id": "VJPqmvsgiYrZ"
      },
      "execution_count": null,
      "outputs": []
    },
    {
      "cell_type": "code",
      "source": [
        "import os\n",
        "fd = open(os.path.join('files', 'my_important_file.txt'))\n",
        "\n",
        "content = fd.read()\n",
        "print(content)\n",
        "fd.close()"
      ],
      "metadata": {
        "id": "nVBAP46YiwhL"
      },
      "execution_count": null,
      "outputs": []
    },
    {
      "cell_type": "markdown",
      "source": [
        "Ако искаме да пишем в края на файла, трябва да използваме режим `a`"
      ],
      "metadata": {
        "id": "wuq58B4vi5Ub"
      }
    },
    {
      "cell_type": "code",
      "source": [
        "import os\n",
        "\n",
        "fd = open(os.path.join('files', 'my_important_file_2.txt'), 'a')\n",
        "fd.write('Really important\\n')\n",
        "fd.close()\n",
        "\n",
        "# Oops, forgot to write something down\n",
        "\n",
        "fd = open(os.path.join('files', 'my_important_file_2.txt'), 'a')\n",
        "fd.write('Should really not forget this\\n')\n",
        "fd.close()"
      ],
      "metadata": {
        "id": "bwjQXxlci9Kx"
      },
      "execution_count": null,
      "outputs": []
    },
    {
      "cell_type": "code",
      "source": [
        "import os\n",
        "fd = open(os.path.join('files', 'my_important_file_2.txt'))\n",
        "\n",
        "content = fd.read()\n",
        "print(content)\n",
        "fd.close()"
      ],
      "metadata": {
        "id": "sdlaFvC6jJ1x"
      },
      "execution_count": null,
      "outputs": []
    },
    {
      "cell_type": "markdown",
      "source": [
        "Методът `writelines` приема списък от \"редове\", които да бъдат записани във файла.\n",
        "\n",
        "**Забележка**: `writelines` не добавя автоматично нови редове след всеки елемент, затова се очаква всеки елемент от списъка да съдържа нов ред в себе си. "
      ],
      "metadata": {
        "id": "MMU2OzCFjqzI"
      }
    },
    {
      "cell_type": "code",
      "source": [
        "import os\n",
        "\n",
        "fd = open(os.path.join('files', 'writelines_example.txt'), 'w')\n",
        "\n",
        "lines_to_write = ['hello\\n', 'this\\n', 'are\\n', 'my\\n', 'lines\\n']\n",
        "fd.writelines(lines_to_write)\n",
        "\n",
        "fd.close()"
      ],
      "metadata": {
        "id": "Cl81-OtJkvXW"
      },
      "execution_count": null,
      "outputs": []
    },
    {
      "cell_type": "code",
      "source": [
        "import os\n",
        "fd = open(os.path.join('files', 'writelines_example.txt'))\n",
        "\n",
        "content = fd.read()\n",
        "print(content)\n",
        "fd.close()"
      ],
      "metadata": {
        "id": "p1P40tosk-5A"
      },
      "execution_count": null,
      "outputs": []
    },
    {
      "cell_type": "markdown",
      "source": [
        "Тук е добре да се отбележи, че можем да записваме и други типове данни, освен низове (е не точно, но...).\n",
        "\n",
        "Стига даден тип (или обект) да има низово представяне, можем да го запишем във файл."
      ],
      "metadata": {
        "id": "mk0qWw2GWTFP"
      }
    },
    {
      "cell_type": "code",
      "source": [
        "import os\n",
        "\n",
        "other_types_in_files = os.path.join('files', 'other_types_in_files.txt')\n",
        "\n",
        "fd = open(other_types_in_files, 'w')\n",
        "\n",
        "fd.write(str(2) + '\\n')\n",
        "fd.write(str([2, 3, 4]) + '\\n')\n",
        "fd.write(str({'a': 2, 'b': 3, 'c': 4}) + '\\n')\n",
        "fd.write(str((2, 3)) + '\\n')\n",
        "\n",
        "fd.close()\n",
        "\n",
        "fd = open(other_types_in_files)\n",
        "content = fd.read()\n",
        "print(content)\n",
        "fd.close()"
      ],
      "metadata": {
        "id": "E67N2bZvWjxq"
      },
      "execution_count": null,
      "outputs": []
    },
    {
      "cell_type": "markdown",
      "source": [
        "## Работа с файлове и пътища"
      ],
      "metadata": {
        "id": "Nlb97sGOf4s8"
      }
    },
    {
      "cell_type": "markdown",
      "source": [
        "Python предлага удобен начин за работа с файлове. Вградената библиотека `os` съдържа всичко необходимо за работата с файлове и директории. \n",
        "\n",
        "Ще разгледаме как можем да:\n",
        "- Прегледаме съдържанието на директория\n",
        "- Преместим файл\n",
        "- Изтрием файл\n",
        "- Създадем директория\n",
        "- Преместим директория\n",
        "- Изтрием директория\n",
        "- Обща работа с пътища\n",
        "- Обхождане на директории"
      ],
      "metadata": {
        "id": "oe4Ti1UBhsVW"
      }
    },
    {
      "cell_type": "markdown",
      "source": [
        "### Преглеждане на съдържание на директория"
      ],
      "metadata": {
        "id": "HbjmmlfMYpVo"
      }
    },
    {
      "cell_type": "markdown",
      "source": [
        "Можем да видим съдържанието на директория като използваме `os.listdir` метода. Той ни връща списък от низове, съдържащи имената на директориите и файловете в исканата от нас папка. "
      ],
      "metadata": {
        "id": "Ks5R8-anYyA-"
      }
    },
    {
      "cell_type": "code",
      "source": [
        "import os\n",
        "\n",
        "print(os.listdir('files'))"
      ],
      "metadata": {
        "id": "KMuyJeL_Zw8t"
      },
      "execution_count": null,
      "outputs": []
    },
    {
      "cell_type": "markdown",
      "source": [
        "### Преместване на файл"
      ],
      "metadata": {
        "id": "G3Jqt8kLi8W0"
      }
    },
    {
      "cell_type": "markdown",
      "source": [
        "Преместването на файл става чрез \"преименуването му\" (или всъщност, преименуването на файл е преместването му като файл с друго име 🤔) - това в Python става с помощта на функцията `os.rename`. `os.rename` приема два аргумента - source път и destination път (т.е. старото и новото име на файла)"
      ],
      "metadata": {
        "id": "njIXBgExNpyD"
      }
    },
    {
      "cell_type": "code",
      "source": [
        "import os\n",
        "\n",
        "file_to_be_moved = os.path.join('files', 'to_be_moved.txt')\n",
        "\n",
        "fp = open(file_to_be_moved, 'w')\n",
        "fp.write('This file is to be moved')\n",
        "fp.close()\n",
        "\n",
        "print(f'Before = {os.listdir(\"files\")}')\n",
        "\n",
        "file_moved = os.path.join('files', 'file_moved.txt')\n",
        "\n",
        "os.rename(file_to_be_moved, file_moved)\n",
        "\n",
        "print(f'After = {os.listdir(\"files\")}')"
      ],
      "metadata": {
        "id": "1g2-mwQLOnro"
      },
      "execution_count": null,
      "outputs": []
    },
    {
      "cell_type": "markdown",
      "source": [
        "Ако вече съществува файл със същото име се случват едно от две неща:\n",
        "- Ако кодът се изпълнява под Windows, се хвърля `FileExistsError`. \n",
        "- Ако кодът се изпълнява под Linux/MacOS и имаме права върху файла върху който ще пишем, той ще бъде презаписан"
      ],
      "metadata": {
        "id": "CKGnXOydcpvy"
      }
    },
    {
      "cell_type": "markdown",
      "source": [
        "Нека разгледаме следната ситуация: имаме файл `files/a/file.txt`, който искаме да преместим в `files/b`, но директорията `b` не съществува."
      ],
      "metadata": {
        "id": "qRE0bS-BliKM"
      }
    },
    {
      "cell_type": "code",
      "source": [
        "!mkdir files/a"
      ],
      "metadata": {
        "id": "p3IzgYI0l1Rl"
      },
      "execution_count": null,
      "outputs": []
    },
    {
      "cell_type": "code",
      "source": [
        "import os\n",
        "\n",
        "file_to_be_moved = os.path.join('files', 'a', 'file.txt')\n",
        "\n",
        "fp = open(file_to_be_moved, 'w')\n",
        "fp.write('This file is to be moved')\n",
        "fp.close()\n",
        "\n",
        "os.rename(file_to_be_moved, os.path.join('files', 'b', 'file.txt'))"
      ],
      "metadata": {
        "id": "t7hy8TpPlrsS"
      },
      "execution_count": null,
      "outputs": []
    },
    {
      "cell_type": "markdown",
      "source": [
        "### Изтриване на файл"
      ],
      "metadata": {
        "id": "baI__6ycM8IS"
      }
    },
    {
      "cell_type": "markdown",
      "source": [
        "Изтриването на файл се случва чрез метода `os.remove`. `os.remove` приема един аргумент - пътят към файла, който ще бъде изтрит."
      ],
      "metadata": {
        "id": "TbpItit-NzqO"
      }
    },
    {
      "cell_type": "code",
      "source": [
        "import os\n",
        "\n",
        "file_path = os.path.join('files', 'to_removed.txt')\n",
        "fp = open(file_path, 'w')\n",
        "fp.write('This file will be deleted')\n",
        "fp.close()\n",
        "\n",
        "print(f'Before = {os.listdir(\"files\")}')\n",
        "\n",
        "os.remove(file_path)\n",
        "\n",
        "print(f'After = {os.listdir(\"files\")}')"
      ],
      "metadata": {
        "id": "MuNNNLMJpXNS"
      },
      "execution_count": null,
      "outputs": []
    },
    {
      "cell_type": "markdown",
      "source": [
        "Ако се опитаме да изтрием директория с `os.remove`, ще получим грешка `IsADirectoryError`."
      ],
      "metadata": {
        "id": "4lDTPY-6dsce"
      }
    },
    {
      "cell_type": "code",
      "source": [
        "import os\n",
        "\n",
        "os.remove('files')"
      ],
      "metadata": {
        "id": "7n1HOZdUdzQn"
      },
      "execution_count": null,
      "outputs": []
    },
    {
      "cell_type": "markdown",
      "source": [
        "А ако опитаме да изтрием файл, който не съществува, ще получим грешка `FileNotFoundError`."
      ],
      "metadata": {
        "id": "yzM5ffT8eSVt"
      }
    },
    {
      "cell_type": "code",
      "source": [
        "import os\n",
        "\n",
        "non_existant_path = os.path.join('files', 'this_file_does_not_exist.txt')\n",
        "\n",
        "os.remove(non_existant_path)"
      ],
      "metadata": {
        "id": "gwHS4rtYeX3f"
      },
      "execution_count": null,
      "outputs": []
    },
    {
      "cell_type": "markdown",
      "source": [
        "### Създаване на директория"
      ],
      "metadata": {
        "id": "Ekhha8biM-Ps"
      }
    },
    {
      "cell_type": "markdown",
      "source": [
        "В Python създаването на директория става чрез метода `os.mkdir`. `os.mkdir` приема пътя към директорията, която да бъде създадена. "
      ],
      "metadata": {
        "id": "SiGgH-3r_zGq"
      }
    },
    {
      "cell_type": "code",
      "source": [
        "import os\n",
        "\n",
        "print(f'Before = {os.listdir(\"files\")}')\n",
        "\n",
        "file_path = os.path.join('files', 'mkdir_example')\n",
        "os.mkdir(file_path)\n",
        "\n",
        "print(f'After = {os.listdir(\"files\")}')"
      ],
      "metadata": {
        "id": "Y8_j9oJHAUA7"
      },
      "execution_count": null,
      "outputs": []
    },
    {
      "cell_type": "markdown",
      "source": [
        "Само за информация: Можем да зададем права на директорията, с помощта на аргумента `mode`. "
      ],
      "metadata": {
        "id": "kbA7dS_PAzTr"
      }
    },
    {
      "cell_type": "markdown",
      "source": [
        "Ако се опитаме да създадем директория, която вече съществува, ще получим `FileExistsError`. "
      ],
      "metadata": {
        "id": "E9bfpXokDlB_"
      }
    },
    {
      "cell_type": "code",
      "source": [
        "import os\n",
        "\n",
        "file_path = os.path.join('files', 'mkdir_existing_directory')\n",
        "os.mkdir(file_path)\n",
        "\n",
        "os.mkdir(file_path)"
      ],
      "metadata": {
        "id": "jUSXZTQCD0v-"
      },
      "execution_count": null,
      "outputs": []
    },
    {
      "cell_type": "markdown",
      "source": [
        "Нека опитаме да създадем няколко нови директории, една под друга. "
      ],
      "metadata": {
        "id": "lTXna1gtBs0g"
      }
    },
    {
      "cell_type": "code",
      "source": [
        "import os\n",
        "\n",
        "print(f'Before = {os.listdir(\"files\")}')\n",
        "\n",
        "file_path = os.path.join('files', 'mkdir_example_parent', 'mkdir_example_child')\n",
        "os.mkdir(file_path)\n",
        "\n",
        "print(f'After = {os.listdir(\"files\")}')"
      ],
      "metadata": {
        "id": "sp1qFjZGC81F"
      },
      "execution_count": null,
      "outputs": []
    },
    {
      "cell_type": "markdown",
      "source": [
        "Тук получаваме грешка - `os.mkdir` не може да създаде несъществуващите директории над последната. За целта трябва да използваме метода `os.makedirs`. `os.makedirs` приема отново като аргумент пътят към директорията, която искаме да създадем, както и права на директорията/директориите. "
      ],
      "metadata": {
        "id": "PIZb3CQxDWyC"
      }
    },
    {
      "cell_type": "code",
      "source": [
        "import os\n",
        "\n",
        "print(f'Before = {os.listdir(\"files\")}')\n",
        "\n",
        "file_path = os.path.join('files', 'mkdir_example_parent', 'mkdir_example_child')\n",
        "os.makedirs(file_path)\n",
        "\n",
        "print(f'After = {os.listdir(\"files\")}')"
      ],
      "metadata": {
        "id": "P0I8cNkEyBUW"
      },
      "execution_count": null,
      "outputs": []
    },
    {
      "cell_type": "markdown",
      "source": [
        "Един допълнителен аргумент, който `makedirs` приема, е аргумента `exist_ok`. Той контролира дали да се хвърли грешка, ако крайната директория която искаме да създадем, вече съществува. "
      ],
      "metadata": {
        "id": "1EDMtz9N1YN6"
      }
    },
    {
      "cell_type": "markdown",
      "source": [
        "### Преместване на директория"
      ],
      "metadata": {
        "id": "NHJPuuq_NBV5"
      }
    },
    {
      "cell_type": "markdown",
      "source": [
        "Освен за преместване на файлове, `os.rename` работи и за директории. "
      ],
      "metadata": {
        "id": "bs_Hrj42yaYx"
      }
    },
    {
      "cell_type": "code",
      "source": [
        "import os\n",
        "\n",
        "file_path = os.path.join('files', 'rename_dir_example_1')\n",
        "os.makedirs(file_path)\n",
        "\n",
        "print(f'Before = {os.listdir(\"files\")}')\n",
        "\n",
        "target_file_path = os.path.join('files', 'renamed_dir_example_1')\n",
        "os.rename(file_path, target_file_path)\n",
        "print(f'After = {os.listdir(\"files\")}')"
      ],
      "metadata": {
        "id": "WjInQ5BRyeGq"
      },
      "execution_count": null,
      "outputs": []
    },
    {
      "cell_type": "markdown",
      "source": [
        "Както споменахме по-горе, ако дестинацията съществува, под Windows `os.rename` хвърля `FileExistsError`. \n",
        "\n",
        "Под Unix системи (Linux, MacOS) поведението е малко по-различно:\n",
        "- Ако source пътя е файл, а destination пътя е директория, се хвърля `IsADirectory` грешка\n",
        "- Ако source пътя е директория, а destination пътя е файл, се хвърля `NotADirectory` грешка\n",
        "- Ако destination е съществуваща директория:\n",
        "    - Ако е празна, преместването е успешно\n",
        "    - Ако не е празна, се хвърля `OSError` грешка\n"
      ],
      "metadata": {
        "id": "miLCHiM4OE_n"
      }
    },
    {
      "cell_type": "markdown",
      "source": [
        "### Изтриване на директория"
      ],
      "metadata": {
        "id": "vgkfZTpuNGlv"
      }
    },
    {
      "cell_type": "markdown",
      "source": [
        "Изтриването на директория става чрез `os.rmdir`. `os.rmdir` приема пътя към директорията, която трябва да бъде изтрита. "
      ],
      "metadata": {
        "id": "TI6k87QW0d7p"
      }
    },
    {
      "cell_type": "code",
      "source": [
        "import os\n",
        "\n",
        "file_path = os.path.join('files', 'remove_dir_example_1')\n",
        "os.makedirs(file_path)\n",
        "\n",
        "print(f'Before = {os.listdir(\"files\")}')\n",
        "\n",
        "os.rmdir(file_path)\n",
        "print(f'After = {os.listdir(\"files\")}')"
      ],
      "metadata": {
        "id": "nyr05CrHDAeu"
      },
      "execution_count": null,
      "outputs": []
    },
    {
      "cell_type": "markdown",
      "source": [
        "Ако директорията, която се опитаме да изтрием, не е празна, ще получим `OSError`. А ако тя не съществува, ще получим `FileNotFoundError`. "
      ],
      "metadata": {
        "id": "KboM7dmEDMKW"
      }
    },
    {
      "cell_type": "code",
      "source": [
        "import os\n",
        "\n",
        "non_existing_dir = os.path.join('files', 'non_existing_dir')\n",
        "\n",
        "os.rmdir(non_existing_dir)\n",
        "os.rmdir('files')"
      ],
      "metadata": {
        "id": "0UQyFZKXDgmg"
      },
      "execution_count": null,
      "outputs": []
    },
    {
      "cell_type": "code",
      "source": [
        "import os\n",
        "\n",
        "os.rmdir('files')"
      ],
      "metadata": {
        "id": "mYec3cULDqNf"
      },
      "execution_count": null,
      "outputs": []
    },
    {
      "cell_type": "markdown",
      "source": [
        "Освен `os.rmdir`, Python предлага и друга функция за изтриване на директории - `os.removedirs`. Тя обаче работи по специфичен начин. `os.removedirs` приема път до директория, като освен да премахва последната директория от пътя, функцията се опитва да премахне и всички празни директории нагоре, като спира при първата директория, която не е успяла да премахне успешно."
      ],
      "metadata": {
        "id": "4YKfS67MOHJF"
      }
    },
    {
      "cell_type": "markdown",
      "source": [
        "Нека за целта създадем следната структура - `files/remove_dirs_example` ще е основната ни директория. В нея ще имаме две поддиректории - `first` и `second`. В `first` ще създадем още няколко поддиректории, като всичките ще са празни. В `second` ще създадем един файл и една поддиректория."
      ],
      "metadata": {
        "id": "gPQjlwwxSKEt"
      }
    },
    {
      "cell_type": "markdown",
      "source": [
        "Ще се опитаме да извикаме `os.removedirs` върху най-долната директории в `first` и `second`"
      ],
      "metadata": {
        "id": "vaRS8bxeTL9j"
      }
    },
    {
      "cell_type": "code",
      "source": [
        "import os\n",
        "\n",
        "main_dir = os.path.join('files', 'remove_dirs_example')\n",
        "\n",
        "first_dir = os.path.join(main_dir, 'first')\n",
        "empty_first_subdirs = os.path.join(first_dir, 'a', 'b', 'c')\n",
        "\n",
        "second_dir = os.path.join(main_dir, 'second')\n",
        "empty_second_subdir = os.path.join(second_dir, 'd')\n",
        "empty_second_dir_file = os.path.join(second_dir, 'e')\n",
        "\n",
        "os.makedirs(empty_first_subdirs)\n",
        "os.makedirs(empty_second_subdir)\n",
        "\n",
        "\n",
        "fd = open(empty_second_dir_file, 'w')\n",
        "fd.write('Hi')\n",
        "fd.close()\n",
        "\n",
        "print(f'Before = {os.listdir(main_dir)}')\n",
        "\n",
        "os.removedirs(empty_first_subdirs)\n",
        "os.removedirs(empty_second_subdir)\n",
        "\n",
        "print(f'After = {os.listdir(main_dir)}')"
      ],
      "metadata": {
        "id": "wOIjU6GCSen3"
      },
      "execution_count": null,
      "outputs": []
    },
    {
      "cell_type": "markdown",
      "source": [
        "Как работи `os.removedirs` в този случай ?\n",
        "\n",
        "Върху `files/first/a/b/c`:\n",
        "1. Опитваме да изтрием `c` => тя е празна, изтрива се\n",
        "2. Опитваме да изтрием `b` => тя е празна, изтрива се\n",
        "3. Опитваме да изтрием `a` => тя е празна, изтрива се\n",
        "4. Опитваме да изтрием `first` => тя е празна, изтрива се\n",
        "5. Опитваме да изтрием `remove_dirs_example` => тя не е празна, спираме\n",
        "\n",
        "Върху `files/second/d`:\n",
        "1. Опитваме да изтрием `d` => тя е празна, изтрива се\n",
        "2. Опитваме да изтрием `second` => тя не е празна, спираме"
      ],
      "metadata": {
        "id": "Z6cWgSYgTyLn"
      }
    },
    {
      "cell_type": "markdown",
      "source": [
        "`os.removedirs` е много подходяща когато имаме много празни директории една в друга, но е редно да се използва внимателно."
      ],
      "metadata": {
        "id": "5YyMwXCQUf9w"
      }
    },
    {
      "cell_type": "markdown",
      "source": [
        "За любопитните: Съществува функция [`rmtree`](https://docs.python.org/3.10/library/shutil.html#shutil.rmtree), намираща се в `shutil` библиотеката, която изтрива папка и всички в нея. Нея няма да я разглеждаме в курса."
      ],
      "metadata": {
        "id": "SsKFjwI0U87d"
      }
    },
    {
      "cell_type": "markdown",
      "source": [
        "### Обща работа с пътища"
      ],
      "metadata": {
        "id": "BC9RWXG1NX7R"
      }
    },
    {
      "cell_type": "markdown",
      "source": [
        "В началото видяхме, че за да построим един път до файл или директория в Python, трябва да използваме `os.path.join`. Освен `join`, [`os.path`](https://docs.python.org/3.10/library/os.path.html) предлага много други полезни функции за работа с пътища. \n",
        "\n",
        "Ще се спрем върху една част от тях, която е по-вероятно да използвате във всекидневната си работа с Python:\n",
        "\n",
        "- os.path.exists - проверка дали пътят сочи към валиден файл или директория\n",
        "- os.path.isdir - дали пътят сочи към валидна директория\n",
        "- os.path.isfile - дали пътят сочи към валиден файл\n",
        "- os.path.split - отделя последната част от път"
      ],
      "metadata": {
        "id": "w3SgN35oNwF2"
      }
    },
    {
      "cell_type": "code",
      "source": [
        "import os\n",
        "print(f'Does the files directory exist: {os.path.exists(\"files\")}')\n",
        "print(f'Does the files/lorem_ipsum.txt file exist: {os.path.exists(os.path.join(\"files\", \"lorem_ipsum.txt\"))}')\n",
        "print(f'Does the files/ala-bala.txt file exist: {os.path.exists(os.path.join(\"files\", \"ala-bala.txt\"))}')"
      ],
      "metadata": {
        "id": "OWaoBdJ6fuIU"
      },
      "execution_count": null,
      "outputs": []
    },
    {
      "cell_type": "code",
      "source": [
        "import os\n",
        "print(f'Is \"files\" a directory: {os.path.isdir(\"files\")}')\n",
        "print(f'Is \"files/lorem_ipsum.txt\" a directory: {os.path.isdir(os.path.join(\"files\", \"lorem_ipsum.txt\"))}')\n",
        "print(f'Is \"files/ala-bala.txt\" a directory: {os.path.isdir(os.path.join(\"files\", \"ala-bala.txt\"))}')  # Although the file does not exist, isdir returns False"
      ],
      "metadata": {
        "id": "vf5udnCGgY_x"
      },
      "execution_count": null,
      "outputs": []
    },
    {
      "cell_type": "code",
      "source": [
        "import os\n",
        "print(f'Is \"files\" a file: {os.path.isfile(\"files\")}')\n",
        "print(f'Is \"files/lorem_ipsum.txt\" a file: {os.path.isfile(os.path.join(\"files\", \"lorem_ipsum.txt\"))}')\n",
        "print(f'Is \"files/ala-bala.txt\" a directory: {os.path.isfile(os.path.join(\"files\", \"ala-bala.txt\"))}')  # Although the file does not exist, isfile returns False"
      ],
      "metadata": {
        "id": "bWAE_SBmgntD"
      },
      "execution_count": null,
      "outputs": []
    },
    {
      "cell_type": "markdown",
      "source": [
        "`os.path.split` отделя последната част от пътя от останалия. Връща ни наредена двойка от `head` и `tail`, където `tail` съдържа последната част от пътя, а `head` останалото "
      ],
      "metadata": {
        "id": "rTQnNvzlh0PD"
      }
    },
    {
      "cell_type": "code",
      "source": [
        "import os\n",
        "\n",
        "long_path = os.path.join('/', 'foo', 'bar', 'baz')\n",
        "print(f'long_path = {long_path}')\n",
        "\n",
        "print(f'long_path splitted: {os.path.split(long_path)}')"
      ],
      "metadata": {
        "id": "ezd7ZHB5g9fj"
      },
      "execution_count": null,
      "outputs": []
    },
    {
      "cell_type": "markdown",
      "source": [
        "Важно е да отбележим няколко по-специални случая:\n",
        "\n",
        "- Ако пътят е празен, `split` ще ни върне празни `head` и `tail`\n",
        "- Ако пътят завършва с `/` (или `\\` под Windows), `tail` ще е празен низ\n",
        "- Ако пътят не съдържа `/`(или `\\` под Windows), `head` ще е празен низ"
      ],
      "metadata": {
        "id": "Va2Hb5YhuKHa"
      }
    },
    {
      "cell_type": "code",
      "source": [
        "empty_path = ''\n",
        "print(f'split with empty path returns = {os.path.split(empty_path)}')\n",
        "\n",
        "ending_with_separator = '/foo/bar/'\n",
        "print(f'split with path ending in / returns = {os.path.split(ending_with_separator)}')\n",
        "\n",
        "no_separators = 'foo'\n",
        "print(f'split with no separators returns = {os.path.split(no_separators)}')"
      ],
      "metadata": {
        "id": "yCoiMcrM7es1"
      },
      "execution_count": null,
      "outputs": []
    },
    {
      "cell_type": "markdown",
      "source": [
        "### Обхождане на директории"
      ],
      "metadata": {
        "id": "8ZE83h4DQLcq"
      }
    },
    {
      "cell_type": "markdown",
      "source": [
        "Понякога искаме да обходим цялото директорийно дърво отдадена точка надолу. Python ни позволява да направи това сравнително лесно, с помощта на функцията `os.walk`. \n",
        "\n",
        "Тя приема като аргумент директорията, от което започва обхождането. Като резултат, тя ни връща генератор съдържащ името на текущата директория, имената на директориите в текущата директория и имената на файловете в текущата директория.\n",
        "\n"
      ],
      "metadata": {
        "id": "L722LFr0QOE5"
      }
    },
    {
      "cell_type": "code",
      "source": [
        "import os\n",
        "\n",
        "# Setup\n",
        "example_root_dir = os.path.join('files', 'walk_example')\n",
        "\n",
        "d_dir = os.path.join(example_root_dir, 'a', 'b', 'c', 'd')\n",
        "os.makedirs(d_dir)\n",
        "\n",
        "os.makedirs(os.path.join(example_root_dir, 'a', 'b1'))\n",
        "\n",
        "b2_dir = os.path.join(example_root_dir, 'a', 'b2')\n",
        "os.makedirs(b2_dir)\n",
        "\n",
        "os.makedirs(os.path.join(example_root_dir, 'a', 'b', 'c', 'd1'))\n",
        "os.makedirs(os.path.join(example_root_dir, 'a', 'b', 'c', 'd2'))\n",
        "\n",
        "files_for_d = [os.path.join(d_dir, f'file{i}') for i in range(5)]\n",
        "\n",
        "for file_for_d in files_for_d:\n",
        "    with open(file_for_d, 'w') as fp:\n",
        "        fp.write(f'Content for {file_for_d}')\n",
        "\n",
        "files_for_b2 = [os.path.join(d_dir, f'file{i}') for i in range(3)]\n",
        "\n",
        "for file_for_b2 in files_for_b2:\n",
        "    with open(file_for_b2, 'w') as fp:\n",
        "        fp.write(f'Content for {file_for_b2}')\n",
        "\n",
        "\n",
        "# os.walk\n",
        "\n",
        "for dirname, subdirs, files in os.walk(example_root_dir):\n",
        "    print(f'In {dirname}, which has subdirs: {subdirs} and files: {files}')"
      ],
      "metadata": {
        "id": "Uj_Je3-GRFU6"
      },
      "execution_count": null,
      "outputs": []
    },
    {
      "cell_type": "markdown",
      "source": [
        "## Използване на `with`"
      ],
      "metadata": {
        "id": "FzOWCerhbNUN"
      }
    },
    {
      "cell_type": "markdown",
      "source": [
        "Досега в работата ни с файлове, забелязахме че трябва да подсигурим, че сме затворили файла. Проблемът идва, когато трябва да се справим с грешки, които могат да бъда хвърлени от различните операции с файлове. Дори и при хвърлена грешка, ние все пак трябва да си затворим файла.\n",
        "\n",
        "Python ни позволява два начина да се справим с този проблем - `try/finally` и `with`."
      ],
      "metadata": {
        "id": "H7dxt9Ma2oho"
      }
    },
    {
      "cell_type": "markdown",
      "source": [
        "След всеки `try` блок, може да поставим един друг блок, който да се изпълнява винаги след `try` или `except` блоковете. Този допълнителен блок се казва `finally`. "
      ],
      "metadata": {
        "id": "QUT2FQfW4Dhk"
      }
    },
    {
      "cell_type": "code",
      "source": [
        "def raiser():\n",
        "    raise ValueError('Hello there')\n",
        "\n",
        "try:\n",
        "    raiser()\n",
        "finally:\n",
        "    print('After the exception, this will be printed')"
      ],
      "metadata": {
        "id": "diBiYJdp4UEp"
      },
      "execution_count": null,
      "outputs": []
    },
    {
      "cell_type": "markdown",
      "source": [
        "По подобен начин можем да използваме `finally` за да затворим отворения файл."
      ],
      "metadata": {
        "id": "8ubdugN44sR0"
      }
    },
    {
      "cell_type": "code",
      "source": [
        "import os\n",
        "fp = open(os.path.join('files', 'lorem_ipsum.txt'))\n",
        "try:\n",
        "    print(fp.read())\n",
        "finally:\n",
        "    fp.close()"
      ],
      "metadata": {
        "id": "cnd3mHOI4ruV"
      },
      "execution_count": null,
      "outputs": []
    },
    {
      "cell_type": "markdown",
      "source": [
        "Така, дори и да получим грешка при четене (или каквато и да е друга операция в `try` блока), файла ще бъде затворен."
      ],
      "metadata": {
        "id": "AOGQnyg65H9d"
      }
    },
    {
      "cell_type": "markdown",
      "source": [
        "От тук можем да стигнем до заключението - при работата с ресурси, имаме процес по отваряне и процес по затваряне (независимо от грешки). Python ни предлага и друга синтактична конструкция за работа с такива структури - `with`."
      ],
      "metadata": {
        "id": "qvu90-kN5oCy"
      }
    },
    {
      "cell_type": "markdown",
      "source": [
        "`with` ни позволява отварянето на нов контекст. В него може да отворим ресурс, а след излизането от блока, този ресурс се затваря автоматично. \n",
        "\n",
        "Общият вид на `with` е следния:\n",
        "```python\n",
        "with <expression> as <variable>:\n",
        "    f(variable)\n",
        "```\n",
        "\n",
        "Ако искаме да отворим файл и да прочетем нещо с `with`, кода би изглеждал по следния начин:"
      ],
      "metadata": {
        "id": "GpkO14Bw6Tue"
      }
    },
    {
      "cell_type": "code",
      "source": [
        "import os\n",
        "with open(os.path.join('files', 'lorem_ipsum.txt')) as fp:\n",
        "    print(fp.read())\n",
        "\n",
        "print(f'Is the file closed ? {fp.closed}')"
      ],
      "metadata": {
        "id": "NXfepH8q7aLH"
      },
      "execution_count": null,
      "outputs": []
    },
    {
      "cell_type": "markdown",
      "source": [
        "Дори и при грешка, файлът ще бъде затворен. Ако искаме обаче да хванем грешката, все пак трябва да изпозлваме `try/catch`."
      ],
      "metadata": {
        "id": "EGihrAlq739A"
      }
    },
    {
      "cell_type": "code",
      "source": [
        "import os\n",
        "\n",
        "try:\n",
        "    with open(os.path.join('files', 'lorem_ipsum.txt')) as fp:\n",
        "        print(fp.read())\n",
        "except OSError as err:\n",
        "    print(err)"
      ],
      "metadata": {
        "id": "Gg93e1tN8Yeo"
      },
      "execution_count": null,
      "outputs": []
    },
    {
      "cell_type": "markdown",
      "source": [
        "Начинът по който `with` работи е, че извиква два специални магически метода - `__enter__` и `__exit__`, който се изпълняват при влизане и излизане съответно от контекст мениджъра. \n",
        "\n",
        "По-конкретно, `__enter__` метода се изивиква в `as` частта на `with`. В него връщаме обекта, който ще бъде присвоен на променливата след `as`.\n",
        "\n",
        "\n",
        "Файловите обекти имплементират `__exit__` метода, където затварят отворения файл."
      ],
      "metadata": {
        "id": "8r0zhhbi9Pl8"
      }
    },
    {
      "cell_type": "markdown",
      "source": [
        "Ако искаме и нашите класове да работят с контекстните мениджъри, трябва да имплементираме `__enter__` и `__exit__` методите. "
      ],
      "metadata": {
        "id": "mItDZ8Bb-jV2"
      }
    },
    {
      "cell_type": "code",
      "source": [
        "class ContextableClass:\n",
        "    def __init__(self, some_var=42):\n",
        "        self.some_var = some_var\n",
        "    \n",
        "    def __enter__(self):\n",
        "        print('Entering the context manager')\n",
        "        return self\n",
        "    \n",
        "    def __exit__(self, exc_type, exc_value, traceback):\n",
        "        print('Exiting the context manager')"
      ],
      "metadata": {
        "id": "d6PErO_q-vza"
      },
      "execution_count": null,
      "outputs": []
    },
    {
      "cell_type": "code",
      "source": [
        "with ContextableClass(5) as instance:\n",
        "    print(instance.some_var)"
      ],
      "metadata": {
        "id": "QwMZX5jF_2AX"
      },
      "execution_count": null,
      "outputs": []
    },
    {
      "cell_type": "markdown",
      "source": [
        "## `tell` и `seek`"
      ],
      "metadata": {
        "id": "BsHLVveUPgaD"
      }
    },
    {
      "cell_type": "markdown",
      "source": [
        "Писането и четенето от файлове всъщност се осъществява символ по символ. Така например за да запишем 'hello', трябва първо да запишем `h`, после `e` и т.н. \n",
        "\n",
        "Както при писането с клавиатура имаме позиция върху която пишем, така и при работата с файлове имаме позиция, на която четем или пишем.\n",
        "\n",
        "Python ни позволява да вземем текущата позиция за четене/писане, както и да преместим тази позиция на друго място. "
      ],
      "metadata": {
        "id": "CGJR7E48yy6F"
      }
    },
    {
      "cell_type": "markdown",
      "source": [
        "Можем да вземем позиция на курсора във файла с помощта на метода `tell`. Той ще ни върне като резултат цяло число, символизиращо броя символи след началото на файла."
      ],
      "metadata": {
        "id": "CenG5LURMvZI"
      }
    },
    {
      "cell_type": "code",
      "source": [
        "import os\n",
        "\n",
        "file_path = os.path.join('files', 'tell_exampe.txt')\n",
        "\n",
        "# First lets create the file\n",
        "with open(file_path, 'w') as fp:\n",
        "    fp.write('abc\\n')\n",
        "    fp.write('def\\n')\n",
        "    fp.write('ghi\\n')\n",
        "\n",
        "# Now lets read \n",
        "with open(file_path) as fp:\n",
        "    print(f'Current position = {fp.tell()}')\n",
        "    print(f'Reading a line... {fp.readline()}')\n",
        "\n",
        "    print(f'Current position = {fp.tell()}')\n",
        "    print(f'Reading another line... {fp.readline()}')\n",
        "\n",
        "    print(f'Current position = {fp.tell()}')"
      ],
      "metadata": {
        "id": "n8djitSyM7Kh"
      },
      "execution_count": null,
      "outputs": []
    },
    {
      "cell_type": "markdown",
      "source": [
        "Можем да зададем позиция на курсора във файла с помощта на метода `seek`. Той приема два аргумента - какво отместване (`offset`) да направим и от къде (`whence`).\n",
        "\n",
        "При работа с текстови файлове, отместването е само спрямо началото на файла. Можем единствено да преместим курсора до края на файла с `seek(0, 2)`"
      ],
      "metadata": {
        "id": "iGIdJZIGOIUL"
      }
    },
    {
      "cell_type": "code",
      "source": [
        "import os\n",
        "\n",
        "file_path = os.path.join('files', 'seek_exampe.txt')\n",
        "\n",
        "# First lets create the file\n",
        "with open(file_path, 'w') as fp:\n",
        "    fp.write('abcdefghijk')\n",
        "\n",
        "with open(file_path, 'r+') as fp:\n",
        "    fp.seek(2)\n",
        "    fp.write('!')\n",
        "\n",
        "    fp.seek(0, 2)\n",
        "    fp.write('@')\n",
        "\n",
        "with open(file_path) as fp:\n",
        "    print(fp.read())"
      ],
      "metadata": {
        "id": "T3PRQ_lfOjK2"
      },
      "execution_count": null,
      "outputs": []
    },
    {
      "cell_type": "markdown",
      "source": [
        "Бележка: Ако бяхте отворили файла за писане с режим `a`, щяхме да можем да пишем само в края. Режим `r+` ни дава права за четене и пренаписване. "
      ],
      "metadata": {
        "id": "tjL0TPsTPn0a"
      }
    },
    {
      "cell_type": "markdown",
      "source": [
        "## Примери"
      ],
      "metadata": {
        "id": "YfLvF6IvlDpa"
      }
    },
    {
      "cell_type": "markdown",
      "source": [
        "### Пример 1"
      ],
      "metadata": {
        "id": "GQFz51abh-L-"
      }
    },
    {
      "cell_type": "markdown",
      "source": [
        "Напишете функция `split_path`, която приема път (като низ), и го разделя на съставните му части. Използвайте `os.path.split`."
      ],
      "metadata": {
        "id": "VjoN0y7etjP4"
      }
    },
    {
      "cell_type": "markdown",
      "source": [
        "#### Решение на пример 1"
      ],
      "metadata": {
        "id": "L0gvQsq5txfw"
      }
    },
    {
      "cell_type": "code",
      "source": [
        "import os\n",
        "def split_path(file_path):\n",
        "    head, tail = os.path.split(file_path)\n",
        "\n",
        "    result = [tail]\n",
        "    while head != '' and head != file_path:\n",
        "        file_path = head\n",
        "        head, tail = os.path.split(file_path)\n",
        "        result.append(tail)\n",
        "\n",
        "    result.reverse()\n",
        "    return result"
      ],
      "metadata": {
        "id": "0Ys1jhNfty_0"
      },
      "execution_count": null,
      "outputs": []
    },
    {
      "cell_type": "code",
      "source": [
        "print(split_path('/foo/bar/baz'))\n",
        "print(split_path('/foo/bar/baz/'))\n",
        "print(split_path('/foo'))\n",
        "print(split_path('foo'))"
      ],
      "metadata": {
        "id": "RhdgDKkna_mh"
      },
      "execution_count": null,
      "outputs": []
    },
    {
      "cell_type": "markdown",
      "source": [
        "### Пример 2"
      ],
      "metadata": {
        "id": "ije_Z0fEXgKM"
      }
    },
    {
      "cell_type": "markdown",
      "source": [
        "Даден е клас `Person`, който съдържа информация за човек - неговите имена, рожденна дата, възраст и работа."
      ],
      "metadata": {
        "id": "3d7BwPi4Xhtb"
      }
    },
    {
      "cell_type": "code",
      "source": [
        "class Person:\n",
        "    def __init__(self, first_name='', last_name='', birthdate='', age=0, job=''):\n",
        "        self.__first_name = first_name\n",
        "        self.__last_name = last_name\n",
        "        self.__birthdate = birthdate\n",
        "        self.__age = age\n",
        "        self.__job = job\n",
        "\n",
        "    @property\n",
        "    def first_name(self):\n",
        "        return self.__first_name\n",
        "    \n",
        "    @property\n",
        "    def last_name(self):\n",
        "        return self.__last_name\n",
        "    \n",
        "    @property\n",
        "    def birthdate(self):\n",
        "        return self.__birthdate\n",
        "\n",
        "    @property\n",
        "    def age(self):\n",
        "        return self.__age\n",
        "\n",
        "    @property\n",
        "    def job(self):\n",
        "        return self.__job"
      ],
      "metadata": {
        "id": "3lCnmwaTXwbe"
      },
      "execution_count": null,
      "outputs": []
    },
    {
      "cell_type": "markdown",
      "source": [
        "Напишете клас `PersonSerializer`, съдържащ следните методи:\n",
        "- Метод, който приема обект от тип `Person` и път. Методът записва във файл информацията за човека\n",
        "- Метод, който приема път и връща обект от тип `Person`, който е създаден на база данните от файла\n",
        "- Метод, който приема списък от `Person` и път. Методът записва във файл информация за хората\n",
        "- Метод, който приема път и връща списък от `Person`, които са създадени на база на информацията във файла\n",
        "\n",
        "При грешка при писането или четенето класът да хвърля `ValueError`. \n",
        "\n",
        "Може да приемем, че информацията за един човек ще бъде записана на един ред. "
      ],
      "metadata": {
        "id": "GaGWV_nZYR2-"
      }
    },
    {
      "cell_type": "markdown",
      "source": [
        "#### Решение на пример 2"
      ],
      "metadata": {
        "id": "TTMqcvL5ZbYj"
      }
    },
    {
      "cell_type": "code",
      "source": [
        "class Person:\n",
        "    def __init__(self, first_name='', last_name='', birthdate='', age=0, job=''):\n",
        "        self.__first_name = first_name\n",
        "        self.__last_name = last_name\n",
        "        self.__birthdate = birthdate\n",
        "        self.__age = age\n",
        "        self.__job = job\n",
        "\n",
        "    @property\n",
        "    def first_name(self):\n",
        "        return self.__first_name\n",
        "    \n",
        "    @property\n",
        "    def last_name(self):\n",
        "        return self.__last_name\n",
        "    \n",
        "    @property\n",
        "    def birthdate(self):\n",
        "        return self.__birthdate\n",
        "\n",
        "    @property\n",
        "    def age(self):\n",
        "        return self.__age\n",
        "\n",
        "    @property\n",
        "    def job(self):\n",
        "        return self.__job\n",
        "    \n",
        "    # Adding a __str__ magic method helps us with printing the info\n",
        "    def __str__(self):\n",
        "        return f'{self.first_name}, {self.last_name}, {self.birthdate}, {self.age}, {self.job}'\n",
        "    \n",
        "    @staticmethod\n",
        "    def from_string(person_info):\n",
        "        first_name, last_name, birthdate, age, job = person_info.strip().split(', ')\n",
        "        return Person(first_name, last_name, birthdate, age, job)\n",
        "    \n",
        "class PersonSerializer:\n",
        "    @staticmethod\n",
        "    def save_person(person, filepath, mode='w'):\n",
        "        with open(filepath, mode) as fp:\n",
        "            fp.write(str(person) + '\\n')\n",
        "    \n",
        "    @staticmethod\n",
        "    def create_person_from_file(filepath):\n",
        "        if not os.path.exists(filepath):\n",
        "            raise ValueError(f'File not found at {filepath}')\n",
        "        \n",
        "        with open(filepath) as fp:\n",
        "            person_info = fp.read()\n",
        "            return Person.from_string(person_info)\n",
        "\n",
        "    @staticmethod\n",
        "    def save_people(people, filepath):\n",
        "        for person in people:\n",
        "            PersonSerializer.save_person(person, filepath, mode='a')\n",
        "    \n",
        "    @staticmethod\n",
        "    def create_people_from_file(filepath):\n",
        "        if not os.path.exists(filepath):\n",
        "            raise ValueError(f'File not found at {filepath}')\n",
        "        \n",
        "        with open(filepath) as fp:\n",
        "            return [Person.from_string(person_info) for person_info in fp]\n"
      ],
      "metadata": {
        "id": "fQBxLoESZeQV"
      },
      "execution_count": null,
      "outputs": []
    },
    {
      "cell_type": "code",
      "source": [
        "me = Person('Lyubo', 'Karev', '20-09-1998', 24, 'Developer')\n",
        "my_filepath = os.path.join('files', 'lyubo.txt')\n",
        "\n",
        "PersonSerializer.save_person(me, my_filepath)\n",
        "me_again = PersonSerializer.create_person_from_file(my_filepath)  # Hello me, meet the real me\n",
        "\n",
        "print(me)\n",
        "print(me_again)"
      ],
      "metadata": {
        "id": "VGnQEoPnbcra"
      },
      "execution_count": null,
      "outputs": []
    },
    {
      "cell_type": "code",
      "source": [
        "bunch_of_people = [\n",
        "    Person('Lyubo', 'Karev', '20-09-1998', 24, 'Developer'),\n",
        "    Person('Alex', 'Ignatov', '22-10-1998', 24, 'Developer'),\n",
        "    Person('Ivan', 'Luchev', '28-04-1998', 24, 'Student')\n",
        "]\n",
        "\n",
        "our_filepath = os.path.join('files', 'us.txt')\n",
        "\n",
        "PersonSerializer.save_people(bunch_of_people, our_filepath)\n",
        "us_again = PersonSerializer.create_people_from_file(our_filepath)\n",
        "\n",
        "print('Bunch of people:')\n",
        "for person in bunch_of_people: \n",
        "    print(person)\n",
        "\n",
        "print('Us again:')\n",
        "for person in us_again: \n",
        "    print(person)"
      ],
      "metadata": {
        "id": "aju9NHCLcfBQ"
      },
      "execution_count": null,
      "outputs": []
    },
    {
      "cell_type": "markdown",
      "source": [
        "## Задачи"
      ],
      "metadata": {
        "id": "Mvgi6--wlFDS"
      }
    },
    {
      "cell_type": "markdown",
      "source": [
        "Задачите може да намерите тук: [tasks.md](https://github.com/lyubolp/PythonCourse2022/blob/08_files/08%20-%20Files/tasks/tasks.md)"
      ],
      "metadata": {
        "id": "hq-AcP5Plq3x"
      }
    }
  ]
}