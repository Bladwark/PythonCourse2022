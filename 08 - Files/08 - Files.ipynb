{
  "nbformat": 4,
  "nbformat_minor": 0,
  "metadata": {
    "colab": {
      "name": "08 - Files.ipynb",
      "provenance": [],
      "authorship_tag": "ABX9TyOX6opHZx0/E2oceX6t06m+",
      "include_colab_link": true
    },
    "kernelspec": {
      "name": "python3",
      "display_name": "Python 3"
    },
    "language_info": {
      "name": "python"
    }
  },
  "cells": [
    {
      "cell_type": "markdown",
      "metadata": {
        "id": "view-in-github",
        "colab_type": "text"
      },
      "source": [
        "<a href=\"https://colab.research.google.com/github/lyubolp/PythonCourse2022/blob/08_files/08%20-%20Files/08%20-%20Files.ipynb\" target=\"_parent\"><img src=\"https://colab.research.google.com/assets/colab-badge.svg\" alt=\"Open In Colab\"/></a>"
      ]
    },
    {
      "cell_type": "markdown",
      "source": [
        "# Работа с файлове в Python\n",
        "План на лекцията:\n",
        "- [ ] Четене на файлове\n",
        "- [ ] Писане на файлове\n",
        "- [ ] Използване на `with`\n",
        "- [ ] `os.walk`"
      ],
      "metadata": {
        "id": "YIgCCwN5a39O"
      }
    },
    {
      "cell_type": "markdown",
      "source": [
        "## Четене на файлове"
      ],
      "metadata": {
        "id": "UU_sozqXbJhx"
      }
    },
    {
      "cell_type": "code",
      "execution_count": null,
      "metadata": {
        "id": "h92FBNCNat7U"
      },
      "outputs": [],
      "source": []
    },
    {
      "cell_type": "markdown",
      "source": [
        "## Писане на файлове"
      ],
      "metadata": {
        "id": "90Il8AMhbLu2"
      }
    },
    {
      "cell_type": "markdown",
      "source": [
        "## Използване на `with`"
      ],
      "metadata": {
        "id": "FzOWCerhbNUN"
      }
    },
    {
      "cell_type": "markdown",
      "source": [
        "## os.walk"
      ],
      "metadata": {
        "id": "axhv-TcXbPM9"
      }
    }
  ]
}