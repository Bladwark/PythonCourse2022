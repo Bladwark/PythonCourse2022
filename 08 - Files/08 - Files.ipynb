{
  "nbformat": 4,
  "nbformat_minor": 0,
  "metadata": {
    "colab": {
      "provenance": [],
      "collapsed_sections": [
        "3Fd8dyDSliLn",
        "KPWujZmdo10D"
      ],
      "authorship_tag": "ABX9TyM44MtejG3+X/LGIKtXNEWG",
      "include_colab_link": true
    },
    "kernelspec": {
      "name": "python3",
      "display_name": "Python 3"
    },
    "language_info": {
      "name": "python"
    }
  },
  "cells": [
    {
      "cell_type": "markdown",
      "metadata": {
        "id": "view-in-github",
        "colab_type": "text"
      },
      "source": [
        "<a href=\"https://colab.research.google.com/github/lyubolp/PythonCourse2022/blob/08_files/08%20-%20Files/08%20-%20Files.ipynb\" target=\"_parent\"><img src=\"https://colab.research.google.com/assets/colab-badge.svg\" alt=\"Open In Colab\"/></a>"
      ]
    },
    {
      "cell_type": "markdown",
      "source": [
        "# Работа с файлове в Python\n",
        "План на лекцията:\n",
        "- [X] Кратка интродукция за работата с пътища, Windows и Unix\n",
        "- [X] Представяне на файловете в Python\n",
        "- [X] Четене на файлове\n",
        "- [ ] Писане на файлове\n",
        "- [ ] Работа с файлове и пътища\n",
        "- [ ] Използване на `with`\n",
        "- [ ] `tell` и `seek`\n",
        "- [ ] Примери\n",
        "- [ ] Задачи"
      ],
      "metadata": {
        "id": "YIgCCwN5a39O"
      }
    },
    {
      "cell_type": "markdown",
      "source": [
        "### Предварителна подготовка "
      ],
      "metadata": {
        "id": "LnxJAYYb63dN"
      }
    },
    {
      "cell_type": "code",
      "source": [
        "!mkdir files\n",
        "!curl -o files/lorem_ipsum.txt https://raw.githubusercontent.com/lyubolp/PythonCourse2022/08_files/08%20-%20Files/files/1.txt\n",
        "!echo \"hello\" > files/hello.txt"
      ],
      "metadata": {
        "colab": {
          "base_uri": "https://localhost:8080/"
        },
        "id": "L02fnebn7I_E",
        "outputId": "bee29b17-968b-45b3-87d2-f6733f48df15"
      },
      "execution_count": 2,
      "outputs": [
        {
          "output_type": "stream",
          "name": "stdout",
          "text": [
            "  % Total    % Received % Xferd  Average Speed   Time    Time     Time  Current\n",
            "                                 Dload  Upload   Total   Spent    Left  Speed\n",
            "\r  0     0    0     0    0     0      0      0 --:--:-- --:--:-- --:--:--     0\r100   448  100   448    0     0   2947      0 --:--:-- --:--:-- --:--:--  2947\n"
          ]
        }
      ]
    },
    {
      "cell_type": "markdown",
      "source": [
        "## Кратка интродукция за работата с пътища, Windows и Unix."
      ],
      "metadata": {
        "id": "3Fd8dyDSliLn"
      }
    },
    {
      "cell_type": "markdown",
      "source": [
        "Път в една файлова система посочва локацията и името на даден обект (бил той файл или директория). Пример за път в Linux/MacOS е `/home/user/myfile.txt`, а в Windows - `C:\\Users\\user\\myfile.txt`. \n",
        "\n",
        "Забелязва се, че пътищата в Windows и Unix-базираните ОС се разделят с различни черти. Нашият Python код трябва да е съвместим и с двата начина за разделя на пътища. \n",
        "\n",
        "За наше улеснение, Python предлага функцията `os.path.join`, която по подадени имена на директории/файлове, конструира правилния спрямо нашия OS път."
      ],
      "metadata": {
        "id": "1FQAdGyXlkjs"
      }
    },
    {
      "cell_type": "code",
      "source": [
        "import os\n",
        "\n",
        "os.path.join('/home', 'lyubo', 'myfile.txt')"
      ],
      "metadata": {
        "colab": {
          "base_uri": "https://localhost:8080/",
          "height": 36
        },
        "id": "FR2Fp_MrnHDt",
        "outputId": "19a17f12-7d00-41ba-c2e3-17edd07caea9"
      },
      "execution_count": null,
      "outputs": [
        {
          "output_type": "execute_result",
          "data": {
            "text/plain": [
              "'/home/lyubo/myfile.txt'"
            ],
            "application/vnd.google.colaboratory.intrinsic+json": {
              "type": "string"
            }
          },
          "metadata": {},
          "execution_count": 2
        }
      ]
    },
    {
      "cell_type": "markdown",
      "source": [
        "Понеже кодът е изпълнен под Linux, получаваме Unix-ски път. Ако изпълним обаче същия код под Windows, ще получим правилен Windows-ки път. "
      ],
      "metadata": {
        "id": "RGGzX2_znL_z"
      }
    },
    {
      "cell_type": "markdown",
      "source": [
        "## Представяне на файловете в Python"
      ],
      "metadata": {
        "id": "KPWujZmdo10D"
      }
    },
    {
      "cell_type": "markdown",
      "source": [
        "Python предоставя API за работа с файлове и потоци. Python работи с т.нар. \"file objects\" - това може да са файлове на диска, sockets, pipes и други потоци.\n",
        "\n",
        "Освен с текстови файлове, можем да работим и с бинарни файлове. За момента обаче, ще се спрем само върху текстовите файлове."
      ],
      "metadata": {
        "id": "FBsGm74Yo6LW"
      }
    },
    {
      "cell_type": "markdown",
      "source": [
        "Можем да отворим един файл за работа, с помощта на функцията `open`. В най-простия си вид, тя приема път към файл. "
      ],
      "metadata": {
        "id": "e0ME86yzrRuJ"
      }
    },
    {
      "cell_type": "code",
      "source": [
        "fd = open(os.path.join('files', 'lorem_ipsum.txt'))\n",
        "\n",
        "print(fd)\n",
        "\n",
        "fd.close()"
      ],
      "metadata": {
        "colab": {
          "base_uri": "https://localhost:8080/"
        },
        "id": "9uztE6pzrYj5",
        "outputId": "f9ad02ca-ae15-459f-e86b-9bc7b1af735a"
      },
      "execution_count": null,
      "outputs": [
        {
          "output_type": "stream",
          "name": "stdout",
          "text": [
            "<_io.TextIOWrapper name='files/lorem_ipsum.txt' mode='r' encoding='UTF-8'>\n"
          ]
        }
      ]
    },
    {
      "cell_type": "markdown",
      "source": [
        "След като приключим работа с един файл, не трябва да забравяме да го затворим. Затварянето на един файл става с помощта на `close` метода. "
      ],
      "metadata": {
        "id": "4ohPpwYurg55"
      }
    },
    {
      "cell_type": "markdown",
      "source": [
        "Забелязваме, че обекта който получаваме като резултат от `open` има име (`files/lorem_ipsum.txt`), режим (`r`) и кодиране (`UTF-8`).\n",
        "\n",
        "Един файл може да бъде отворен в няколко различни режима:\n",
        "- `r` - отваря файла за четене\n",
        "- `w` - отваря файла за писане, като файла първо бива зачистен\n",
        "- `a` - отваря файла за писане, като новото съдържание се записва в края на файла\n",
        "- `x` - създава файла, ако не съществува. Ако файла вече съществува, се хвърля `FileExistsError`\n",
        "- `b` - отваря файл в бинарен режим\n",
        "- `t` - отваря файл в текстови режим\n",
        "- `+` - отваря файла за четене и писане\n",
        "\n",
        "Освен режима на отваряне, можем да променим и кодирането, с което се опитваме да четем файла. По подразбиране, използваме `UTF-8`. "
      ],
      "metadata": {
        "id": "lpRD3mZarn3x"
      }
    },
    {
      "cell_type": "markdown",
      "source": [
        "## Четене на файлове"
      ],
      "metadata": {
        "id": "UU_sozqXbJhx"
      }
    },
    {
      "cell_type": "markdown",
      "source": [
        "В Python имаме три метода, чрез които можем да четем от файлове: `read`, `readline` и `readlines`.  "
      ],
      "metadata": {
        "id": "D27sqq5ilMSp"
      }
    },
    {
      "cell_type": "markdown",
      "source": [
        "Нека първо разгледаме метода `read`. Той прочита целия файл и запазва съдържанието му в променлива, като един голям низ. "
      ],
      "metadata": {
        "id": "jJNafCFk12bQ"
      }
    },
    {
      "cell_type": "code",
      "execution_count": 1,
      "metadata": {
        "colab": {
          "base_uri": "https://localhost:8080/",
          "height": 239
        },
        "id": "h92FBNCNat7U",
        "outputId": "fe0c97b7-e98d-428a-f459-3d391d8cb710"
      },
      "outputs": [
        {
          "output_type": "error",
          "ename": "FileNotFoundError",
          "evalue": "ignored",
          "traceback": [
            "\u001b[0;31m---------------------------------------------------------------------------\u001b[0m",
            "\u001b[0;31mFileNotFoundError\u001b[0m                         Traceback (most recent call last)",
            "\u001b[0;32m<ipython-input-1-9c6a5a439e46>\u001b[0m in \u001b[0;36m<module>\u001b[0;34m\u001b[0m\n\u001b[1;32m      1\u001b[0m \u001b[0;32mimport\u001b[0m \u001b[0mos\u001b[0m\u001b[0;34m\u001b[0m\u001b[0;34m\u001b[0m\u001b[0m\n\u001b[1;32m      2\u001b[0m \u001b[0;34m\u001b[0m\u001b[0m\n\u001b[0;32m----> 3\u001b[0;31m \u001b[0mfd\u001b[0m \u001b[0;34m=\u001b[0m \u001b[0mopen\u001b[0m\u001b[0;34m(\u001b[0m\u001b[0mos\u001b[0m\u001b[0;34m.\u001b[0m\u001b[0mpath\u001b[0m\u001b[0;34m.\u001b[0m\u001b[0mjoin\u001b[0m\u001b[0;34m(\u001b[0m\u001b[0;34m'files'\u001b[0m\u001b[0;34m,\u001b[0m \u001b[0;34m'lorem_ipsum.txt'\u001b[0m\u001b[0;34m)\u001b[0m\u001b[0;34m)\u001b[0m\u001b[0;34m\u001b[0m\u001b[0;34m\u001b[0m\u001b[0m\n\u001b[0m\u001b[1;32m      4\u001b[0m \u001b[0;34m\u001b[0m\u001b[0m\n\u001b[1;32m      5\u001b[0m \u001b[0mcontent\u001b[0m \u001b[0;34m=\u001b[0m \u001b[0mfd\u001b[0m\u001b[0;34m.\u001b[0m\u001b[0mread\u001b[0m\u001b[0;34m(\u001b[0m\u001b[0;34m)\u001b[0m\u001b[0;34m\u001b[0m\u001b[0;34m\u001b[0m\u001b[0m\n",
            "\u001b[0;31mFileNotFoundError\u001b[0m: [Errno 2] No such file or directory: 'files/lorem_ipsum.txt'"
          ]
        }
      ],
      "source": [
        "import os\n",
        "\n",
        "fd = open(os.path.join('files', 'lorem_ipsum.txt'))\n",
        "\n",
        "content = fd.read()\n",
        "print(f'content={content}')\n",
        "\n",
        "fd.close()"
      ]
    },
    {
      "cell_type": "markdown",
      "source": [
        "Веднъж прочетен един файл, следващото прочитане ще ни върне празен низ. "
      ],
      "metadata": {
        "id": "vGKGqRa-1K_m"
      }
    },
    {
      "cell_type": "code",
      "source": [
        "fd = open(os.path.join('files', 'lorem_ipsum.txt'))\n",
        "\n",
        "content = fd.read()\n",
        "print(f'content={content}')\n",
        "\n",
        "content = fd.read()\n",
        "print(f'content={content}')\n",
        "\n",
        "fd.close()"
      ],
      "metadata": {
        "colab": {
          "base_uri": "https://localhost:8080/"
        },
        "id": "-Xfg_I0NJJ9C",
        "outputId": "0c027891-7bf3-4d6c-c50b-f949db725e16"
      },
      "execution_count": null,
      "outputs": [
        {
          "output_type": "stream",
          "name": "stdout",
          "text": [
            "content=Lorem ipsum dolor sit amet, consectetur adipiscing elit, sed do eiusmod tempor incididunt ut labore et dolore magna aliqua. \n",
            "Ut enim ad minim veniam, quis nostrud exercitation ullamco laboris nisi ut aliquip ex ea commodo consequat. \n",
            "Duis aute irure dolor in reprehenderit in voluptate velit esse cillum dolore eu fugiat nulla pariatur. \n",
            "Excepteur sint occaecat cupidatat non proident, sunt in culpa qui officia deserunt mollit anim id est laborum\n",
            "\n",
            "content=\n"
          ]
        }
      ]
    },
    {
      "cell_type": "markdown",
      "source": [
        "Друг вариант за четене на файл, е ред по ред - това става с помощта на метода `readline`. "
      ],
      "metadata": {
        "id": "ULGoY5x72lCb"
      }
    },
    {
      "cell_type": "code",
      "source": [
        "import os\n",
        "fd = open(os.path.join('files', 'lorem_ipsum.txt'))\n",
        "\n",
        "content = fd.readline()\n",
        "print(f'content={content}')\n",
        "\n",
        "content = fd.readline()\n",
        "print(f'content={content}')\n",
        "\n",
        "fd.close()"
      ],
      "metadata": {
        "colab": {
          "base_uri": "https://localhost:8080/"
        },
        "id": "oK9Xi-Gu2zr7",
        "outputId": "2270a97a-ea9a-4183-ff06-e9b43beebb85"
      },
      "execution_count": null,
      "outputs": [
        {
          "output_type": "stream",
          "name": "stdout",
          "text": [
            "content=Lorem ipsum dolor sit amet, consectetur adipiscing elit, sed do eiusmod tempor incididunt ut labore et dolore magna aliqua. \n",
            "\n",
            "content=Ut enim ad minim veniam, quis nostrud exercitation ullamco laboris nisi ut aliquip ex ea commodo consequat. \n",
            "\n"
          ]
        }
      ]
    },
    {
      "cell_type": "markdown",
      "source": [
        "След прочитане на последния ред, `readline` връща празен низ."
      ],
      "metadata": {
        "id": "_DXlyrPY315L"
      }
    },
    {
      "cell_type": "code",
      "source": [
        "import os\n",
        "fd = open(os.path.join('files', 'lorem_ipsum.txt'))\n",
        "\n",
        "content = fd.readline()\n",
        "print(f'content={content}')\n",
        "\n",
        "while content != '':\n",
        "    content = fd.readline()\n",
        "    print(f'content={content}')\n",
        "\n",
        "fd.close()"
      ],
      "metadata": {
        "colab": {
          "base_uri": "https://localhost:8080/"
        },
        "id": "yVRgVthN3vix",
        "outputId": "b00d3d60-8ff7-47e1-db7f-5a16fadd3325"
      },
      "execution_count": null,
      "outputs": [
        {
          "output_type": "stream",
          "name": "stdout",
          "text": [
            "content=Lorem ipsum dolor sit amet, consectetur adipiscing elit, sed do eiusmod tempor incididunt ut labore et dolore magna aliqua. \n",
            "\n",
            "content=Ut enim ad minim veniam, quis nostrud exercitation ullamco laboris nisi ut aliquip ex ea commodo consequat. \n",
            "\n",
            "content=Duis aute irure dolor in reprehenderit in voluptate velit esse cillum dolore eu fugiat nulla pariatur. \n",
            "\n",
            "content=Excepteur sint occaecat cupidatat non proident, sunt in culpa qui officia deserunt mollit anim id est laborum\n",
            "\n",
            "content=\n"
          ]
        }
      ]
    },
    {
      "cell_type": "markdown",
      "source": [
        "Ако искаме да получим списък от всички редове във файл, можем да използваме `readlines`."
      ],
      "metadata": {
        "id": "6nLUpVFq4Ld4"
      }
    },
    {
      "cell_type": "code",
      "source": [
        "import os\n",
        "fd = open(os.path.join('files', 'lorem_ipsum.txt'))\n",
        "\n",
        "content = fd.readlines()\n",
        "print(f'content={content}')\n",
        "\n",
        "fd.close()"
      ],
      "metadata": {
        "colab": {
          "base_uri": "https://localhost:8080/"
        },
        "id": "xcmi0pcO4ULY",
        "outputId": "5f1c1861-3511-4039-e00e-0cfa79f45225"
      },
      "execution_count": null,
      "outputs": [
        {
          "output_type": "stream",
          "name": "stdout",
          "text": [
            "content=['Lorem ipsum dolor sit amet, consectetur adipiscing elit, sed do eiusmod tempor incididunt ut labore et dolore magna aliqua. \\n', 'Ut enim ad minim veniam, quis nostrud exercitation ullamco laboris nisi ut aliquip ex ea commodo consequat. \\n', 'Duis aute irure dolor in reprehenderit in voluptate velit esse cillum dolore eu fugiat nulla pariatur. \\n', 'Excepteur sint occaecat cupidatat non proident, sunt in culpa qui officia deserunt mollit anim id est laborum\\n']\n"
          ]
        }
      ]
    },
    {
      "cell_type": "code",
      "source": [
        "import os\n",
        "fd = open(os.path.join('files', 'lorem_ipsum.txt'))\n",
        "\n",
        "content = fd.readlines()\n",
        "\n",
        "for line in content:\n",
        "    print(f'content={line}')\n",
        "\n",
        "fd.close()"
      ],
      "metadata": {
        "colab": {
          "base_uri": "https://localhost:8080/"
        },
        "id": "zPRIvtWb4Ycu",
        "outputId": "40cdf2bf-bdb2-4f93-bf9c-89bf3757e63a"
      },
      "execution_count": null,
      "outputs": [
        {
          "output_type": "stream",
          "name": "stdout",
          "text": [
            "content=Lorem ipsum dolor sit amet, consectetur adipiscing elit, sed do eiusmod tempor incididunt ut labore et dolore magna aliqua. \n",
            "\n",
            "content=Ut enim ad minim veniam, quis nostrud exercitation ullamco laboris nisi ut aliquip ex ea commodo consequat. \n",
            "\n",
            "content=Duis aute irure dolor in reprehenderit in voluptate velit esse cillum dolore eu fugiat nulla pariatur. \n",
            "\n",
            "content=Excepteur sint occaecat cupidatat non proident, sunt in culpa qui officia deserunt mollit anim id est laborum\n",
            "\n"
          ]
        }
      ]
    },
    {
      "cell_type": "markdown",
      "source": [
        "Вместо да използваме `readlines`, можем да итерираме директно по файл обекта."
      ],
      "metadata": {
        "id": "URkhviux8oQn"
      }
    },
    {
      "cell_type": "code",
      "source": [
        "import os\n",
        "fd = open(os.path.join('files', 'lorem_ipsum.txt'))\n",
        "\n",
        "for line in fd:\n",
        "    print(f'content={line}')\n",
        "\n",
        "fd.close()"
      ],
      "metadata": {
        "colab": {
          "base_uri": "https://localhost:8080/"
        },
        "id": "6uiK1ioa9zCq",
        "outputId": "c4f4339c-e6a4-479b-ff47-42bad7cbfe26"
      },
      "execution_count": null,
      "outputs": [
        {
          "output_type": "stream",
          "name": "stdout",
          "text": [
            "content=Lorem ipsum dolor sit amet, consectetur adipiscing elit, sed do eiusmod tempor incididunt ut labore et dolore magna aliqua. \n",
            "\n",
            "content=Ut enim ad minim veniam, quis nostrud exercitation ullamco laboris nisi ut aliquip ex ea commodo consequat. \n",
            "\n",
            "content=Duis aute irure dolor in reprehenderit in voluptate velit esse cillum dolore eu fugiat nulla pariatur. \n",
            "\n",
            "content=Excepteur sint occaecat cupidatat non proident, sunt in culpa qui officia deserunt mollit anim id est laborum\n",
            "\n"
          ]
        }
      ]
    },
    {
      "cell_type": "markdown",
      "source": [],
      "metadata": {
        "id": "monpYn3E9wk0"
      }
    },
    {
      "cell_type": "markdown",
      "source": [
        "## Писане на файлове"
      ],
      "metadata": {
        "id": "90Il8AMhbLu2"
      }
    },
    {
      "cell_type": "markdown",
      "source": [
        "За писане на файлове в Python може да използваме методите `write` и `writelines`"
      ],
      "metadata": {
        "id": "GUyazAnfSESG"
      }
    },
    {
      "cell_type": "markdown",
      "source": [
        "Методът `write` записва низ във файла. Позицията зависи от начина по който е отворен файла (с или без изтриване на текущото съдържание)."
      ],
      "metadata": {
        "id": "URaUQ1hVS_Dx"
      }
    },
    {
      "cell_type": "code",
      "source": [
        "import os\n",
        "fd = open(os.path.join('files', 'hello_world.txt'), 'w')\n",
        "\n",
        "fd.write('Hello world')\n",
        "\n",
        "fd.close()"
      ],
      "metadata": {
        "id": "epMK7--sUZuH"
      },
      "execution_count": 3,
      "outputs": []
    },
    {
      "cell_type": "code",
      "source": [
        "import os\n",
        "fd = open(os.path.join('files', 'hello_world.txt'))\n",
        "\n",
        "content = fd.read()\n",
        "print(content)\n",
        "fd.close()"
      ],
      "metadata": {
        "colab": {
          "base_uri": "https://localhost:8080/"
        },
        "id": "J0n45OqOh8D2",
        "outputId": "abac2e93-0fea-4e95-9c52-4df3edfd4cc1"
      },
      "execution_count": 4,
      "outputs": [
        {
          "output_type": "stream",
          "name": "stdout",
          "text": [
            "Hello world\n"
          ]
        }
      ]
    },
    {
      "cell_type": "markdown",
      "source": [
        "Припомням, че ако отворим файла в режим `w`, то ще изтрием текущото му съдържание."
      ],
      "metadata": {
        "id": "SiZ4QZjZiZOo"
      }
    },
    {
      "cell_type": "code",
      "source": [
        "import os\n",
        "\n",
        "fd = open(os.path.join('files', 'my_important_file.txt'), 'w')\n",
        "fd.write('Really important')\n",
        "fd.close()\n",
        "\n",
        "# Oops, forgot to write something down\n",
        "\n",
        "fd = open(os.path.join('files', 'my_important_file.txt'), 'w')\n",
        "fd.write('Should really not forget this')\n",
        "fd.close()\n"
      ],
      "metadata": {
        "id": "VJPqmvsgiYrZ"
      },
      "execution_count": 5,
      "outputs": []
    },
    {
      "cell_type": "code",
      "source": [
        "import os\n",
        "fd = open(os.path.join('files', 'my_important_file.txt'))\n",
        "\n",
        "content = fd.read()\n",
        "print(content)\n",
        "fd.close()"
      ],
      "metadata": {
        "colab": {
          "base_uri": "https://localhost:8080/"
        },
        "id": "nVBAP46YiwhL",
        "outputId": "1d978811-e1fd-4a75-92eb-736cb477144a"
      },
      "execution_count": 6,
      "outputs": [
        {
          "output_type": "stream",
          "name": "stdout",
          "text": [
            "Should really not forget this\n"
          ]
        }
      ]
    },
    {
      "cell_type": "markdown",
      "source": [
        "Ако искаме да пишем в края на файла, трябва да използваме режим `a`"
      ],
      "metadata": {
        "id": "wuq58B4vi5Ub"
      }
    },
    {
      "cell_type": "code",
      "source": [
        "import os\n",
        "\n",
        "fd = open(os.path.join('files', 'my_important_file_2.txt'), 'a')\n",
        "fd.write('Really important\\n')\n",
        "fd.close()\n",
        "\n",
        "# Oops, forgot to write something down\n",
        "\n",
        "fd = open(os.path.join('files', 'my_important_file_2.txt'), 'a')\n",
        "fd.write('Should really not forget this\\n')\n",
        "fd.close()"
      ],
      "metadata": {
        "id": "bwjQXxlci9Kx"
      },
      "execution_count": 14,
      "outputs": []
    },
    {
      "cell_type": "code",
      "source": [
        "import os\n",
        "fd = open(os.path.join('files', 'my_important_file_2.txt'))\n",
        "\n",
        "content = fd.read()\n",
        "print(content)\n",
        "fd.close()"
      ],
      "metadata": {
        "colab": {
          "base_uri": "https://localhost:8080/"
        },
        "id": "sdlaFvC6jJ1x",
        "outputId": "34e46186-d464-4ae8-a106-59227164842a"
      },
      "execution_count": 15,
      "outputs": [
        {
          "output_type": "stream",
          "name": "stdout",
          "text": [
            "Really important\n",
            "Should really not forget this\n",
            "\n"
          ]
        }
      ]
    },
    {
      "cell_type": "markdown",
      "source": [
        "Методът `writelines` приема списък от \"редове\", които да бъдат записани във файла.\n",
        "\n",
        "**Забележка**: `writelines` не добавя автоматично нови редове след всеки елемент, затова се очаква всеки елемент от списъка да съдържа нов ред в себе си. "
      ],
      "metadata": {
        "id": "MMU2OzCFjqzI"
      }
    },
    {
      "cell_type": "code",
      "source": [
        "import os\n",
        "\n",
        "fd = open(os.path.join('files', 'writelines_example.txt'), 'w')\n",
        "\n",
        "lines_to_write = ['hello\\n', 'this\\n', 'are\\n', 'my\\n', 'lines\\n']\n",
        "fd.writelines(lines_to_write)\n",
        "\n",
        "fd.close()"
      ],
      "metadata": {
        "id": "Cl81-OtJkvXW"
      },
      "execution_count": 17,
      "outputs": []
    },
    {
      "cell_type": "code",
      "source": [
        "import os\n",
        "fd = open(os.path.join('files', 'writelines_example.txt'))\n",
        "\n",
        "content = fd.read()\n",
        "print(content)\n",
        "fd.close()"
      ],
      "metadata": {
        "colab": {
          "base_uri": "https://localhost:8080/"
        },
        "id": "p1P40tosk-5A",
        "outputId": "451399fc-ace3-4502-9014-0e227a525768"
      },
      "execution_count": 18,
      "outputs": [
        {
          "output_type": "stream",
          "name": "stdout",
          "text": [
            "hello\n",
            "this\n",
            "are\n",
            "my\n",
            "lines\n",
            "\n"
          ]
        }
      ]
    },
    {
      "cell_type": "markdown",
      "source": [
        "## Работа с файлове и пътища"
      ],
      "metadata": {
        "id": "Nlb97sGOf4s8"
      }
    },
    {
      "cell_type": "markdown",
      "source": [
        "Python предлага удобен начин за работа с файлове. Вградената библиотека `os` съдържа всичко необходимо за работата с файлове и директории. \n",
        "\n",
        "Ще разгледаме как можем да:\n",
        "- Преместим файл\n",
        "- Изтрием файл\n",
        "- Създадем директория\n",
        "- Преместим директория\n",
        "- Изтрием директория\n",
        "- Проверка дали даден файл/директория съществува\n",
        "- Дали даден път сочи към файл или директория\n",
        "- Обща работа с пътища\n",
        "- Обхождане на файловата система\n",
        "\n"
      ],
      "metadata": {
        "id": "oe4Ti1UBhsVW"
      }
    },
    {
      "cell_type": "markdown",
      "source": [
        "- Move file (os.rename)\n",
        "- Delete file (os.remove)\n",
        "\n",
        "- Create directory (os.mkdir/os.makedirs)\n",
        "- Move directory (os.rename)\n",
        "- Delete directory (os.rmdir/os.removedirs)\n",
        "\n",
        "- os.path.exists\n",
        "- os.path.join\n",
        "- os.path.split\n",
        "- os.path.isdir\n",
        "- os.path.isfile\n",
        "- os.walk"
      ],
      "metadata": {
        "id": "93CJDM6Mf6aA"
      }
    },
    {
      "cell_type": "markdown",
      "source": [
        "### Преместване на файл\n",
        "Преместването на файл става чрез \"преименуването му\" (или всъщност, преименуването на файл е преместването му като файл с друго име 🤔) - това в Python става с помощта на функцията `os.rename`"
      ],
      "metadata": {
        "id": "G3Jqt8kLi8W0"
      }
    },
    {
      "cell_type": "markdown",
      "source": [
        "## Използване на `with`"
      ],
      "metadata": {
        "id": "FzOWCerhbNUN"
      }
    },
    {
      "cell_type": "markdown",
      "source": [
        "## `tell` и `seek`"
      ],
      "metadata": {
        "id": "BsHLVveUPgaD"
      }
    },
    {
      "cell_type": "markdown",
      "source": [
        "## Примери"
      ],
      "metadata": {
        "id": "YfLvF6IvlDpa"
      }
    },
    {
      "cell_type": "markdown",
      "source": [
        "## Задачи"
      ],
      "metadata": {
        "id": "Mvgi6--wlFDS"
      }
    },
    {
      "cell_type": "markdown",
      "source": [
        "Задачите може да намерите тук: [tasks.md](https://github.com/lyubolp/PythonCourse2022/blob/08_files/08%20-%20Files/tasks/tasks.md)"
      ],
      "metadata": {
        "id": "hq-AcP5Plq3x"
      }
    }
  ]
}