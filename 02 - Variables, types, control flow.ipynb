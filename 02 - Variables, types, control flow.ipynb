{
 "cells": [
  {
   "cell_type": "markdown",
   "metadata": {},
   "source": [
    "# Променливи, разклонения, цикли"
   ]
  },
  {
   "cell_type": "markdown",
   "metadata": {},
   "source": [
    "## Динамично vs. статично типизиране. Round 1\n",
    "\n",
    "Python е **динамично**-типизиран език. Това означава, че за разлика от статично-типизираните езици (като например C++, Java или C#), променливите (които биват наричани ***имена***/***names*** в Python) биват проверявани за коректността на типа им при изпълнението на програмата, а не при компилацията (каквато и няма в Python, понеже кодът се интерпретира вместо да се компилира). Друга особеност е, че типът на променливата може да се промени по време на изпълнението на програмата и също така не се декларира предварително."
   ]
  },
  {
   "cell_type": "code",
   "execution_count": null,
   "metadata": {},
   "outputs": [],
   "source": [
    "# I want it to be a number\n",
    "a = 42\n",
    "print(a)\n",
    "\n",
    "# No, sorry, changed my mind, let it be a string\n",
    "a = \"a string\"\n",
    "print(a)\n",
    "\n",
    "# Actually l... You know what? Screw it. I don't need it.\n",
    "del a\n",
    "print(a)  # NameError: name 'a' is not defined\n"
   ]
  },
  {
   "cell_type": "markdown",
   "metadata": {},
   "source": [
    "## Какви типове има?"
   ]
  },
  {
   "cell_type": "markdown",
   "metadata": {},
   "source": [
    "### Числа\n",
    "\n",
    "Съществуват три основни вградени типа, които описват числови стойности: **int**, **float** и **complex**.\n",
    "\n",
    "* `int` - цели числа\n",
    "* `float` - реални числа (с плаваща запетая)\n",
    "* `complex` - комплексни числа\n",
    "\n",
    "И за трите типа са дефинирани аритметичните оператори `+`, `-`, `*`, `/`, както и `**` (степенуване)."
   ]
  },
  {
   "cell_type": "code",
   "execution_count": null,
   "metadata": {},
   "outputs": [],
   "source": [
    "whole = -42\n",
    "fraction = 0.999\n",
    "imag = 3 + 2j  # this is the complex number (3 + 2i)\n",
    "\n",
    "print(1j ** 2)"
   ]
  },
  {
   "cell_type": "markdown",
   "metadata": {},
   "source": [
    "⚠️ Резултатът на `/`, приложен между два `int`-а е `float`. Всички от останалите оператори запазват резултата в `int`."
   ]
  },
  {
   "cell_type": "code",
   "execution_count": null,
   "metadata": {},
   "outputs": [],
   "source": [
    "print(4 / 2)\n",
    "print(1 / 3)"
   ]
  },
  {
   "cell_type": "markdown",
   "metadata": {},
   "source": [
    "За целочислени сметки имаме и операторите `//` и `%` (целочислено деление и остатък от деление).\n",
    "\n",
    "`//` е и операторът, който трябва да ползваме, ако искаме при делението на два `int`-а да получим отново `int`."
   ]
  },
  {
   "cell_type": "code",
   "execution_count": null,
   "metadata": {},
   "outputs": [],
   "source": [
    "print(7 / 2)\n",
    "print(7 // 2)\n",
    "print(7 % 2)"
   ]
  },
  {
   "cell_type": "markdown",
   "metadata": {},
   "source": [
    "Hey Siri, how much is 0 divided by 0?"
   ]
  },
  {
   "cell_type": "code",
   "execution_count": null,
   "metadata": {},
   "outputs": [],
   "source": [
    "print(0 / 0)"
   ]
  },
  {
   "cell_type": "markdown",
   "metadata": {},
   "source": [
    "С безкрайността обаче нямаме такъв проблем (`math.inf` е специален `float`, който има за цел да бъде еквивалентен на $\\infty$):"
   ]
  },
  {
   "cell_type": "code",
   "execution_count": null,
   "metadata": {},
   "outputs": [],
   "source": [
    "from math import inf\n",
    "\n",
    "print(1 / inf)"
   ]
  },
  {
   "cell_type": "markdown",
   "metadata": {},
   "source": [
    "Размерът на `int` не е фиксиран както в повечето статично-типизирани езици, при които програмистът избира дали да използва 32-битов, 64-битов или някаква друга размерност за целочислена променлива. Тук integer overflow се избягва като динамично се изчислява размерът на паметта, нужен за съхранението на число с произволна големина."
   ]
  },
  {
   "cell_type": "code",
   "execution_count": null,
   "metadata": {},
   "outputs": [],
   "source": [
    "from sys import getsizeof\n",
    "\n",
    "print(getsizeof(1))\n",
    "print(getsizeof(2 ** 16))\n",
    "print(getsizeof(2 ** 30))\n",
    "print(getsizeof(2 ** 30 ** 5))"
   ]
  },
  {
   "cell_type": "markdown",
   "metadata": {},
   "source": [
    "Изписаните резултати са в байтове, а не битове. Причината числото \"1\" да заема цели 28 байта например е понеже в python всичко е обект и си има своите член-данни и методи, дори и типове като `int`.\n",
    "\n",
    "От друга страна, `float` винаги заема фиксиран брой байтове. Причината за това е, че прецизността е константна - до 18 знака след десетичната запетая. В случай, че не ни е достатъчна такава прецизност, могат да се използват типове от някои вградени и не-вградени библиотеки, като например `decimal.Decimal`, с който можем да боравим с до 28 знака след десетичната запетая."
   ]
  },
  {
   "cell_type": "markdown",
   "metadata": {},
   "source": [
    "Целочислени литерали могат да се задават и в двоична, осмична и 16-ична бройни системи, използвайки като префикс `0b`, `0o` и `0x` съответно:"
   ]
  },
  {
   "cell_type": "code",
   "execution_count": null,
   "metadata": {},
   "outputs": [],
   "source": [
    "print(0b1010)\n",
    "print(0o12)\n",
    "print(0xA)"
   ]
  },
  {
   "cell_type": "markdown",
   "metadata": {},
   "source": [
    "### Низове\n",
    "\n",
    "Текстовите низовете в Python имат тип `str`. Те могат да бъдат с произволна дължина, като в литерал се обграждат или с `\"`, или с `'`."
   ]
  },
  {
   "cell_type": "code",
   "execution_count": null,
   "metadata": {},
   "outputs": [],
   "source": [
    "s1 = \"abra\"\n",
    "s2 = 'cad'\n",
    "\n",
    "print(s1 + s2 + s1 + '!')\n"
   ]
  },
  {
   "cell_type": "markdown",
   "metadata": {},
   "source": [
    "Многоредови низови литерали биват задавани с тройни кавички, също както специалните многоредови коментари, наричани `docstring`-ове (повече за тях в следваща лекция):"
   ]
  },
  {
   "cell_type": "code",
   "execution_count": null,
   "metadata": {},
   "outputs": [],
   "source": [
    "this_text_is_too_long_to_fit_on_a_single_line = \"\"\"This text is too long to fit on a single line\n",
    "so I'm going to break it up into multiple lines\n",
    "so that I can see how it looks\n",
    "This string has been sponsored by Github Copilot.\"\"\"\n",
    "\n",
    "print(this_text_is_too_long_to_fit_on_a_single_line)"
   ]
  },
  {
   "cell_type": "markdown",
   "metadata": {},
   "source": [
    "Подържат се Unicode символи, но трябва да се внимава при взимането на дължината им (например емоджитата с флагове се енкодират двоен брой байтове, което доведе до [това](https://www.theverge.com/2018/10/11/17963230/twitter-emoji-character-limit-bug-fixed-diversity)):"
   ]
  },
  {
   "cell_type": "code",
   "execution_count": null,
   "metadata": {},
   "outputs": [],
   "source": [
    "moyai = \"🗿🇨🇳\"\n",
    "print(moyai)\n",
    "print(len(moyai))\n"
   ]
  },
  {
   "cell_type": "markdown",
   "metadata": {},
   "source": [
    "Escape символът както обикновено е `\\`. Някои специални символи по този начин написани са:\n",
    "* `\\n` - нов ред (Line Feed, ASCII стойност 13 (0x0D))\n",
    "* `\\t` - хоризонтална табулация (ASCII стойност 9)\n",
    "* `\\r` - Carriage Return, ASCII стойност 10 (0x0A)\n",
    "\n",
    "С `\\'` или  `\\\"` се запазват и кавичките в случай, че вида кавичка съвпада с тази, ограждаща низа. \n",
    "\n",
    "Самата обратно-наклонена черта се въвежда с `\\\\`.\n"
   ]
  },
  {
   "cell_type": "code",
   "execution_count": null,
   "metadata": {},
   "outputs": [],
   "source": [
    "s = 'Is it readable?\\nYesn\\'t\\n'\n",
    "print(s)"
   ]
  },
  {
   "cell_type": "markdown",
   "metadata": {},
   "source": [
    "Ако знаем 16-чния код на конкретен Unicode символ, можем да го запишем след `\\u`:"
   ]
  },
  {
   "cell_type": "code",
   "execution_count": null,
   "metadata": {},
   "outputs": [],
   "source": [
    "rip_lemmy = \"A\\u2660\"\n",
    "print(rip_lemmy)"
   ]
  },
  {
   "cell_type": "markdown",
   "metadata": {},
   "source": [
    "В случай пък че ни трябва конкретен байт в низа, чийто 16-ичен код знаем, може да се използва `\\x`. Например `\\x00` е null-byte, a `\\x1B` - `ESC`."
   ]
  },
  {
   "cell_type": "code",
   "execution_count": null,
   "metadata": {},
   "outputs": [],
   "source": [
    "not_your_c_string = \"You can safely have \\x00 in the middle of a string\"\n",
    "print(not_your_c_string)"
   ]
  },
  {
   "cell_type": "markdown",
   "metadata": {},
   "source": [
    "Относно ASCII кодове, съществуват две функции за преобразуване от и във кода на символа: `chr` и `ord` съответно."
   ]
  },
  {
   "cell_type": "code",
   "execution_count": null,
   "metadata": {},
   "outputs": [],
   "source": [
    "print(ord('A'))\n",
    "print(chr(65))\n",
    "\n",
    "alphabet = [chr(c) for c in range(ord('A'), ord('Z') + 1)]\n",
    "alphabet_kebab = \"-\".join(alphabet)\n",
    "print(alphabet_kebab)\n"
   ]
  },
  {
   "cell_type": "markdown",
   "metadata": {},
   "source": [
    "Съществува и тип за низ от байтове - `bytes`. Има си и литерал, който е като този на `str`, но просто с едно `b` преди отварящите кавички.\n",
    "\n",
    "Конвертирането му от и до `str` става единственo чрез подбиране на правилен енкодинг (UTF-8 или друг) и може да хвърли грешка."
   ]
  },
  {
   "cell_type": "code",
   "execution_count": null,
   "metadata": {},
   "outputs": [],
   "source": [
    "bytes_literal = b\"You can use ASCII characters as well as \\x5C\\x78 syntax, e.g. \\x00\\x01, etc.\"\n",
    "print(bytes_literal)\n",
    "\n",
    "str_from_bytes = bytes_literal.decode(\"utf-8\")\n",
    "print(str_from_bytes)\n",
    "\n",
    "bytes_from_str = str_from_bytes.encode(\"utf-8\")\n",
    "print(bytes_from_str)\n",
    "\n",
    "deadbeef = b\"\\xDE\\xAD\\xBE\\xEF\"\n",
    "print(deadbeef.decode(\"utf-8\"))  # it's dead"
   ]
  },
  {
   "cell_type": "markdown",
   "metadata": {},
   "source": [
    "Интерполацията на низове е възможна по три основни начина:\n",
    "* Форматиране с `%` (old-school)\n",
    "* `str.format` (от Python 3 насам, back-port-нат към Python 2.7)\n",
    "* f-strings (от Python 3.6 насам)"
   ]
  },
  {
   "cell_type": "code",
   "execution_count": null,
   "metadata": {},
   "outputs": [],
   "source": [
    "from math import pi\n",
    "from time import time\n",
    "\n",
    "archaic = \"This year %s turns %x hex-years old.\" % (\"AJ\", 24)\n",
    "print(archaic)\n",
    "\n",
    "classic = \"{} only knows the first 5 decimal places of π: {:.5f}.\".format(\"Ton4ou\", pi)\n",
    "print(classic)\n",
    "\n",
    "name = \"bot.py\"\n",
    "fstr = f\"Program {name} finished execution at {time()} unix time.\"\n",
    "print(fstr)\n",
    "\n",
    "some_variable = 0xdeadbeef\n",
    "debug_fstr = f\"Debug info: {some_variable=}\"  # the '=' here puts the name as well as the value\n",
    "print(debug_fstr)\n"
   ]
  },
  {
   "cell_type": "markdown",
   "metadata": {},
   "source": [
    "Низовете са колекции и могат да бъдат използвани като такива. Повече за тях в следваща лекция, засега може да ги мислим като масиви от символи."
   ]
  },
  {
   "cell_type": "code",
   "execution_count": null,
   "metadata": {},
   "outputs": [],
   "source": [
    "s = \"Hello\"\n",
    "print(len(s))  # the length\n",
    "print(s[0])    # the first character (element @ index 0)\n",
    "\n",
    "for char in s:\n",
    "    print(\"===\" + char + \"===\")"
   ]
  },
  {
   "cell_type": "markdown",
   "metadata": {},
   "source": [
    "Обработката на низове става сравнително лесно чрез предоставените ни вградени функции и методи:"
   ]
  },
  {
   "cell_type": "code",
   "execution_count": null,
   "metadata": {},
   "outputs": [],
   "source": [
    "with_umlauts = \"Deutschland über alles!\"\n",
    "no_umlauts = with_umlauts.replace(\"ü\", \"ue\")  # returns a new string in which all occurrences of \"ü\" are replaced with \"ue\"\n",
    "print(no_umlauts)\n",
    "\n",
    "post_hastags = \"#nofilter #nomakeup #felt_cute_might_delete_later #f4f #follow4follow\"\n",
    "tags = post_hastags.replace(\"#\", \"\").split(\" \")  # first removes all #'s, then splits using a space as a delimiter into a list of strings\n",
    "marked_tags_list = \" \".join(f\"({tag})\" for tag in tags)  # surrounds each element of the list with brackets and concatenates them with spaces\n",
    "print(marked_tags_list)\n",
    "\n",
    "allowed_inputs = [\"y\", \"yes\", \"proceed\", \"correct\", \"da\", \"yy\", \"yesh\", \"yass\"]\n",
    "user_input = \"Yes\"  # hardcoded for simplicity\n",
    "if user_input.lower() in allowed_inputs:\n",
    "    print(\"Access granted.\")\n",
    "else:\n",
    "    print(\"Access denied.\")\n",
    "\n",
    "# .lower() converts the string to lowercase, .upper() converts it to uppercase\n",
    "# there is also .capitalize() which capitalizes only the first letter of the string"
   ]
  },
  {
   "cell_type": "markdown",
   "metadata": {},
   "source": [
    "### Булеви\n",
    "\n",
    "Тип `bool` има две възможни стойности: `True` и `False`.\n",
    "\n",
    "За разлика от повечето други езици, вместо `!`, `||` и `&&` използваме `not`, `or` и `and`."
   ]
  },
  {
   "cell_type": "code",
   "execution_count": null,
   "metadata": {},
   "outputs": [],
   "source": [
    "t = True\n",
    "f = not t\n",
    "\n",
    "print(f)\n",
    "print(t or f)\n",
    "print(t and f)\n",
    "print(t and not f)"
   ]
  },
  {
   "cell_type": "markdown",
   "metadata": {},
   "source": [
    "⚠️ `or` и `and` всъщност не връщат `bool`, а стойността на първия аргумент отляво надясно, след който каквито и да са стойностите на другите резултатът остава същия:"
   ]
  },
  {
   "cell_type": "code",
   "execution_count": null,
   "metadata": {},
   "outputs": [],
   "source": [
    "a, b, c = 1, 2, 3\n",
    "\n",
    "print(a or b or c)\n",
    "print(a and b and c)\n",
    "print(a or 0 or c)\n",
    "print(a and 0 and c)"
   ]
  },
  {
   "cell_type": "markdown",
   "metadata": {},
   "source": [
    "### `None`\n",
    "\n",
    "`None` е стойност (и тип), обозначаваща липса на стойност (🤔).\n",
    "\n",
    "Когато една функция **не** преминава през `return` израз, тя всъщност връща `None` като резултат."
   ]
  },
  {
   "cell_type": "code",
   "execution_count": null,
   "metadata": {},
   "outputs": [],
   "source": [
    "result_of_print = print(\"The print function isn't intended to return a specific value.\")\n",
    "print(result_of_print)"
   ]
  },
  {
   "cell_type": "markdown",
   "metadata": {},
   "source": [
    "..."
   ]
  },
  {
   "cell_type": "markdown",
   "metadata": {},
   "source": [
    "⚠️ Трябва да се внимава винаги с очакваната прецизност на числата с плаваща запетая:"
   ]
  },
  {
   "cell_type": "code",
   "execution_count": null,
   "metadata": {},
   "outputs": [],
   "source": [
    "print(0.1 + 0.2 == 0.3)  # да ама не, понеже:\n",
    "print(0.1 + 0.2)"
   ]
  }
 ],
 "metadata": {
  "kernelspec": {
   "display_name": "Python 3.9.7 64-bit",
   "language": "python",
   "name": "python3"
  },
  "language_info": {
   "codemirror_mode": {
    "name": "ipython",
    "version": 3
   },
   "file_extension": ".py",
   "mimetype": "text/x-python",
   "name": "python",
   "nbconvert_exporter": "python",
   "pygments_lexer": "ipython3",
   "version": "3.9.7"
  },
  "orig_nbformat": 4,
  "vscode": {
   "interpreter": {
    "hash": "aee8b7b246df8f9039afb4144a1f6fd8d2ca17a180786b69acc140d282b71a49"
   }
  }
 },
 "nbformat": 4,
 "nbformat_minor": 2
}
