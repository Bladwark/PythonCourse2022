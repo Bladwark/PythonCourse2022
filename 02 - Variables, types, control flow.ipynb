{
 "cells": [
  {
   "cell_type": "markdown",
   "metadata": {},
   "source": [
    "# Променливи, разклонения, цикли"
   ]
  },
  {
   "cell_type": "markdown",
   "metadata": {},
   "source": [
    "## Динамично vs. статично типизиране. Round 1\n",
    "\n",
    "Python е **динамично**-типизиран език. Това означава, че за разлика от статично-типизираните езици (като например C++, Java или C#), променливите (които биват наричани ***имена***/***names*** в Python) биват проверявани за коректността на типа им при изпълнението на програмата, а не при компилацията (каквато и няма в Python, понеже кодът се интерпретира вместо да се компилира). Друга особеност е, че типът на променливата може да се промени по време на изпълнението на програмата и също така не се декларира предварително."
   ]
  },
  {
   "cell_type": "code",
   "execution_count": null,
   "metadata": {},
   "outputs": [],
   "source": [
    "# I want it to be a number\n",
    "a = 42\n",
    "print(a)\n",
    "\n",
    "# No, sorry, changed my mind, let it be a string\n",
    "a = \"a string\"\n",
    "print(a)\n",
    "\n",
    "# Actually l... You know what? Screw it. I don't need it.\n",
    "del a\n",
    "print(a)  # 💥 NameError: name 'a' is not defined\n"
   ]
  },
  {
   "cell_type": "markdown",
   "metadata": {},
   "source": [
    "## Какви типове има?"
   ]
  },
  {
   "cell_type": "markdown",
   "metadata": {},
   "source": [
    "### Числа\n",
    "\n",
    "Съществуват три основни вградени типа, които описват числови стойности: **int**, **float** и **complex**.\n",
    "\n",
    "* `int` - цели числа\n",
    "* `float` - реални числа (с плаваща запетая)\n",
    "* `complex` - комплексни числа\n",
    "\n",
    "И за трите типа са дефинирани аритметичните оператори `+`, `-`, `*`, `/`, както и `**` (степенуване)."
   ]
  },
  {
   "cell_type": "code",
   "execution_count": null,
   "metadata": {},
   "outputs": [],
   "source": [
    "whole = -42\n",
    "fraction = 0.999\n",
    "imag = 3 + 2j  # this is the complex number (3 + 2i)\n",
    "\n",
    "print(1j ** 2)"
   ]
  },
  {
   "cell_type": "markdown",
   "metadata": {},
   "source": [
    "⚠️ Резултатът на `/`, приложен между два `int`-а е `float`. Всички от останалите оператори запазват резултата в `int`."
   ]
  },
  {
   "cell_type": "code",
   "execution_count": null,
   "metadata": {},
   "outputs": [],
   "source": [
    "print(4 / 2)\n",
    "print(1 / 3)"
   ]
  },
  {
   "cell_type": "markdown",
   "metadata": {},
   "source": [
    "За целочислени сметки имаме и операторите `//` и `%` (целочислено деление и остатък от деление).\n",
    "\n",
    "`//` е и операторът, който трябва да ползваме, ако искаме при делението на два `int`-а да получим отново `int`."
   ]
  },
  {
   "cell_type": "code",
   "execution_count": null,
   "metadata": {},
   "outputs": [],
   "source": [
    "print(7 / 2)\n",
    "print(7 // 2)\n",
    "print(7 % 2)"
   ]
  },
  {
   "cell_type": "markdown",
   "metadata": {},
   "source": [
    "Hey Siri, how much is 0 divided by 0?"
   ]
  },
  {
   "cell_type": "code",
   "execution_count": null,
   "metadata": {},
   "outputs": [],
   "source": [
    "print(0 / 0)"
   ]
  },
  {
   "cell_type": "markdown",
   "metadata": {},
   "source": [
    "С безкрайността обаче нямаме такъв проблем (`math.inf` е специален `float`, който има за цел да бъде еквивалентен на $\\infty$):"
   ]
  },
  {
   "cell_type": "code",
   "execution_count": null,
   "metadata": {},
   "outputs": [],
   "source": [
    "from math import inf\n",
    "\n",
    "print(1 / inf)"
   ]
  },
  {
   "cell_type": "markdown",
   "metadata": {},
   "source": [
    "Размерът на `int` не е фиксиран както в повечето статично-типизирани езици, при които програмистът избира дали да използва 32-битов, 64-битов или някаква друга размерност за целочислена променлива. Тук integer overflow се избягва като динамично се изчислява размерът на паметта, нужен за съхранението на число с произволна големина."
   ]
  },
  {
   "cell_type": "code",
   "execution_count": null,
   "metadata": {},
   "outputs": [],
   "source": [
    "from sys import getsizeof\n",
    "\n",
    "print(getsizeof(1))\n",
    "print(getsizeof(2 ** 16))\n",
    "print(getsizeof(2 ** 30))\n",
    "print(getsizeof(2 ** 30 ** 5))"
   ]
  },
  {
   "cell_type": "markdown",
   "metadata": {},
   "source": [
    "Изписаните резултати са в байтове, а не битове. Причината числото \"1\" да заема цели 28 байта например е понеже в python всичко е обект и си има своите член-данни и методи, дори и типове като `int`.\n",
    "\n",
    "От друга страна, `float` винаги заема фиксиран брой байтове. Причината за това е, че прецизността е константна - до 18 знака след десетичната запетая. В случай, че не ни е достатъчна такава прецизност, могат да се използват типове от някои вградени и не-вградени библиотеки, като например `decimal.Decimal`, с който можем да боравим с до 28 знака след десетичната запетая."
   ]
  },
  {
   "cell_type": "markdown",
   "metadata": {},
   "source": [
    "Целочислени литерали могат да се задават и в двоична, осмична и 16-ична бройни системи, използвайки като префикс `0b`, `0o` и `0x` съответно:"
   ]
  },
  {
   "cell_type": "code",
   "execution_count": null,
   "metadata": {},
   "outputs": [],
   "source": [
    "print(0b1010)\n",
    "print(0o12)\n",
    "print(0xA)"
   ]
  },
  {
   "cell_type": "markdown",
   "metadata": {},
   "source": [
    "### Низове\n",
    "\n",
    "Текстовите низовете в Python имат тип `str`. Те могат да бъдат с произволна дължина, като в литерал се обграждат или с `\"`, или с `'`."
   ]
  },
  {
   "cell_type": "code",
   "execution_count": null,
   "metadata": {},
   "outputs": [],
   "source": [
    "s1 = \"abra\"\n",
    "s2 = 'cad'\n",
    "\n",
    "print(s1 + s2 + s1 + '!')\n"
   ]
  },
  {
   "cell_type": "markdown",
   "metadata": {},
   "source": [
    "Многоредови низови литерали биват задавани с тройни кавички, също както специалните многоредови коментари, наричани `docstring`-ове (повече за тях в следваща лекция):"
   ]
  },
  {
   "cell_type": "code",
   "execution_count": null,
   "metadata": {},
   "outputs": [],
   "source": [
    "this_text_is_too_long_to_fit_on_a_single_line = \"\"\"This text is too long to fit on a single line\n",
    "so I'm going to break it up into multiple lines\n",
    "so that I can see how it looks\n",
    "This string has been sponsored by Github Copilot.\"\"\"\n",
    "\n",
    "print(this_text_is_too_long_to_fit_on_a_single_line)"
   ]
  },
  {
   "cell_type": "markdown",
   "metadata": {},
   "source": [
    "Подържат се Unicode символи, но трябва да се внимава при взимането на дължината им (например емоджитата с флагове се енкодират двоен брой байтове, което доведе до [това](https://www.theverge.com/2018/10/11/17963230/twitter-emoji-character-limit-bug-fixed-diversity)):"
   ]
  },
  {
   "cell_type": "code",
   "execution_count": null,
   "metadata": {},
   "outputs": [],
   "source": [
    "moyai = \"🗿🇨🇳\"\n",
    "print(moyai)\n",
    "print(len(moyai))\n"
   ]
  },
  {
   "cell_type": "markdown",
   "metadata": {},
   "source": [
    "Escape символът както обикновено е `\\`. Някои специални символи по този начин написани са:\n",
    "* `\\n` - нов ред (Line Feed, ASCII стойност 13 (0x0D))\n",
    "* `\\t` - хоризонтална табулация (ASCII стойност 9)\n",
    "* `\\r` - Carriage Return, ASCII стойност 10 (0x0A)\n",
    "\n",
    "С `\\'` или  `\\\"` се запазват и кавичките в случай, че вида кавичка съвпада с тази, ограждаща низа. \n",
    "\n",
    "Самата обратно-наклонена черта се въвежда с `\\\\`.\n"
   ]
  },
  {
   "cell_type": "code",
   "execution_count": null,
   "metadata": {},
   "outputs": [],
   "source": [
    "s = 'Is it readable?\\nYesn\\'t\\n'\n",
    "print(s)"
   ]
  },
  {
   "cell_type": "markdown",
   "metadata": {},
   "source": [
    "Ако знаем 16-чния код на конкретен Unicode символ, можем да го запишем след `\\u`:"
   ]
  },
  {
   "cell_type": "code",
   "execution_count": null,
   "metadata": {},
   "outputs": [],
   "source": [
    "rip_lemmy = \"A\\u2660\"\n",
    "print(rip_lemmy)"
   ]
  },
  {
   "cell_type": "markdown",
   "metadata": {},
   "source": [
    "В случай пък че ни трябва конкретен байт в низа, чийто 16-ичен код знаем, може да се използва `\\x`. Например `\\x00` е null-byte, a `\\x1B` - `ESC`."
   ]
  },
  {
   "cell_type": "code",
   "execution_count": null,
   "metadata": {},
   "outputs": [],
   "source": [
    "not_your_c_string = \"You can safely have \\x00 in the middle of a string\"\n",
    "print(not_your_c_string)"
   ]
  },
  {
   "cell_type": "markdown",
   "metadata": {},
   "source": [
    "Относно ASCII кодове, съществуват две функции за преобразуване от и във кода на символа: `chr` и `ord` съответно."
   ]
  },
  {
   "cell_type": "code",
   "execution_count": null,
   "metadata": {},
   "outputs": [],
   "source": [
    "print(ord('A'))\n",
    "print(chr(65))\n",
    "\n",
    "alphabet = [chr(c) for c in range(ord('A'), ord('Z') + 1)]\n",
    "alphabet_kebab = \"-\".join(alphabet)\n",
    "print(alphabet_kebab)\n"
   ]
  },
  {
   "cell_type": "markdown",
   "metadata": {},
   "source": [
    "Съществува и тип за низ от байтове - `bytes`. Има си и литерал, който е като този на `str`, но просто с едно `b` преди отварящите кавички.\n",
    "\n",
    "Конвертирането му от и до `str` става единственo чрез подбиране на правилен енкодинг (UTF-8 или друг) и може да хвърли грешка."
   ]
  },
  {
   "cell_type": "code",
   "execution_count": null,
   "metadata": {},
   "outputs": [],
   "source": [
    "bytes_literal = b\"You can use ASCII characters as well as \\x5C\\x78 syntax, e.g. \\x00\\x01, etc.\"\n",
    "print(bytes_literal)\n",
    "\n",
    "str_from_bytes = bytes_literal.decode(\"utf-8\")\n",
    "print(str_from_bytes)\n",
    "\n",
    "bytes_from_str = str_from_bytes.encode(\"utf-8\")\n",
    "print(bytes_from_str)\n",
    "\n",
    "deadbeef = b\"\\xDE\\xAD\\xBE\\xEF\"\n",
    "print(deadbeef.decode(\"utf-8\"))  # it's dead"
   ]
  },
  {
   "cell_type": "markdown",
   "metadata": {},
   "source": [
    "Интерполацията на низове е възможна по три основни начина:\n",
    "* Форматиране с `%` (old-school)\n",
    "* `str.format` (от Python 3 насам, back-port-нат към Python 2.7)\n",
    "* f-strings (от Python 3.6 насам)"
   ]
  },
  {
   "cell_type": "code",
   "execution_count": null,
   "metadata": {},
   "outputs": [],
   "source": [
    "from math import pi\n",
    "from time import time\n",
    "\n",
    "archaic = \"This year %s turns %x hex-years old.\" % (\"AJ\", 24)\n",
    "print(archaic)\n",
    "\n",
    "classic = \"{} only knows the first 5 decimal places of π: {:.5f}.\".format(\"Ton4ou\", pi)\n",
    "print(classic)\n",
    "\n",
    "name = \"bot.py\"\n",
    "fstr = f\"Program {name} finished execution at {time()} unix time.\"\n",
    "print(fstr)\n",
    "\n",
    "some_variable = 0xdeadbeef\n",
    "debug_fstr = f\"Debug info: {some_variable=}\"  # the '=' here puts the name as well as the value\n",
    "print(debug_fstr)\n"
   ]
  },
  {
   "cell_type": "markdown",
   "metadata": {},
   "source": [
    "Низовете са колекции и могат да бъдат използвани като такива. Повече за тях в следваща лекция, засега може да ги мислим като масиви от символи."
   ]
  },
  {
   "cell_type": "code",
   "execution_count": null,
   "metadata": {},
   "outputs": [],
   "source": [
    "s = \"Hello\"\n",
    "print(len(s))  # the length\n",
    "print(s[0])    # the first character (element @ index 0)\n",
    "\n",
    "for char in s:\n",
    "    print(\"===\" + char + \"===\")"
   ]
  },
  {
   "cell_type": "markdown",
   "metadata": {},
   "source": [
    "Обработката на низове става сравнително лесно чрез предоставените ни вградени функции и методи:"
   ]
  },
  {
   "cell_type": "code",
   "execution_count": null,
   "metadata": {},
   "outputs": [],
   "source": [
    "with_umlauts = \"Deutschland über alles!\"\n",
    "no_umlauts = with_umlauts.replace(\"ü\", \"ue\")  # returns a new string in which all occurrences of \"ü\" are replaced with \"ue\"\n",
    "print(no_umlauts)\n",
    "\n",
    "post_hastags = \"#nofilter #nomakeup #felt_cute_might_delete_later #f4f #follow4follow\"\n",
    "tags = post_hastags.replace(\"#\", \"\").split(\" \")  # first removes all #'s, then splits using a space as a delimiter into a list of strings\n",
    "marked_tags_list = \" \".join(f\"({tag})\" for tag in tags)  # surrounds each element of the list with brackets and concatenates them with spaces\n",
    "print(marked_tags_list)\n",
    "\n",
    "allowed_inputs = [\"y\", \"yes\", \"proceed\", \"correct\", \"da\", \"yy\", \"yesh\", \"yass\"]\n",
    "user_input = \"Yes\"  # hardcoded for simplicity\n",
    "if user_input.lower() in allowed_inputs:\n",
    "    print(\"Access granted.\")\n",
    "else:\n",
    "    print(\"Access denied.\")\n",
    "\n",
    "# .lower() converts the string to lowercase, .upper() converts it to uppercase\n",
    "# there is also .capitalize() which capitalizes only the first letter of the string"
   ]
  },
  {
   "cell_type": "markdown",
   "metadata": {},
   "source": [
    "### Булеви\n",
    "\n",
    "Тип `bool` има две възможни стойности: `True` и `False`.\n",
    "\n",
    "За разлика от повечето други езици, вместо `!`, `||` и `&&` използваме `not`, `or` и `and`."
   ]
  },
  {
   "cell_type": "code",
   "execution_count": null,
   "metadata": {},
   "outputs": [],
   "source": [
    "t = True\n",
    "f = not t\n",
    "\n",
    "print(f)\n",
    "print(t or f)\n",
    "print(t and f)\n",
    "print(t and not f)"
   ]
  },
  {
   "cell_type": "markdown",
   "metadata": {},
   "source": [
    "⚠️ `or` и `and` всъщност не връщат `bool`, а стойността на първия аргумент отляво надясно, след който каквито и да са стойностите на другите резултатът остава същия:"
   ]
  },
  {
   "cell_type": "code",
   "execution_count": null,
   "metadata": {},
   "outputs": [],
   "source": [
    "a, b, c = 1, 2, 3\n",
    "\n",
    "print(a or b or c)\n",
    "print(a and b and c)\n",
    "print(a or 0 or c)\n",
    "print(a and 0 and c)"
   ]
  },
  {
   "cell_type": "markdown",
   "metadata": {},
   "source": [
    "### `None`\n",
    "\n",
    "`None` е стойност (и тип), обозначаваща липса на стойност (🤔).\n",
    "\n",
    "Когато една функция **не** преминава през `return` израз, тя всъщност връща `None` като резултат."
   ]
  },
  {
   "cell_type": "code",
   "execution_count": null,
   "metadata": {},
   "outputs": [],
   "source": [
    "result_of_print = print(\"The print function isn't intended to return a specific value.\")\n",
    "print(result_of_print)"
   ]
  },
  {
   "cell_type": "markdown",
   "metadata": {},
   "source": [
    "### `type`\n",
    "`type` е функция, която ни връща типа на дадена стойност:"
   ]
  },
  {
   "cell_type": "code",
   "execution_count": null,
   "metadata": {},
   "outputs": [],
   "source": [
    "type(42)"
   ]
  },
  {
   "cell_type": "markdown",
   "metadata": {},
   "source": [
    "Но всичко в Python е обект, включително и функциите:"
   ]
  },
  {
   "cell_type": "code",
   "execution_count": null,
   "metadata": {},
   "outputs": [],
   "source": [
    "type(print)"
   ]
  },
  {
   "cell_type": "markdown",
   "metadata": {},
   "source": [
    "Следователно, `type` също си има тип:"
   ]
  },
  {
   "cell_type": "code",
   "execution_count": null,
   "metadata": {},
   "outputs": [],
   "source": [
    "type(type)"
   ]
  },
  {
   "cell_type": "markdown",
   "metadata": {},
   "source": [
    "😵‍💫"
   ]
  },
  {
   "cell_type": "code",
   "execution_count": null,
   "metadata": {},
   "outputs": [],
   "source": [
    "type(type(type(type(type(type)))))"
   ]
  },
  {
   "cell_type": "markdown",
   "metadata": {},
   "source": [
    "### `tuple`, `list`, `set`, `dict`\n",
    "\n",
    "* `tuple`: наредена $n$-торка (още кортеж или вектор), която не може да се променя \n",
    "* `list`: списък от елементи, който може да се променя\n",
    "* `set`: множество от елементи без наредба и повторения (HashSet)\n",
    "* `dict`: речник от ключове и стойности (HashMap)\n",
    "\n",
    "Елементите и на четирите колекции могат да бъдат от различни типове."
   ]
  },
  {
   "cell_type": "code",
   "execution_count": null,
   "metadata": {},
   "outputs": [],
   "source": [
    "t = (1, \"b\", False)  # tuples are with () or without any brackets\n",
    "l = [1, \"b\", False]  # lists are with []\n",
    "s = {1, \"b\", False}                     # sets are with {}\n",
    "d = {\"a\": 1, \"b\": 2, \"c\": 3, \"幸\": None}   # dicts are also with {}\n",
    "\n",
    "print(t)\n",
    "print(l)\n",
    "print(s)\n",
    "print(d)\n"
   ]
  },
  {
   "cell_type": "markdown",
   "metadata": {},
   "source": [
    "⚠️ `{}` е празен `dict`, а не празен `set`. За празен `set` се ползва конструктора `set()`."
   ]
  },
  {
   "cell_type": "code",
   "execution_count": null,
   "metadata": {},
   "outputs": [],
   "source": [
    "what_am_i = {}\n",
    "type(what_am_i)"
   ]
  },
  {
   "cell_type": "markdown",
   "metadata": {},
   "source": [
    "⚠️ Понеже нормалните скоби са и... нормални скоби, които обособяват израз и връщат стойността му, `tuple` с един елемент се дефинира със запетайка след елемента:"
   ]
  },
  {
   "cell_type": "code",
   "execution_count": null,
   "metadata": {},
   "outputs": [],
   "source": [
    "a_tuple = (42,)\n",
    "definitely_not_a_tuple = (42)\n",
    "print(a_tuple)\n",
    "print(definitely_not_a_tuple)\n",
    "\n",
    "btw_brackets_are_for_plebs = 42,\n",
    "print(btw_brackets_are_for_plebs)"
   ]
  },
  {
   "cell_type": "markdown",
   "metadata": {},
   "source": [
    "Кога кое да ползваме? Rule of thumb:\n",
    "* `tuple` - когато искаме функция да върне няколко неща / анонимен `dataclass` / списък, който не може да бъде променян\n",
    "* `list` - когато искаме нареден списък, който да може да бъде променян и може да има повторения\n",
    "* `set` - когато наредбата не ни трябва и нямаме повторения\n",
    "* `dict` - когато искаме да асоциираме дадени ключове с дадени стойности"
   ]
  },
  {
   "cell_type": "markdown",
   "metadata": {},
   "source": [
    "Ключовата дума `in` е полезна при работа с такива колекции. Тя връща `bool` който ни казва дали даден елемент се среща вътре:"
   ]
  },
  {
   "cell_type": "code",
   "execution_count": null,
   "metadata": {},
   "outputs": [],
   "source": [
    "impostor = 1j\n",
    "\n",
    "squad = [0, 1j, 2, 3, 4, 5]\n",
    "print(impostor in squad)\n",
    "\n",
    "members = {\"A\": 0, \"B\": 1j, \"C\": 2, \"D\": 3, \"E\": 4, \"F\": 5}\n",
    "print(impostor in members)  # `in` searches in the dictionary's keys, not values\n",
    "print(impostor in members.values())"
   ]
  },
  {
   "cell_type": "markdown",
   "metadata": {},
   "source": [
    "`in` може да се ползва и за `str`:"
   ]
  },
  {
   "cell_type": "code",
   "execution_count": null,
   "metadata": {},
   "outputs": [],
   "source": [
    "\"mile\" in \"smiles\""
   ]
  },
  {
   "cell_type": "markdown",
   "metadata": {},
   "source": [
    "Дължината им се взима с `len`:"
   ]
  },
  {
   "cell_type": "code",
   "execution_count": null,
   "metadata": {},
   "outputs": [],
   "source": [
    "len([0, 1, 2])"
   ]
  },
  {
   "cell_type": "markdown",
   "metadata": {},
   "source": [
    "`tuple` и `list` поддържат индексиране, като за `tuple` това е само read-only:"
   ]
  },
  {
   "cell_type": "code",
   "execution_count": null,
   "metadata": {},
   "outputs": [],
   "source": [
    "t = (1, 2, 3)\n",
    "l = [1, 2, 3]\n",
    "print(t[0])\n",
    "print(l[0])\n",
    "\n",
    "l[0] = -1\n",
    "print(l)\n",
    "\n",
    "t[0] = -1  # 💥 TypeError: 'tuple' object does not support item assignment"
   ]
  },
  {
   "cell_type": "markdown",
   "metadata": {},
   "source": [
    "По същия начин става взимането/записването на стойност в `dict`. Съществува и метода `get` който ни предоставя по-безопасен начин при достъпването на несъществуващи ключове:"
   ]
  },
  {
   "cell_type": "code",
   "execution_count": null,
   "metadata": {},
   "outputs": [],
   "source": [
    "d = {}\n",
    "d[\"a\"] = 1\n",
    "\n",
    "print(d[\"a\"])\n",
    "print(d.get(\"a\"))\n",
    "\n",
    "print(d.get(\"b\"))     # returns None if not present\n",
    "print(d.get(\"b\", 0))  # returns the provided default value if not present\n",
    "print(d[\"b\"])         # 💥 KeyError"
   ]
  },
  {
   "cell_type": "markdown",
   "metadata": {},
   "source": [
    "Pro tip: `collections.defalutdict` е `dict` със зададена стойност по подразбиране, която се връща при липсващ ключ."
   ]
  },
  {
   "cell_type": "markdown",
   "metadata": {},
   "source": [
    "## Mutable vs Immutable\n",
    "\n",
    "Имената в Python сочат към някаква стойност в паметта."
   ]
  },
  {
   "cell_type": "code",
   "execution_count": null,
   "metadata": {},
   "outputs": [],
   "source": [
    "name = 1\n",
    "name += 1000\n",
    "print(name)"
   ]
  },
  {
   "cell_type": "markdown",
   "metadata": {},
   "source": [
    "Горното парче код не променя стойността на `1`, а кара `name` да сочи към нова стойност - `1001`.\n",
    "\n",
    "Това е така, понеже `int` е immutable тип (такъв който не може да си променя стойността). Immutable са още всички числа, низове, `tuple`, `True`, `False`, `None` и [т.н.](https://www.youtube.com/watch?v=EuUYM-E5-1U)\n",
    "\n",
    "Mutable типовете пък са `list`, `set`, `dict` и почти всичко останало."
   ]
  },
  {
   "cell_type": "code",
   "execution_count": null,
   "metadata": {},
   "outputs": [],
   "source": [
    "a = 1\n",
    "b = a\n",
    "b += 1\n",
    "print(f\"{a=}, {b=}\")\n",
    "\n",
    "a = [1, 2]\n",
    "b = a\n",
    "b.append(3)\n",
    "print(f\"{a=}, {b=}\")  # if you think they can be different now, you are dead wrong"
   ]
  },
  {
   "cell_type": "markdown",
   "metadata": {},
   "source": [
    "## Блокове"
   ]
  },
  {
   "cell_type": "markdown",
   "metadata": {},
   "source": [
    "В Python блоковете от код се отделят не чрез къдрави скоби, а с идентация от точно 4 интервала.\n",
    "\n",
    "За съжаление на хората, предпочитащи скоби, това няма да се промени в бъдещи версии на езика:"
   ]
  },
  {
   "cell_type": "code",
   "execution_count": null,
   "metadata": {},
   "outputs": [],
   "source": [
    "from __future__ import braces"
   ]
  },
  {
   "cell_type": "markdown",
   "metadata": {},
   "source": [
    "Важно е да се отбележи, че всеки блок започва след двуеточие и всеки негов ред започва с 4 интервала по-навътре от предходния блок. Табулации, както и различен брой интервали ще хвърлят `IndentationError`:"
   ]
  },
  {
   "cell_type": "code",
   "execution_count": null,
   "metadata": {},
   "outputs": [],
   "source": [
    "if True:\n",
    "    print(\"This line is ok\")\n",
    "        print(\"But this one is not\")"
   ]
  },
  {
   "cell_type": "markdown",
   "metadata": {},
   "source": [
    "Side note: едноредови блокове могат да се запишат и на същия ред след двуеточието. Често срещана конвенция обаче е да не се пишат по този начин."
   ]
  },
  {
   "cell_type": "code",
   "execution_count": null,
   "metadata": {},
   "outputs": [],
   "source": [
    "if True: print(\"This will run\")"
   ]
  },
  {
   "cell_type": "markdown",
   "metadata": {},
   "source": [
    "## Контролни структури"
   ]
  },
  {
   "cell_type": "markdown",
   "metadata": {},
   "source": [
    "### `if`"
   ]
  },
  {
   "cell_type": "code",
   "execution_count": null,
   "metadata": {},
   "outputs": [],
   "source": [
    "age = 21\n",
    "\n",
    "if age == 18:\n",
    "    print(\"Barely legal\")\n",
    "elif age < 18:\n",
    "    print(\"Sorry, you are not allowed.\")\n",
    "else:\n",
    "    print(\"You good.\")"
   ]
  },
  {
   "cell_type": "markdown",
   "metadata": {},
   "source": [
    "Няма нужда от скоби около условията. \n",
    "\n",
    "Едно условие се оценява на `False`, когато стойността му е `False`, `None`, `0`, `0.0`, `0j`, `''`, `[]`, `()`, `{}` и всички празни контейнери. Всички други стойности се оценяват до `True`."
   ]
  },
  {
   "cell_type": "markdown",
   "metadata": {},
   "source": [
    "Операторите за сравнение са `==`, `!=`, `<`, `>`, `<=`, `>=`. Съществува и `<>`, който е просто различен запис на `!=`.\n",
    "\n",
    "В Python е възможно комбинирането им. Например `1 < 2 and 2 < 3` може да бъде записано като `1 < 2 < 3`."
   ]
  },
  {
   "cell_type": "code",
   "execution_count": null,
   "metadata": {},
   "outputs": [],
   "source": [
    "code = 404\n",
    "\n",
    "if 100 <= code < 200:\n",
    "    print(\"Informational response\")\n",
    "elif 200 <= code < 300:\n",
    "    print(\"OK response\")\n",
    "elif 300 <= code < 400:\n",
    "    print(\"Redirection\")\n",
    "elif 400 <= code < 500:\n",
    "    print(\"Client error\")\n",
    "elif 500 <= code < 600:\n",
    "    print(\"Server error\")\n",
    "else:\n",
    "    print(\"Not a valid HTTP status code\")"
   ]
  },
  {
   "cell_type": "markdown",
   "metadata": {},
   "source": [
    "Ключовата дума `is` сравнява по референция, докато `==` сравнява по стойност:"
   ]
  },
  {
   "cell_type": "code",
   "execution_count": null,
   "metadata": {},
   "outputs": [],
   "source": [
    "a = [1, 2, 3]\n",
    "b = [1, 2, 3]\n",
    "\n",
    "if a == b:\n",
    "    print(\"a and b are equal\")\n",
    "else:\n",
    "    print(\"a and b are not equal\")\n",
    "\n",
    "if a is b:\n",
    "    print(\"a is the same thing as b\")\n",
    "else:\n",
    "    print(\"a is not the same thing as b\")"
   ]
  },
  {
   "cell_type": "markdown",
   "metadata": {},
   "source": [
    "Side note: сравнение с `None` може да бъде направено и по двата начина, но за четимост се ползва по-често `is`."
   ]
  },
  {
   "cell_type": "code",
   "execution_count": null,
   "metadata": {},
   "outputs": [],
   "source": [
    "result = None\n",
    "\n",
    "if result is not None:  # clear 'nuff, innit \n",
    "    print(f\"We got a result, it is {result}.\")\n",
    "else:\n",
    "    print(\"No result.\")"
   ]
  },
  {
   "cell_type": "markdown",
   "metadata": {},
   "source": [
    "⚠️ Трябва да се внимава винаги с очакваната прецизност на числата с плаваща запетая:"
   ]
  },
  {
   "cell_type": "code",
   "execution_count": null,
   "metadata": {},
   "outputs": [],
   "source": [
    "if 0.1 + 0.2 == 0.3:\n",
    "    print(\"Естествено, че ще влезе тука\")\n",
    "else:\n",
    "    print(f\"Да, ама не: 0.1 + 0.2 == {0.1 + 0.2}\")"
   ]
  },
  {
   "cell_type": "markdown",
   "metadata": {},
   "source": [
    "### `while`"
   ]
  },
  {
   "cell_type": "code",
   "execution_count": null,
   "metadata": {},
   "outputs": [],
   "source": [
    "num = 0\n",
    "while num < 20:\n",
    "    num += 1\n",
    "    current_output = f\"{num}: \"\n",
    "\n",
    "    if num % 3 == 0 and num % 5 == 0:\n",
    "        current_output += \"FizzBuzz\"\n",
    "    elif num % 3 == 0:\n",
    "        current_output += \"Fizz\"\n",
    "    elif num % 5 == 0:\n",
    "        current_output += \"Buzz\"\n",
    "\n",
    "    print(current_output)"
   ]
  },
  {
   "cell_type": "markdown",
   "metadata": {},
   "source": [
    "`continue` прекъсва изпълнението на текущaта итерация и продължава със следващата.\n",
    "\n",
    "`break` прекъсва изпълнението на цикъла."
   ]
  },
  {
   "cell_type": "code",
   "execution_count": null,
   "metadata": {},
   "outputs": [],
   "source": [
    "n = 0\n",
    "while True:\n",
    "    if n > 100:\n",
    "        break\n",
    "\n",
    "    n += 1\n",
    "\n",
    "    if n % 3 != 0 or n % 5 != 0:\n",
    "        continue\n",
    "    \n",
    "    print(n)"
   ]
  },
  {
   "cell_type": "markdown",
   "metadata": {},
   "source": [
    "Възможно е да се напише и `else` блок след тялото на `while`-a. Тогава той ще се изпълни само ако условието в `while`-a стане `False` без да бъде прекъсвано изпълнението на цикъла чрез `break` или `return`:"
   ]
  },
  {
   "cell_type": "code",
   "execution_count": null,
   "metadata": {},
   "outputs": [],
   "source": [
    "s = \"aababcbccbbbabbabccbbaabbacccaababbc\"\n",
    "# s = 1000 * \"s\"\n",
    "\n",
    "letters = []\n",
    "i = 0\n",
    "\n",
    "while i < len(s):\n",
    "    current_letter = s[i]\n",
    "    i += 1\n",
    "\n",
    "    if i > 100 and len(letters) <= 1:\n",
    "        print(\"I want to break free!\")\n",
    "        break\n",
    "\n",
    "    if letters and current_letter == letters[-1]:\n",
    "        continue\n",
    "\n",
    "    letters.append(current_letter)\n",
    "else:\n",
    "    print(\"\".join(letters))\n"
   ]
  },
  {
   "cell_type": "markdown",
   "metadata": {},
   "source": [
    "### `for`\n",
    "\n",
    "`for`-циклите в Python итерарират върху дадена колекция:"
   ]
  },
  {
   "cell_type": "code",
   "execution_count": null,
   "metadata": {},
   "outputs": [],
   "source": [
    "ingredients = [\"eggs\", \"milk\", \"flour\", \"sugar\"]\n",
    "ingredients_price = {\"eggs\": 0.98, \"milk\": 1.23, \"flour\": 1.59, \"sugar\": 0.88}\n",
    "\n",
    "for i in ingredients:\n",
    "    print(f\"I will need {i}\")\n",
    "\n",
    "for ingr, price in ingredients_price.items():\n",
    "    print(f\"We got {ingr} for ${price}\")"
   ]
  },
  {
   "cell_type": "markdown",
   "metadata": {},
   "source": [
    "`range` ни позволява да създадем колекция от числа от началото до края на даден интервал през определена стъпка:"
   ]
  },
  {
   "cell_type": "code",
   "execution_count": null,
   "metadata": {},
   "outputs": [],
   "source": [
    "for i in range(20):\n",
    "    print(i, end=\" \")\n",
    "\n",
    "print()\n",
    "\n",
    "for i in range(10, 20):\n",
    "    print(i, end=\" \")\n",
    "\n",
    "print()\n",
    "\n",
    "for i in range(10, 20, 3):\n",
    "    print(i, end=\" \")\n",
    "\n",
    "print()\n",
    "\n",
    "for i in range(20, 10, -3):\n",
    "    print(i, end=\" \")\n"
   ]
  },
  {
   "cell_type": "markdown",
   "metadata": {},
   "source": [
    "По същия начин както при `while`-циклите, `else` може да бъде използван и с `for`:"
   ]
  },
  {
   "cell_type": "code",
   "execution_count": null,
   "metadata": {},
   "outputs": [],
   "source": [
    "for n in range(2, 20):\n",
    "    for x in range(2, n):\n",
    "        if n % x == 0:\n",
    "            print(n, '=', x, '*', n // x)\n",
    "            break\n",
    "    else:\n",
    "        print(n, 'is a prime number')\n"
   ]
  }
 ],
 "metadata": {
  "kernelspec": {
   "display_name": "Python 3.9.7 64-bit",
   "language": "python",
   "name": "python3"
  },
  "language_info": {
   "codemirror_mode": {
    "name": "ipython",
    "version": 3
   },
   "file_extension": ".py",
   "mimetype": "text/x-python",
   "name": "python",
   "nbconvert_exporter": "python",
   "pygments_lexer": "ipython3",
   "version": "3.9.7"
  },
  "orig_nbformat": 4,
  "vscode": {
   "interpreter": {
    "hash": "aee8b7b246df8f9039afb4144a1f6fd8d2ca17a180786b69acc140d282b71a49"
   }
  }
 },
 "nbformat": 4,
 "nbformat_minor": 2
}
