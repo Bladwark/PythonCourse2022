{
 "cells": [
  {
   "cell_type": "markdown",
   "metadata": {},
   "source": [
    "# Обектно-ориентирано програмиране"
   ]
  },
  {
   "cell_type": "markdown",
   "metadata": {},
   "source": [
    "## Основни принципи\n",
    "1. Енкапсулация\n",
    "2. Абстракция\n",
    "3. Наследяване\n",
    "4. Полиморфизъм"
   ]
  },
  {
   "cell_type": "markdown",
   "metadata": {},
   "source": [
    "Обектно-ориентираното програмиране се основава на използването на класове от обекти, които обменят съобщения помежду си. В Python използваме ключовата дума `class`, за да започнем дефиницията на клас:"
   ]
  },
  {
   "cell_type": "code",
   "execution_count": 1,
   "metadata": {},
   "outputs": [],
   "source": [
    "class ExampleClass:\n",
    "    pass"
   ]
  },
  {
   "cell_type": "markdown",
   "metadata": {},
   "source": [
    "(ключовата дума `pass` обозначава празен блок (еквивалентно на `{}` в езиците, използващи скоби за scope))"
   ]
  },
  {
   "cell_type": "markdown",
   "metadata": {},
   "source": [
    "Инстанции на класа можем да създаваме чрез синтаксис подобен на извикването на функция със същото име. Новосъздадените обекти отиват в динамичната памет и по подразбиране когато искаме да `print`-нем информация за тях Python ни показва адреса в паметта, на който се намират, както и типа им (класа):"
   ]
  },
  {
   "cell_type": "code",
   "execution_count": 8,
   "metadata": {},
   "outputs": [
    {
     "name": "stdout",
     "output_type": "stream",
     "text": [
      "<__main__.ExampleClass object at 0x11373af40>\n",
      "<__main__.ExampleClass object at 0x11373a9d0>\n"
     ]
    }
   ],
   "source": [
    "example_object = ExampleClass()\n",
    "print(example_object)\n",
    "\n",
    "example_object_2 = ExampleClass()\n",
    "print(example_object_2)"
   ]
  },
  {
   "cell_type": "markdown",
   "metadata": {},
   "source": [
    "`is` сравнява дали два обекта съвпадат, т.е. ще върне `False`, когато адресите им в паметта са различни. Операторът `==` пък не е дефиниран за горния клас и затова и неговата стойност засега ще бъде `False` (по премълчаване се дефинира чрез `is`):"
   ]
  },
  {
   "cell_type": "code",
   "execution_count": 9,
   "metadata": {},
   "outputs": [
    {
     "name": "stdout",
     "output_type": "stream",
     "text": [
      "example_object is example_object_2 = False\n",
      "example_object == example_object_2 = False\n"
     ]
    }
   ],
   "source": [
    "print(f\"{example_object is example_object_2 = }\")\n",
    "print(f\"{example_object == example_object_2 = }\")"
   ]
  },
  {
   "cell_type": "markdown",
   "metadata": {},
   "source": [
    "Горният клас с име `ExampleClass` така дефиниран е празен - не притежава нито член-данни, нито методи. Добре е да се знае, обаче, че поради динамичния характер на езика, такива могат да бъдат добавяни (и отнемани) по всяко време (както като част от инстанцията, така и като част от класа). Достъпът до атрибути и методи става чрез точка `.`:"
   ]
  },
  {
   "cell_type": "code",
   "execution_count": 17,
   "metadata": {},
   "outputs": [
    {
     "name": "stdout",
     "output_type": "stream",
     "text": [
      "example_object.example_property = 'I am an attribute of this instance only'\n",
      "ExampleClass.example_shared_property = 'I am a shared/static attribute'\n",
      "example_object.example_shared_property = 'I am a shared/static attribute'\n",
      "example_object_2.example_shared_property = 'I am a shared/static attribute'\n"
     ]
    },
    {
     "ename": "AttributeError",
     "evalue": "'ExampleClass' object has no attribute 'example_property'",
     "output_type": "error",
     "traceback": [
      "\u001b[0;31m---------------------------------------------------------------------------\u001b[0m",
      "\u001b[0;31mAttributeError\u001b[0m                            Traceback (most recent call last)",
      "\u001b[0;32m/var/folders/7x/gdf0mbts74n8p_ckv_b_mfc40000gp/T/ipykernel_59320/980122267.py\u001b[0m in \u001b[0;36m<module>\u001b[0;34m\u001b[0m\n\u001b[1;32m      8\u001b[0m \u001b[0;34m\u001b[0m\u001b[0m\n\u001b[1;32m      9\u001b[0m \u001b[0;32mdel\u001b[0m \u001b[0mexample_object\u001b[0m\u001b[0;34m.\u001b[0m\u001b[0mexample_property\u001b[0m\u001b[0;34m\u001b[0m\u001b[0;34m\u001b[0m\u001b[0m\n\u001b[0;32m---> 10\u001b[0;31m \u001b[0mprint\u001b[0m\u001b[0;34m(\u001b[0m\u001b[0;34mf\"{example_object.example_property = }\"\u001b[0m\u001b[0;34m)\u001b[0m  \u001b[0;31m# 💥\u001b[0m\u001b[0;34m\u001b[0m\u001b[0;34m\u001b[0m\u001b[0m\n\u001b[0m",
      "\u001b[0;31mAttributeError\u001b[0m: 'ExampleClass' object has no attribute 'example_property'"
     ]
    }
   ],
   "source": [
    "example_object.example_property = \"I am an attribute of this instance only\"\n",
    "print(f\"{example_object.example_property = }\")\n",
    "\n",
    "ExampleClass.example_shared_property = \"I am a shared/static attribute\"\n",
    "print(f\"{ExampleClass.example_shared_property = }\")\n",
    "print(f\"{example_object.example_shared_property = }\")\n",
    "print(f\"{example_object_2.example_shared_property = }\")\n",
    "\n",
    "del example_object.example_property\n",
    "print(f\"{example_object.example_property = }\")  # 💥\n"
   ]
  },
  {
   "cell_type": "markdown",
   "metadata": {},
   "source": [
    "Обикновено обаче искаме да знаем винаги какви член-данни да очакваме от един клас, както и да можем да ги задаваме при конструирането му. Това е възможно, чрез дефинирането на `__init__` метода в класа:"
   ]
  },
  {
   "cell_type": "code",
   "execution_count": 19,
   "metadata": {},
   "outputs": [],
   "source": [
    "class Point:\n",
    "    def __init__(self, x, y):\n",
    "        self.x = x\n",
    "        self.y = y"
   ]
  },
  {
   "cell_type": "markdown",
   "metadata": {},
   "source": [
    "Това е първият от редица \"dunder\" (**d**ouble **under**score - двойна подчертавка) методи (още наричани *магически* методи), които ще разгледаме в лекцията. Този се нарича ***инициализатор*** и приема като първи аргумент новосъздадения обект (по конвенция го кръщаваме винаги `self`, но на теория може да е всякак). Следващите параметри дефинираме и означаваме по наш избор. \n",
    "\n",
    "Обърнете внимание, че нарочно не го наричаме *контруктор*, понеже истинският конструктор създава и връща нов обект от даден клас, докато инициализаторът приема този обект и задава начални стойности на член-данните му или изпълнява някакъв друг вид инициализация. Такъв конструктор има и в Python ([`__new__`](https://www.pythontutorial.net/python-oop/python-__new__/)), но на него няма да се спираме подробно."
   ]
  },
  {
   "cell_type": "code",
   "execution_count": 32,
   "metadata": {},
   "outputs": [
    {
     "name": "stdout",
     "output_type": "stream",
     "text": [
      "p1.x = 2, p1.y = 3\n",
      "p2.x = 5j, p2.y = 3.14\n"
     ]
    }
   ],
   "source": [
    "p1 = Point(2, 3)\n",
    "p2 = Point(5j, 3.14)\n",
    "\n",
    "print(f\"{p1.x = }, {p1.y = }\")\n",
    "print(f\"{p2.x = }, {p2.y = }\")"
   ]
  },
  {
   "cell_type": "markdown",
   "metadata": {},
   "source": [
    "Инициализаторът си е функция като всяка други и може да има стойности на параметрите по подразбиране, както и `args` и `kwargs`:"
   ]
  },
  {
   "cell_type": "code",
   "execution_count": 33,
   "metadata": {},
   "outputs": [
    {
     "name": "stdout",
     "output_type": "stream",
     "text": [
      "sofia.latitude = 42.69, sofia.longitude = 23.42, sofia.metadata = {'city': 'Sofia', 'country': 'Bulgaria'}\n",
      "null_island.latitude = 0, null_island.longitude = 0, null_island.metadata = {}\n"
     ]
    }
   ],
   "source": [
    "class Coordinate:\n",
    "    def __init__(self, la=0, lo=0, **kwargs):\n",
    "        self.latitude = la\n",
    "        self.longitude = lo\n",
    "        self.metadata = kwargs\n",
    "\n",
    "sofia = Coordinate(42.69, 23.420, city=\"Sofia\", country=\"Bulgaria\")\n",
    "null_island = Coordinate()\n",
    "\n",
    "print(f\"{sofia.latitude = }, {sofia.longitude = }, {sofia.metadata = }\")\n",
    "print(f\"{null_island.latitude = }, {null_island.longitude = }, {null_island.metadata = }\")"
   ]
  },
  {
   "cell_type": "markdown",
   "metadata": {},
   "source": [
    "Произволни методи дефинираме по същия начин:"
   ]
  },
  {
   "cell_type": "code",
   "execution_count": 35,
   "metadata": {},
   "outputs": [
    {
     "name": "stdout",
     "output_type": "stream",
     "text": [
      "l = 5.0\n"
     ]
    }
   ],
   "source": [
    "class Path:\n",
    "    def __init__(self, start, end):\n",
    "        self.start = start\n",
    "        self.end = end\n",
    "    \n",
    "    def length(self):\n",
    "        return ((self.start.x - self.end.x) ** 2 + (self.start.y - self.end.y) ** 2) ** 0.5\n",
    "\n",
    "p1 = Point(0, 3)\n",
    "p2 = Point(4, 0)\n",
    "\n",
    "path = Path(p1, p2)\n",
    "l = path.length()\n",
    "\n",
    "print(f\"{l = }\")"
   ]
  },
  {
   "cell_type": "markdown",
   "metadata": {},
   "source": [
    "Липсата на `self` като първи аргумент ще е грешка, понеже Python винаги ще се опита да предаде инстанцията на класа като първи параметър на метода:"
   ]
  },
  {
   "cell_type": "code",
   "execution_count": 36,
   "metadata": {},
   "outputs": [
    {
     "ename": "TypeError",
     "evalue": "a() takes 0 positional arguments but 1 was given",
     "output_type": "error",
     "traceback": [
      "\u001b[0;31m---------------------------------------------------------------------------\u001b[0m",
      "\u001b[0;31mTypeError\u001b[0m                                 Traceback (most recent call last)",
      "\u001b[0;32m/var/folders/7x/gdf0mbts74n8p_ckv_b_mfc40000gp/T/ipykernel_59320/3247279650.py\u001b[0m in \u001b[0;36m<module>\u001b[0;34m\u001b[0m\n\u001b[1;32m      3\u001b[0m         \u001b[0;32mpass\u001b[0m\u001b[0;34m\u001b[0m\u001b[0;34m\u001b[0m\u001b[0m\n\u001b[1;32m      4\u001b[0m \u001b[0;34m\u001b[0m\u001b[0m\n\u001b[0;32m----> 5\u001b[0;31m \u001b[0mA\u001b[0m\u001b[0;34m(\u001b[0m\u001b[0;34m)\u001b[0m\u001b[0;34m.\u001b[0m\u001b[0ma\u001b[0m\u001b[0;34m(\u001b[0m\u001b[0;34m)\u001b[0m\u001b[0;34m\u001b[0m\u001b[0;34m\u001b[0m\u001b[0m\n\u001b[0m",
      "\u001b[0;31mTypeError\u001b[0m: a() takes 0 positional arguments but 1 was given"
     ]
    }
   ],
   "source": [
    "class A:\n",
    "    def a():\n",
    "        pass\n",
    "\n",
    "A().a()"
   ]
  },
  {
   "cell_type": "markdown",
   "metadata": {},
   "source": [
    "## Енкапсулация\n",
    "\n",
    "В Python достъпа до всичко е [публичен](https://www.youtube.com/watch?v=8H1nuRZrE6g).\n",
    "\n",
    "По конвенция е общоприето `protected` имената да започват с една подчертавка (`_name`), а `private` - с две (`__name`).\n"
   ]
  },
  {
   "cell_type": "code",
   "execution_count": 40,
   "metadata": {},
   "outputs": [
    {
     "name": "stdout",
     "output_type": "stream",
     "text": [
      "c.get_value() = 42\n",
      "c._value = 42\n"
     ]
    }
   ],
   "source": [
    "class Counter:\n",
    "    def __init__(self, value=0):\n",
    "        self._value = value\n",
    "\n",
    "    def get_value(self):\n",
    "        return self._value\n",
    "    \n",
    "    def increment(self):\n",
    "        self._value += 1\n",
    "    \n",
    "    def decrement(self):\n",
    "        self._value -= 1\n",
    "\n",
    "c = Counter(41)\n",
    "c.increment()\n",
    "\n",
    "print(f\"{c.get_value() = }\")\n",
    "print(f\"{c._value = }\")\n"
   ]
  },
  {
   "cell_type": "markdown",
   "metadata": {},
   "source": [
    "При двойните подчертавки обаче съществува една особеност, която ни улеснява в енкапсулирането на private член-данни. Нарича се **name mangling** и представлява добавянето на `_` и името на класа в началото на името на тези член-данни. Тоа се прави с цел замаскиране на атрибута и премахването на достъпа чрез оригиналното му име."
   ]
  },
  {
   "cell_type": "code",
   "execution_count": 42,
   "metadata": {},
   "outputs": [
    {
     "name": "stdout",
     "output_type": "stream",
     "text": [
      "c.get_value() = 42\n",
      "c._Counter__value = 42\n"
     ]
    },
    {
     "ename": "AttributeError",
     "evalue": "'Counter' object has no attribute '__value'",
     "output_type": "error",
     "traceback": [
      "\u001b[0;31m---------------------------------------------------------------------------\u001b[0m",
      "\u001b[0;31mAttributeError\u001b[0m                            Traceback (most recent call last)",
      "\u001b[0;32m/var/folders/7x/gdf0mbts74n8p_ckv_b_mfc40000gp/T/ipykernel_59320/3226284858.py\u001b[0m in \u001b[0;36m<module>\u001b[0;34m\u001b[0m\n\u001b[1;32m     18\u001b[0m \u001b[0mprint\u001b[0m\u001b[0;34m(\u001b[0m\u001b[0;34mf\"{c.get_value() = }\"\u001b[0m\u001b[0;34m)\u001b[0m\u001b[0;34m\u001b[0m\u001b[0;34m\u001b[0m\u001b[0m\n\u001b[1;32m     19\u001b[0m \u001b[0mprint\u001b[0m\u001b[0;34m(\u001b[0m\u001b[0;34mf\"{c._Counter__value = }\"\u001b[0m\u001b[0;34m)\u001b[0m  \u001b[0;31m# name has been mangled\u001b[0m\u001b[0;34m\u001b[0m\u001b[0;34m\u001b[0m\u001b[0m\n\u001b[0;32m---> 20\u001b[0;31m \u001b[0mprint\u001b[0m\u001b[0;34m(\u001b[0m\u001b[0;34mf\"{c.__value = }\"\u001b[0m\u001b[0;34m)\u001b[0m  \u001b[0;31m# 💥 cannot be accessed at its original name\u001b[0m\u001b[0;34m\u001b[0m\u001b[0;34m\u001b[0m\u001b[0m\n\u001b[0m",
      "\u001b[0;31mAttributeError\u001b[0m: 'Counter' object has no attribute '__value'"
     ]
    }
   ],
   "source": [
    "class Counter:\n",
    "    def __init__(self, value=0):\n",
    "        self.__value = value  # private access from within the class is OK\n",
    "\n",
    "    def get_value(self):\n",
    "        return self.__value\n",
    "\n",
    "    def increment(self):\n",
    "        self.__value += 1\n",
    "\n",
    "    def decrement(self):\n",
    "        self.__value -= 1\n",
    "\n",
    "\n",
    "c = Counter(41)\n",
    "c.increment()\n",
    "\n",
    "print(f\"{c.get_value() = }\")\n",
    "print(f\"{c._Counter__value = }\")  # name has been mangled\n",
    "print(f\"{c.__value = }\")  # 💥 cannot be accessed at its original name\n"
   ]
  },
  {
   "cell_type": "markdown",
   "metadata": {},
   "source": [
    "Дълга тема за дискусия е колко често и кога да използваме public, private или protected член-данни и методи в Python. За разлика от повечето езици, които проповядват всичко по подразбиране да е максимално скрито, докато не ни се наложи друго, в Python не е толкова често срещана необходимостта от строгото забраняване на достъп, даже напротив, подходът най-често е по-скоро обратен. \n",
    "\n",
    "Хубави отговори на този въпрос може да намерите [тук](https://stackoverflow.com/a/7456865)."
   ]
  },
  {
   "cell_type": "markdown",
   "metadata": {},
   "source": [
    "## Наследяване\n",
    "\n",
    "Както споменахме, всичко в Python е обект. По-точно `object`.\n",
    "\n",
    "`object` е най-базовия клас в езика, който имплицитно бива наследяван от всички класове."
   ]
  },
  {
   "cell_type": "code",
   "execution_count": 46,
   "metadata": {},
   "outputs": [
    {
     "name": "stdout",
     "output_type": "stream",
     "text": [
      "isinstance(a, A) = True\n",
      "isinstance(a, object) = True\n"
     ]
    }
   ],
   "source": [
    "class A:\n",
    "    pass\n",
    "\n",
    "a = A()\n",
    "\n",
    "print(f\"{isinstance(a, A) = }\")\n",
    "print(f\"{isinstance(a, object) = }\")"
   ]
  },
  {
   "cell_type": "markdown",
   "metadata": {},
   "source": [
    "(с вградената функция `isinstance` проверяваме дали даден обект е инстанция на даден клас или на негов базов такъв)"
   ]
  },
  {
   "cell_type": "markdown",
   "metadata": {},
   "source": [
    "Дори и да изглежда празен класът А, в него в момента се съдържат доста член-методи. С вградената функция `dir` можем да видим пълния набор от атрибути и методи, които даден обект притежава:"
   ]
  },
  {
   "cell_type": "code",
   "execution_count": 49,
   "metadata": {},
   "outputs": [
    {
     "data": {
      "text/plain": [
       "['__class__',\n",
       " '__delattr__',\n",
       " '__dict__',\n",
       " '__dir__',\n",
       " '__doc__',\n",
       " '__eq__',\n",
       " '__format__',\n",
       " '__ge__',\n",
       " '__getattribute__',\n",
       " '__gt__',\n",
       " '__hash__',\n",
       " '__init__',\n",
       " '__init_subclass__',\n",
       " '__le__',\n",
       " '__lt__',\n",
       " '__module__',\n",
       " '__ne__',\n",
       " '__new__',\n",
       " '__reduce__',\n",
       " '__reduce_ex__',\n",
       " '__repr__',\n",
       " '__setattr__',\n",
       " '__sizeof__',\n",
       " '__str__',\n",
       " '__subclasshook__',\n",
       " '__weakref__']"
      ]
     },
     "execution_count": 49,
     "metadata": {},
     "output_type": "execute_result"
    }
   ],
   "source": [
    "dir(a)"
   ]
  },
  {
   "cell_type": "markdown",
   "metadata": {},
   "source": [
    "Почти всички от тези магически методи и атрибути са наследени от `object`:"
   ]
  },
  {
   "cell_type": "code",
   "execution_count": 48,
   "metadata": {},
   "outputs": [
    {
     "data": {
      "text/plain": [
       "['__class__',\n",
       " '__delattr__',\n",
       " '__dir__',\n",
       " '__doc__',\n",
       " '__eq__',\n",
       " '__format__',\n",
       " '__ge__',\n",
       " '__getattribute__',\n",
       " '__gt__',\n",
       " '__hash__',\n",
       " '__init__',\n",
       " '__init_subclass__',\n",
       " '__le__',\n",
       " '__lt__',\n",
       " '__ne__',\n",
       " '__new__',\n",
       " '__reduce__',\n",
       " '__reduce_ex__',\n",
       " '__repr__',\n",
       " '__setattr__',\n",
       " '__sizeof__',\n",
       " '__str__',\n",
       " '__subclasshook__']"
      ]
     },
     "execution_count": 48,
     "metadata": {},
     "output_type": "execute_result"
    }
   ],
   "source": [
    "dir(object())"
   ]
  },
  {
   "cell_type": "markdown",
   "metadata": {},
   "source": [
    "Ако искаме да наследим друг клас, записваме името му в скоби преди дефиницията на наследника:"
   ]
  },
  {
   "cell_type": "code",
   "execution_count": 53,
   "metadata": {},
   "outputs": [
    {
     "name": "stdout",
     "output_type": "stream",
     "text": [
      "sub.x = 69\n"
     ]
    }
   ],
   "source": [
    "class BaseClass:\n",
    "    x = 69\n",
    "\n",
    "class SubClass(BaseClass):\n",
    "    pass\n",
    "\n",
    "sub = SubClass()\n",
    "print(f\"{sub.x = }\")"
   ]
  },
  {
   "cell_type": "markdown",
   "metadata": {},
   "source": [
    "Виждаме, че няма нужда да пишем експлицитно, че наследяваме от `object`. Важно е да се отбележи обаче, че това е задължително за Python 2."
   ]
  },
  {
   "cell_type": "markdown",
   "metadata": {},
   "source": [
    "Предефинирането на методи от базовия клас не изисква някаква специална ключова дума. Тяхната дефиниция просто бива замествана от новата."
   ]
  },
  {
   "cell_type": "code",
   "execution_count": 54,
   "metadata": {},
   "outputs": [
    {
     "name": "stdout",
     "output_type": "stream",
     "text": [
      "foobar\n"
     ]
    }
   ],
   "source": [
    "class Foo:\n",
    "    def foo(self):\n",
    "        print(\"foo\")\n",
    "\n",
    "class Bar(Foo):\n",
    "    def foo(self):\n",
    "        print(\"foobar\")\n",
    "\n",
    "#  (I'm sorry I couldn't come up with anything creative this time)\n",
    "\n",
    "bar = Bar()\n",
    "bar.foo()"
   ]
  },
  {
   "cell_type": "markdown",
   "metadata": {},
   "source": [
    "Използването на `super()` ни връща обект-прокси, който пренасочва дефиниции на методи към базов клас:"
   ]
  },
  {
   "cell_type": "code",
   "execution_count": 60,
   "metadata": {},
   "outputs": [
    {
     "name": "stdout",
     "output_type": "stream",
     "text": [
      "drincc.name = 'Coca-Cola', drincc.alcoholic_percentage = 0%\n"
     ]
    }
   ],
   "source": [
    "class Drink:\n",
    "    def __init__(self, name, alcoholic_percentage):\n",
    "        self.name = name\n",
    "        self.alcoholic_percentage = alcoholic_percentage\n",
    "\n",
    "\n",
    "class SoftDrink(Drink):\n",
    "    def __init__(self, name):\n",
    "        super().__init__(name, 0)\n",
    "\n",
    "\n",
    "drincc = SoftDrink(\"Coca-Cola\")\n",
    "print(f\"{drincc.name = }, {drincc.alcoholic_percentage = }%\")\n"
   ]
  },
  {
   "cell_type": "markdown",
   "metadata": {},
   "source": [
    "Python е един от малкото езици, в които **множественото наследяване е позволено**. За избягване на проблема на [диаманта](https://youtu.be/nrSlqAb4ZLw?t=10) и други подобни, които често това поражда, е хубаво базовите класове да са семпли и с ясно-дефинирана функционалност, по възможност непокриваща се.\n",
    "\n",
    "Mixin-ите са най-честия пример за използване на множествено наследяване в Python. Те са базови класове, които предоставят \"наготово\" имплементация на конкретна допълнителна функционалност."
   ]
  },
  {
   "cell_type": "code",
   "execution_count": 76,
   "metadata": {},
   "outputs": [
    {
     "name": "stdout",
     "output_type": "stream",
     "text": [
      "elon.to_json() = '{\"salary\": 1000000000, \"name\": \"Elon Musk\", \"age\": 51}'\n",
      "elon = Employee(salary=1000000000, name=Elon Musk, age=51)\n"
     ]
    }
   ],
   "source": [
    "import json\n",
    "\n",
    "class JSONSerializableMixin:\n",
    "    def to_json(self):\n",
    "        return json.dumps(self.__dict__)\n",
    "\n",
    "class DebugMixin:\n",
    "    def __repr__(self):\n",
    "        arguments = \", \".join(f\"{k}={v}\" for k, v in self.__dict__.items())\n",
    "        return f\"{self.__class__.__name__}({arguments})\"\n",
    "\n",
    "\n",
    "class Person(JSONSerializableMixin, DebugMixin):\n",
    "    def __init__(self, name, age):\n",
    "        self.name = name\n",
    "        self.age = age\n",
    "\n",
    "class Employee(Person, JSONSerializableMixin, DebugMixin):\n",
    "    def __init__(self, name, age, salary):\n",
    "        self.salary = salary\n",
    "        super().__init__(name, age)\n",
    "\n",
    "\n",
    "elon = Employee(\"Elon Musk\", 51, 1_000_000_000)\n",
    "print(f\"{elon.to_json() = }\")\n",
    "print(f\"{elon = }\")"
   ]
  },
  {
   "cell_type": "markdown",
   "metadata": {},
   "source": [
    "В горните примери дефинирахме два mixin-a: един, който дефинира как да бъде сериализиран до JSON всеки обект, а другия - как да бъде принтиран в дебъг конзолата. Класът `Employee` наслодява както `Person`, така и двата други класа, като придобива всичката функционалност. В този случай `super()` знае към кой базов клас да се обърне чрез поредността на изпълнение на методи (Method Resolution Order), който зависи от реда, в който сме изброили базовите класове (може да се види чрез `__mro__`)"
   ]
  },
  {
   "cell_type": "code",
   "execution_count": 77,
   "metadata": {},
   "outputs": [
    {
     "data": {
      "text/plain": [
       "(__main__.Employee,\n",
       " __main__.Person,\n",
       " __main__.JSONSerializableMixin,\n",
       " __main__.DebugMixin,\n",
       " object)"
      ]
     },
     "execution_count": 77,
     "metadata": {},
     "output_type": "execute_result"
    }
   ],
   "source": [
    "Employee.__mro__"
   ]
  },
  {
   "cell_type": "markdown",
   "metadata": {},
   "source": [
    "Повече за `super()` може да прочетете [тук](https://realpython.com/python-super/)."
   ]
  },
  {
   "cell_type": "markdown",
   "metadata": {},
   "source": [
    "В примерът по-горе използвахме доста непознати dunder-и: `__repr__`, `__dict__`, `__class__`, `__name__`. За тях, както и други, ще разясним в следващат секция."
   ]
  },
  {
   "cell_type": "markdown",
   "metadata": {},
   "source": [
    "## Магическите методи ✨"
   ]
  },
  {
   "cell_type": "markdown",
   "metadata": {},
   "source": [
    "### `__repr__`\n",
    "\n",
    "От англ. \"representation\".\n",
    "\n",
    "Изиква се при изпълнението на `repr(self)`. Трябва да върне низ с репрезентация на обекта, подходящ за принт в конзолата при дебъгване. Хубаво е тя максимално много да наподобява начина, по който можем да презъдадем обекта с изпълним код. \n",
    "\n",
    "Например за клас `Point` (точка) с атрибути `x` и `y`, които инициализаторът приема, вместо `(x, y)` е по-удачно да върнем `Point(x, y)`, понеже това може директно да бъде изпълнено като Python код и да получим еквивалентен обект."
   ]
  },
  {
   "cell_type": "code",
   "execution_count": 1,
   "metadata": {},
   "outputs": [
    {
     "name": "stdout",
     "output_type": "stream",
     "text": [
      "Point(2, 3)\n",
      "Point(2, 3)\n"
     ]
    }
   ],
   "source": [
    "class Point:\n",
    "    def __init__(self, x, y):\n",
    "        self.x = x\n",
    "        self.y = y\n",
    "\n",
    "    def __repr__(self):\n",
    "        return f\"Point({self.x}, {self.y})\"\n",
    "\n",
    "p = Point(2, 3)\n",
    "print(p)\n",
    "print(repr(p))"
   ]
  },
  {
   "cell_type": "markdown",
   "metadata": {},
   "source": [
    "### Конвертиране в други типове"
   ]
  },
  {
   "cell_type": "markdown",
   "metadata": {},
   "source": [
    "Можем да предефинираме начинът, по който нашият клас бива конвертиран в някои други вградени типове, чрез специалните `dunder` методи с тяхното име, предназначени за това. Възможните типове са `str`, `bool`, `int`, `float`, `complex`."
   ]
  },
  {
   "cell_type": "code",
   "execution_count": 12,
   "metadata": {},
   "outputs": [
    {
     "name": "stdout",
     "output_type": "stream",
     "text": [
      "str(p) = '(2, 3)'\n",
      "The `__str__` method is called when using string interpolation: (2, 3)\n",
      "If we want to use the `__repr__` instead we should write it like this: Point(2, 3)\n",
      "bool(p) = True\n",
      "p is truthy\n",
      "z is falsey\n"
     ]
    }
   ],
   "source": [
    "class Point:\n",
    "    def __init__(self, x=0, y=0):\n",
    "        self.x = x\n",
    "        self.y = y\n",
    "\n",
    "    def __repr__(self):\n",
    "        return f\"Point({self.x}, {self.y})\"\n",
    "\n",
    "    def __str__(self):\n",
    "        return f\"({self.x}, {self.y})\"\n",
    "\n",
    "    def __bool__(self):\n",
    "        \"\"\"Return `True` only for (0, 0).\"\"\"\n",
    "        return not (not self.x and not self.y)\n",
    "\n",
    "p = Point(2, 3)\n",
    "\n",
    "print(f\"{str(p) = }\")\n",
    "print(f\"The `__str__` method is called when using string interpolation: {p}\")\n",
    "print(f\"If we want to use the `__repr__` instead we should write it like this: {p!r}\")\n",
    "\n",
    "print(f\"{bool(p) = }\")\n",
    "\n",
    "# `__bool__` is useful when building conditions\n",
    "\n",
    "if p:\n",
    "    print(\"p is truthy\")\n",
    "\n",
    "z = Point()\n",
    "\n",
    "if not z:\n",
    "    print(\"z is falsey\")\n"
   ]
  },
  {
   "cell_type": "markdown",
   "metadata": {},
   "source": [
    "Note: За доста от класовете, които бихте срещнали, върнатите низове от `repr` и `str` съвпадат. Тук обаче умишлено сме избрали пример, в който има повече смисъл да са различни - `repr` е debuggable репрезентация на обекта точка (валиден изпълним код), а `str` - стандартен математически запис на точка."
   ]
  },
  {
   "cell_type": "code",
   "execution_count": 17,
   "metadata": {},
   "outputs": [
    {
     "name": "stdout",
     "output_type": "stream",
     "text": [
      "float(frac) = 0.6666666666666666\n",
      "int(frac) = 0\n",
      "complex(frac) = (0.6666666666666666+0j)\n",
      "str(frac) = '6/9'\n",
      "repr(frac) = 'Fraction(6, 9)'\n",
      "bool(frac) = True\n"
     ]
    }
   ],
   "source": [
    "class Fraction:\n",
    "    def __init__(self, numerator=0, denominator=1):\n",
    "        self.numerator = numerator\n",
    "        self.denominator = denominator\n",
    "\n",
    "    def __float__(self):\n",
    "        return self.numerator / self.denominator\n",
    "\n",
    "    def __int__(self):\n",
    "        return self.numerator // self.denominator  # alternative is `return int(float(self))`\n",
    "    \n",
    "    def __complex__(self):\n",
    "        return complex(float(self))  # alternative is `return float(self) + 0j`\n",
    "    \n",
    "    def __str__(self):\n",
    "        return f\"{self.numerator}/{self.denominator}\"\n",
    "\n",
    "    def __repr__(self):\n",
    "        return f\"Fraction({self.numerator}, {self.denominator})\"\n",
    "\n",
    "    def __bool__(self):\n",
    "        return self.numerator != 0\n",
    "\n",
    "\n",
    "frac = Fraction(6, 9)\n",
    "print(f\"{float(frac) = }\")\n",
    "print(f\"{int(frac) = }\")\n",
    "print(f\"{complex(frac) = }\")\n",
    "print(f\"{str(frac) = }\")\n",
    "print(f\"{repr(frac) = }\")\n",
    "print(f\"{bool(frac) = }\")\n"
   ]
  },
  {
   "cell_type": "markdown",
   "metadata": {},
   "source": [
    "### Аритметични и логически оператори"
   ]
  },
  {
   "cell_type": "markdown",
   "metadata": {},
   "source": [
    "### Колекции и итератори"
   ]
  },
  {
   "cell_type": "markdown",
   "metadata": {},
   "source": [
    "### Контекстни мениджъри"
   ]
  },
  {
   "cell_type": "markdown",
   "metadata": {},
   "source": [
    "### Pure witchcraft"
   ]
  },
  {
   "cell_type": "markdown",
   "metadata": {},
   "source": [
    "## Някои полезни помощни класове и декоратори"
   ]
  },
  {
   "cell_type": "markdown",
   "metadata": {},
   "source": [
    "### `@property`"
   ]
  },
  {
   "cell_type": "markdown",
   "metadata": {},
   "source": [
    "### `@setter`"
   ]
  },
  {
   "cell_type": "markdown",
   "metadata": {},
   "source": [
    "### `@staticmethod`"
   ]
  },
  {
   "cell_type": "markdown",
   "metadata": {},
   "source": [
    "### `@classmethod`"
   ]
  },
  {
   "cell_type": "markdown",
   "metadata": {},
   "source": [
    "### `ABC` (Abstract Base Class) и `@abstractmethod`"
   ]
  }
 ],
 "metadata": {
  "kernelspec": {
   "display_name": "Python 3.9.7 64-bit",
   "language": "python",
   "name": "python3"
  },
  "language_info": {
   "codemirror_mode": {
    "name": "ipython",
    "version": 3
   },
   "file_extension": ".py",
   "mimetype": "text/x-python",
   "name": "python",
   "nbconvert_exporter": "python",
   "pygments_lexer": "ipython3",
   "version": "3.9.7"
  },
  "orig_nbformat": 4,
  "vscode": {
   "interpreter": {
    "hash": "aee8b7b246df8f9039afb4144a1f6fd8d2ca17a180786b69acc140d282b71a49"
   }
  }
 },
 "nbformat": 4,
 "nbformat_minor": 2
}
