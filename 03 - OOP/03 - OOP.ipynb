{
 "cells": [
  {
   "cell_type": "markdown",
   "metadata": {},
   "source": [
    "# Обектно-ориентирано програмиране"
   ]
  },
  {
   "cell_type": "markdown",
   "metadata": {},
   "source": [
    "## Основни принципи\n",
    "1. Енкапсулация\n",
    "2. Абстракция\n",
    "3. Наследяване\n",
    "4. Полиморфизъм"
   ]
  },
  {
   "cell_type": "markdown",
   "metadata": {},
   "source": [
    "Обектно-ориентираното програмиране се основава на използването на класове от обекти, които обменят съобщения помежду си. В Python използваме ключовата дума `class`, за да започнем дефиницията на клас:"
   ]
  },
  {
   "cell_type": "code",
   "execution_count": 1,
   "metadata": {},
   "outputs": [],
   "source": [
    "class ExampleClass:\n",
    "    pass"
   ]
  },
  {
   "cell_type": "markdown",
   "metadata": {},
   "source": [
    "(ключовата дума `pass` обозначава празен блок (еквивалентно на `{}` в езиците, използващи скоби за scope))"
   ]
  },
  {
   "cell_type": "markdown",
   "metadata": {},
   "source": [
    "Инстанции на класа можем да създаваме чрез синтаксис подобен на извикването на функция със същото име. Новосъздадените обекти отиват в динамичната памет и по подразбиране когато искаме да `print`-нем информация за тях Python ни показва адреса в паметта, на който се намират, както и типа им (класа):"
   ]
  },
  {
   "cell_type": "code",
   "execution_count": 8,
   "metadata": {},
   "outputs": [
    {
     "name": "stdout",
     "output_type": "stream",
     "text": [
      "<__main__.ExampleClass object at 0x11373af40>\n",
      "<__main__.ExampleClass object at 0x11373a9d0>\n"
     ]
    }
   ],
   "source": [
    "example_object = ExampleClass()\n",
    "print(example_object)\n",
    "\n",
    "example_object_2 = ExampleClass()\n",
    "print(example_object_2)"
   ]
  },
  {
   "cell_type": "markdown",
   "metadata": {},
   "source": [
    "`is` сравнява дали два обекта съвпадат, т.е. ще върне `False`, когато адресите им в паметта са различни. Операторът `==` пък не е дефиниран за горния клас и затова и неговата стойност засега ще бъде `False`:"
   ]
  },
  {
   "cell_type": "code",
   "execution_count": 9,
   "metadata": {},
   "outputs": [
    {
     "name": "stdout",
     "output_type": "stream",
     "text": [
      "example_object is example_object_2 = False\n",
      "example_object == example_object_2 = False\n"
     ]
    }
   ],
   "source": [
    "print(f\"{example_object is example_object_2 = }\")\n",
    "print(f\"{example_object == example_object_2 = }\")"
   ]
  },
  {
   "cell_type": "markdown",
   "metadata": {},
   "source": [
    "Горният клас с име `ExampleClass` така дефиниран е празен - не притежава нито член-данни, нито методи. Добре е да се знае, обаче, че поради динамичния характер на езика, такива могат да бъдат добавяни (и отнемани) по всяко време (както като част от инстанцията, така и като част от класа). Достъпът до атрибути и методи става чрез точка `.`:"
   ]
  },
  {
   "cell_type": "code",
   "execution_count": 17,
   "metadata": {},
   "outputs": [
    {
     "name": "stdout",
     "output_type": "stream",
     "text": [
      "example_object.example_property = 'I am an attribute of this instance only'\n",
      "ExampleClass.example_shared_property = 'I am a shared/static attribute'\n",
      "example_object.example_shared_property = 'I am a shared/static attribute'\n",
      "example_object_2.example_shared_property = 'I am a shared/static attribute'\n"
     ]
    },
    {
     "ename": "AttributeError",
     "evalue": "'ExampleClass' object has no attribute 'example_property'",
     "output_type": "error",
     "traceback": [
      "\u001b[0;31m---------------------------------------------------------------------------\u001b[0m",
      "\u001b[0;31mAttributeError\u001b[0m                            Traceback (most recent call last)",
      "\u001b[0;32m/var/folders/7x/gdf0mbts74n8p_ckv_b_mfc40000gp/T/ipykernel_59320/980122267.py\u001b[0m in \u001b[0;36m<module>\u001b[0;34m\u001b[0m\n\u001b[1;32m      8\u001b[0m \u001b[0;34m\u001b[0m\u001b[0m\n\u001b[1;32m      9\u001b[0m \u001b[0;32mdel\u001b[0m \u001b[0mexample_object\u001b[0m\u001b[0;34m.\u001b[0m\u001b[0mexample_property\u001b[0m\u001b[0;34m\u001b[0m\u001b[0;34m\u001b[0m\u001b[0m\n\u001b[0;32m---> 10\u001b[0;31m \u001b[0mprint\u001b[0m\u001b[0;34m(\u001b[0m\u001b[0;34mf\"{example_object.example_property = }\"\u001b[0m\u001b[0;34m)\u001b[0m  \u001b[0;31m# 💥\u001b[0m\u001b[0;34m\u001b[0m\u001b[0;34m\u001b[0m\u001b[0m\n\u001b[0m",
      "\u001b[0;31mAttributeError\u001b[0m: 'ExampleClass' object has no attribute 'example_property'"
     ]
    }
   ],
   "source": [
    "example_object.example_property = \"I am an attribute of this instance only\"\n",
    "print(f\"{example_object.example_property = }\")\n",
    "\n",
    "ExampleClass.example_shared_property = \"I am a shared/static attribute\"\n",
    "print(f\"{ExampleClass.example_shared_property = }\")\n",
    "print(f\"{example_object.example_shared_property = }\")\n",
    "print(f\"{example_object_2.example_shared_property = }\")\n",
    "\n",
    "del example_object.example_property\n",
    "print(f\"{example_object.example_property = }\")  # 💥\n"
   ]
  },
  {
   "cell_type": "markdown",
   "metadata": {},
   "source": [
    "Обикновено обаче искаме да знаем винаги какви член-данни да очакваме от един клас, както и да можем да ги задаваме при конструирането му. Това е възможно, чрез дефинирането на `__init__` метода в класа:"
   ]
  },
  {
   "cell_type": "code",
   "execution_count": 19,
   "metadata": {},
   "outputs": [],
   "source": [
    "class Point:\n",
    "    def __init__(self, x, y):\n",
    "        self.x = x\n",
    "        self.y = y"
   ]
  },
  {
   "cell_type": "markdown",
   "metadata": {},
   "source": [
    "Това е първият от редица \"dunder\" (**d**ouble **under**score - двойна подчертавка) методи (още наричани *магически* методи), които ще разгледаме в лекцията. Този се нарича ***инициализатор*** и приема като първи аргумент новосъздадения обект (по конвенция го кръщаваме винаги `self`, но на теория може да е всякак). Следващите параметри дефинираме и означаваме по наш избор. \n",
    "\n",
    "Обърнете внимание, че нарочно не го наричаме *контруктор*, понеже истинският конструктор създава и връща нов обект от даден клас, докато инициализаторът приема този обект и задава начални стойности на член-данните му или изпълнява някакъв друг вид инициализация. Такъв конструктор има и в Python ([`__new__`](https://www.pythontutorial.net/python-oop/python-__new__/)), но на него няма да се спираме подробно."
   ]
  },
  {
   "cell_type": "code",
   "execution_count": 32,
   "metadata": {},
   "outputs": [
    {
     "name": "stdout",
     "output_type": "stream",
     "text": [
      "p1.x = 2, p1.y = 3\n",
      "p2.x = 5j, p2.y = 3.14\n"
     ]
    }
   ],
   "source": [
    "p1 = Point(2, 3)\n",
    "p2 = Point(5j, 3.14)\n",
    "\n",
    "print(f\"{p1.x = }, {p1.y = }\")\n",
    "print(f\"{p2.x = }, {p2.y = }\")"
   ]
  },
  {
   "cell_type": "markdown",
   "metadata": {},
   "source": [
    "Инициализаторът си е функция като всяка други и може да има стойности на параметрите по подразбиране, както и `args` и `kwargs`:"
   ]
  },
  {
   "cell_type": "code",
   "execution_count": 33,
   "metadata": {},
   "outputs": [
    {
     "name": "stdout",
     "output_type": "stream",
     "text": [
      "sofia.latitude = 42.69, sofia.longitude = 23.42, sofia.metadata = {'city': 'Sofia', 'country': 'Bulgaria'}\n",
      "null_island.latitude = 0, null_island.longitude = 0, null_island.metadata = {}\n"
     ]
    }
   ],
   "source": [
    "class Coordinate:\n",
    "    def __init__(self, la=0, lo=0, **kwargs):\n",
    "        self.latitude = la\n",
    "        self.longitude = lo\n",
    "        self.metadata = kwargs\n",
    "\n",
    "sofia = Coordinate(42.69, 23.420, city=\"Sofia\", country=\"Bulgaria\")\n",
    "null_island = Coordinate()\n",
    "\n",
    "print(f\"{sofia.latitude = }, {sofia.longitude = }, {sofia.metadata = }\")\n",
    "print(f\"{null_island.latitude = }, {null_island.longitude = }, {null_island.metadata = }\")"
   ]
  }
 ],
 "metadata": {
  "kernelspec": {
   "display_name": "Python 3.9.7 64-bit",
   "language": "python",
   "name": "python3"
  },
  "language_info": {
   "codemirror_mode": {
    "name": "ipython",
    "version": 3
   },
   "file_extension": ".py",
   "mimetype": "text/x-python",
   "name": "python",
   "nbconvert_exporter": "python",
   "pygments_lexer": "ipython3",
   "version": "3.9.7"
  },
  "orig_nbformat": 4,
  "vscode": {
   "interpreter": {
    "hash": "aee8b7b246df8f9039afb4144a1f6fd8d2ca17a180786b69acc140d282b71a49"
   }
  }
 },
 "nbformat": 4,
 "nbformat_minor": 2
}
